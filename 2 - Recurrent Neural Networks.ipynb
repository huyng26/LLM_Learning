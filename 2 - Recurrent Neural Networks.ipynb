{
  "cells": [
    {
      "cell_type": "markdown",
      "metadata": {
        "id": "view-in-github",
        "colab_type": "text"
      },
      "source": [
        "<a href=\"https://colab.research.google.com/github/huyng26/LLM_Learning/blob/main/2%20-%20Recurrent%20Neural%20Networks.ipynb\" target=\"_parent\"><img src=\"https://colab.research.google.com/assets/colab-badge.svg\" alt=\"Open In Colab\"/></a>"
      ]
    },
    {
      "cell_type": "code",
      "source": [
        "!pip install datasets torchtext==0.16.0"
      ],
      "metadata": {
        "colab": {
          "base_uri": "https://localhost:8080/"
        },
        "id": "kv-lcHDA1enA",
        "outputId": "ce36371a-56b3-42d4-cf67-19d9b28fcf28"
      },
      "id": "kv-lcHDA1enA",
      "execution_count": 1,
      "outputs": [
        {
          "output_type": "stream",
          "name": "stdout",
          "text": [
            "Collecting datasets\n",
            "  Downloading datasets-3.3.2-py3-none-any.whl.metadata (19 kB)\n",
            "Collecting torchtext==0.16.0\n",
            "  Downloading torchtext-0.16.0-cp311-cp311-manylinux1_x86_64.whl.metadata (7.5 kB)\n",
            "Requirement already satisfied: tqdm in /usr/local/lib/python3.11/dist-packages (from torchtext==0.16.0) (4.67.1)\n",
            "Requirement already satisfied: requests in /usr/local/lib/python3.11/dist-packages (from torchtext==0.16.0) (2.32.3)\n",
            "Collecting torch==2.1.0 (from torchtext==0.16.0)\n",
            "  Downloading torch-2.1.0-cp311-cp311-manylinux1_x86_64.whl.metadata (25 kB)\n",
            "Requirement already satisfied: numpy in /usr/local/lib/python3.11/dist-packages (from torchtext==0.16.0) (1.26.4)\n",
            "Collecting torchdata==0.7.0 (from torchtext==0.16.0)\n",
            "  Downloading torchdata-0.7.0-cp311-cp311-manylinux_2_17_x86_64.manylinux2014_x86_64.whl.metadata (13 kB)\n",
            "Requirement already satisfied: filelock in /usr/local/lib/python3.11/dist-packages (from torch==2.1.0->torchtext==0.16.0) (3.17.0)\n",
            "Requirement already satisfied: typing-extensions in /usr/local/lib/python3.11/dist-packages (from torch==2.1.0->torchtext==0.16.0) (4.12.2)\n",
            "Requirement already satisfied: sympy in /usr/local/lib/python3.11/dist-packages (from torch==2.1.0->torchtext==0.16.0) (1.13.1)\n",
            "Requirement already satisfied: networkx in /usr/local/lib/python3.11/dist-packages (from torch==2.1.0->torchtext==0.16.0) (3.4.2)\n",
            "Requirement already satisfied: jinja2 in /usr/local/lib/python3.11/dist-packages (from torch==2.1.0->torchtext==0.16.0) (3.1.5)\n",
            "Requirement already satisfied: fsspec in /usr/local/lib/python3.11/dist-packages (from torch==2.1.0->torchtext==0.16.0) (2024.10.0)\n",
            "Collecting nvidia-cuda-nvrtc-cu12==12.1.105 (from torch==2.1.0->torchtext==0.16.0)\n",
            "  Downloading nvidia_cuda_nvrtc_cu12-12.1.105-py3-none-manylinux1_x86_64.whl.metadata (1.5 kB)\n",
            "Collecting nvidia-cuda-runtime-cu12==12.1.105 (from torch==2.1.0->torchtext==0.16.0)\n",
            "  Downloading nvidia_cuda_runtime_cu12-12.1.105-py3-none-manylinux1_x86_64.whl.metadata (1.5 kB)\n",
            "Collecting nvidia-cuda-cupti-cu12==12.1.105 (from torch==2.1.0->torchtext==0.16.0)\n",
            "  Downloading nvidia_cuda_cupti_cu12-12.1.105-py3-none-manylinux1_x86_64.whl.metadata (1.6 kB)\n",
            "Collecting nvidia-cudnn-cu12==8.9.2.26 (from torch==2.1.0->torchtext==0.16.0)\n",
            "  Downloading nvidia_cudnn_cu12-8.9.2.26-py3-none-manylinux1_x86_64.whl.metadata (1.6 kB)\n",
            "Collecting nvidia-cublas-cu12==12.1.3.1 (from torch==2.1.0->torchtext==0.16.0)\n",
            "  Downloading nvidia_cublas_cu12-12.1.3.1-py3-none-manylinux1_x86_64.whl.metadata (1.5 kB)\n",
            "Collecting nvidia-cufft-cu12==11.0.2.54 (from torch==2.1.0->torchtext==0.16.0)\n",
            "  Downloading nvidia_cufft_cu12-11.0.2.54-py3-none-manylinux1_x86_64.whl.metadata (1.5 kB)\n",
            "Collecting nvidia-curand-cu12==10.3.2.106 (from torch==2.1.0->torchtext==0.16.0)\n",
            "  Downloading nvidia_curand_cu12-10.3.2.106-py3-none-manylinux1_x86_64.whl.metadata (1.5 kB)\n",
            "Collecting nvidia-cusolver-cu12==11.4.5.107 (from torch==2.1.0->torchtext==0.16.0)\n",
            "  Downloading nvidia_cusolver_cu12-11.4.5.107-py3-none-manylinux1_x86_64.whl.metadata (1.6 kB)\n",
            "Collecting nvidia-cusparse-cu12==12.1.0.106 (from torch==2.1.0->torchtext==0.16.0)\n",
            "  Downloading nvidia_cusparse_cu12-12.1.0.106-py3-none-manylinux1_x86_64.whl.metadata (1.6 kB)\n",
            "Collecting nvidia-nccl-cu12==2.18.1 (from torch==2.1.0->torchtext==0.16.0)\n",
            "  Downloading nvidia_nccl_cu12-2.18.1-py3-none-manylinux1_x86_64.whl.metadata (1.8 kB)\n",
            "Collecting nvidia-nvtx-cu12==12.1.105 (from torch==2.1.0->torchtext==0.16.0)\n",
            "  Downloading nvidia_nvtx_cu12-12.1.105-py3-none-manylinux1_x86_64.whl.metadata (1.7 kB)\n",
            "Collecting triton==2.1.0 (from torch==2.1.0->torchtext==0.16.0)\n",
            "  Downloading triton-2.1.0-0-cp311-cp311-manylinux2014_x86_64.manylinux_2_17_x86_64.whl.metadata (1.3 kB)\n",
            "Requirement already satisfied: urllib3>=1.25 in /usr/local/lib/python3.11/dist-packages (from torchdata==0.7.0->torchtext==0.16.0) (2.3.0)\n",
            "Requirement already satisfied: nvidia-nvjitlink-cu12 in /usr/local/lib/python3.11/dist-packages (from nvidia-cusolver-cu12==11.4.5.107->torch==2.1.0->torchtext==0.16.0) (12.5.82)\n",
            "Requirement already satisfied: pyarrow>=15.0.0 in /usr/local/lib/python3.11/dist-packages (from datasets) (18.1.0)\n",
            "Collecting dill<0.3.9,>=0.3.0 (from datasets)\n",
            "  Downloading dill-0.3.8-py3-none-any.whl.metadata (10 kB)\n",
            "Requirement already satisfied: pandas in /usr/local/lib/python3.11/dist-packages (from datasets) (2.2.2)\n",
            "Collecting xxhash (from datasets)\n",
            "  Downloading xxhash-3.5.0-cp311-cp311-manylinux_2_17_x86_64.manylinux2014_x86_64.whl.metadata (12 kB)\n",
            "Collecting multiprocess<0.70.17 (from datasets)\n",
            "  Downloading multiprocess-0.70.16-py311-none-any.whl.metadata (7.2 kB)\n",
            "Requirement already satisfied: aiohttp in /usr/local/lib/python3.11/dist-packages (from datasets) (3.11.13)\n",
            "Requirement already satisfied: huggingface-hub>=0.24.0 in /usr/local/lib/python3.11/dist-packages (from datasets) (0.28.1)\n",
            "Requirement already satisfied: packaging in /usr/local/lib/python3.11/dist-packages (from datasets) (24.2)\n",
            "Requirement already satisfied: pyyaml>=5.1 in /usr/local/lib/python3.11/dist-packages (from datasets) (6.0.2)\n",
            "Requirement already satisfied: aiohappyeyeballs>=2.3.0 in /usr/local/lib/python3.11/dist-packages (from aiohttp->datasets) (2.4.6)\n",
            "Requirement already satisfied: aiosignal>=1.1.2 in /usr/local/lib/python3.11/dist-packages (from aiohttp->datasets) (1.3.2)\n",
            "Requirement already satisfied: attrs>=17.3.0 in /usr/local/lib/python3.11/dist-packages (from aiohttp->datasets) (25.1.0)\n",
            "Requirement already satisfied: frozenlist>=1.1.1 in /usr/local/lib/python3.11/dist-packages (from aiohttp->datasets) (1.5.0)\n",
            "Requirement already satisfied: multidict<7.0,>=4.5 in /usr/local/lib/python3.11/dist-packages (from aiohttp->datasets) (6.1.0)\n",
            "Requirement already satisfied: propcache>=0.2.0 in /usr/local/lib/python3.11/dist-packages (from aiohttp->datasets) (0.3.0)\n",
            "Requirement already satisfied: yarl<2.0,>=1.17.0 in /usr/local/lib/python3.11/dist-packages (from aiohttp->datasets) (1.18.3)\n",
            "Requirement already satisfied: charset-normalizer<4,>=2 in /usr/local/lib/python3.11/dist-packages (from requests->torchtext==0.16.0) (3.4.1)\n",
            "Requirement already satisfied: idna<4,>=2.5 in /usr/local/lib/python3.11/dist-packages (from requests->torchtext==0.16.0) (3.10)\n",
            "Requirement already satisfied: certifi>=2017.4.17 in /usr/local/lib/python3.11/dist-packages (from requests->torchtext==0.16.0) (2025.1.31)\n",
            "Requirement already satisfied: python-dateutil>=2.8.2 in /usr/local/lib/python3.11/dist-packages (from pandas->datasets) (2.8.2)\n",
            "Requirement already satisfied: pytz>=2020.1 in /usr/local/lib/python3.11/dist-packages (from pandas->datasets) (2025.1)\n",
            "Requirement already satisfied: tzdata>=2022.7 in /usr/local/lib/python3.11/dist-packages (from pandas->datasets) (2025.1)\n",
            "Requirement already satisfied: six>=1.5 in /usr/local/lib/python3.11/dist-packages (from python-dateutil>=2.8.2->pandas->datasets) (1.17.0)\n",
            "Requirement already satisfied: MarkupSafe>=2.0 in /usr/local/lib/python3.11/dist-packages (from jinja2->torch==2.1.0->torchtext==0.16.0) (3.0.2)\n",
            "Requirement already satisfied: mpmath<1.4,>=1.1.0 in /usr/local/lib/python3.11/dist-packages (from sympy->torch==2.1.0->torchtext==0.16.0) (1.3.0)\n",
            "Downloading torchtext-0.16.0-cp311-cp311-manylinux1_x86_64.whl (2.0 MB)\n",
            "\u001b[2K   \u001b[90m━━━━━━━━━━━━━━━━━━━━━━━━━━━━━━━━━━━━━━━━\u001b[0m \u001b[32m2.0/2.0 MB\u001b[0m \u001b[31m43.9 MB/s\u001b[0m eta \u001b[36m0:00:00\u001b[0m\n",
            "\u001b[?25hDownloading torch-2.1.0-cp311-cp311-manylinux1_x86_64.whl (670.2 MB)\n",
            "\u001b[2K   \u001b[90m━━━━━━━━━━━━━━━━━━━━━━━━━━━━━━━━━━━━━━━━\u001b[0m \u001b[32m670.2/670.2 MB\u001b[0m \u001b[31m2.6 MB/s\u001b[0m eta \u001b[36m0:00:00\u001b[0m\n",
            "\u001b[?25hDownloading torchdata-0.7.0-cp311-cp311-manylinux_2_17_x86_64.manylinux2014_x86_64.whl (4.7 MB)\n",
            "\u001b[2K   \u001b[90m━━━━━━━━━━━━━━━━━━━━━━━━━━━━━━━━━━━━━━━━\u001b[0m \u001b[32m4.7/4.7 MB\u001b[0m \u001b[31m72.4 MB/s\u001b[0m eta \u001b[36m0:00:00\u001b[0m\n",
            "\u001b[?25hDownloading nvidia_cublas_cu12-12.1.3.1-py3-none-manylinux1_x86_64.whl (410.6 MB)\n",
            "\u001b[2K   \u001b[90m━━━━━━━━━━━━━━━━━━━━━━━━━━━━━━━━━━━━━━━━\u001b[0m \u001b[32m410.6/410.6 MB\u001b[0m \u001b[31m3.3 MB/s\u001b[0m eta \u001b[36m0:00:00\u001b[0m\n",
            "\u001b[?25hDownloading nvidia_cuda_cupti_cu12-12.1.105-py3-none-manylinux1_x86_64.whl (14.1 MB)\n",
            "\u001b[2K   \u001b[90m━━━━━━━━━━━━━━━━━━━━━━━━━━━━━━━━━━━━━━━━\u001b[0m \u001b[32m14.1/14.1 MB\u001b[0m \u001b[31m67.4 MB/s\u001b[0m eta \u001b[36m0:00:00\u001b[0m\n",
            "\u001b[?25hDownloading nvidia_cuda_nvrtc_cu12-12.1.105-py3-none-manylinux1_x86_64.whl (23.7 MB)\n",
            "\u001b[2K   \u001b[90m━━━━━━━━━━━━━━━━━━━━━━━━━━━━━━━━━━━━━━━━\u001b[0m \u001b[32m23.7/23.7 MB\u001b[0m \u001b[31m15.6 MB/s\u001b[0m eta \u001b[36m0:00:00\u001b[0m\n",
            "\u001b[?25hDownloading nvidia_cuda_runtime_cu12-12.1.105-py3-none-manylinux1_x86_64.whl (823 kB)\n",
            "\u001b[2K   \u001b[90m━━━━━━━━━━━━━━━━━━━━━━━━━━━━━━━━━━━━━━━━\u001b[0m \u001b[32m823.6/823.6 kB\u001b[0m \u001b[31m27.9 MB/s\u001b[0m eta \u001b[36m0:00:00\u001b[0m\n",
            "\u001b[?25hDownloading nvidia_cudnn_cu12-8.9.2.26-py3-none-manylinux1_x86_64.whl (731.7 MB)\n",
            "\u001b[2K   \u001b[90m━━━━━━━━━━━━━━━━━━━━━━━━━━━━━━━━━━━━━━━━\u001b[0m \u001b[32m731.7/731.7 MB\u001b[0m \u001b[31m2.0 MB/s\u001b[0m eta \u001b[36m0:00:00\u001b[0m\n",
            "\u001b[?25hDownloading nvidia_cufft_cu12-11.0.2.54-py3-none-manylinux1_x86_64.whl (121.6 MB)\n",
            "\u001b[2K   \u001b[90m━━━━━━━━━━━━━━━━━━━━━━━━━━━━━━━━━━━━━━━━\u001b[0m \u001b[32m121.6/121.6 MB\u001b[0m \u001b[31m7.5 MB/s\u001b[0m eta \u001b[36m0:00:00\u001b[0m\n",
            "\u001b[?25hDownloading nvidia_curand_cu12-10.3.2.106-py3-none-manylinux1_x86_64.whl (56.5 MB)\n",
            "\u001b[2K   \u001b[90m━━━━━━━━━━━━━━━━━━━━━━━━━━━━━━━━━━━━━━━━\u001b[0m \u001b[32m56.5/56.5 MB\u001b[0m \u001b[31m10.4 MB/s\u001b[0m eta \u001b[36m0:00:00\u001b[0m\n",
            "\u001b[?25hDownloading nvidia_cusolver_cu12-11.4.5.107-py3-none-manylinux1_x86_64.whl (124.2 MB)\n",
            "\u001b[2K   \u001b[90m━━━━━━━━━━━━━━━━━━━━━━━━━━━━━━━━━━━━━━━━\u001b[0m \u001b[32m124.2/124.2 MB\u001b[0m \u001b[31m8.0 MB/s\u001b[0m eta \u001b[36m0:00:00\u001b[0m\n",
            "\u001b[?25hDownloading nvidia_cusparse_cu12-12.1.0.106-py3-none-manylinux1_x86_64.whl (196.0 MB)\n",
            "\u001b[2K   \u001b[90m━━━━━━━━━━━━━━━━━━━━━━━━━━━━━━━━━━━━━━━━\u001b[0m \u001b[32m196.0/196.0 MB\u001b[0m \u001b[31m6.0 MB/s\u001b[0m eta \u001b[36m0:00:00\u001b[0m\n",
            "\u001b[?25hDownloading nvidia_nccl_cu12-2.18.1-py3-none-manylinux1_x86_64.whl (209.8 MB)\n",
            "\u001b[2K   \u001b[90m━━━━━━━━━━━━━━━━━━━━━━━━━━━━━━━━━━━━━━━━\u001b[0m \u001b[32m209.8/209.8 MB\u001b[0m \u001b[31m5.7 MB/s\u001b[0m eta \u001b[36m0:00:00\u001b[0m\n",
            "\u001b[?25hDownloading nvidia_nvtx_cu12-12.1.105-py3-none-manylinux1_x86_64.whl (99 kB)\n",
            "\u001b[2K   \u001b[90m━━━━━━━━━━━━━━━━━━━━━━━━━━━━━━━━━━━━━━━━\u001b[0m \u001b[32m99.1/99.1 kB\u001b[0m \u001b[31m10.0 MB/s\u001b[0m eta \u001b[36m0:00:00\u001b[0m\n",
            "\u001b[?25hDownloading triton-2.1.0-0-cp311-cp311-manylinux2014_x86_64.manylinux_2_17_x86_64.whl (89.2 MB)\n",
            "\u001b[2K   \u001b[90m━━━━━━━━━━━━━━━━━━━━━━━━━━━━━━━━━━━━━━━━\u001b[0m \u001b[32m89.2/89.2 MB\u001b[0m \u001b[31m8.7 MB/s\u001b[0m eta \u001b[36m0:00:00\u001b[0m\n",
            "\u001b[?25hDownloading datasets-3.3.2-py3-none-any.whl (485 kB)\n",
            "\u001b[2K   \u001b[90m━━━━━━━━━━━━━━━━━━━━━━━━━━━━━━━━━━━━━━━━\u001b[0m \u001b[32m485.4/485.4 kB\u001b[0m \u001b[31m36.8 MB/s\u001b[0m eta \u001b[36m0:00:00\u001b[0m\n",
            "\u001b[?25hDownloading dill-0.3.8-py3-none-any.whl (116 kB)\n",
            "\u001b[2K   \u001b[90m━━━━━━━━━━━━━━━━━━━━━━━━━━━━━━━━━━━━━━━━\u001b[0m \u001b[32m116.3/116.3 kB\u001b[0m \u001b[31m11.2 MB/s\u001b[0m eta \u001b[36m0:00:00\u001b[0m\n",
            "\u001b[?25hDownloading multiprocess-0.70.16-py311-none-any.whl (143 kB)\n",
            "\u001b[2K   \u001b[90m━━━━━━━━━━━━━━━━━━━━━━━━━━━━━━━━━━━━━━━━\u001b[0m \u001b[32m143.5/143.5 kB\u001b[0m \u001b[31m14.3 MB/s\u001b[0m eta \u001b[36m0:00:00\u001b[0m\n",
            "\u001b[?25hDownloading xxhash-3.5.0-cp311-cp311-manylinux_2_17_x86_64.manylinux2014_x86_64.whl (194 kB)\n",
            "\u001b[2K   \u001b[90m━━━━━━━━━━━━━━━━━━━━━━━━━━━━━━━━━━━━━━━━\u001b[0m \u001b[32m194.8/194.8 kB\u001b[0m \u001b[31m19.3 MB/s\u001b[0m eta \u001b[36m0:00:00\u001b[0m\n",
            "\u001b[?25hInstalling collected packages: xxhash, triton, nvidia-nvtx-cu12, nvidia-nccl-cu12, nvidia-cusparse-cu12, nvidia-curand-cu12, nvidia-cufft-cu12, nvidia-cuda-runtime-cu12, nvidia-cuda-nvrtc-cu12, nvidia-cuda-cupti-cu12, nvidia-cublas-cu12, dill, nvidia-cusolver-cu12, nvidia-cudnn-cu12, multiprocess, torch, torchdata, datasets, torchtext\n",
            "  Attempting uninstall: triton\n",
            "    Found existing installation: triton 3.1.0\n",
            "    Uninstalling triton-3.1.0:\n",
            "      Successfully uninstalled triton-3.1.0\n",
            "  Attempting uninstall: nvidia-nvtx-cu12\n",
            "    Found existing installation: nvidia-nvtx-cu12 12.4.127\n",
            "    Uninstalling nvidia-nvtx-cu12-12.4.127:\n",
            "      Successfully uninstalled nvidia-nvtx-cu12-12.4.127\n",
            "  Attempting uninstall: nvidia-nccl-cu12\n",
            "    Found existing installation: nvidia-nccl-cu12 2.21.5\n",
            "    Uninstalling nvidia-nccl-cu12-2.21.5:\n",
            "      Successfully uninstalled nvidia-nccl-cu12-2.21.5\n",
            "  Attempting uninstall: nvidia-cusparse-cu12\n",
            "    Found existing installation: nvidia-cusparse-cu12 12.5.1.3\n",
            "    Uninstalling nvidia-cusparse-cu12-12.5.1.3:\n",
            "      Successfully uninstalled nvidia-cusparse-cu12-12.5.1.3\n",
            "  Attempting uninstall: nvidia-curand-cu12\n",
            "    Found existing installation: nvidia-curand-cu12 10.3.6.82\n",
            "    Uninstalling nvidia-curand-cu12-10.3.6.82:\n",
            "      Successfully uninstalled nvidia-curand-cu12-10.3.6.82\n",
            "  Attempting uninstall: nvidia-cufft-cu12\n",
            "    Found existing installation: nvidia-cufft-cu12 11.2.3.61\n",
            "    Uninstalling nvidia-cufft-cu12-11.2.3.61:\n",
            "      Successfully uninstalled nvidia-cufft-cu12-11.2.3.61\n",
            "  Attempting uninstall: nvidia-cuda-runtime-cu12\n",
            "    Found existing installation: nvidia-cuda-runtime-cu12 12.5.82\n",
            "    Uninstalling nvidia-cuda-runtime-cu12-12.5.82:\n",
            "      Successfully uninstalled nvidia-cuda-runtime-cu12-12.5.82\n",
            "  Attempting uninstall: nvidia-cuda-nvrtc-cu12\n",
            "    Found existing installation: nvidia-cuda-nvrtc-cu12 12.5.82\n",
            "    Uninstalling nvidia-cuda-nvrtc-cu12-12.5.82:\n",
            "      Successfully uninstalled nvidia-cuda-nvrtc-cu12-12.5.82\n",
            "  Attempting uninstall: nvidia-cuda-cupti-cu12\n",
            "    Found existing installation: nvidia-cuda-cupti-cu12 12.5.82\n",
            "    Uninstalling nvidia-cuda-cupti-cu12-12.5.82:\n",
            "      Successfully uninstalled nvidia-cuda-cupti-cu12-12.5.82\n",
            "  Attempting uninstall: nvidia-cublas-cu12\n",
            "    Found existing installation: nvidia-cublas-cu12 12.5.3.2\n",
            "    Uninstalling nvidia-cublas-cu12-12.5.3.2:\n",
            "      Successfully uninstalled nvidia-cublas-cu12-12.5.3.2\n",
            "  Attempting uninstall: nvidia-cusolver-cu12\n",
            "    Found existing installation: nvidia-cusolver-cu12 11.6.3.83\n",
            "    Uninstalling nvidia-cusolver-cu12-11.6.3.83:\n",
            "      Successfully uninstalled nvidia-cusolver-cu12-11.6.3.83\n",
            "  Attempting uninstall: nvidia-cudnn-cu12\n",
            "    Found existing installation: nvidia-cudnn-cu12 9.3.0.75\n",
            "    Uninstalling nvidia-cudnn-cu12-9.3.0.75:\n",
            "      Successfully uninstalled nvidia-cudnn-cu12-9.3.0.75\n",
            "  Attempting uninstall: torch\n",
            "    Found existing installation: torch 2.5.1+cu124\n",
            "    Uninstalling torch-2.5.1+cu124:\n",
            "      Successfully uninstalled torch-2.5.1+cu124\n",
            "\u001b[31mERROR: pip's dependency resolver does not currently take into account all the packages that are installed. This behaviour is the source of the following dependency conflicts.\n",
            "torchvision 0.20.1+cu124 requires torch==2.5.1, but you have torch 2.1.0 which is incompatible.\n",
            "torchaudio 2.5.1+cu124 requires torch==2.5.1, but you have torch 2.1.0 which is incompatible.\u001b[0m\u001b[31m\n",
            "\u001b[0mSuccessfully installed datasets-3.3.2 dill-0.3.8 multiprocess-0.70.16 nvidia-cublas-cu12-12.1.3.1 nvidia-cuda-cupti-cu12-12.1.105 nvidia-cuda-nvrtc-cu12-12.1.105 nvidia-cuda-runtime-cu12-12.1.105 nvidia-cudnn-cu12-8.9.2.26 nvidia-cufft-cu12-11.0.2.54 nvidia-curand-cu12-10.3.2.106 nvidia-cusolver-cu12-11.4.5.107 nvidia-cusparse-cu12-12.1.0.106 nvidia-nccl-cu12-2.18.1 nvidia-nvtx-cu12-12.1.105 torch-2.1.0 torchdata-0.7.0 torchtext-0.16.0 triton-2.1.0 xxhash-3.5.0\n"
          ]
        }
      ]
    },
    {
      "cell_type": "code",
      "execution_count": 2,
      "id": "f23a152d",
      "metadata": {
        "id": "f23a152d"
      },
      "outputs": [],
      "source": [
        "import collections\n",
        "\n",
        "import datasets\n",
        "import matplotlib.pyplot as plt\n",
        "import numpy as np\n",
        "import torch\n",
        "import torch.nn as nn\n",
        "import torch.optim as optim\n",
        "import torchtext\n",
        "import tqdm"
      ]
    },
    {
      "cell_type": "code",
      "execution_count": 3,
      "id": "c661e3c4",
      "metadata": {
        "id": "c661e3c4"
      },
      "outputs": [],
      "source": [
        "seed = 1234\n",
        "\n",
        "np.random.seed(seed)\n",
        "torch.manual_seed(seed)\n",
        "torch.cuda.manual_seed(seed)\n",
        "torch.backends.cudnn.deterministic = True"
      ]
    },
    {
      "cell_type": "code",
      "execution_count": 4,
      "id": "638a120e",
      "metadata": {
        "colab": {
          "base_uri": "https://localhost:8080/",
          "height": 365,
          "referenced_widgets": [
            "23b93484a9bc416dbb6eb5afef7b0fd6",
            "51c76506f8144104a131d2467244c9bc",
            "17ab9f2433894a6db6b3c6e47937a78f",
            "388d65b37b5a45f7955796d293baa7fc",
            "6ae09d793b5c47c3ae70729dc3d6aafa",
            "e490e5adf1a149a6b8d8d168f34b0d7c",
            "e49d6fee8ba04daabe839287201e0965",
            "f61cfc18670a4234b7b94100f12f78bc",
            "9e9cbc58907140beaf0d3736643af143",
            "5e3af58e4f7e41818d319bcf15e9a3e4",
            "0b46f0c472cb421c94a2ee04451ed6b5",
            "78239f6a0a394216b4c127a5b1f13ef0",
            "bb409f3b8d9b4b82b712df6b712c1c4b",
            "5399e7887f3945e98f2790ebcf33c265",
            "d5efc49bf17d45bea41980027f77d004",
            "46ba77f75a7b4bfd828c5cbbc5115624",
            "b7f06f580e344e1faac40f6b01359157",
            "07bf087fc9e04fbeb3ff63b18adadbb9",
            "3e4f4d71c87c4e85b31025da0b15d836",
            "77fd1657de0a4470aa9635998d0973d8",
            "a91fe37702d34a61a9bf540e2032aac6",
            "2e356cf25370459cb9aea545890093da",
            "cef26bd126b5451daaa7bb7d6133456d",
            "0f9c8e92a9ee4b638b8b6c9e6d1a7a06",
            "2b83c72e6e2b4819900a652e7dc0b548",
            "39afd2f552744c54b09735b2b27021b8",
            "f753b82d229e4690adcb4513e8b07efc",
            "beb096c38786403fbe8f9a04ea731342",
            "60dc2a2bd75b467b83b207696ca5866b",
            "f2418d0019e542daa3a97b4e4ac8eb0f",
            "5121913304e44d15b32a1c67e956e801",
            "44f96603ca2e4910932b9f69c047210b",
            "978685f9f1ad4b7cafb3370662a0dedd",
            "8adb66ff2ac64c7ba3deb8298540f076",
            "fe4322c6773b4ef896f3785152dd07e9",
            "412888d053e040be83ee6daf0b99defa",
            "4ac33cfb5e3344efa7f0113ef6bce0bd",
            "2e4b9061fd184ad6bef3381e37399191",
            "cc065de5c24e49899ff83af937d6ab84",
            "89061df118564a438e42b4de5a7efb5b",
            "98318a0cbd66477892addadb7ab47ab8",
            "8d5ffe726b0243b8a3172a7c02ba2483",
            "b196053a9d7443a89d830170011742b9",
            "8fcd8543c1d441b18c383e392e0502fa",
            "06e815dab9ad4590bad79c60246a1119",
            "1998ecc716a74bdeb614b5e770038063",
            "33cdd06585984738818149d313468f92",
            "5552e3f996d448bd866cdb0fca60de1b",
            "8ece46dafca545f599ee01322f7de580",
            "5e604a440b74415fb8f790d61826f259",
            "e346a17d1c1b4593b5780374efd20df2",
            "6242884b7dac4e1581e99cc813c9c5ff",
            "b86c4df3209e460fa1471ec88e39d9c3",
            "944302f5df4d472bbf0f2129f42e0c76",
            "6a0c79d2b129455aa66fc3c9ccc1fc54",
            "df50e9977fca42d0a7b400562508f5dd",
            "46021b565fa4408aad868ed67eb8820a",
            "311aa419325244699cb1274864ac2856",
            "281cf2ea530247bc9614a177126d5e71",
            "49727d8f9ace40d99e68627c1c89347b",
            "cdbb053e38fd43fda3db90670dd62df5",
            "ed79c300da8d4ef581a7ee5718926218",
            "63a2f0c33e5e49baa7f0bfa8a3785d3f",
            "b5fd4914431b4f73a9b049e4ae4e85f1",
            "c5d79b86dd7744c0a0433008ba1e21b8",
            "b8293d0377d540658e973cd57a3036da",
            "5c2e1120543d4b95b0ad07a1b6d0256d",
            "cae65b7d78d748efa962161c9e8bae23",
            "643a43a909fa455a854efa7d1f1cde00",
            "a0b7702d4af4462caba0c352fd48c3b3",
            "3cebc8c5bae74ee58ea62272d2f804ba",
            "aee910ed283e4458a13706e8452d0b6e",
            "4d94d56c2ccf4c14a490de2f7b5a94c6",
            "e7159f7db8394ce8a73908df42e3fe9e",
            "1cb029889ac34351834349fa5ba30724",
            "80065124ddea4bb0a9c674702056507d",
            "8523081938d8443c817f78b3bfa3a24a"
          ]
        },
        "id": "638a120e",
        "outputId": "71641bbc-9c9a-4ef8-ccf4-d4ac13c76685"
      },
      "outputs": [
        {
          "output_type": "stream",
          "name": "stderr",
          "text": [
            "/usr/local/lib/python3.11/dist-packages/huggingface_hub/utils/_auth.py:94: UserWarning: \n",
            "The secret `HF_TOKEN` does not exist in your Colab secrets.\n",
            "To authenticate with the Hugging Face Hub, create a token in your settings tab (https://huggingface.co/settings/tokens), set it as secret in your Google Colab and restart your session.\n",
            "You will be able to reuse this secret in all of your notebooks.\n",
            "Please note that authentication is recommended but still optional to access public models or datasets.\n",
            "  warnings.warn(\n"
          ]
        },
        {
          "output_type": "display_data",
          "data": {
            "text/plain": [
              "README.md:   0%|          | 0.00/7.81k [00:00<?, ?B/s]"
            ],
            "application/vnd.jupyter.widget-view+json": {
              "version_major": 2,
              "version_minor": 0,
              "model_id": "23b93484a9bc416dbb6eb5afef7b0fd6"
            }
          },
          "metadata": {}
        },
        {
          "output_type": "display_data",
          "data": {
            "text/plain": [
              "train-00000-of-00001.parquet:   0%|          | 0.00/21.0M [00:00<?, ?B/s]"
            ],
            "application/vnd.jupyter.widget-view+json": {
              "version_major": 2,
              "version_minor": 0,
              "model_id": "78239f6a0a394216b4c127a5b1f13ef0"
            }
          },
          "metadata": {}
        },
        {
          "output_type": "display_data",
          "data": {
            "text/plain": [
              "test-00000-of-00001.parquet:   0%|          | 0.00/20.5M [00:00<?, ?B/s]"
            ],
            "application/vnd.jupyter.widget-view+json": {
              "version_major": 2,
              "version_minor": 0,
              "model_id": "cef26bd126b5451daaa7bb7d6133456d"
            }
          },
          "metadata": {}
        },
        {
          "output_type": "display_data",
          "data": {
            "text/plain": [
              "unsupervised-00000-of-00001.parquet:   0%|          | 0.00/42.0M [00:00<?, ?B/s]"
            ],
            "application/vnd.jupyter.widget-view+json": {
              "version_major": 2,
              "version_minor": 0,
              "model_id": "8adb66ff2ac64c7ba3deb8298540f076"
            }
          },
          "metadata": {}
        },
        {
          "output_type": "display_data",
          "data": {
            "text/plain": [
              "Generating train split:   0%|          | 0/25000 [00:00<?, ? examples/s]"
            ],
            "application/vnd.jupyter.widget-view+json": {
              "version_major": 2,
              "version_minor": 0,
              "model_id": "06e815dab9ad4590bad79c60246a1119"
            }
          },
          "metadata": {}
        },
        {
          "output_type": "display_data",
          "data": {
            "text/plain": [
              "Generating test split:   0%|          | 0/25000 [00:00<?, ? examples/s]"
            ],
            "application/vnd.jupyter.widget-view+json": {
              "version_major": 2,
              "version_minor": 0,
              "model_id": "df50e9977fca42d0a7b400562508f5dd"
            }
          },
          "metadata": {}
        },
        {
          "output_type": "display_data",
          "data": {
            "text/plain": [
              "Generating unsupervised split:   0%|          | 0/50000 [00:00<?, ? examples/s]"
            ],
            "application/vnd.jupyter.widget-view+json": {
              "version_major": 2,
              "version_minor": 0,
              "model_id": "5c2e1120543d4b95b0ad07a1b6d0256d"
            }
          },
          "metadata": {}
        }
      ],
      "source": [
        "train_data, test_data = datasets.load_dataset(\"imdb\", split=[\"train\", \"test\"])"
      ]
    },
    {
      "cell_type": "code",
      "source": [
        "print(train_data)"
      ],
      "metadata": {
        "colab": {
          "base_uri": "https://localhost:8080/"
        },
        "id": "FWWXrR8F3gdG",
        "outputId": "9c258f71-9f53-445f-ac38-594a67e752b1"
      },
      "id": "FWWXrR8F3gdG",
      "execution_count": 6,
      "outputs": [
        {
          "output_type": "stream",
          "name": "stdout",
          "text": [
            "Dataset({\n",
            "    features: ['text', 'label'],\n",
            "    num_rows: 25000\n",
            "})\n"
          ]
        }
      ]
    },
    {
      "cell_type": "code",
      "execution_count": 5,
      "id": "7b34799a",
      "metadata": {
        "id": "7b34799a"
      },
      "outputs": [],
      "source": [
        "tokenizer = torchtext.data.utils.get_tokenizer(\"basic_english\")"
      ]
    },
    {
      "cell_type": "code",
      "execution_count": 7,
      "id": "6fa2f2e3",
      "metadata": {
        "id": "6fa2f2e3"
      },
      "outputs": [],
      "source": [
        "def tokenize_example(example, tokenizer, max_length):\n",
        "    tokens = tokenizer(example[\"text\"])[:max_length]\n",
        "    length = len(tokens)\n",
        "    return {\"tokens\": tokens, \"length\" : length}"
      ]
    },
    {
      "cell_type": "code",
      "execution_count": 8,
      "id": "1f3a3894",
      "metadata": {
        "colab": {
          "base_uri": "https://localhost:8080/",
          "height": 81,
          "referenced_widgets": [
            "d5555736da8e4ad0b6fcaebfdf25230a",
            "907e80fc96324beb9286298916e482f0",
            "6c7b5d0028c342aab92714c09dfd6561",
            "0d4a3d60e6d742dcb071eb261d9a82a8",
            "644412110f8a448fac64c8d02dfbf2b5",
            "397d9ab2442d4aab9e2bdf9981d3d23e",
            "0dc221229ef34c0fb9ec2ddaa686a655",
            "a6ea87724cd647b09de1195eb2065bc4",
            "ade119b3a863486db44ecf3016a14974",
            "368f87b37c9849aa915fc1089c7eb460",
            "c1756099cdde4e81b8e32b941e500d01",
            "583e0792a8d34150937c2bcaf9e54fba",
            "59e4360b9a37470daa9dc0dc16409a08",
            "74cabc5b606a47a0837e83e567af9bb1",
            "2626c151786c47a6ab4fa2ade4acd3ce",
            "660c0d62a1084ec18fde1338c30654a6",
            "e51c06aad1a44abcbea288c663b403e7",
            "db0207dd14754e6c898378158931a917",
            "a0e5cddbab414bd5b378a3bd8c5e61ec",
            "d7f41f89bb5045ea8ceb19f734073dd6",
            "e2fecca3cf754741901fc6e751c521d9",
            "58b416021c8d4cc888e85f37576952d2"
          ]
        },
        "id": "1f3a3894",
        "outputId": "f3e8bc57-ba5f-4683-f278-b735614cbfe4"
      },
      "outputs": [
        {
          "output_type": "display_data",
          "data": {
            "text/plain": [
              "Map:   0%|          | 0/25000 [00:00<?, ? examples/s]"
            ],
            "application/vnd.jupyter.widget-view+json": {
              "version_major": 2,
              "version_minor": 0,
              "model_id": "d5555736da8e4ad0b6fcaebfdf25230a"
            }
          },
          "metadata": {}
        },
        {
          "output_type": "display_data",
          "data": {
            "text/plain": [
              "Map:   0%|          | 0/25000 [00:00<?, ? examples/s]"
            ],
            "application/vnd.jupyter.widget-view+json": {
              "version_major": 2,
              "version_minor": 0,
              "model_id": "583e0792a8d34150937c2bcaf9e54fba"
            }
          },
          "metadata": {}
        }
      ],
      "source": [
        "max_length = 256\n",
        "\n",
        "train_data = train_data.map(\n",
        "    tokenize_example, fn_kwargs={\"tokenizer\": tokenizer, \"max_length\": max_length}\n",
        ")\n",
        "test_data = test_data.map(\n",
        "    tokenize_example, fn_kwargs={\"tokenizer\": tokenizer, \"max_length\": max_length}\n",
        ")"
      ]
    },
    {
      "cell_type": "code",
      "execution_count": 10,
      "id": "7e5bd85d",
      "metadata": {
        "id": "7e5bd85d"
      },
      "outputs": [],
      "source": [
        "test_size = 0.25\n",
        "\n",
        "train_valid_data = train_data.train_test_split(test_size = test_size)\n",
        "train_data = train_valid_data[\"train\"]\n",
        "valid_data = train_valid_data[\"test\"]"
      ]
    },
    {
      "cell_type": "code",
      "source": [
        "print(f\"Train data: {len(train_data)}\")\n",
        "print(f\"Valid data: {len(valid_data)}\")\n",
        "print(f\"Test data: {len(test_data)}\")"
      ],
      "metadata": {
        "colab": {
          "base_uri": "https://localhost:8080/"
        },
        "id": "Il2FoRuP7t9k",
        "outputId": "1334846a-b474-42bd-c8d5-0354c81b56b1"
      },
      "id": "Il2FoRuP7t9k",
      "execution_count": 11,
      "outputs": [
        {
          "output_type": "stream",
          "name": "stdout",
          "text": [
            "Train data: 14062\n",
            "Valid data: 4688\n",
            "Test data: 25000\n"
          ]
        }
      ]
    },
    {
      "cell_type": "code",
      "execution_count": 13,
      "id": "0bf984df",
      "metadata": {
        "id": "0bf984df"
      },
      "outputs": [],
      "source": [
        "min_freq = 5\n",
        "special_tokens = [\"<unk>\", \"<pad>\"]\n",
        "\n",
        "vocab = torchtext.vocab.build_vocab_from_iterator(\n",
        "    train_data[\"tokens\"],\n",
        "    min_freq = min_freq,\n",
        "    specials = special_tokens\n",
        ")"
      ]
    },
    {
      "cell_type": "code",
      "execution_count": 14,
      "id": "5147a8fd",
      "metadata": {
        "colab": {
          "base_uri": "https://localhost:8080/"
        },
        "id": "5147a8fd",
        "outputId": "912dfb2a-0103-4405-9070-8e56e12a04d0"
      },
      "outputs": [
        {
          "output_type": "stream",
          "name": "stdout",
          "text": [
            "Unk index: 0, Pad index: 1\n"
          ]
        }
      ],
      "source": [
        "unk_index = vocab[\"<unk>\"]\n",
        "pad_index = vocab[\"<pad>\"]\n",
        "print(f\"Unk index: {unk_index}, Pad index: {pad_index}\")"
      ]
    },
    {
      "cell_type": "code",
      "execution_count": 15,
      "id": "8b97bda7",
      "metadata": {
        "id": "8b97bda7"
      },
      "outputs": [],
      "source": [
        "vocab.set_default_index(unk_index)"
      ]
    },
    {
      "cell_type": "code",
      "execution_count": 16,
      "id": "843282aa",
      "metadata": {
        "id": "843282aa"
      },
      "outputs": [],
      "source": [
        "def numericalize_example(example, vocab):\n",
        "    ids = vocab.lookup_indices(example[\"tokens\"])\n",
        "    return {\"ids\": ids}"
      ]
    },
    {
      "cell_type": "code",
      "execution_count": 17,
      "id": "885b504a",
      "metadata": {
        "colab": {
          "base_uri": "https://localhost:8080/",
          "height": 113,
          "referenced_widgets": [
            "3ef49cb5948d41668ea849582820b2e9",
            "9cea0d9101af43fab7ece6963e66bf3f",
            "68aec7f5b7c74c16a1850832edee3e5f",
            "643a826723e34deda204b3ea61b25bc6",
            "a45be81718574036a24e102b3f5b9cb3",
            "b0ac4c4a362f44e1a16c0a2b28f09596",
            "33a5a0e4a05e49e99640dd9eaf6679c0",
            "d117417c0e034b81a840579d0cf0e385",
            "43246a7c4ac148e3adb6516cf3fd3dc3",
            "aeb1c2343ee14d3d81440daaa960c38c",
            "9994d880aec24a9cb112860b8663a4fe",
            "af0d4eab3c4c49f7870936d13f8c7bb0",
            "cb3c0afcc5ed458f81570199e9a84062",
            "13dc7d3ea3554c21aea54b5aff5ab344",
            "0357409088c14ba592da089b9bdca287",
            "f420b7374855409090f163ba1c95dd0f",
            "cceb4a7f9d68408eb56906ebba8a39d4",
            "c71ce8dfb5c549d58c42a1b5ae0a4338",
            "4961b7f30a56445c9c6a51042f6fa69e",
            "b180ea98c5ab4aea970a7c7ddb70f709",
            "dd7a21a1d04c47fea6f4abf9d8a25082",
            "c56270d0b52747d58a182b0721e51ce3",
            "9940f89e1bca48fdab2452c43b18864d",
            "741e1cc035784d8fa4cf9f0efdf49101",
            "574a4f518e554e2b91512bd7499fa409",
            "dceda23f2fa74b5cbfb7700b3f3202ef",
            "c7e600a8c7fb42e581bd29f5e59251a7",
            "aa4bfc191f554a5180b9662c0161e495",
            "d0228c4b071045ea9a961af5d29deff7",
            "7308d9432c91463b8a67da3478383e1c",
            "3a71acb20e584c298d320a833520ef4f",
            "87499c218719483c90439eb701618689",
            "69ef9b1e9fc042d2a99f7284daa20465"
          ]
        },
        "id": "885b504a",
        "outputId": "0f55d0ca-55e0-4e3e-8cfc-b0741971b753"
      },
      "outputs": [
        {
          "output_type": "display_data",
          "data": {
            "text/plain": [
              "Map:   0%|          | 0/14062 [00:00<?, ? examples/s]"
            ],
            "application/vnd.jupyter.widget-view+json": {
              "version_major": 2,
              "version_minor": 0,
              "model_id": "3ef49cb5948d41668ea849582820b2e9"
            }
          },
          "metadata": {}
        },
        {
          "output_type": "display_data",
          "data": {
            "text/plain": [
              "Map:   0%|          | 0/4688 [00:00<?, ? examples/s]"
            ],
            "application/vnd.jupyter.widget-view+json": {
              "version_major": 2,
              "version_minor": 0,
              "model_id": "af0d4eab3c4c49f7870936d13f8c7bb0"
            }
          },
          "metadata": {}
        },
        {
          "output_type": "display_data",
          "data": {
            "text/plain": [
              "Map:   0%|          | 0/25000 [00:00<?, ? examples/s]"
            ],
            "application/vnd.jupyter.widget-view+json": {
              "version_major": 2,
              "version_minor": 0,
              "model_id": "9940f89e1bca48fdab2452c43b18864d"
            }
          },
          "metadata": {}
        }
      ],
      "source": [
        "train_data = train_data.map(numericalize_example, fn_kwargs={\"vocab\": vocab})\n",
        "valid_data = valid_data.map(numericalize_example, fn_kwargs={\"vocab\": vocab})\n",
        "test_data = test_data.map(numericalize_example, fn_kwargs={\"vocab\": vocab})"
      ]
    },
    {
      "cell_type": "code",
      "execution_count": 18,
      "id": "2b956558",
      "metadata": {
        "id": "2b956558"
      },
      "outputs": [],
      "source": [
        "train_data = train_data.with_format(type=\"torch\", columns=[\"ids\", \"label\", \"length\"])\n",
        "valid_data = valid_data.with_format(type=\"torch\", columns=[\"ids\", \"label\", \"length\"])\n",
        "test_data = test_data.with_format(type=\"torch\", columns=[\"ids\", \"label\", \"length\"])"
      ]
    },
    {
      "cell_type": "code",
      "execution_count": 19,
      "id": "53575424",
      "metadata": {
        "colab": {
          "base_uri": "https://localhost:8080/"
        },
        "id": "53575424",
        "outputId": "ad26b73e-52db-48b2-9772-826548e29ace"
      },
      "outputs": [
        {
          "output_type": "execute_result",
          "data": {
            "text/plain": [
              "{'label': tensor(0),\n",
              " 'length': tensor(197),\n",
              " 'ids': tensor([   12,     9,   149,   138,   277,     8,   865,    54,    52,    46,\n",
              "            17,     5,   243,     8,    14,    23,     3,    21,  1492,    15,\n",
              "             9,    16,   436,     8,    34,    43,     9,  5399,     9,     6,\n",
              "             9,  2783,     9,     2,   199,    15, 15797,     0,     8,     2,\n",
              "          1410,    30,  5022,   785,     3,  1410,   319,     8,    34,   765,\n",
              "         13560,    40,  3201,     0,  8801,     6,  8094,     7,   700,     0,\n",
              "             0,  1717,     0,     3,  4968,     4,  1413,     3,    12,  1346,\n",
              "            11,    67,    31,    88,   111,    84,     8,   916,     8,    31,\n",
              "             5,  1489,  6709,    23,   129,     5,   366,  1017,  8514,   171,\n",
              "             9,    26,    87,   274,   141,     3,   701,     5,     9,   662,\n",
              "           557,    69,    27,     2,  2248,  5464,     9,    10,     5,   557,\n",
              "            15,  3084,     7,   118,    83,     3,   109,  3099,   319,     8,\n",
              "          5429, 11709,    37,  1564,     3,     5,  2248,  8320,    42, 15797,\n",
              "            17,  1047,    25,     6,    42,  7482,   182,     5, 13542,    27,\n",
              "             2,   445,    24,    10,    38,  7218,     6,  9397,     2,   389,\n",
              "           260,     3,     2,   203,    15,    11,   171,     9,    26,   216,\n",
              "             8,   110,   161,  1222,     7,     2,   114,   168,    75,   254,\n",
              "            15,     2,   236,   160,   101,    31,    88,     0,    97,     5,\n",
              "           359,   543,   108,   366,   315,     3,    52,    39,    72,   718,\n",
              "            93,     7,     2,  3404,     0,   778,     3])}"
            ]
          },
          "metadata": {},
          "execution_count": 19
        }
      ],
      "source": [
        "train_data[0]"
      ]
    },
    {
      "cell_type": "code",
      "execution_count": 21,
      "id": "3a5e5883",
      "metadata": {
        "id": "3a5e5883"
      },
      "outputs": [],
      "source": [
        "def get_collate_fn(pad_index):\n",
        "    def collate_fn(batch):\n",
        "        batch_ids = [i[\"ids\"] for i in batch]\n",
        "        batch_ids = nn.utils.rnn.pad_sequence(\n",
        "            batch_ids, padding_value = pad_index, batch_first= True\n",
        "        )\n",
        "        batch_length = [i[\"length\"] for i in batch]\n",
        "        batch_length = torch.stack(batch_length)\n",
        "        batch_label = [i[\"label\"] for i in batch]\n",
        "        batch_label = torch.stack(batch_label)\n",
        "        batch = {\"ids\": batch_ids, \"length\": batch_length, \"label\": batch_label}\n",
        "        return batch\n",
        "\n",
        "    return collate_fn"
      ]
    },
    {
      "cell_type": "code",
      "execution_count": 23,
      "id": "6a2bb50a",
      "metadata": {
        "id": "6a2bb50a"
      },
      "outputs": [],
      "source": [
        "def get_data_loader(dataset, batch_size, pad_index, shuffle=False):\n",
        "    collate_fn = get_collate_fn(pad_index)\n",
        "    data_loader = torch.utils.data.DataLoader(\n",
        "        dataset = dataset,\n",
        "        batch_size = batch_size,\n",
        "        collate_fn = collate_fn,\n",
        "        shuffle = shuffle\n",
        "    )\n",
        "    return data_loader"
      ]
    },
    {
      "cell_type": "code",
      "execution_count": 24,
      "id": "2d8f0a73",
      "metadata": {
        "id": "2d8f0a73"
      },
      "outputs": [],
      "source": [
        "batch_size = 512\n",
        "\n",
        "train_data_loader = get_data_loader(train_data, batch_size, pad_index, shuffle=True)\n",
        "valid_data_loader = get_data_loader(valid_data, batch_size, pad_index)\n",
        "test_data_loader = get_data_loader(test_data, batch_size, pad_index)"
      ]
    },
    {
      "cell_type": "code",
      "execution_count": 58,
      "id": "53427b55",
      "metadata": {
        "id": "53427b55"
      },
      "outputs": [],
      "source": [
        "class LSTM(nn.Module):\n",
        "    def __init__(\n",
        "        self,\n",
        "        vocab_size,\n",
        "        embedding_dim,\n",
        "        hidden_dim,\n",
        "        output_dim,\n",
        "        n_layers,\n",
        "        bidirectional,\n",
        "        dropout_rate,\n",
        "        pad_index,\n",
        "    ):\n",
        "        super().__init__()\n",
        "        self.embedding = nn.Embedding(vocab_size, embedding_dim, padding_idx=pad_index)\n",
        "        self.lstm = nn.LSTM(\n",
        "            embedding_dim,\n",
        "            hidden_dim,\n",
        "            n_layers,\n",
        "            bidirectional=bidirectional,\n",
        "            dropout=dropout_rate,\n",
        "            batch_first=True,\n",
        "        )\n",
        "        self.fc = nn.Linear(hidden_dim * 2 if bidirectional else hidden_dim, output_dim)\n",
        "        self.dropout = nn.Dropout(dropout_rate)\n",
        "\n",
        "    def forward(self, ids, length):\n",
        "        # ids = [batch size, seq len]\n",
        "        # length = [batch size]\n",
        "        embedded = self.dropout(self.embedding(ids))\n",
        "        # embedded = [batch size, seq len, embedding dim]\n",
        "        packed_embedded = nn.utils.rnn.pack_padded_sequence(\n",
        "           embedded, length, batch_first=True, enforce_sorted=False\n",
        "        )\n",
        "        packed_output, (hidden, cell) = self.lstm(packed_embedded)\n",
        "        # hidden = [n layers * n directions, batch size, hidden dim]\n",
        "        # cell = [n layers * n directions, batch size, hidden dim]\n",
        "        output, output_length = nn.utils.rnn.pad_packed_sequence(packed_output)\n",
        "        # output = [batch size, seq len, hidden dim * n directions]\n",
        "        if self.lstm.bidirectional:\n",
        "            hidden = self.dropout(torch.cat([hidden[-1], hidden[-2]], dim=-1))\n",
        "            # hidden = [batch size, hidden dim * 2]\n",
        "        else:\n",
        "            hidden = self.dropout(hidden[-1])\n",
        "            # hidden = [batch size, hidden dim]\n",
        "        prediction = self.fc(hidden)\n",
        "        # prediction = [batch size, output dim]\n",
        "        return prediction"
      ]
    },
    {
      "cell_type": "code",
      "execution_count": 59,
      "id": "11206188",
      "metadata": {
        "id": "11206188"
      },
      "outputs": [],
      "source": [
        "vocab_size = len(vocab)\n",
        "embedding_dim = 300\n",
        "hidden_dim = 300\n",
        "output_dim = len(train_data.unique(\"label\"))\n",
        "n_layers = 2\n",
        "bidirectional = True\n",
        "dropout_rate = 0.5\n",
        "\n",
        "model = LSTM(\n",
        "    vocab_size,\n",
        "    embedding_dim,\n",
        "    hidden_dim,\n",
        "    output_dim,\n",
        "    n_layers,\n",
        "    bidirectional,\n",
        "    dropout_rate,\n",
        "    pad_index,\n",
        ")"
      ]
    },
    {
      "cell_type": "code",
      "execution_count": 60,
      "id": "5feb9512",
      "metadata": {
        "colab": {
          "base_uri": "https://localhost:8080/"
        },
        "id": "5feb9512",
        "outputId": "ec795724-5de9-418a-82d5-00dd8db97396"
      },
      "outputs": [
        {
          "output_type": "stream",
          "name": "stdout",
          "text": [
            "The model has 9,175,802 trainable parameters\n"
          ]
        }
      ],
      "source": [
        "def count_parameters(model):\n",
        "    return sum(p.numel() for p in model.parameters() if p.requires_grad)\n",
        "\n",
        "\n",
        "print(f\"The model has {count_parameters(model):,} trainable parameters\")"
      ]
    },
    {
      "cell_type": "code",
      "execution_count": 61,
      "id": "3edc8e02",
      "metadata": {
        "id": "3edc8e02"
      },
      "outputs": [],
      "source": [
        "def initialize_weights(m):\n",
        "    if isinstance(m, nn.Linear):\n",
        "        nn.init.xavier_normal_(m.weight)\n",
        "        nn.init.zeros_(m.bias)\n",
        "    elif isinstance(m, nn.LSTM):\n",
        "        for name, param in m.named_parameters():\n",
        "            if \"bias\" in name:\n",
        "                nn.init.zeros_(param)\n",
        "            elif \"weight\" in name:\n",
        "                nn.init.orthogonal_(param)"
      ]
    },
    {
      "cell_type": "code",
      "execution_count": 62,
      "id": "98490c40",
      "metadata": {
        "colab": {
          "base_uri": "https://localhost:8080/"
        },
        "id": "98490c40",
        "outputId": "7992cce2-f69e-43cf-8c93-3a532da54129"
      },
      "outputs": [
        {
          "output_type": "execute_result",
          "data": {
            "text/plain": [
              "LSTM(\n",
              "  (embedding): Embedding(18550, 300, padding_idx=1)\n",
              "  (lstm): LSTM(300, 300, num_layers=2, batch_first=True, dropout=0.5, bidirectional=True)\n",
              "  (fc): Linear(in_features=600, out_features=2, bias=True)\n",
              "  (dropout): Dropout(p=0.5, inplace=False)\n",
              ")"
            ]
          },
          "metadata": {},
          "execution_count": 62
        }
      ],
      "source": [
        "model.apply(initialize_weights)"
      ]
    },
    {
      "cell_type": "code",
      "execution_count": 63,
      "id": "72bfd654",
      "metadata": {
        "id": "72bfd654"
      },
      "outputs": [],
      "source": [
        "vectors = torchtext.vocab.GloVe()"
      ]
    },
    {
      "cell_type": "code",
      "execution_count": 64,
      "id": "6ec1ed34",
      "metadata": {
        "id": "6ec1ed34"
      },
      "outputs": [],
      "source": [
        "pretrained_embedding = vectors.get_vecs_by_tokens(vocab.get_itos())"
      ]
    },
    {
      "cell_type": "code",
      "source": [
        "print(vocab.get_stoi())"
      ],
      "metadata": {
        "colab": {
          "base_uri": "https://localhost:8080/"
        },
        "id": "p4VdtcjeFoqw",
        "outputId": "20013eda-ad23-4672-a411-6bfd62c3f0e6"
      },
      "id": "p4VdtcjeFoqw",
      "execution_count": 65,
      "outputs": [
        {
          "output_type": "stream",
          "name": "stdout",
          "text": [
            "{'zulu': 18548, 'zhu': 18547, 'youssef': 18540, 'yankee': 18532, 'yam': 18531, 'yahoo': 18530, 'x-rated': 18529, 'wynn': 18528, 'ww1': 18527, 'wuhl': 18526, 'wreckage': 18523, 'wove': 18521, 'workings': 18519, 'wince': 18513, 'wilford': 18510, 'wiley': 18509, 'wide-eyed': 18508, 'whiz': 18507, 'whimper': 18505, 'whew': 18504, 'what-so-ever': 18503, 'whales': 18502, 'westerners': 18501, 'welsh': 18499, 'wegener': 18494, 'watergate': 18491, 'warwick': 18489, 'wade': 18484, 'vitality': 18477, 'vistas': 18476, 'virtuous': 18475, 'vil': 18474, 'vierde': 18472, 'vibes': 18471, 'vendor': 18468, 'vendetta': 18467, 'veiled': 18466, 'vegetables': 18465, 'vanishes': 18463, 'valientes': 18462, 'valiant': 18461, 'vaccaro': 18458, 'urinating': 18456, 'uriah': 18455, 'uranium': 18453, 'uproar': 18452, 'unwarranted': 18449, 'unsurpassed': 18447, 'unrestrained': 18444, 'unrequited': 18443, 'unrelenting': 18442, 'unprecedented': 18439, 'unmotivated': 18434, 'unmistakably': 18433, 'unknowingly': 18431, 'unite': 18429, 'unisols': 18428, 'uninterrupted': 18427, 'unglamorous': 18425, 'ungar': 18424, 'unfriendly': 18423, 'undying': 18421, 'underwood': 18417, 'undermines': 18413, 'undermined': 18412, 'uncharted': 18411, 'unarmed': 18408, 'ulterior': 18406, 'tyrone': 18403, 'tummy': 18398, 'tully': 18397, 'tsing': 18395, 'trilling': 18390, 'trident': 18389, 'transsexual': 18385, 'transports': 18384, 'transportation': 18383, 'trancers': 18382, 'tramell': 18381, 'traitorous': 18380, 'trainspotting': 18379, 'traditionally': 18377, 'tract': 18376, 'trackers/journeymen': 18375, 'tours': 18372, 'toughness': 18371, 'topical': 18365, 'tomas': 18363, 'titan': 18360, 'tires': 18358, 'tiffany': 18353, 'thoughtless': 18346, 'thorne': 18345, 'thespians': 18341, 'theron': 18340, 'terrifyingly': 18334, 'tents': 18333, 'tempt': 18332, 'temperament': 18331, 'tbn': 18327, 'tate': 18326, 'tarkovsky': 18324, 'tamed': 18320, 'tagge': 18315, 'tadashi': 18314, 'tackles': 18313, 'tackled': 18312, 'sympathizer': 18306, 'swipes': 18302, 'sweating': 18298, 'swears': 18297, 'swan': 18295, 'suzy': 18294, 'surpassing': 18292, 'superintendent': 18289, 'superdome': 18287, 'wannabee': 18486, 'sundays': 18285, 'summoned': 18284, 'suitors': 18282, 'sugar-coated': 18281, 'substituting': 18278, 'sturges': 18274, 'strummer': 18271, 'stroking': 18270, 'strengthen': 18267, 'zwick': 18549, 'straight-to-dvd': 18262, 'stomping': 18261, 'stomp': 18259, 'stockings': 18258, 'stirs': 18256, 'sternberg': 18251, 'stepford': 18249, 'steiger': 18248, 'starlift': 18245, 'stanton': 18243, 'stalwarts': 18241, 'stalkers': 18240, 'staid': 18239, 'spunky': 18234, 'spotting': 18233, 'spook': 18232, 'spontaneity': 18231, 'spiritually': 18228, 'speeds': 18226, 'sparked': 18224, 'soundtracks': 18221, 'sommer': 18218, 'solicitor': 18216, 'sofa': 18214, 'socialism': 18211, 'soapdish': 18209, 'snoring': 18207, 'smashes': 18198, 'slowing': 18196, 'slovik': 18195, 'slippers': 18194, 'slime': 18193, 'slesinger': 18190, 'sleepwalks': 18189, 'sleepless': 18188, 'slaying': 18187, 'slaps': 18185, 'skinhead': 18184, 'skerritt': 18183, 'skate': 18178, 'simpleton': 18175, 'sillier': 18172, 'sikes': 18170, 'sickeningly': 18166, 'unkind': 18430, 'shu': 18163, 'shrug': 18162, 'shrieks': 18160, 'showman': 18158, 'shoot-outs': 18153, 'shinjuku': 18151, 'shanks': 18144, 'sexier': 18139, 'seventeen': 18137, 'settlement': 18136, 'servo': 18135, 'serrano': 18133, 'sept': 18132, 'sensitively': 18130, 'sensationalist': 18129, 'sensationalism': 18128, 'selleck': 18125, 'self-proclaimed': 18124, 'self-loathing': 18121, 'self-consciousness': 18120, 'second-rate': 18116, 'seamed': 18113, 'scumbags': 18112, 'scully': 18111, 'scraping': 18108, 'scrap': 18107, 'scotty': 18106, 'schoolteacher': 18104, 'schildkraut': 18100, 'schell': 18099, 'scheduling': 18098, 'scanning': 18096, 'undertaker': 18415, 'scalpel': 18094, 'sc': 18092, 'savings': 18090, 'satya': 18088, 'saturated': 18087, 'sarne': 18084, 'sanitarium': 18083, 'salma': 18082, 'salary': 18081, 'sakes': 18079, 'sadists': 18077, 'sadist': 18076, 'sadism': 18075, 'saddened': 18073, 'sachar': 18072, 'sabella': 18070, 'rumble': 18066, 'ruggero': 18065, 'rostov': 18061, 'rodgers': 18058, 'rockers': 18056, 'rites': 18052, 'ripoffs': 18050, 'riotous': 18049, 'rightful': 18048, 'ridiculed': 18046, 'richest': 18044, 'ribisi': 18043, 'ribbons': 18042, 'rhys-meyers': 18041, 'rewritten': 18039, 'revived': 18037, 'reversed': 18036, 'reverence': 18035, 'reuben': 18034, 'restraining': 18032, 'respectability': 18030, 'resorts': 18028, 'resonates': 18026, 'resolves': 18025, 'researchers': 18023, 'requested': 18021, 'renoir': 18014, 'renee': 18013, 'renamed': 18012, 'remarked': 18011, 'relieve': 18010, 'reliance': 18009, 'rehearsing': 18004, 'reflexion': 17999, 'recovery': 17994, 'reconciliation': 17993, 'recesses': 17992, 'recalled': 17991, 'rebane': 17989, 'realms': 17988, 're-makes': 17984, 'razor-sharp': 17982, 'rarer': 17978, 'ramshackle': 17974, 'ramone': 17973, 'rammed': 17972, 'ramblings': 17970, 'rae': 17967, 'racially': 17966, 'quirkiness': 17965, 'quasi': 17960, 'quaien': 17959, 'pyar': 17958, 'punisher': 17953, 'punctuated': 17952, 'pumpkin': 17951, 'psychos': 17948, 'ps1': 17946, 'proximity': 17945, 'prosperity': 17943, 'prosecuted': 17942, 'proposition': 17941, 'pronunciation': 17935, 'prolly': 17934, 'programmed': 17932, 'proficient': 17931, 'professors': 17930, 'prodigy': 17929, 'proclaims': 17928, 'proceeding': 17925, 'princes': 17922, 'prevailing': 17920, 'presidents': 17918, 'prepares': 17916, 'portly': 17906, 'pop-culture': 17903, 'pollak': 17901, 'politely': 17900, 'poisoning': 17899, 'pleasingly': 17892, 'plead': 17890, 'pistol': 17881, 'pinter': 17879, 'pinball': 17876, 'pills': 17875, 'pillars': 17874, 'petra': 17868, 'personable': 17865, 'perpetuates': 17863, 'permeates': 17861, 'performace': 17860, 'penniless': 17858, 'paved': 17855, 'paused': 17854, 'patently': 17849, 'pastiche': 17848, 'parades': 17842, 'paquin': 17841, 'paper-thin': 17840, 'panel': 17838, 'panders': 17837, 'panache': 17836, 'pairs': 17834, 'overshadow': 17832, 'overpaid': 17828, 'overlapping': 17826, 'overdrive': 17824, 'over-dramatized': 17823, 'ovation': 17821, 'outweighs': 17819, 'oshii': 17813, 'orientation': 17810, 'seniors': 18127, 'opinionated': 17808, 'oozes': 17805, 'rarefied': 17977, 'omitted': 17801, 'offices': 17793, 'offed': 17792, 'obi-wan': 17783, 'nursery': 17777, 'nudie': 17775, 'ntsc': 17773, 'nonchalant': 17770, 'nominate': 17769, 'nominal': 17768, 'nobles': 17767, 'nineteenth': 17765, 'nickname': 17764, 'nichols': 17763, 'nibelungen': 17762, 'ni': 17761, 'nguyen': 17760, 'neon': 17758, 'neighbour': 17756, 'negatively': 17755, 'needy': 17754, 'nay': 17750, 'nathaniel': 17747, 'nascent': 17744, 'nanette': 17743, 'nan': 17742, 'mythological': 17740, 'murderess': 17737, 'munro': 17736, 'motivating': 17727, 'morrison': 17724, 'moronie': 17723, 'morocco': 17722, 'morley': 17720, 'moose': 17718, 'moonshine': 17717, 'momentarily': 17714, 'mohanlal': 17710, 'moaning': 17706, 'misdirected': 17703, 'minelli': 17698, 'milton': 17695, 'mil': 17694, 'mid-80': 17693, 'microcosm': 17692, 'mic': 17690, 'meyerling': 17689, 'metro': 17688, 'mercurio': 17685, 'mendel': 17684, 'megalomaniacal': 17679, 'meena': 17678, 'meddling': 17676, 'mecha': 17675, 'meals': 17673, 'mcnamara': 17672, 'mcanally': 17668, 'mavericks': 17667, 'maupassant': 17666, 'matte': 17664, 'mathematics': 17661, 'mata': 17660, 'markham': 17657, 'marcello': 17653, 'mania': 17648, 'maman': 17647, 'maloni': 17645, 'makepeace': 17643, 'mainstay': 17640, 'magda': 17638, 'macmahon': 17632, 'machiavellian': 17630, 'reread': 18022, 'machete': 17629, 'macgyver': 17628, 'lynne': 17626, 'lube': 17616, 'lta': 17615, 'low-life': 17614, 'lorry': 17608, 'longed': 17600, 'long-running': 17599, 'lodger': 17598, 'linklater': 17593, 'lingered': 17592, 'lick': 17589, 'lesley': 17583, 'leopard': 17582, 'whistler': 18506, 'leoni': 17581, 'lenz': 17580, 'leisure': 17579, 'leachman': 17573, 'lazerov': 17572, 'landis': 17563, 'lamberto': 17561, 'lahr': 17559, 'lagoon': 17558, 'laboriously': 17556, 'kyser': 17555, 'wreaks': 18522, 'kureishi': 17550, 'kumari': 17549, 'krabbe': 17548, 'klondike': 17545, 'kleinman': 17544, 'kirby': 17540, 'kindred': 17537, 'kick-ass': 17535, 'kerching': 17533, 'kendall': 17532, 'keenan': 17531, 'kavner': 17529, 'karaoke': 17523, 'juxtaposed': 17520, 'johns': 17513, 'joanne': 17511, 'jingoistic': 17510, 'jerusalem': 17506, 'jd': 17503, 'jarmusch': 17501, 'jarada': 17500, 'janssen': 17498, 'irrepressible': 17487, 'ironside': 17486, 'irate': 17485, 'inxs': 17483, 'invaluable': 17481, 'invaders': 17480, 'interrogating': 17474, 'intergalactic': 17472, 'interfering': 17471, 'instability': 17465, 'insertion': 17462, 'innumerable': 17460, 'innocuous': 17456, 'innermost': 17454, 'inger': 17449, 'inflections': 17447, 'infinity': 17446, 'infantry': 17445, 'inexcusable': 17443, 'industrialization': 17441, 'indictment': 17438, 'indicative': 17437, 'incorporated': 17435, 'improvise': 17431, 'improbably': 17429, 'improbabilities': 17428, 'impressionist': 17427, 'impossibility': 17426, 'implausibilities': 17424, 'imperialist': 17423, 'immigration': 17419, 'imaginatively': 17417, 'illustrations': 17416, 'skeptic': 18182, 'idiosyncratic': 17414, 'hush': 17409, 'huns': 17408, 'humourous': 17407, 'hulu': 17404, 'hues': 17403, 'hound': 17402, 'horton': 17400, 'honky': 17396, 'hollywoodized': 17391, 'hodgepodge': 17388, 'hodder': 17387, 'hitman': 17386, 'hindered': 17383, 'hercules': 17374, 'herbie': 17373, 'heartache': 17366, 'headaches': 17365, 'hazard': 17364, 'havent': 17361, 'hathaway': 17358, 'hassan': 17356, 'hartnett': 17355, 'harness': 17354, 'hard-working': 17352, 'harassment': 17351, 'harassing': 17350, 'hand-drawn': 17347, 'halls': 17343, 'hak': 17342, 'haiku': 17340, 'gut-busting': 17336, 'gunshots': 17334, 'gung': 17333, 'gunfights': 17332, 'gum': 17330, 'grunt': 17328, 'grounding': 17323, 'ground-breaking': 17321, 'gromit': 17319, 'grinds': 17316, 'greasy': 17312, 'grayce': 17311, 'gravy': 17310, 'grappling': 17307, 'grandeur': 17306, 'grad': 17304, 'gotham': 17302, 'gosford': 17301, 'hahk': 17339, 'gorgeously': 17300, 'goody': 17299, 'gloriously': 17297, 'glitz': 17296, 'gleeson': 17294, 'glam': 17293, 'gist': 17292, 'gilson': 17288, 'gialli': 17287, 'geriatric': 17285, 'genetics': 17282, 'generating': 17280, 'gauge': 17277, 'garry': 17274, 'garris': 17273, 'garde': 17272, 'gambit': 17271, 'gaiman': 17267, 'gadar': 17265, 'futility': 17260, 'furst': 17257, 'full-on': 17251, 'frying': 17249, 'frogs': 17248, 'freezing': 17245, 'freedoms': 17244, 'frederick': 17243, 'franks': 17241, 'franka': 17240, 'franciosa': 17239, 'frakes': 17237, 'fraggle': 17235, 'forwarded': 17231, 'scanner': 18095, 'fort': 17229, 'formulas': 17228, 'formation': 17227, 'foreseeable': 17226, 'forbids': 17225, 'footlight': 17224, 'fondling': 17223, 'flourishes': 17220, 'floundering': 17219, 'flocked': 17217, 'flo': 17216, 'phenomenally': 17870, 'nu': 17774, 'flights': 17214, 'flickering': 17213, 'flatulence': 17211, 'flattering': 17210, 'flashman': 17209, 'fishtail': 17207, 'first-class': 17206, 'firefly': 17204, 'fiorentino': 17203, 'financed': 17201, 'festivities': 17198, 'ferland': 17196, 'feore': 17195, 'fem': 17194, 'prophecies': 17939, 'fellas': 17192, 'feedback': 17191, 'fawlty': 17186, 'fates': 17184, 'fangs': 17182, 'fanboy': 17180, 'fad': 17177, 'eye-opening': 17176, 'expressionistic': 17173, 'exploded': 17170, 'exhibition': 17168, 'exchanging': 17165, 'evergreen': 17163, 'eventful': 17161, 'evaluate': 17159, 'evacuee': 17158, 'labyrinthine': 17557, 'etcetera': 17152, 'esteemed': 17151, 'estates': 17150, 'esha': 17149, 'escalates': 17147, 'erin': 17145, 'er-do-well': 17143, 'equipped': 17142, 'entwined': 17139, 'entice': 17138, 'enraged': 17137, 'endorsement': 17132, 'enabling': 17130, 'emy': 17129, 'emile': 17126, 'embodies': 17124, 'embodied': 17123, 'ellington': 17120, 'elders': 17116, 'koji': 17547, 'elaborated': 17115, 'egan': 17113, 'edel': 17110, 'echoing': 17109, 'eastman': 17108, 'eadie': 17106, 'dystopian': 17104, 'duplicitous': 17102, 'dumpy': 17101, 'dumping': 17099, 'protests': 17944, 'dumbfounded': 17097, 'duet': 17096, 'drown': 17090, 'drooling': 17089, 'dratch': 17087, 'downed': 17085, 'doubtless': 17082, 'doubtful': 17080, 'doubly': 17079, 'donkey': 17073, 'donated': 17072, 'domergue': 17071, 'dodgeball': 17069, 'dobson': 17067, 'divert': 17064, 'mobs': 17707, 'distrust': 17062, 'distribute': 17061, 'distortions': 17059, 'disposing': 17057, 'dispatches': 17056, 'dispassionate': 17055, 'disowned': 17054, 'dishonesty': 17053, 'disciple': 17048, 'dis': 17046, 'dipping': 17044, 'diminished': 17040, 'puppetry': 17954, 'digger': 17039, 'dieter': 17037, 'diehl': 17036, 'mcbride': 17669, 'dictatorship': 17035, 'dickie': 17033, 'diaper': 17030, 'dianne': 17029, 'devise': 17028, 'devine': 17027, 'deviates': 17026, 'detmers': 17024, 'detestable': 17023, 'determining': 17022, 'detachment': 17021, 'desensitized': 17020, 'dependable': 17015, 'departs': 17014, 'denny': 17013, 'deluded': 17011, 'delores': 17010, 'dicken': 17032, 'delay': 17007, 'degenerated': 17006, 'deceive': 17003, 'debatable': 17002, 'deathbed': 17001, 'dead-end': 17000, 'darts': 16998, 'darkwing': 16996, 'danelia': 16989, 'daggers': 16987, 'd-war': 16985, 'd+': 16984, 'ever-present': 17162, 'cyber': 16982, 'cut-out': 16981, 'yanos': 18533, 'customary': 16980, 'curator': 16978, 'cups': 16977, 'sienna': 18168, 'cupid': 16976, 'cults': 16974, 'crutch': 16972, 'cruising': 16971, 'criticizes': 16968, 'cripple': 16966, 'cremated': 16964, 'crawling': 16961, 'lampoons': 17562, 'crafts': 16958, 'counselor': 16953, 'costly': 16949, 'costar': 16948, 'copying': 16944, 'contacted': 16933, 'connoisseurs': 16929, 'connell': 16927, 'confinement': 16924, 'confesses': 16922, 'isn`t': 17491, 'confessed': 16921, 'conceivable': 16917, 'comstock': 16916, 'compulsion': 16914, 'complicating': 16910, 'complements': 16907, 'commercialism': 16901, 'comeuppance': 16899, 'comatose': 16896, 'column': 16895, 'coerced': 16889, 'co-starred': 16887, 'cnn': 16885, 'clutching': 16884, 'clowns': 16883, 'talos': 18319, 'mule': 17733, 'closeup': 16882, 'climbed': 16879, 'circular': 16872, 'circling': 16871, 'cinemagic': 16869, 'cimarron': 16868, 'chynna': 16865, 'chunky': 16864, 'chuckling': 16863, 'child-like': 16858, 'cherie': 16856, 'cheng': 16855, 'cheh': 16853, 'cheapo': 16850, 'chancellor': 16843, 'chamberlains': 16841, 'chace': 16840, 'cetera': 16839, 'centipede': 16838, 'censor': 16837, 'catering': 16832, 'carved': 16825, 'cartwrights': 16824, 'carlitos': 16821, 'canto': 16818, 'disheveled': 17052, 'cannons': 16817, 'cane': 16815, 'cancellation': 16814, 'camper': 16813, 'campaigns': 16812, 'cairo': 16809, 'cages': 16808, 'cafeteria': 16807, 'cabo': 16805, 'c**p': 16804, 'bygone': 16802, 'butchers': 16800, 'butchering': 16799, 'bushes': 16798, 'burakov': 16794, 'bumping': 16792, 'bump': 16791, 'bukowski': 16790, 'bugged': 16788, 'bubbly': 16787, 'bubbling': 16786, 'brokedown': 16780, 'onslaught': 17804, 'broinowski': 16779, 'solidly': 18217, 'brock': 16778, 'bro': 16777, 'tombstone': 18364, 'britton': 16776, 'braun': 16768, 'brats': 16767, 'bozz': 16762, 'bottoms': 16758, 'borg': 16755, 'boo': 16754, 'bonhoeffer': 16752, 'bolts': 16751, 'bolan': 16746, 'boiled': 16744, 'boeing': 16743, 'bloopers': 16740, 'blonder': 16738, 'blissfully': 16737, 'bleep': 16734, 'blaming': 16732, 'blackmails': 16731, 'bitches': 16730, 'biograph': 16726, 'bimbos': 16724, 'consolation': 16930, 'billboard': 16722, 'gabel': 17263, 'bilko': 16721, 'bilal': 16720, 'big-budget': 16719, 'plucky': 17895, 'betrothed': 16715, 'beset': 16714, 'bernadette': 16712, 'fraternal': 17242, 'belts': 16708, 'below-average': 16707, 'bello': 16706, 'belgrade': 16705, 'behaved': 16703, 'beban': 16699, 'beam': 16698, 'bassenger': 16692, 'bangkok': 16686, 'balances': 16683, 'bad-ass': 16681, 'backstabbing': 16680, 'backside': 16679, 'awoke': 16672, 'awesomely': 16671, 'aural': 16666, 'attest': 16664, 'mjh': 17704, 'attentive': 16663, 'atmosphère': 16662, 'atkins': 16661, 'astutely': 16658, 'assessment': 16657, 'asin': 16654, 'heros': 17375, 'ascertain': 16652, 'artificially': 16650, 'arresting': 16649, 'arising': 16648, 'arden': 16644, 'archeologist': 16642, 'arcane': 16641, 'arabian': 16640, 'aquarium': 16639, 'appreciative': 16635, 'appreciating': 16634, 'antoine': 16627, 'antique': 16625, 'anticlimactic': 16624, 'antichrist': 16623, 'anorexic': 16621, 'animator': 16620, 'angered': 16617, 'anemic': 16616, 'amendment': 16609, 'amc': 16607, 'ambivalence': 16606, 'amato': 16604, 'alyn': 16603, 'wtc': 18525, 'aluminium': 16602, 'alt&#305': 16601, 'alonso': 16599, 'alluded': 16598, 'allegiance': 16594, 'albright': 16591, 'aip': 16590, 'aimee': 16588, 'agonizing': 16585, 'aftertaste': 16580, 'affords': 16577, 'catapulted': 16828, 'aesthetically': 16575, 'advertises': 16574, 'adamson': 16565, 'acoustic': 16564, 'aching': 16563, 'accountable': 16562, 'abnormal': 16558, 'principally': 17923, '=d': 16556, '90-minute': 16553, '9%': 16552, '72': 16550, '3k': 16543, '2054': 16541, '2-': 16537, '1894': 16533, '15-20': 16530, '105': 16529, '10-year-old': 16528, '1-': 16526, '£1': 16518, 'zenith': 16516, 'mother-in-law': 17726, 'yuk': 16515, 'yentl': 16512, 'yawning': 16510, 'wuthering': 16505, 'worldly': 16503, 'workaholic': 16502, 'woodland': 16501, 'woken': 16499, 'woes': 16498, 'witching': 16497, 'wiser': 16495, 'wiseguy': 16494, 'winding': 16493, 'wholeheartedly': 16490, 'whitaker': 16489, 'well-rounded': 16485, 'well-paced': 16484, 'well-intentioned': 16483, 'wed': 16481, 'watered': 16477, 'wasteful': 16475, 'warring': 16474, 'warhol': 16472, 'courting': 16954, 'wanna-be': 16471, 'vosloo': 16466, 'volunteers': 16465, 'volunteer': 16464, 'vodka': 16463, 'virginal': 16462, 'vinyl': 16461, 'thrashing': 18347, 'villians': 16459, 'vidor': 16456, 'videostore': 16455, 'vicar': 16453, 'contrivances': 16938, 'viable': 16452, 'veritable': 16451, 'vent': 16449, 'urges': 16438, 'urbane': 16437, 'upstart': 16436, 'unspeakable': 16431, 'chomsky': 16861, 'vartan': 16447, 'unsentimental': 16430, 'unrecognizable': 16428, 'unreasonable': 16427, 'unmistakable': 16425, 'unisol': 16420, 'unintelligent': 16419, 'unimportant': 16418, 'absurdities': 16560, '666': 16547, 'unicorn': 16417, 'ungodly': 16416, 'unforgiving': 16414, 'dames': 16988, 'underwhelming': 16407, 'underscore': 16404, 'underpinnings': 16403, 'underestimated': 16402, 'underbelly': 16401, 'underappreciated': 16400, 'uncovering': 16399, 'unbiased': 16398, 'twain': 16390, 'tucson': 16385, 'tub': 16384, 'triton': 16378, 'triggers': 16377, 'tremaine': 16375, 'treasures': 16373, 'transmission': 16370, 'trader': 16363, 'tour-de-force': 16361, 'tortures': 16358, 'torrent': 16355, 'tormentors': 16354, 'tore': 16353, 'solace': 18215, 'titillation': 16347, 'timone': 16346, 'terri': 16340, 'tenth': 16338, 'tentative': 16337, 'tempered': 16333, 'tediously': 16332, 'teal': 16329, 'tchaikovsky': 16328, 'tastefully': 16327, 'talia': 16323, 'tabloid': 16321, 'sxsw': 16319, 'swelling': 16317, 'swashbuckling': 16315, 'svenson': 16313, 'susie': 16312, 'survey': 16311, 'surgical': 16309, 'surge': 16308, 'suppressed': 16307, 'supplying': 16306, 'superhuman': 16304, 'izumo': 17494, 'summertime': 16302, 'summers': 16301, 'substantive': 16298, 'submitting': 16297, 'strait': 16289, 'stoners': 16288, 'stirred': 16287, 'stem': 16284, 'stamos': 16275, 'stag': 16274, 'squire': 16272, 'squares': 16270, 'spunk': 16268, 'springwood': 16267, 'spoons': 16263, 'spoon': 16262, 'delhi': 17008, 'spoofing': 16261, 'spear': 16250, 'sparkling': 16248, 'dogged': 17070, 'soulful': 16246, 'une': 16410, 'soon-to-be': 16244, 'solitary': 16241, 'snuck': 16234, 'snicker': 16231, 'smells': 16229, 'sluts': 16225, 'slum': 16222, 'riddler': 18045, 'sloth': 16218, 'slit': 16216, 'sliced': 16215, 'sleek': 16214, 'slaughterhouse': 16211, 'slashed': 16209, 'slain': 16208, 'sizable': 16204, 'siu': 16203, 'situational': 16202, 'utopia': 16442, 'sirens': 16201, 'siodmak': 16200, 'simms': 16197, 'silliest': 16196, 'siegel': 16194, 'sic': 16193, 'siam': 16192, 'shrunk': 16191, 'shrouded': 16190, '75%': 16551, 'showcased': 16189, 'shoot-out': 16187, 'shiver': 16186, 'shimizu': 16185, 'shifted': 16184, 'sheffield': 16182, 'hypocritical': 17413, 'shefali': 16181, 'shapely': 16179, 'settling': 16177, 'petite': 17867, 'set-ups': 16176, 'banner': 16688, 'serbs': 16175, 'seoul': 16174, 'sensationally': 16173, 'self-respecting': 16170, 'seated': 16164, 'showings': 18157, 'seamlessly': 16163, 'southwest': 16247, 'scuddamore': 16162, 'scout': 16160, 'scot': 16159, 'scooter': 16158, 'sevier': 18138, 'schoolgirl': 16156, 'schooler': 16155, 'santiago': 16150, 'sanitized': 16149, 'putain': 17957, 'sagemiller': 16147, 'sage': 16146, 'safari': 16145, 'rundown': 16142, 'rulers': 16139, 'ruiz': 16138, 'rube': 16135, 'rosalind': 16131, 'roped': 16130, 'starz': 16280, 'romantically': 16129, 'romans': 16128, 'robotech': 16124, 'roberta': 16123, 'risking': 16121, 'katana': 17527, 'risen': 16120, 'ripley': 16119, 'rifles': 16114, 'leaf': 17574, 'categorized': 16830, 'richness': 16112, 'richmond': 16111, 'rgv': 16109, 'revolted': 16107, 'ulrich': 16397, 'reviving': 16106, 'retiring': 16104, 'responsibilities': 16103, 'residing': 16102, 'shoveler': 18154, 'requiring': 16100, 'requirements': 16099, 'requiem': 16097, 'rené': 16090, 'reminders': 16087, 'relive': 16086, 'reflective': 16082, 'reefer': 16081, 'reduce': 16079, 'recruited': 16077, 'reccomend': 16072, 'reasoned': 16071, 'readings': 16068, 're-do': 16065, 're-create': 16064, 'ravenous': 16063, 'tights': 18354, 'rationalize': 16061, 'rationale': 16060, 'rapping': 16059, 'raping': 16058, 'rambles': 16057, 'quits': 16054, 'quickie': 16053, 'quarterback': 16051, 'qi': 16050, '94': 16555, 'pyun': 16049, 'puss': 16048, 'pupil': 16047, 'pulitzer': 16041, 'publishing': 16040, 'psychosis': 16039, 'pseudonym': 16038, 'provoked': 16037, 'schnaas': 16154, 'protestant': 16035, 'prosecution': 16034, 'projecting': 16029, 'programmes': 16026, 'probation': 16023, 'prizes': 16022, 'prissy': 16020, 'priority': 16019, 'fireman': 17205, 'predatory': 16012, 'predators': 16011, 'connoisseur': 16928, 'preached': 16010, 'prashant': 16008, 'prague': 16007, 'powder': 16006, 'postwar': 16002, 'poltergeist': 15996, 'plush': 15994, 'plimpton': 15991, 'pleas': 15990, 'plea': 15989, 'pitcher': 15988, 'pip': 15987, 'pinned': 15986, 'stein': 16283, 'pine': 15985, 'pin-up': 15984, 'piling': 15983, 'pies': 15982, 'pier': 15981, 'photographic': 15977, 'petiot': 15974, 'persian': 15970, 'persecution': 15969, 'penitentiary': 15963, 'patten': 15959, 'patrol': 15958, 'madge': 17636, 'it-': 17492, 'patriot': 15957, 'paternal': 15956, 'panzram': 15951, 'paltry': 15948, 'reptile': 16094, 'palpable': 15947, 'dix': 17065, 'painstakingly': 15945, 'packaged': 15943, 'oxford': 15942, 'off-broadway': 17791, 'overhead': 15940, 'overdose': 15939, 'outweigh': 15937, 'corrine': 16947, 'osbourne': 15930, 'orphaned': 15928, 'optimus': 15920, 'operative': 15919, 'oop': 15917, 'embraced': 17125, 'olympics': 15915, 'ole': 15914, 'observes': 15911, 'nurses': 15907, 'nr': 15906, 'non-sense': 15905, '57': 16546, 'nominees': 15903, 'nominee': 15902, 'noam': 15900, 'niki': 15899, 'nicky': 15895, 'newton': 15893, 'new-age': 15891, 'netherlands': 15889, 'nero': 15888, 'neighboring': 15887, 'neighborhoods': 15886, 'neha': 15885, 'negro': 15884, 'nearing': 15881, 'nana': 15879, 'naming': 15878, 'nair': 15877, 'snowball': 18208, 'mutilation': 15876, 'transylvanian': 18386, 'irascible': 17484, 'mutilated': 15875, 'mussolini': 15874, 'murdoch': 15873, 'munsters': 15872, 'mulroney': 15870, 'mullets': 15869, 'muddle': 15867, 'moynahan': 15866, 'mortgage': 15862, 'morphin': 15861, 'mores': 15860, 'moonlighting': 15856, 'montford': 15855, 'momma': 15852, 'moll': 15851, 'mnm': 15849, 'mj': 15848, 'missy': 15845, 'mishap': 15843, 'mish-mash': 15842, 'miscarriage': 15841, 'milligan': 15839, 'midwest': 15836, 'midlife': 15835, 'microfilm': 15834, 'metaphorical': 15832, 'metamorphosis': 15831, 'merciless': 15830, 'memorized': 15828, 'megs': 15823, 'mcelhone': 15816, 'mazursky': 15814, 'mawkish': 15812, 'matinee': 15811, 'materials': 15810, 'maryland': 15808, 'manny': 15802, 'manfred': 15801, 'mala': 15800, 'macaulay': 15794, 'low-brow': 15786, 'shear': 18145, 'rumours': 16141, 'loopholes': 15783, 'loan': 15777, 'litany': 15774, 'barres': 16690, 'organic': 15925, 'listings': 15773, 'linden': 15771, 'limelight': 15770, 'likability': 15767, 'lighted': 15766, 'leroy': 15760, 'legions': 15756, 'lecter': 15754, 'leatherface': 15753, 'lawson': 15752, 'larson': 15751, 'larraz': 15750, 'lancaster': 15746, 'fc': 17187, 'lamp': 15745, 'lago': 15743, 'kristen': 15742, 'b-rated': 16675, 'kristel': 15741, 'konkana': 15738, 'koko': 15737, 'koch': 15736, 'knit': 15735, 'klaang': 15733, 'powerless': 17908, 'kiki': 15731, 'kellerman': 15728, 'rappers': 17976, 'kazaam': 15727, 'kattan': 15725, 'jumbo': 15718, 'jorge': 15714, 'johanson': 15712, 'jeanie': 15706, 'jailed': 15702, 'jacqueline': 15701, 'ishtar': 15699, 'irritatingly': 15697, 'irani': 15693, 'inventing': 15690, 'intestines': 15686, 'interrogation': 15684, 'interracial': 15683, 'interpersonal': 15682, 'hooded': 17397, 'internationally': 15681, 'intents': 15679, 'intellectuals': 15678, 'instruction': 15676, 'insignificance': 15674, 'inoffensive': 15672, 'inhumanity': 15668, 'inhuman': 15667, 'infomercial': 15664, 'inflict': 15663, 'individuality': 15658, 'indicator': 15657, 'incriminating': 15656, 'increases': 15655, 'unorthodox': 18437, 'inconvenient': 15653, 'inbred': 15650, 'inaudible': 15649, 'inaccuracy': 15648, 'impotent': 15645, 'import': 15644, 'implanted': 15643, 'impenetrable': 15641, 'imminent': 15639, 'ilona': 15637, 'shinji': 18150, 'idiotically': 15634, 'idaho': 15632, 'ick': 15631, 'kallio': 15723, 'hypocrite': 15629, 'hunts': 15626, 'humanism': 15623, 'howell': 15620, 'hotels': 15619, 'horstachio': 15618, 'hodge-podge': 15612, 'edna': 17112, 'hoax': 15611, 'highlighting': 15608, 'henstridge': 15605, 'hendrix': 15604, 'heartbreak': 15601, 'headmistress': 15600, 'headlines': 15599, 'he`s': 15598, 'hatch': 15596, 'has-been': 15594, 'hard-edged': 15591, 'harbors': 15590, 'happenstance': 15588, 'hams': 15586, 'halloran': 15582, 'halle': 15581, 'hairspray': 15578, 'hairs': 15577, 'hacker': 15575, 'gypsies': 15574, 'gutsy': 15572, 'gushing': 15571, 'gunslinger': 15570, 'gunner': 15569, 'canine': 16816, 'gunman': 15568, 'guides': 15567, 'guetary': 15566, 'groans': 15563, 'groaning': 15562, 'grit': 15561, 'greenstreet': 15555, 'granny': 15553, 'grades': 15552, 'gouge': 15548, 'mountbatten': 17730, 'gossett': 15547, 'patterned': 17851, 'goof': 15545, 'gonzo': 15544, 'goldeneye': 15543, 'godmother': 15540, 'glows': 15537, 'gruesomely': 15565, 'gingold': 15533, 'ghettos': 15531, 'geer': 15528, 'gasping': 15526, 'gainsbourg': 15521, 'gades': 15520, 'gabby': 15519, 'ode': 15912, 'fusion': 15518, 'ashura': 16653, 'frothy': 15516, 'frontiers': 15515, 'freakin': 15511, 'fraser': 15510, 'forsaken': 15502, 'gentileschi': 15530, 'forman': 15501, 'forgiving': 15499, 'forerunner': 15498, 'foreigner': 15497, 'foreground': 15496, 'fore': 15494, 'floats': 15491, 'flippen': 15490, 'fletcher': 15487, 'firth': 15485, 'corrected': 16946, 'figuratively': 15483, 'fidel': 15480, 'feminism': 15476, 'felon': 15475, 'feds': 15473, 'fecal': 15471, 'feathers': 15469, 'favors': 15468, 'fatalistic': 15466, 'farther': 15465, 'fairy-tale': 15461, 'fab': 15460, 'extinction': 15457, 'baldrick': 16684, 'extermination': 15456, 'explorers': 15452, 'exploitive': 15451, 'experimenting': 15450, 'exiting': 15449, 'exhibited': 15448, 'exclamation': 15443, 'ex-husband': 15442, 'evocative': 15441, 'evicted': 15440, 'everytown': 15439, 'everyman': 15438, 'evaluation': 15437, 'estimation': 15435, 'escapees': 15434, 'escapades': 15433, 'erroneous': 15431, 'envelope': 15429, 'enos': 15427, 'eminent': 15418, 'emilio': 15417, 'ellis': 15414, 'elitist': 15413, 'eliminating': 15412, 'elam': 15409, 'egotistical': 15407, 'egos': 15406, 'eggert': 15404, 'efficiency': 15403, 'ecstatic': 15400, 'eclectic': 15399, 'earthly': 15397, 'improves': 17430, 'dune': 15395, 'ds9': 15394, 'drummond': 15393, 'dross': 15390, 'potty': 16005, 'drones': 15389, 'drilling': 15388, 'drill': 15387, 'dreyfus': 15386, 'drenched': 15385, 'dreamgirls': 15384, 'berryman': 16713, 'dove': 15382, 'doubled': 15380, 'dots': 15379, 'mating': 17663, 'dorn': 15376, 'doren': 15374, 'donnison': 15371, 'donnie': 15370, 'doesn`t': 15367, 'docile': 15365, 'django': 15364, 'homophobia': 17394, 'divorcee': 15363, 'ditzy': 15361, 'distressing': 15359, 'liaison': 17586, 'distracts': 15358, 'disposed': 15355, 'dispense': 15354, 'disparate': 15353, 'disorganized': 15352, 'discerning': 15349, 'disappointingly': 15348, 'dinocroc': 15346, 'diminishes': 15343, 'diminish': 15342, 'dilemmas': 15340, 'didn´t': 15338, 'detractors': 15336, 'despotic': 15334, 'depart': 15332, 'potboiler': 16003, 'den': 15329, 'demonstration': 15327, 'dementia': 15326, 'delicately': 15324, 'degrade': 15322, 'defied': 15320, 'defended': 15318, 'decors': 15316, 'declining': 15315, 'declines': 15314, 'debates': 15313, 'davy': 15309, 'daniela': 15304, 'd-wars': 15302, 'cussing': 15299, 'cushion': 15297, 'curses': 15296, 'csi': 15294, 'crushes': 15293, 'crudely': 15292, 'cross-dressing': 15288, 'critter': 15285, 'creepier': 15281, 'cramer': 15277, 'coz': 15275, 'cornered': 15273, 'cookies': 15269, 'convenience': 15268, 'contemplating': 15265, 'consumer': 15264, 'consulted': 15263, 'consent': 15261, 'conor': 15260, 'conducting': 15258, 'condemning': 15256, 'concealed': 15253, 'comprises': 15251, 'components': 15250, 'competitors': 15249, 'competes': 15248, 'commie': 15242, 'commercially': 15241, 'commend': 15240, 'combustion': 15237, 'collision': 15233, 'collinwood': 15232, 'colleen': 15231, 'collections': 15230, 'collaborated': 15227, 'cocktails': 15225, 'clutches': 15223, 'cliver': 15222, 'clausen': 15220, 'claudia': 15218, 'faulty': 15467, 'cj': 15217, 'churning': 15215, 'chronological': 15213, 'chronicle': 15212, 'choked': 15209, 'cherished': 15205, 'checkout': 15203, 'chariot': 15200, 'chandon': 15198, 'snails': 18202, 'processed': 17926, 'centerpiece': 15195, 'celebi': 15192, 'cautionary': 15191, 'catscratch': 15190, 'castorini': 15188, 'carver': 15184, 'cartoonist': 15183, 'carrot': 15182, 'candice': 15176, 'candace': 15175, 'canadians': 15174, 'camille': 15173, 'cambell': 15171, 'self-indulgence': 16168, 'caller': 15170, 'cafe': 15168, 'cabinet': 15167, 'ca': 15166, 'busting': 15162, 'bumper': 15161, 'bulging': 15159, 'brotherly': 15155, 'bromwell': 15154, 'brody': 15153, 'broadcasts': 15152, 'brigante': 15149, 'breakup': 15146, 'bram': 15143, 'bra': 15141, 'bothersome': 15137, 'boobies': 15135, 'blur': 15129, 'palpatine': 17835, 'carving': 16826, 'blouse': 15127, 'blokes': 15125, 'assertive': 16656, 'blethyn': 15124, 'blackboard': 15119, 'bikes': 15115, 'aficionados': 16579, 'benton': 15110, 'benicio': 15109, 'behind-the-scenes': 15107, 'beefcake': 15105, 'beaton': 15102, 'beams': 15101, 'batty': 15098, 'bathed': 15097, 'concluding': 15255, 'basing': 15096, 'barrier': 15094, 'bangs': 15088, 'balcony': 15083, 'balanchine': 15081, 'baked': 15080, 'bajpai': 15079, 'baggage': 15078, 'badge': 15077, 'drought': 15391, 'bad-guy': 15076, 'babbling': 15072, 'babbage': 15071, 'lookalike': 17604, 'revere': 16105, 'awkwardness': 15069, 'avant-garde': 15066, 'automobile': 15065, 'austere': 15064, 'audible': 15062, 'crammed': 16959, 'audacity': 15061, 'aubrey': 15060, 'atop': 15059, 'atkinson': 15058, 'assignments': 15054, 'assaults': 15053, 'askew': 15051, 'arkansas': 15047, 'anxiously': 15039, 'distractions': 17060, 'anti-american': 15037, 'angers': 15031, 'andré': 15028, 'anand': 15026, 'nz': 17780, 'amicus': 15025, 'americanized': 15024, 'aloof': 15022, 'allende': 15020, 'alienated': 15016, 'alfonso': 15015, 'alda': 15014, 'akira': 15013, 'airplanes': 15012, 'airhead': 15011, 'ailing': 15010, 'one-time': 15916, 'ageing': 15008, 'wednesday': 16482, 'affiliated': 15006, 'rattlesnake': 17979, 'advantages': 15002, 'mellow': 15826, 'addictions': 14997, 'acutely': 14996, 'actioner': 14994, 'kanin': 17521, 'aggie': 16582, 'acquitted': 14992, 'humourless': 15624, 'achingly': 14990, 'abyss': 14988, 'absorb': 14986, 'abbey': 14984, 'garofalo': 15525, 'flicker': 15489, 'abandonment': 14983, 'aaa': 14980, '91': 14977, '74': 14973, '67': 14971, '52': 14969, '34': 14967, '25th': 14965, '20-year-old': 14963, '1961': 14962, '1912': 14960, '16th': 14959, '12-year-old': 14957, '1/3': 14956, '$9': 14953, 'à': 14951, '\\x97': 14950, 'zp': 14947, 'zenia': 14946, 'unengaging': 18422, 'zach': 14943, '\\x8ei\\x9eek': 14949, 'yr': 14942, 'yossi': 14941, 'yer': 14939, 'wuss': 14935, 'wrecks': 14933, 'troubling': 18392, 'working-class': 14930, 'woodhouse': 14929, 'womanizer': 14928, 'withdrawn': 14926, 'wiping': 14924, 'winona': 14923, 'wimp': 14921, 'whimsy': 14915, 'whiff': 14914, 'whatnot': 14913, 'whacked': 14912, 'well-to-do': 14910, 'welcomes': 14909, 'watchers': 14903, 'overpopulation': 17830, 'warbling': 14900, 'wan': 14898, 'wallow': 14897, 'volckman': 14894, 'saucy': 18089, 'viennese': 14892, 'viciously': 14889, 'variable': 14884, 'up-to-date': 14877, 'unwelcome': 14875, 'unsuitable': 14874, 'unstoppable': 14872, 'uninitiated': 14867, 'unfocused': 14864, 'undeservedly': 14863, 'underway': 14862, 'uncontrollable': 14857, 'unconditional': 14856, 'umm': 14851, 'typecast': 14849, 'tyne': 14848, 'twenty-somethings': 14845, 'tucci': 14843, 'troll': 14839, 'trevor': 14837, 'treason': 14836, 'walrus': 16469, 'tracked': 14833, 'tollinger': 14830, 'todesking': 14829, 'toast': 14828, 'tiff': 14827, 'theology': 14823, 'that´s': 14822, 'testimony': 14819, 'judgmental': 17517, 'terrifically': 14817, 'peralta': 15966, 'tepper': 14816, 'barjatya': 16689, 'axed': 16673, 'tempting': 14814, 'teased': 14811, 'fanciful': 15464, 'backlash': 15075, 'teaming': 14810, 'tammy': 14808, 'tamerlane': 14806, 'taj': 14803, 'tadanobu': 14800, 'ta': 14799, 'symphony': 14797, 'sympathies': 14796, 'oklar': 17797, 'sydow': 14795, 'syberberg': 14794, 'sweater': 14792, 'prancing': 17910, 'swagger': 14789, 'sustained': 14788, 'suspiciously': 14787, 'snitch': 18205, 'superstars': 14784, 'repetition': 18015, 'bc': 15100, 'superpowers': 14783, 'summarize': 14781, 'suggestive': 14778, 'suckers': 14777, 'stupendous': 14774, 'stubborn': 14773, 'strife': 14771, 'stoner': 14767, 'batista': 16694, 'stint': 14766, 'sting': 14765, 'barkin': 15090, 'stifling': 14764, 'sticky': 14763, 'stewardesses': 14762, 'steep': 14760, 'advani': 15001, 'stacey': 14755, 'stagey': 18237, 'squalor': 14753, 'spliced': 14750, 'specializes': 14745, 'specialized': 14744, 'spared': 14742, 'spanning': 14741, 'fork': 15500, 'spall': 14740, 'sorrows': 14739, 'soda': 14736, 'snobbish': 14735, 'snippet': 14734, 'snatchers': 14730, 'smut': 14728, 'smirk': 14727, 'slumber': 14724, 'slovenian': 14723, 'slack': 14719, 'ski': 14716, 'skepticism': 14715, 'siskel': 14714, 'converse': 16939, 'singh': 14712, 'signified': 14709, 'sica': 14707, 'showgirls': 14704, 'shot-on-video': 14703, 'shitty': 14699, 'shintaro': 14698, 'shearer': 14695, 'serrault': 14692, 'serenity': 14691, 'send-up': 14689, 'seller': 14686, 'seann': 14683, 'seamless': 14682, 'screws': 14678, 'schoolboy': 14672, 'schlesinger': 14671, 'schaech': 14670, 'scant': 14669, 'scales': 14667, 'triads': 18388, 'sax': 14665, 'sawyer': 14664, 'savages': 14663, 'satires': 14662, 'sample': 14661, 'sadder': 14657, 'wandered': 14899, 'sabu': 14656, 's-good': 14654, 'explorer': 17171, 's***': 14653, 'ryder': 14652, 'royale': 14644, 'rowan': 14643, 'contemplation': 16935, 'rotj': 14642, 'ropes': 14640, 'roofs': 14639, 'roddenberry': 14637, 'trashing': 16372, 'risky': 14635, 'interruptions': 17475, 'henner': 17372, 'grinning': 15558, 'ridge': 14631, 'ricans': 14629, 'rhys': 14628, 'rewrites': 14627, 'revisit': 14626, 'reversal': 14625, 'reubens': 14623, 'retriever': 14622, 'resounding': 14620, 'resorting': 14619, 'republicans': 14616, 'reply': 14613, 'orthodox': 17811, 'kibbee': 15729, 'replaying': 14612, 'renegade': 14609, 'relegated': 14607, 'truer': 14840, 'rekindle': 14606, 'regiment': 14603, 'regent': 14602, 'refusing': 14601, 'refusal': 14600, 'well-cast': 18496, 'purports': 17956, 'referenced': 14598, 'recreates': 14596, 'recovers': 14595, 'recommendations': 14593, 'spoorloos': 16264, 'astoundingly': 15056, 'uncensored': 14855, 'recommendable': 14592, 'recomend': 14591, 'rapport': 14586, 'rapists': 14585, 'rapes': 14584, 'rao': 14583, 'rally': 14582, 'radios': 14581, 'rad': 14580, 'rabbits': 14579, 'quartier': 14575, 'soap-opera': 16235, 'puzzles': 14574, 'putnam': 14573, 'purity': 14571, 'promotional': 14566, 'prolonged': 14564, 'prevails': 14563, 'pressburger': 14560, 'presenter': 14559, 'prejudiced': 14558, 'preity': 14557, 'applying': 15043, 'pratt': 14554, 'pratfalls': 14553, 'pounding': 14552, 'potts': 14551, 'porsche': 14549, 'removes': 16088, 'populate': 14548, 'poo': 14547, 'poland': 14545, 'pointe': 14542, 'plasma': 14534, 'pintilie': 14532, 'piles': 14530, 'piggy': 14529, 'picard': 14528, 'pi': 14527, 'photographers': 14526, 'phoning': 14525, 'punchlines': 14569, 'pheri': 14524, 'persuasive': 14522, 'personas': 14521, 'perez': 14518, 'penguins': 14517, 'stepin': 18250, 'penetrating': 14516, 'peer': 14515, 'peepers': 14514, 'payroll': 14513, 'passages': 14505, 'paralyzed': 14501, 'palms': 14500, 'ozzy': 14497, 'overcomes': 14496, 'overacted': 14495, 'outlaws': 14493, 'holloway': 15613, 'osama': 14490, 'orgies': 14488, 'oppression': 14484, 'oops': 14482, 'sneers': 18203, 'onset': 14480, 'olan': 14474, 'off-putting': 14471, 'catharsis': 16833, 'occupy': 14469, 'nymphomaniac': 14465, 'watts': 16478, 'nunsploitation': 14464, 'nunez': 14463, 'nothingness': 14461, 'norway': 14460, 'sneering': 14732, 'normalcy': 14459, 'nonstop': 14457, 'splicing': 16257, 'nomadic': 14456, 'nodding': 14455, 'nighy': 14453, 'niel': 14452, 'neighbourhood': 14449, 'neff': 14448, 'pledge': 17893, 'necklace': 14446, 'natures': 14444, 'nastassja': 14442, 'nanny': 14438, 'nandini': 14437, 'nameless': 14436, 'naivety': 14435, 'musically': 14433, 'multiply': 14430, 'mulholland': 14428, 'mugging': 14427, 'movie-': 14425, 'motivate': 14424, 'montgomery': 14420, 'missouri': 14416, 'missionary': 14415, 'pressing': 14561, 'mishmash': 14413, 'militant': 14410, 'milestone': 14409, 'replete': 18017, 'mikels': 14408, 'metaphysical': 14404, 'menstruation': 14402, 'melodramas': 14400, 'melodies': 14399, 'mcshane': 14397, 'undertone': 18416, 'mchugh': 14395, 'mccormick': 14394, 'mazes': 14392, 'matlin': 14388, 'repetitious': 18016, 'masterwork': 14386, 'massachusetts': 14384, 'marxist': 14381, 'marsh': 14380, 'ely': 15416, 'mard': 14375, 'marches': 14374, 'manual': 14373, 'antarctica': 15036, 'manly': 14372, 'mammy': 14369, 'majesty': 14368, 'macha': 14363, 'lyon': 14362, 'lutz': 14361, 'riker': 16117, 'lungs': 14360, 'luminous': 14359, 'lukewarm': 14357, 'luana': 14356, 'low-grade': 14355, 'shells': 14696, 'lovell': 14354, 'love-story': 14353, 'flourish': 15493, 'lottery': 14351, 'mop': 17719, 'loosing': 14350, 'long-winded': 14348, 'loc': 14344, 'balduin': 15084, 'loathsome': 14343, 'limbo': 14339, 'likelihood': 14338, 'cena': 16836, 'liberating': 14336, 'parenting': 14502, 'liang': 14335, 'levine': 14334, 'bottom-of-the-barrel': 16757, 'lesbianism': 14332, 'leisurely': 14329, '7th': 14974, 'leaps': 14327, 'lapses': 14325, 'landmarks': 14324, 'laboured': 14318, 'krishna': 14317, 'koyaanisqatsi': 14316, 'kowalski': 14315, 'kol': 14314, 'kober': 14313, 'knock-off': 14310, 'kleenex': 14308, 'kari': 14301, 'kangwon': 14299, 'kahn': 14298, 'jean-claude': 14291, 'janice': 14290, 'shutting': 18164, 'offing': 17794, 'jab': 14288, 'stew': 18253, 'isabel': 14286, 'irritate': 14285, 'irreversible': 14284, 'inventor': 14280, 'intrigues': 14278, 'intoxicated': 14277, 'interpret': 14275, 'interlude': 14274, 'intercourse': 14272, 'intensive': 14271, 'integral': 14270, 'insufferable': 14269, 'institute': 14268, 'inimitable': 14266, 'infuriating': 14265, 'infested': 14264, 'infatuated': 14262, 'ineptly': 14259, '20-30': 16539, 'induced': 14257, 'indonesian': 14256, 'indistinguishable': 14255, 'indigenous': 14254, 'indicated': 14252, 'improvements': 14249, 'imitations': 14243, 'imagining': 14242, 'ill-advised': 14240, 'idealized': 14239, 'hysterics': 14236, 'loggia': 15779, 'hurricane': 14234, 'hurl': 14233, 'captains': 15180, 'humming': 14230, 'hospitals': 14226, 'hose': 14225, 'homeland': 14220, 'hinges': 14219, 'hilt': 14217, 'henson': 14210, 'hemingway': 14209, 'heh': 14208, 'heated': 14207, 'headline': 14205, 'hastily': 14199, 'harrelson': 14196, 'har': 14192, 'hannibal': 14190, 'hangover': 14189, 'half-breed': 14184, 'gymnast': 14183, 'grunts': 14179, 'grosse': 14178, 'griffiths': 14177, 'greenlight': 14174, 'greece': 14172, 'grasped': 14168, 'possessive': 16000, 'gras': 14167, 'grants': 14165, 'goon': 14160, 'gong': 14159, 'gloves': 14158, 'glorify': 14156, 'glorifies': 14155, 'girotti': 14151, 'gilmore': 14150, 'georgian': 14147, 'genova': 14145, 'gator': 14140, 'nursing': 17778, 'garvin': 14139, 'gardenia': 14137, 'gardener': 14136, 'garam': 14135, 'brigadoon': 15148, 'gannon': 14134, 'fuqua': 14132, 'fundamentally': 14130, 'frequency': 14127, 'kyoto': 17554, 'frantically': 14126, 'frankenheimer': 14125, 'francois': 14124, 'crossover': 16969, 'passport': 15955, 'founding': 14122, 'forests': 14121, 'foresee': 14120, 'forehead': 14118, 'hussey': 17410, 'fondly': 14116, 'fold': 14114, 'darkened': 15305, 'flown': 14113, 'flowed': 14112, 'flounder': 14111, 'flic': 14109, 'flashdance': 14107, 'flaherty': 14106, 'fireworks': 14105, 'fiance': 14102, 'festering': 14101, 'yadav': 16507, 'ferris': 14100, 'featurette': 14099, 'fast-moving': 14097, 'fast-forwarding': 14096, 'gospel': 14162, 'famine': 14093, 'fallout': 14092, 'falco': 14090, 'facade': 14085, 'f***': 14084, 'exile': 14076, 'exec': 14075, 'excrement': 14074, 'euro': 17156, 'excite': 14073, 'strindberg': 18269, 'credulity': 15279, 'excerpts': 14072, 'exaggerate': 14070, 'warlord': 14902, 'evenings': 14068, 'entourage': 14060, 'ennio': 14058, 'enlist': 14057, 'emraan': 14055, 'wilcox': 14918, 'eminently': 14053, 'emergence': 14052, 'embezzler': 14050, 'ellie': 14048, 'electrocuted': 14047, 'electrical': 14046, 'effeminate': 14045, 'saddled': 14658, 'easiest': 14042, 'dynasty': 14041, 'dvr': 14038, 'maia': 17639, 'durbin': 14037, 'durante': 14036, 'duped': 14035, 'ducktales': 14034, 'dublin': 14032, 'darlings': 15306, 'drifts': 14029, 'donner': 14022, 'diva': 14015, 'disrespect': 14013, 'blue-collar': 15128, 'disorders': 14011, 'disillusioned': 14008, 'discredit': 14007, 'fps': 17234, 'discourse': 14006, 'discomfort': 14005, 'disclaimer': 14003, 'descriptive': 13997, 'descriptions': 13996, 'deposit': 13992, 'delusional': 13989, 'delinquent': 13988, 'degraded': 13986, 'defying': 13985, 'sworn': 14793, 'defeats': 13984, 'defeating': 13983, 'plains': 14533, 'declined': 13981, 'declaration': 13980, 'love/hate': 15785, 'debts': 13976, 'cuteness': 13966, 'customer': 13965, 'crossbow': 13960, 'cricket': 13958, 'dabney': 13969, 'creeped': 13955, 'crater': 13953, '150': 16531, 'crashers': 13952, 'crane': 13951, 'craftsmanship': 13949, 'coy': 13946, 'cowgirls': 13945, 'coven': 13944, 'courier': 13943, 'counterpoint': 13942, 'coroner': 13940, 'patric': 14509, 'cornball': 13939, 'inmate': 15670, 'coonskin': 13938, 'contradict': 13935, 'continual': 13934, 'conroy': 13930, 'condemnation': 13923, 'concise': 13921, 'complicate': 13919, 'compellingly': 13916, 'companionship': 13915, 'commissioner': 13914, 'colorless': 13913, 'colleges': 13910, 'cohorts': 13907, 'codes': 13905, 'cloak': 13903, 'climber': 13902, 'cleopatra': 13898, 'civic': 13893, 'cigarettes': 13892, 'chubby': 13889, 'chopra': 13887, 'tidy': 18351, 'chatting': 13879, 'charitable': 13876, 'chanting': 13874, 'wraps': 14932, 'chant': 13873, 'champions': 13872, 'champagne': 13871, 'phenomena': 15975, 'certificate': 13869, 'ceremonies': 13868, 'catalogue': 13867, 'cashier': 13866, 'carriage': 13864, 'captivate': 13861, 'sponge': 18229, 'camaraderie': 13858, 'calhoun': 13857, 'cabaret': 13856, 'c-': 13855, 'businessmen': 13852, 'burtynsky': 13851, 'burr': 13850, 'differentiate': 15339, 'shelton': 14697, 'burger': 13849, 'bullied': 13848, 'build-up': 13847, 'browsing': 13842, 'brokeback': 13841, 'breath-taking': 13836, 'bradley': 13835, 'boyd': 13834, 'bottles': 13833, 'borowczyk': 13831, 'borne': 13830, 'borgnine': 13829, 'bores': 13828, 'booty': 13826, 'bombastic': 13824, 'fuse': 17258, 'bogged': 13823, 'blurry': 13821, 'blocked': 13819, 'blasting': 13818, 'bilge': 13814, 'big-name': 13812, 'besotted': 13809, 'benefited': 13806, 'benedict': 13805, 'bender': 13804, 'benchmark': 13803, 'belafonte': 13800, 'bassett': 13795, 'bashki': 13794, 'bankrupt': 13790, 'baffled': 13787, 'jargon': 15705, 'babysitting': 13784, 'babs': 13783, 'b-': 13781, 'aviation': 13777, 'ava': 13775, 'autopsy': 13774, 'bench': 13802, 'australians': 13772, 'attends': 13770, 'atari': 13767, 'asserts': 13766, 'architecture': 13762, 'aoki': 13759, 'announces': 13756, 'ankle': 13754, 'amuses': 13752, 'amateurishly': 13750, 'allergic': 13746, 'allah': 13745, 'ink': 17452, 'alienating': 13743, 'alfre': 13742, 'akshaye': 13738, 'woodard': 16500, 'aishwarya': 13737, 'african-americans': 13733, 'afi': 13732, 'adversity': 13729, 'adopts': 13728, 'admitting': 13726, 'accuse': 13720, 'accomplice': 13719, 'accidents': 13718, 'absurdly': 13717, 'aborigines': 13716, 'apparatus': 15041, 'abetted': 13714, 'imposed': 14247, '_': 13713, '90210': 13712, '77': 13711, '63': 13708, '56': 13707, '49': 13706, '47': 13705, 'tudor': 16386, 'existential': 14077, '39': 13704, 'karisma': 17525, '30th': 13703, 'gaze': 14143, '29': 13702, 'semester': 14688, '1935': 13701, '-10': 13698, 'varies': 16446, '$6': 13696, 'e-mail': 17105, 'zucker': 13694, 'zanuck': 13691, 'zack': 13690, 'yuzna': 13688, 'yul': 13687, 'youths': 13686, 'yorkers': 13685, 'yonica': 13684, 'ye': 13682, 'yaphet': 13681, 'ww': 13680, 'wrought': 13679, 'wreak': 13678, 'wondrous': 13677, 'wobbly': 13676, 'synthesizer': 18309, 'wisecracks': 13675, 'winfrey': 13672, 'whodunnit': 13671, 'whodunit': 13670, 'whistling': 13669, 'whim': 13668, 'hijinks': 17380, 'whereabouts': 13667, 'weigh': 13666, 'weep': 13665, 'weddings': 13663, 'wayward': 13661, 'bathhouse': 13797, 'warp': 13659, 'warnings': 13658, 'warlock': 13657, 'illustrious': 15636, 'wackiness': 13651, 'vomiting': 13648, 'vignette': 13645, 'viewpoints': 13644, 'vietnamese': 13643, 'verse': 13642, 'ventura': 13639, 'validity': 13637, 'vacuum': 13636, 'utah': 13635, 'pasdar': 14504, 'unscathed': 13633, 'unravels': 13632, 'pessimistic': 15972, 'unlimited': 13630, 'unfathomable': 13628, 'uneventful': 13627, 'unedited': 13624, 'languid': 17566, 'undergo': 13623, 'under-rated': 13622, '#': 16519, 'uncommon': 13621, 'una': 13619, 'tyrannus': 13617, 'two-hour': 13615, 'trotta': 13613, 'trojan': 13611, 'pee': 15962, 'tripping': 13609, 'trim': 13608, 'tsai': 16383, 'tribes': 13606, 'treatments': 13604, 'trait': 13599, 'torturous': 13595, 'conversion': 13937, 'tivo': 13590, 'munster': 15871, 'thy': 13586, 'threesome': 13585, 'thirdly': 13583, 'theresa': 13581, 'thee': 13579, 'tens': 13575, 'swirling': 18303, 'batteries': 16697, 'temperature': 13573, 'technological': 13571, 'taxes': 13569, 'upheaval': 16434, 'tattoo': 13568, 'tangled': 13567, 'up-and-coming': 18450, 'twisting': 14846, 'tamer': 13566, 'tam': 13565, 'tack': 13563, 'swordsman': 13562, 'swayed': 13560, 'supporters': 13558, 'sunglasses': 13557, 'suburb': 13555, 'stripped': 13551, 'strains': 13550, 'heidi': 17369, 'stormare': 13548, 'dawns': 15310, 'statham': 13546, 'stapleton': 13543, 'gojira': 17298, 'stamp': 13541, 'spur': 13537, 'spouts': 13534, 'playground': 14536, 'sphinx': 13529, 'spewing': 13528, 'specials': 13525, 'sniff': 18204, 'spears': 13524, 'spans': 13522, 'spader': 13520, 'spaces': 13519, 'sonja': 13518, 'someplace': 13516, 'soil': 13515, 'soaked': 13512, 'so-bad-it': 13511, 'multi-million': 17734, 'sneaks': 13510, 'skinner': 13503, 'barking': 13792, 'skillfully': 13502, 'skelton': 13500, 'skagway': 13499, 'single-handedly': 13496, 'shue': 13493, 'shortage': 13490, 'shogun': 13489, 'sheep': 13486, 'shattering': 13485, 'sharpe': 13484, 'adulteress': 16571, 'shamefully': 13483, 'setups': 13480, 'hyper': 14235, 'serene': 13478, 'aykroyd': 15070, 'serbia': 13477, 'sensuality': 13476, 'hiltz': 17381, 'self-righteous': 13475, 'self-esteem': 13473, 'quotient': 14577, 'self-aware': 13471, 'second-tier': 13470, 'realising': 16069, 'scorned': 13466, 'scars': 13463, 'scarce': 13462, 'savagely': 13461, 'saura': 13460, 'salva': 13457, 'saber': 13453, 's&m': 13451, 'rubbing': 13449, 'roz': 13448, 'publication': 14568, 'rotoscoped': 13447, 'storyboard': 13549, 'rosalba': 13446, 'romy': 13445, 'roeper': 13444, 'robe': 13441, 'teaser': 16330, 'rio': 13440, 'ringwald': 13439, 'reworked': 13430, 'revel': 13426, 'retribution': 13425, 'residence': 13421, 'balancing': 15082, 'regal': 13414, 'reef': 13411, 'rednecks': 13410, 'clementine': 16877, 'redhead': 13409, 'redgrave': 13408, 'reda': 13406, 'recycling': 13405, 'recognizes': 13403, 'undue': 18420, 'balkan': 13789, 'recite': 13402, 'recapture': 13401, 'rajpal': 13395, 'rag': 13393, 'rafael': 13392, 'raf': 13391, 'ss': 16273, 'radiant': 13390, 'mechanism': 15821, 'questioned': 13388, 'pudding': 13384, 'psychopathic': 13383, 'provincial': 13382, 'prosecutor': 13381, 'buses': 16797, 'proposed': 13380, 'proposal': 13379, 'prompted': 13378, 'secretive': 14684, 'priyadarshan': 13375, 'presumed': 13374, 'vampyres': 16444, 'presque': 13373, 'premature': 13371, 'sedate': 18117, 'predicament': 13368, 'precision': 13367, 'investigated': 15692, 'dismayed': 14010, 'practiced': 13364, 'pr': 13363, 'potion': 13362, 'portraits': 13361, 'port': 13360, 'pluto': 13355, 'plumbing': 13353, 'plot-wise': 13352, 'plentiful': 13351, 'hopalong': 17398, 'moralistic': 15858, 'plainly': 13350, 'snatched': 14729, 'plagues': 13349, 'pitfalls': 13348, 'pipe': 13347, 'massively': 15809, 'picker': 13343, 'pick-up': 13342, 'affirmed': 16576, 'persuasion': 13341, 'perpetrators': 13338, 'permit': 13337, 'perky': 13336, 'pereira': 13334, 'perceptions': 13333, 'lian-chu': 17587, 'pathological': 13328, 'participating': 13327, 'pappy': 13323, 'aloud': 13748, 'palatable': 13320, 'preface': 17914, 'oxygen': 13317, 'owing': 13316, 'overkill': 13314, 'finer': 14104, 'over-hyped': 13312, 'environmentalist': 17140, 'outlet': 13310, 'graders': 15551, 'brigade': 15147, 'offends': 13303, 'notting': 13297, 'gables': 17264, 'non-professional': 13293, 'noire': 13291, 'noel': 13290, 'nobel': 13289, 'nikhil': 13286, 'nicer': 13284, 'nevermind': 13283, 'never-ending': 13282, 'neri': 13281, 'nepotism': 13280, 'neo-noir': 13279, 'natalia': 13275, 'semi-autobiographical': 16171, 'nadir': 13271, 'na': 13270, 'n64': 13269, 'prominence': 16031, 'munchies': 13265, 'mulder': 13263, 'mounted': 13262, 'motifs': 13261, 'crate': 16960, 'morton': 13260, 'morrow': 13259, 'morphs': 13258, 'monotone': 13257, 'monopoly': 13256, 'tent': 16336, 'monaghan': 13255, 'abrasive': 16559, 'mohr': 13253, 'modeling': 13251, 'missiles': 13247, 'mischief': 13245, 'miscasting': 13244, 'mime': 13243, 'millionaires': 13242, 'millard': 13241, 'middleton': 13239, 'meters': 13238, 'meteorite': 13237, 'messiah': 13236, 'messes': 13235, 'postal': 16001, 'messenger': 13234, 'mesh': 13233, 'mega': 13230, 'sunlight': 14782, 'mccabe': 13227, 'masculine': 13222, 'eerily': 15401, 'marin': 13220, 'manchurian': 13219, 'malcom': 13217, 'cassio': 15187, 'mahatma': 13214, 'madrid': 13213, 'madame': 13212, 'territories': 14818, 'macgregor': 13211, 'luna': 13210, 'luggage': 13209, 'haphazardly': 14191, 'lucifer': 13208, 'accordingly': 16561, 'luciano': 13207, 'lows': 13206, 'lowly': 13205, 'lowered': 13204, 'lined': 13199, 'lighten': 13196, 'liberated': 13195, 'handsomely': 17349, 'unease': 16412, 'levinson': 13194, 'legally': 13192, 'dictates': 17034, 'leftist': 13191, 'leering': 13190, 'fanaticism': 17179, 'leaping': 13189, 'launching': 13186, 'kotto': 13179, 'kooky': 13178, 'klaw': 13176, 'kiley': 13173, 'khanna': 13171, 'kgb': 13170, 'keeler': 13168, 'joys': 13162, 'johnston': 13160, 'jeep': 13156, 'dorsey': 15378, 'jacob': 13152, 'ivory': 13151, 'italian-american': 13150, 'lizards': 17596, 'invincible': 13149, 'inventions': 13148, 'intervals': 13146, 'intertwining': 13145, 'interludes': 13144, 'platitudes': 17888, 'intends': 13142, 'instructed': 13141, 'inflicted': 13135, 'infernal': 13134, 'inadequate': 13129, 'attachment': 13768, 'imply': 13127, 'parisian': 13325, 'implications': 13126, 'falters': 15462, 'implausibility': 13124, 'illinois': 13121, 'identifying': 13120, 'humphrey': 13116, 'housekeeper': 13113, 'horus': 13110, 'horseback': 13109, 'horrorfest': 13108, 'robotboy': 18055, 'hordes': 13106, 'homophobic': 13103, 'hogan': 13099, 'hinting': 13097, 'hinds': 13096, 'hijack': 13095, 'groundhog': 17322, 'herzog': 13092, 'heroines': 13090, 'hergé': 13089, 'helmed': 13087, 'heart-breaking': 13081, 'heal': 13079, 'pap': 13322, 'haver': 13076, 'hatcher': 13073, 'harvest': 13072, 'hoop': 14222, 'hard-core': 13069, 'hanna': 13068, 'timeline': 18355, 'hallucination': 13066, 'gwen': 13062, 'guitarist': 13061, 'grot': 13060, 'grifters': 13056, 'greenwich': 13055, 'midkiff': 14407, 'gravitas': 13054, 'grandchildren': 13053, 'crawled': 15278, 'grain': 13051, 'globalization': 13045, 'giddy': 13039, 'getaway': 13038, 'genitalia': 13036, 'geeky': 13034, 'attacker': 13769, 'garland': 13031, 'das': 15307, 'gammera': 13030, 'parting': 15954, 'gamers': 13029, 'gallico': 13028, 'futile': 13025, 'fringe': 13024, 'frigid': 13023, 'frenzied': 13022, 'fragmented': 13020, 'forwarding': 13019, 'shabbily': 18140, 'forgives': 13018, 'privy': 17924, 'forgivable': 13017, 'follower': 13016, 'foes': 13015, 'fists': 13008, 'firefighters': 13007, 'finland': 13004, 'finishes': 13003, 'filone': 13001, 'filipino': 13000, 'feline': 12999, 'feeds': 12998, 'fatty': 12995, 'father-son': 12994, 'fargo': 12992, 'fanny': 12991, 'eyebrows': 12989, 'exchanges': 12985, 'examines': 12984, 'overload': 17827, 'exaggerating': 12983, 'ex-cop': 12982, 'inevitability': 15660, 'evoked': 12979, 'evidenced': 12978, 'sculptor': 14679, 'eras': 12975, 'equality': 12973, 'entranced': 12972, 'executes': 15444, 'enlists': 12971, 'cord': 15272, 'employer': 12969, 'embroiled': 12968, 'eliza': 12967, 'elevates': 12966, 'elaine': 12964, 'ecological': 12960, 'dwarfs': 12959, 'def': 15317, 'dusk': 12958, 'duncan': 12956, 'dugan': 12953, 'duc': 12952, '*another*': 16520, 'drone': 12951, 'drivas': 12950, 'dream-like': 12949, 'drawer': 12948, 'gilley': 13042, 'doorway': 12945, 'doodlebops': 12943, 'dominique': 12942, 'needles': 17753, 'dominates': 12940, 'dolly': 12939, 'distortion': 12936, 'dismay': 12933, 'dishes': 12930, 'liver': 17595, 'discussions': 12928, 'diaries': 12925, 'devout': 12922, 'detracted': 12921, 'liars': 17588, 'detention': 12919, 'detailing': 12918, 'destroyer': 12917, 'despised': 12916, 'delves': 12914, 'delta': 12913, 'degradation': 12910, 'deem': 12908, 'decorated': 12906, 'deceptive': 12905, 'bening': 16709, 'deception': 12904, 'blossoming': 16741, 'damien': 12900, 'dam': 12898, 'daly': 12897, 'subtitle': 18279, 'dads': 12896, 'rigg': 16115, 'customs': 12894, 'curtain': 12892, 'cured': 12890, 'silberling': 18171, 'cuckoo': 12888, 'crusade': 12887, 'cronies': 12886, 'cronenberg': 12885, 'croc': 12884, 'madhur': 15798, 'critically': 12882, 'criterion': 12881, 'credentials': 12880, 'hansen': 15587, 'cranked': 12878, 'crank': 12877, 'temptations': 16335, 'cooler': 12870, 'construct': 12864, 'constitute': 12863, 'confession': 12862, 'concludes': 12861, 'conceited': 12860, 'conceit': 12859, 'communities': 12857, 'reflecting': 14599, 'commies': 12856, 'commentaries': 12855, 'commands': 12854, 'colonies': 12849, 'cohn': 12847, 'coen': 12846, 'cock': 12845, 'co-writer': 12844, 'clunker': 12843, 'closets': 12842, 'clarkson': 12837, 'cillian': 12835, 'chrissy': 12833, 'chiller': 12831, 'childlike': 12830, 'childishly': 12829, 'chemicals': 12826, 'pharaoh': 14523, 'cheerleader': 12823, 'cheeky': 12822, 'chairs': 12819, 'chagrin': 12818, 'cautious': 12816, 'catwoman': 12814, 'caste': 12812, 'carrère': 12811, 'alliances': 16596, 'cum': 12889, 'carmilla': 12810, 'caribbean': 12809, 'capably': 12807, 'campiness': 12806, 'campers': 12805, 'cam': 12803, 'callous': 12802, 'denholm': 15330, 'burgeoning': 12795, 'bums': 12793, 'bulgarian': 12791, 'budgeted': 12788, 'bristol': 12786, 'brisk': 12785, 'briggs': 12784, 'hijacked': 17379, 'bricks': 12783, 'brewster': 12782, 'willingness': 14920, 'breeze': 12779, 'brawl': 12778, 'brainwashed': 12776, 'bowling': 12775, 'bourgeois': 12774, 'bombshells': 12772, 'bluth': 12770, 'blossom': 12769, 'blocking': 12768, 'blitz': 12767, 'ranking': 13396, 'blier': 12766, 'blending': 12765, 'carnal': 13862, 'blended': 12764, 'lonnie': 17603, 'lucia': 15789, 'blanket': 12763, 'biz': 12761, 'birdie': 12760, 'binoche': 12759, 'cumming': 13964, 'bigotry': 12758, 'functional': 14129, 'biehn': 12757, 'bid': 12756, 'bewitched': 12755, 'betsy': 12754, 'bethany': 12753, 'bedknobs': 12750, 'beauties': 12748, 'battalion': 12746, 'reserve': 13420, 'barn': 12744, 'banderas': 12743, 'josé': 17515, 'cornwall': 16945, 'bancroft': 12742, 'bambi': 12741, 'ballad': 12740, 'backstory': 12738, 'babylon': 12737, 'aw': 12735, 'autobiographical': 12731, 'attila': 13771, 'autistic': 12730, 'audiard': 12729, 'attire': 12727, 'attackers': 12725, 'yash': 14937, 'atomic': 12724, 'atlanta': 12723, 'wrestle': 18524, 'astray': 12722, 'assets': 12721, 'assassins': 12720, 'assassinated': 12719, 'suicidal': 13556, 'assailant': 12718, 'asians': 12717, 'taboos': 16322, 'armageddon': 12712, 'arabia': 12709, 'appleby': 12706, 'apology': 12704, 'antonietta': 12702, 'anti-social': 12701, 'anti-establishment': 12700, 'ant': 12698, 'ankush': 12697, 'amusingly': 12696, 'amiable': 12693, 'aimless': 12688, 'ahh': 12687, 'braindead': 15142, 'massimo': 14385, 'afflicted': 12683, 'gokbakar': 15541, 'aerial': 12682, 'vegetable': 18464, 'sidekicks': 14708, 'adulterous': 12680, 'adrien': 12679, 'addicts': 12676, 'accomplishes': 12673, 'aborted': 12671, 'abhorrent': 12670, 'aardman': 12669, '>': 12667, '88': 12665, '82': 12662, '78': 12660, '71': 12659, '42': 12655, '32': 12654, '20s': 12652, 'restaurants': 13422, '102': 12644, '007': 12643, 'yukon': 12636, 'perpetuate': 17862, 'youngster': 12634, 'wrapping': 12630, 'bachan': 15073, 'wolfman': 12628, 'wisconsin': 12627, 'wipes': 12626, 'wikipedia': 12625, 'whitman': 12623, 'wheels': 12621, 'whack': 12620, 'lurches': 17619, 'welfare': 12619, 'weirdest': 12618, 'waterman': 12614, 'verne': 14888, 'warranted': 12613, 'smiled': 18200, 'wanda': 12610, 'walmart': 12608, 'vu': 12606, 'violin': 12603, 'vinny': 12602, 'viet': 14893, 'veronika': 12601, 'vernon': 12600, 'silvers': 18173, 'venus': 12598, 'no-name': 13288, 'venom': 12597, 'unmarried': 16424, 'vengeful': 12596, 'veidt': 12595, 'vd': 12594, 'machismo': 17631, 'uttering': 12591, 'unholy': 12585, 'undone': 12581, 'in-between': 14250, 'undeniable': 12580, 'unborn': 12576, 'unbeknownst': 12575, 'umbrellas': 12574, 'two-thirds': 12572, 'two-dimensional': 12571, 'tv-movie': 12570, 'tableaux': 18311, 'turbulent': 12569, 'cristy': 16967, 'tung': 12567, 'tuesday': 12566, 'tubes': 12565, 'trunk': 12564, 'troupe': 12563, 'tritter': 12562, 'trippy': 12561, 'tykwer': 18400, 'gallows': 17270, 'tribeca': 12559, 'trent': 12558, 'treacherous': 12557, 'trappings': 12556, 'lounging': 17610, 'trading': 12555, 'tomlinson': 12551, 'photogenic': 17872, 'toddler': 12549, 'timely': 12548, 'hungama': 14232, 'tides': 12547, 'longevity': 17601, 'tibet': 12545, 'threadbare': 12544, 'thirds': 12543, 'themed': 12541, 'theatrically': 12539, 'spirituality': 13530, 'nap': 13274, 'thankless': 12538, 'termed': 12536, 'teri': 12535, 'tenants': 12534, 'arbuckle': 15044, 'temporary': 12533, 'teller': 12532, 'televised': 12531, 'tattooed': 12529, 'dirtiest': 17045, 'tapped': 12528, 'tagline': 12525, 'immunity': 17420, 'swiftly': 12524, 'swanson': 12522, 'suv': 12521, 'procession': 17927, 'surfer': 12519, 'scrat': 14674, 'mist': 14417, 'supplies': 12518, 'supplied': 12517, 'suckered': 12514, 'one-liner': 14479, 'subversive': 12513, 'thou': 13584, 'stroll': 12509, 'strives': 12508, 'strained': 12503, 'storylines': 12502, 'arrows': 12714, 'stoop': 12501, 'eustache': 14066, '2-3': 12650, 'stir': 12500, 'stinking': 12499, 'stepping': 12498, 'standouts': 12494, 'squirm': 12492, 'sprawling': 12491, 'spontaneously': 12490, 'splendor': 12489, 'spinster': 12488, 'specialist': 12486, 'songwriter': 12482, 'somerset': 12481, 'sol': 12479, 'knowledgeable': 14312, 'slipping': 12477, 'slated': 12475, 'skirts': 12473, 'sketchy': 12472, 'situated': 12469, 'someones': 14738, 'sideways': 12467, 'shunned': 12466, 'shrine': 12465, 'uncovers': 14858, 'shouts': 12464, 'shields': 12461, 'crowning': 15290, 'shatner': 12457, 'shade': 12455, 'sewer': 12453, 'sessions': 12451, 'reproduction': 14615, 'separately': 12448, 'self-serving': 12446, 'seducing': 12444, '2022': 12651, 'seduces': 12443, 'trepidation': 13605, 'modernized': 13252, 'seberg': 12442, 'seaside': 12441, 'submission': 14775, 'screwing': 12439, 'scholar': 12438, 'savalas': 12436, 'sardonic': 12435, 'sap': 12434, 'salute': 12432, 'sail': 12431, 'sacrificing': 12430, 'ruling': 12428, 'rot': 12426, 'roseanne': 12425, '84': 12663, 'rolle': 12422, 'robson': 12420, 'ridicule': 12417, 'richie': 12415, 'rhine': 12414, 'rhetoric': 12413, 'retained': 12411, 'responses': 12409, 'researching': 12406, 'reporting': 12403, 'ish': 15698, 'repellent': 12402, 'repair': 12401, 'rehearsed': 12397, 'affectionately': 15005, 'reginald': 12395, 'refreshingly': 12394, 'redfield': 12393, 'recounting': 12392, 'recognise': 12390, 'rawal': 12385, 'rant': 12382, 'ralphie': 12381, 'raimi': 12380, 'rails': 12378, 'raider': 12376, 'radioactive': 12374, 'warm-hearted': 18488, 'quoting': 12372, 'laced': 13184, 'pyle': 12369, 'clayton': 13895, 'puzzled': 12368, 'expressive': 15454, 'puppies': 12364, 'pryor': 12359, 'prude': 12358, 'prolific': 12356, 'productive': 12355, 'precursor': 12353, 'preceded': 12352, 'lustful': 17620, 'prayer': 12351, 'pows': 12350, 'pov': 12349, 'potato': 12348, 'posturing': 12347, 'hearty': 13082, 'pointlessly': 12343, 'pockets': 12342, 'ploy': 12341, 'plods': 12339, 'typecasting': 18401, 'plethora': 12338, 'flooded': 17218, 'pita': 12334, 'thighs': 18343, 'piscopo': 12333, 'photograph': 12332, 'peru': 12329, 'rossellini': 18060, 'rocked': 13442, 'personnel': 12327, 'peek': 12324, 'homemade': 17392, 'parsons': 12314, 'pom': 15998, 'dismissed': 12934, 'paige': 12309, 'overact': 12304, 'outraged': 12303, 'oriented': 12301, 'organised': 12300, 'mug': 15868, 'orchestrated': 12299, 'intertitles': 17476, 'pneumonic': 13356, 'orchestra': 12298, 'oppressive': 12297, 'yourselves': 12635, 'opposing': 12296, 'operates': 12295, 'blanc': 15122, 'olen': 12294, 'old-school': 12293, 'offs': 12291, 'procedure': 13377, 'offenders': 12290, 'off-the-wall': 12288, 'occurrences': 12286, 'novice': 12281, 'geography': 14146, 'norwegian': 12279, 'nobility': 12277, 'boleyn': 16748, 'no-brainer': 12276, 'nightmarish': 12275, 'cheezy': 12825, 'niemann': 12274, 'nic': 12273, 'nausicaa': 12270, 'nam': 12269, 'myrtle': 12266, 'taoist': 14809, 'mush': 12265, 'spun': 13536, 'motor': 12258, 'motivated': 12257, 'monitor': 12252, 'monarch': 12251, 'misogynistic': 12247, 'miraculous': 12245, 'minnesota': 12244, 'michigan': 12243, 'meld': 12239, 'measures': 12237, 'mean-spirited': 12235, 'mcdonalds': 12234, 'mayeda': 12232, 'maxwell': 12231, 'mattered': 12230, 'matador': 12228, 'marriages': 12226, 'marjorie': 12225, 'marianne': 12224, 'manuscript': 12223, 'manchester': 12221, 'malicious': 12220, 'maguire': 12219, 'maclean': 12218, 'misogyny': 14414, 'lynchian': 12217, 'lured': 12216, 'lumbering': 12214, 'lucci': 12212, 'mainland': 13216, 'lsd': 12211, 'livingston': 12206, 'impartial': 17421, 'liven': 12205, 'literate': 12203, 'listens': 12202, 'j-horror': 17495, 'listener': 12201, 'limbs': 12198, 'lifelong': 12197, 'lieutenant': 12196, 'librarians': 12194, 'implying': 14246, 'lemon': 12189, 'distaste': 15357, 'leaning': 12188, 'lau': 12185, 'laid-back': 12182, 'krause': 12181, 'knowles': 12178, 'knockout': 12177, 'klara': 12176, 'kitamura': 12175, 'kit': 12174, 'bemused': 12751, 'kiefer': 12171, 'keystone': 12169, 'ketchup': 12168, 'down-to-earth': 15383, 'kermit': 12166, 'gutted': 15573, 'kabei': 12165, 'junkies': 12164, 'joyous': 12162, 'johny': 12161, 'jefferson': 12159, 'janos': 12157, 'islam': 12154, 'ishwar': 12153, 'investigative': 12152, 'invariably': 12151, 'invading': 12150, 'introspective': 12149, 'interwoven': 12148, 'interviewing': 12147, 'revered': 12412, 'intervention': 12146, 'intending': 12145, 'instrument': 12144, 'instructions': 12143, 'moonlight': 17716, 'ins': 12142, 'rotoscoping': 16133, 'ingredient': 12139, 'ingenuity': 12138, 'indicates': 12134, 'incubus': 12133, 'inconsequential': 12132, 'incomplete': 12131, 'imitating': 12125, 'backup': 13786, 'illustration': 12124, 'strive': 12507, 'illustrating': 12123, 'vogue': 12605, 'illustrates': 12122, 'idealism': 12119, 'ichi': 12118, 'hypocrisy': 12117, 'downloading': 14026, 'hugging': 12115, 'howl': 12114, 'honors': 12112, 'homework': 12111, 'gulpilil': 17329, 'ho-hum': 12108, 'hippy': 12106, 'rehab': 18003, 'hickok': 12105, 'herein': 12103, 'helm': 12102, 'helga': 12101, 'heero': 12100, 'template': 14812, 'harmon': 12096, 'punching': 16044, 'handing': 12095, 'nightly': 15897, 'halperin': 12093, 'hairdo': 12091, 'terry-thomas': 18335, 'hai': 12089, 'gymkata': 12085, 'grown-up': 12083, 'trench': 16376, 'chu': 15214, 'gross-out': 12082, 'grocery': 12080, 'proposes': 17940, 'governess': 12077, 'google': 12076, 'zimmer': 16517, 'cheapest': 12821, 'goofs': 12075, 'hauser': 13075, 'gojoe': 12074, 'goings-on': 12073, 'goings': 12072, 'glitter': 12071, 'gleefully': 12070, 'gilberte': 12068, 'spoilers**': 16259, 'giamatti': 12066, 'gargantuan': 12062, 'gaping': 12061, 'gabriele': 12060, 'venomous': 13638, 'g-rated': 12059, 'fulfillment': 12057, 'hypnotized': 13119, 'frustrations': 12056, 'scheduled': 16152, 'frosty': 12055, 'viva': 18478, 'foul-mouthed': 15504, 'frazetta': 12051, 'framing': 12049, 'foxy': 12048, 'foolishly': 12047, 'folly': 12046, 'flu': 12045, 'tread': 13603, 'flees': 12041, 'flavour': 12040, 'fireplace': 12038, 'filter': 12035, 'fictionalized': 12033, 'fend': 12032, 'feather': 12031, 'fearful': 12030, 'favours': 12029, 'overview': 15941, 'fantastical': 12027, 'famously': 12026, 'gypo': 13063, 'faceless': 12023, 'eyed': 12022, 'extravaganza': 12021, 'expand': 12020, 'in-laws': 14251, 'esteban': 12017, 'establishes': 12016, 'escapist': 12014, 'escalating': 12012, 'darned': 16997, 'erratic': 12011, 'activist': 13723, 'erica': 12010, 'entertainers': 12008, 'ensuing': 12007, 'enigma': 12006, 'engineering': 12005, 'employs': 12004, 'emphasizes': 12003, 'eileen': 12000, 'over-dramatic': 17822, 'educate': 11998, 'eden': 11996, 'sorting': 18220, 'reacts': 14589, 'echo': 11995, 'eburne': 11994, 'dung': 11989, 'drumming': 11987, 'baloo': 15085, 'drool': 11986, 'driveway': 11985, 'dripping': 11984, 'drifting': 11983, 'dramatization': 11982, 'coolness': 15270, 'doppelganger': 11981, 'individually': 15659, 'disturb': 11977, 'disinterested': 11974, 'disguises': 11972, 'disgraceful': 11971, 'dirk': 11969, 'dimitri': 11968, 'quebec': 17961, 'dignified': 11967, 'diamonds': 11965, 'dexter': 11964, 'cecilia': 16835, 'devgan': 11962, 'descends': 11959, 'depravity': 11957, 'departments': 11956, 'demonstrating': 11954, 'candid': 15177, 'deja': 11952, 'spellbinding': 12487, 'deftly': 11950, 'deformed': 11949, 'definately': 11948, 'statues': 16281, 'defiance': 11947, 'dedication': 11946, 'decadent': 11944, 'dastardly': 11942, 'tnt': 16348, 'cynic': 11940, 'cutesy': 11938, 'culminates': 11937, 'gautham': 17278, 'cryptic': 11936, 'crusty': 11935, 'crushing': 11934, 'crumbling': 11933, 'critters': 11932, 'slicing': 18192, 'creed': 11931, 'maze': 14391, 'cranky': 11930, 'pialat': 17873, 'coyote': 11929, 'gallons': 17269, 'cosmic': 11927, 'cortes': 11925, 'corrupted': 11924, 'coping': 11923, 'converted': 11922, 'a+': 16557, 'contributes': 11920, 'continuation': 11919, 'grenade': 14176, 'contend': 11917, 'constructive': 11915, 'congress': 11912, 'confirm': 11911, 'conducted': 11910, 'concrete': 11908, 'targeting': 18323, 'dribble': 14028, 'conception': 11907, 'concede': 11906, 'comprehensive': 11904, 'undermining': 18414, 'composers': 11903, 'complement': 11902, 'comparatively': 11901, 'communists': 11900, 'commonly': 11898, 'commandos': 11897, 'comic-book': 11896, 'collage': 11894, 'colagrande': 11893, 'clumsily': 11890, 'clique': 11888, 'classroom': 11884, 'churned': 11883, 'ingmar': 15665, 'action/adventure': 13722, 'churches': 11882, 'ching': 11880, 'ravishing': 13398, 'chin': 11879, 'chikatilo': 11878, 'chic': 11877, 'old-style': 17798, 'charmed': 11876, 'chapters': 11875, 'chained': 11873, 'cashing': 11868, 'cartoony': 11867, 'neverending': 15890, 'cardinal': 11865, 'capabilities': 11863, 'camerawork': 11862, 'buñuel': 11859, 'burying': 11857, 'burroughs': 11856, 'burgundy': 11855, '20+': 16538, 'burden': 11854, 'bumps': 11852, 'broomsticks': 11848, 'crockett': 13959, 'meditation': 13229, 'brook': 11847, 'broadly': 11845, 'pre-war': 16009, 'broadcasting': 11844, 'brightly': 11843, 'terminal': 13576, 'brightest': 11842, 'breckinridge': 11841, 'breakin': 11840, 'wily': 18512, 'brass': 11838, 'brain-dead': 11837, 'botched': 11834, 'boothe': 11833, 'boggles': 11831, 'economical': 12961, 'blessing': 11828, 'empathise': 17128, 'blanks': 11826, 'biographical': 11824, 'big-time': 11823, 'berserk': 11822, 'bentley': 11821, 'prequels': 13372, 'believers': 11819, 'begged': 11818, 'pawn': 14510, 'beads': 11815, 'beaches': 11814, 'grieco': 15557, 'preach': 14556, 'bathsheba': 11813, 'bash': 11812, 'beverages': 16717, 'flora': 12043, 'bases': 11811, 'bartender': 11810, 'slaughtering': 16212, 'bargained': 11809, 'barbeau': 11807, 'banker': 11806, 'banging': 11805, 'bam': 11804, 'aiden': 16587, 'barr': 12745, 'b/w': 11802, 'spurned': 14752, 'b-grade': 11801, 'danni': 16991, 'awed': 11800, 'avail': 11797, 'eludes': 15415, 'removing': 13415, 'austria': 11796, 'assumptions': 11792, 'assembly': 11789, 'assaulted': 11788, 'aspires': 11787, 'asano': 11786, 'armies': 11785, 'argued': 11784, 'constitutes': 13931, 'applauded': 11781, 'uncomfortably': 12577, 'aplenty': 11780, 'landlady': 17564, 'anxious': 11779, 'antz': 11778, 'annoys': 11776, 'announcer': 11775, 'anal': 11773, 'amos': 11772, 'hoods': 13104, 'amelie': 11771, 'sabato': 13452, 'alter-ego': 11770, 'alienate': 11769, 'ahem': 11765, 'lovemaking': 17613, 'agreeing': 11764, 'abundant': 11761, 'ably': 11759, 'aag': 11758, 'a-list': 11757, 'cad': 16806, '911': 11754, 'hazy': 14203, '600': 11753, 'railroad': 12377, '55': 11752, '36': 11750, 'pupils': 12363, '1937': 11748, '*spoiler*': 11745, 'zatoichi': 11742, 'underlings': 14861, 'yuen': 11741, 'weakly': 18493, 'yorker': 11740, 'workout': 11738, 'eligible': 15411, 'wires': 11737, 'wills': 11736, 'williamson': 11735, 'willard': 11734, 'wilhelm': 11733, 'whine': 11732, 'well-directed': 11730, 'weisz': 11729, 'heighten': 13084, 'weirdo': 11728, 'wasnt': 11725, 'warrants': 11724, 'wallach': 11721, 'wai': 11720, 'vulgarity': 11717, 'vulcan': 11716, 'vocals': 11715, 'vincente': 11712, 'usage': 11707, 'unsolved': 11705, 'unpretentious': 11703, 'compels': 15245, 'unknowns': 11702, 'whiskey': 16487, 'uninvolving': 11701, 'oceans': 17790, 'uneasy': 11699, 'tyson': 11696, 'trophy': 11693, 'treasured': 11691, 'travers': 11690, 'transvestite': 11689, 'molina': 13254, 'transforms': 11688, 'tourists': 11686, 'toss': 11685, 'zest': 18546, 'toll': 11683, 'toe': 11682, 'loaf': 13201, 'til': 11681, 'intruder': 17477, 'tigerland': 11680, 'ticking': 11679, 'throwback': 11677, 'thirst': 11675, 'thankful': 11674, 'speeding': 13527, 'th': 11673, 'texan': 11672, 'terrorizing': 11671, 'teasing': 11666, 'collora': 16893, 'teachings': 11665, 'angelic': 15030, 'tanks': 11663, 'takashi': 11662, 'truffaut': 14841, 'sweeps': 11659, 'suspicions': 11657, 'superficially': 11654, 'sullavan': 11653, 'subjective': 11651, 'stupider': 11649, 'stunk': 11648, 'strippers': 11647, 'marlowe': 17658, '69': 14972, 'straw': 11644, 'strapped': 11642, 'storyteller': 11639, 'vagina': 18459, 'stoic': 11637, 'stills': 11636, 'fellowship': 17193, 'stakes': 11633, 'staden': 11632, 'squandered': 11631, 'spotted': 11629, 'slavoj': 13506, 'sporadically': 11628, 'spider-man': 11623, 'speakers': 11622, 'spacek': 11620, 'spacecraft': 11619, 'snoop': 11616, 'lecture': 15755, 'smashing': 11615, 'smartest': 11614, 'slug': 11613, 'sliding': 11612, 'ashraf': 12716, 'sixteen': 11610, 'contrasted': 13936, 'sigh': 11608, 'grasping': 17308, 'scrawny': 14676, 'sierra': 11607, 'shudder': 11606, 'shirts': 11605, 'swordplay': 13561, 'shekhar': 11604, 'splattered': 14749, 'shadowy': 11599, 'separation': 11595, 'sensitivity': 11594, 'alexis': 13741, 'seeds': 11592, 'stench': 14761, 'sculpture': 11589, 'sctv': 11588, 'scrubs': 11587, 'latter-day': 17570, 'scoring': 11586, 'sceptical': 11584, 'scatman': 11583, 'textile': 16341, 'scan': 11581, 'sanctimonious': 11579, 'sakura': 11578, 'saif': 11577, 'rudy': 11576, 'makeover': 17642, 'debonair': 13975, 'ruben': 11575, 'rosenstrasse': 11574, 'failings': 14089, 'rooker': 11572, 'doorstep': 15373, 'rode': 11571, 'rockwell': 11570, 'rocking': 11569, 'scalise': 18093, 'robbing': 11568, '1962': 11749, 'robber': 11566, 'risks': 11565, 'ripper': 11564, 'ricci': 11560, 'rican': 11559, 'retro': 11556, 'resurgence': 11553, 'restrictions': 11552, 'respectful': 11551, 'rescuing': 11549, 'repugnant': 11548, 'republican': 11547, 'reprise': 11546, 'representative': 11545, 'reporters': 11544, 'replay': 11543, 'flirt': 12042, 'refund': 11536, 'refugees': 11535, 'fraction': 15506, 'reflections': 11533, 'rebels': 11530, 'milieu': 13240, 'rebecca': 11529, 'goodfellas': 13049, 'rapture': 11526, 'protocol': 14567, 'rani': 11525, 'raining': 11524, 'raggedy': 11522, 'pulse': 11519, 'puberty': 11517, 'pseudo': 11516, 'protection': 11513, 'prospect': 11512, 'prophetic': 11511, 'underscores': 16405, 'priya': 11506, 'prevents': 11504, 'precocious': 11501, 'pow': 11498, 'posed': 11496, 'policies': 11494, 'pits': 11493, 'pioneer': 11491, 'peet': 11486, 'passionately': 11484, 'pales': 11483, 'quintet': 17964, 'orked': 13308, 'pakistan': 11482, 'packing': 11481, 'overs': 11480, 'olive': 11476, 'offset': 11475, 'reconstruction': 16074, 'nuff': 11471, 'notebook': 11467, 'simone': 14711, 'noses': 11466, 'northwest': 11465, 'unrealistically': 16426, 'nord': 11464, 'objectionable': 17784, 'mounting': 15865, 'noirs': 11463, 'utmost': 12590, 'nineties': 11462, 'nickelodeon': 11461, 'percy': 15967, 'newspapers': 11460, 'newest': 11459, 'naturalistic': 11456, 'nah': 11455, 'nacho': 11454, 'muscles': 11452, 'multi': 11451, 'muller': 11450, 'melville': 15827, 'moustache': 11449, 'monumental': 11444, 'monitors': 11443, 'monastery': 11442, 'modicum': 11441, 'patron': 13329, 'mishaps': 11440, 'misadventures': 11439, 'minimalist': 11438, 'disrespectful': 11976, 'miner': 11437, 'creeps': 15283, 'microphone': 11434, 'meth': 11433, 'greendale': 14173, 'meek': 11430, 'utilize': 16441, 'touted': 16362, 'mcmahon': 11429, 'mccartney': 11427, 'mayer': 11426, 'mastermind': 11421, 'marina': 11420, 'marching': 11419, 'malta': 11418, 'malle': 11417, 'maddin': 11413, 'machinations': 11412, 'louque': 11410, 'louie': 11409, 'lorne': 11408, 'organizations': 15926, 'facets': 14086, 'loach': 11404, 'lerner': 11399, 'leila': 11397, 'lance': 11393, 'laden': 11392, 'l&h': 11390, 'moods': 12254, 'kindness': 11388, 'junkie': 11385, 'jerky': 11382, 'ringo': 13438, 'jannings': 11378, 'truely': 16381, 'intimacy': 11373, 'robinsons': 18054, 'instruments': 11371, 'insistence': 11369, 'mythic': 17739, 'insisted': 11368, 'insect': 11367, 'informer': 11364, 'inform': 11363, 'starved': 18246, 'february': 15470, 'ineffective': 11362, 'indulgent': 11361, '7-year-old': 16548, 'indirectly': 11359, 'in-your-face': 11355, 'imposing': 11351, 'illusions': 11350, 'hysteria': 11347, 'humdrum': 11346, 'hou': 11345, 'installments': 13140, 'hitchhiker': 11342, 'histrionics': 11341, 'hillbillies': 11340, 'hickam': 11337, 'heinous': 11335, 'hee': 11334, 'juhi': 13163, 'hectic': 11332, 'heartland': 11331, 'jeez': 11381, 'headmaster': 11330, 'haters': 11329, 'artifice': 15049, 'aesthetics': 13730, 'happier': 11323, 'alps': 16600, 'han': 11321, 'hacking': 11318, 'guidance': 11315, 'grindhouse': 11314, 'world-weary': 18520, 'grind': 11313, 'grin': 11312, 'greenhouse': 11310, 'hamlin': 17345, 'graduated': 11306, 'grable': 11304, 'glossed': 11303, 'gloom': 11302, 'girlfight': 11300, 'gilligan': 11299, 'giggle': 11297, 'generals': 11296, 'geddes': 11295, 'gathers': 11294, 'gamera': 11292, 'gals': 11291, 'galipeau': 11290, 'elegantly': 15410, 'freddie': 11283, 'indonesia': 17439, 'humanoid': 17406, 'frailty': 11282, 'fragments': 11281, 'formerly': 11278, 'foreshadowing': 11277, 'floors': 11274, 'under-appreciated': 14860, 'fineman': 11272, 'files': 11270, 'fey': 11268, 'sped': 16253, 'warehouse': 12612, 'feud': 11267, 'fenton': 11265, 'glib': 14154, 'farrelly': 11264, 'farewell': 11263, 'faithfully': 11261, 'f/x': 11260, 'exploiting': 11256, 'envisioned': 17141, 'brynner': 12787, 'existing': 11255, 'oily': 17795, 'excels': 11254, 'ex-con': 11252, 'evolve': 11250, 'evoke': 11249, 'everytime': 11248, 'improvised': 12129, 'aisle': 11767, 'eroticism': 11246, 'enthusiast': 11243, 'enforcer': 11241, 'emptiness': 11240, 'employ': 11239, 'shadowed': 18141, 'emerged': 11236, 'elicit': 11232, 'guiding': 12084, 'elevated': 11231, 'egon': 11228, 'edinburgh': 11226, 'eater': 11224, 'earthquake': 11223, 'dumbed': 11221, 'drivers': 11219, 'dreaded': 11218, 'benward': 13807, 'sledge': 13507, 'dragonfly': 11216, 'doubles': 11215, 'equation': 12974, 'disconnected': 11211, 'dingo': 11209, 'dimensions': 11208, 'stratton': 18264, 'digress': 11206, 'digitally': 11205, 'initiate': 17450, 'dicaprio': 11204, 'unquestionable': 18441, 'dial': 11203, 'diablo': 11202, 'dey': 11201, 'devos': 11200, 'devastated': 11198, 'detracts': 11197, 'descendant': 11196, 'voicing': 18479, 'poitier': 14544, 'derive': 11195, 'endures': 17134, 'dependent': 11194, 'denmark': 11192, 'deft': 11190, 'decapitated': 11187, 'debuted': 11186, 'deadpan': 11185, 'darlene': 11184, 'dares': 11183, 'danza': 11182, 'dangerfield': 11181, 'dalmations': 11180, 'daft': 11178, 'd&d': 11177, 'custody': 11174, 'curve': 11173, 'curtiz': 11172, 'cruz': 11171, 'crothers': 11170, 'criticizing': 11169, 'cristina': 11168, 'yo': 14940, 'cram': 11166, 'cosmo': 11162, 'convert': 11160, 'conspiracies': 11158, 'confronting': 11156, 'confirms': 11155, 'compilation': 11153, 'selections': 12445, 'companions': 11151, 'committee': 11150, 'athens': 16659, 'cocktail': 11146, 'climbs': 11145, 'cuz': 11939, 'clifford': 11144, 'cigar': 11143, 'placid': 17883, 'fearing': 17188, 'chunk': 11142, 'chinatown': 11141, 'chico': 11140, 'checks': 11138, 'characterized': 11137, 'chaney': 11136, 'crap-fest': 12879, 'champ': 11135, 'certainty': 11133, 'regina': 11537, 'caveman': 11131, 'carlo': 11126, 'cargo': 11125, 'capra': 11124, 'capitalist': 11123, 'can´t': 11122, 'cannibalism': 11121, 'cambodia': 11119, 'café': 11118, 'tortuous': 16357, 'by-the-numbers': 11117, 'defy': 12909, 'busted': 11116, 'bunker': 11115, 'brighter': 11114, 'breathe': 11112, 'bounce': 11110, 'boils': 11108, 'boil': 11107, 'blocks': 11103, 'blaine': 11102, 'glamour': 13044, 'bitterly': 11101, 'biopics': 11100, 'billie': 11099, 'bigoted': 11098, 'shredder': 18159, 'bickering': 11097, 'betray': 11096, 'best-selling': 11095, 'bernhard': 11094, 'berkley': 11093, 're-run': 16067, 'belgian': 11091, 'beef': 11090, 'fabricated': 12990, 'bee': 11089, 'beatings': 11088, 'bakula': 11085, 'misunderstanding': 13248, 'bailey': 11084, 'baffling': 11083, 'totalitarian': 18369, 'backward': 11082, 'aztec': 11081, 'awaited': 11080, 'hatches': 15597, 'attendance': 11077, 'assumption': 11075, 'sabertooth': 14655, 'arrangement': 11073, 'aroused': 11072, 'avalon': 12732, 'aristocratic': 11071, 'applegate': 11067, 'anti-war': 11064, 'anthem': 11063, 'answering': 11062, 'mcgraw': 15817, 'announcement': 11061, 'manifested': 17649, 'ang': 11060, 'blackwood': 13817, 'andrei': 11059, 'ancestors': 11058, 'ancestor': 11057, 'analogy': 11056, 'rudimentary': 16136, 'anakin': 11055, 'ameche': 11054, 'alligator': 11052, 'saxophone': 18091, 'alliance': 11051, 'tails': 12526, 'alaska': 11050, 'airline': 11049, 'advocate': 11047, 'adviser': 11046, 'quartet': 16052, 'adolf': 11043, 'outdoes': 17817, 'paxinou': 15960, 'addictive': 11041, 'achievements': 11040, 'shove': 16188, 'accolades': 11039, 'absurdist': 11038, 'abe': 11036, '98': 11034, '97': 11033, '8mm': 11032, '$3': 11029, 'shave': 11602, '$20': 11028, 'beirut': 15108, '$100': 11027, 'haircuts': 12090, '–': 11026, 'cleavage': 11886, 'zeta': 11024, 'zentropa': 11023, 'zabriskie': 11021, 'copenhagen': 16942, 'x-men': 11018, 'wrenching': 11015, 'anti-christian': 16622, 'worldwide': 11013, 'winfield': 11011, 'whomever': 11010, 'anisio': 15032, 'whipped': 11009, 'well-meaning': 11006, 'wb': 11002, 'waterfall': 11001, 'lectures': 14328, 'anti-climatic': 13757, 'punks': 11520, 'waiter': 11000, 'vipul': 10996, 'numb': 12283, 'venoms': 10994, 'gagged': 17266, 'lowell': 15788, 'utilized': 10992, 'upstairs': 10991, 'upper-class': 10990, 'unwittingly': 10989, 'unwanted': 10988, 'seine': 18118, 'unsuccessful': 10987, 'mojo': 17711, 'unsubtle': 14873, 'underused': 10985, 'action-packed': 12674, 'undertones': 10984, 'uncover': 10983, 'twisty': 10980, 'tuning': 10978, 'earp': 11222, 'trumpet': 10977, 'trips': 10975, 'travelers': 10973, 'transpires': 10972, 'fingered': 17202, 'transcends': 10971, 'issued': 11376, 'traitor': 10970, 'trainer': 10969, 'tighter': 10961, 'throats': 10960, 'thesis': 10958, 'therapist': 10957, 'textbook': 10956, 'tendencies': 10953, 'tempest': 10952, 'tapping': 10949, 'tables': 10948, 't-shirt': 10947, 'synchronized': 10944, 'switching': 10943, 'differs': 17038, 'sweeping': 10942, 'swat': 10941, 'wry': 11017, 'stylistic': 10936, 'hog': 17390, 'steiner': 10932, 'stand-out': 10931, 'staggering': 10929, 'leadership': 13188, 'stabbed': 10928, 'screeches': 18109, 'spoilt': 10926, 'spin-off': 10925, 'sorta': 10920, 'select': 16166, 'carlin': 11866, 'sophomore': 10919, 'solomon': 10918, 'solar': 10917, 'socks': 10916, 'snap': 10915, 'nigh': 13285, 'smacks': 10914, 'slot': 10912, 'slips': 10911, 'ulysses': 18407, 'pumped': 16042, 'slayer': 10909, 'slater': 10908, 'trafficking': 10967, 'skinned': 10907, 'hug': 13115, 'sickly': 10903, 'shoestring': 10901, 'shia': 10900, 'secluded': 10895, 'screamed': 10894, 'opts': 15922, 'sant': 10887, 'sacrificed': 10886, 'sacred': 10885, 'sack': 10884, 'congrats': 13926, 'rusty': 10883, 'roeg': 10881, 'ballads': 16685, 'vancouver': 11708, 'robust': 10880, 'rightfully': 10878, 'riches': 10876, 'rewards': 10875, 'revelations': 10873, 'poorer': 17902, 'retire': 10872, 'restricted': 10870, 'resistance': 10867, 'register': 10862, 'scenic': 10893, 'recurring': 10861, 'forensic': 14119, 'ranger': 10859, 'raft': 10857, 'radium': 10856, 'ding': 17041, 'quoted': 10854, 'sascha': 18086, 'quincy': 10853, 'quigley': 10852, 'pyramid': 10850, 'pusser': 10848, 'crescendo': 13957, 'puns': 10847, 'pub': 10845, 'psychiatric': 10844, 'protector': 10842, 'desai': 17018, 'proportion': 10841, 'projected': 10838, 'contributing': 12868, 'progressively': 10837, 'profits': 10835, 'prix': 10833, 'prices': 10830, 'concoction': 13922, 'presume': 10829, 'lions': 11403, 'premier': 10828, 'nationalist': 17748, 'pregnancy': 10827, 'positives': 10823, 'portugal': 10822, 'pornographic': 10821, 'poking': 10817, 'pimlico': 10814, 'aggressively': 15009, 'paraphrase': 12313, 'pillow': 10813, 'picturesque': 10812, 'slant': 14721, 'phoned': 10810, 'persistent': 10809, 'permission': 10807, 'perlman': 10806, 'perdition': 10805, 'pauses': 10803, 'patterns': 10802, 'hardwicke': 14193, 'patiently': 10801, 'patch': 10800, 'karas': 17524, 'fanshawe': 17183, 'partial': 10799, 'incomparable': 15652, 'approval': 11782, 'parminder': 10798, 'stimulate': 18255, 'unleashing': 16423, 'paperhouse': 10796, 'painters': 10794, 'packaging': 10792, 'mouthed': 17731, 'pacifist': 10791, 'babette': 13782, 'overweight': 10788, 'typing': 11695, 'overplayed': 10787, 'overacts': 10785, 'emilia': 12001, 'idealistic': 11348, 'outsider': 10783, 'outings': 10782, 'outcast': 10781, 'him/her': 17382, 'outbursts': 10780, 'orwell': 10779, 'organ': 10778, 'optimistic': 10777, 'operatic': 10776, 'ubiquitous': 14850, 'buford': 11850, 'ooh': 10774, 'one-sided': 10773, 'omega': 10771, 'smugness': 18201, 'obscene': 10768, 'nifty': 10764, 'skeletal': 18180, 'branches': 16766, 'definetly': 15321, 'mysticism': 10758, 'well-developed': 11005, 'muse': 10757, 'mundae': 10756, 'redundancy': 16080, 'motley': 10752, 'morricone': 10750, 'mordrid': 10749, 'mockumentary': 10748, 'jarndyce': 17502, 'mobsters': 10747, 'midway': 10744, 'bogey': 13822, 'maverick': 10743, 'masquerading': 10741, 'manchu': 10734, 'jaffe': 13153, 'magnolia': 10732, 'lyric': 10730, 'upsets': 16435, 'lyle': 10729, '95%': 12666, 'lure': 10728, 'low-rent': 10725, 'lovingly': 10724, 'lorenz': 10723, 'long-time': 10719, 'lindsey': 10717, 'hardworking': 14194, 'lifts': 10716, 'lifestyles': 10715, 'unbridled': 18409, 'lesbians': 10713, 'regretted': 12396, 'leonardo': 10712, 'leary': 10711, 'learnt': 10710, 'tingler': 18357, 'laundry': 10709, 'ruthlessness': 18069, 'latino': 10708, 'leona': 15759, 'tourneur': 10964, 'lam': 10705, 'lafitte': 10704, 'krige': 10703, 'kitsch': 10701, 'kindergarten': 10700, 'tug': 18396, 'kerr': 10698, 'kenny': 10697, 'jonestown': 10693, 'jigsaw': 10692, 'playhouse': 14537, 'jerome': 10691, 'investigations': 10684, 'whipping': 14916, 'inspires': 10682, 'insensitive': 10680, 'plot-line': 15992, 'heed': 15603, 'inducing': 10677, 'priyanka': 16021, 'impressionable': 10675, 'impossibly': 10674, '20-something': 16540, 'illusion': 10673, 'margin': 17655, 'revolved': 16108, 'humiliation': 10670, 'noodle': 14458, 'hulce': 10669, 'tylo': 14847, 'horror/thriller': 10668, 'hopeful': 10666, 'historian': 10663, 'hindsight': 10662, 'hilary': 10661, 'hesitant': 10658, 'herrings': 10657, 'hernandez': 10656, 'venantini': 10993, 'helicopters': 10654, 'heaton': 10653, 'hay': 10652, 'harper': 10650, 'hare': 10649, 'hardship': 10648, 'hanson': 10646, 'hans': 10645, 'handicapped': 10644, 'martinez': 15807, 'hamming': 10643, 'hail': 10642, 'hacks': 10641, 'guiness': 10639, 'guerrero': 10638, 'groovy': 10637, 'groan': 10636, 'grisly': 10635, 'grimm': 10634, 'griffin': 10633, 'grandson': 10631, 'electricity': 11230, 'grandiose': 10630, 'grail': 10629, 'enable': 15420, 'depp': 13993, 'gown': 10628, 'torso': 16356, 'gigi': 10623, 'gershon': 10621, 'furlong': 10614, 'fugitive': 10613, 'fondness': 10610, 'foch': 10608, 'flesh-eating': 10605, 'casey': 13865, 'filmic': 10601, 'film-noir': 10600, 'fee': 10597, 'fateful': 10596, 'fashionable': 10595, 'external': 10594, 'extend': 10593, 'ponderous': 10819, 'exhilarating': 10591, 'exhausting': 10590, 'execs': 10589, 'excessively': 10588, 'exceeds': 10587, 'cleverness': 15221, 'ex-boyfriend': 10586, 'evelyn': 10585, 'essay': 10584, 'cubitt': 13961, 'esoteric': 10583, 'endeavor': 10581, 'employment': 10580, 'ella': 10578, 'elected': 10576, 'dizzying': 17066, 'jeopardy': 13157, 'edwards': 10575, 'mistakenly': 14418, 'earns': 10574, 'dv': 10572, 'dunno': 10570, 'dungeons': 10569, 'dumbland': 10568, 'geezer': 13035, 'drums': 10567, 'flyer': 17221, 'drugged': 10566, 'droll': 10565, 'giggling': 15532, 'dreamlike': 10563, 'drawn-out': 10562, 'dramatized': 10561, '83': 14975, 'doses': 10560, 'disposal': 10556, 'diseases': 10555, 'disdain': 10554, 'disasters': 10553, 'dien': 10552, 'deserts': 10550, 'denied': 10548, 'defence': 10545, 'pertwee': 11489, 'dc': 10543, 'doktor': 15369, 'expressionism': 11257, 'daisies': 10540, 'currie': 10539, 'crooks': 10537, 'creatively': 10535, 'craziness': 10534, 'cotton': 10533, 'corridors': 10532, 'leftover': 17577, 'corners': 10531, 'consumption': 10530, 'consisted': 10528, 'conduct': 10526, 'concluded': 10525, 'comforts': 10523, 'caracas': 16820, 'comforting': 10522, 'columbine': 10520, 'cobb': 10518, 'clubs': 10517, 'clinical': 10516, 'solent': 16239, 'clinic': 10515, 'choreographer': 10512, 'hawthorne': 17362, 'chen': 10511, 'cheering': 10510, 'caves': 10508, 'maxx': 15813, 'macready': 15795, 'cavalry': 10507, 'cassel': 10506, 'carface': 10503, 'captors': 10502, 'caprice': 10501, 'resentment': 12407, 'capitalism': 10500, 'canvas': 10498, 'camps': 10494, 'cambodian': 10493, 'calibre': 10492, 'caleb': 10491, 'calculated': 10490, 'calamity': 10489, 'plowright': 14539, 'bury': 10487, 'burstyn': 10486, 'bloodsuckers': 16739, 'bullshit': 10485, 'buckets': 10484, 'breezy': 10483, 'gail': 11289, 'box-office': 10481, 'booze': 10479, 'boob': 10477, 'bless': 10476, 'biological': 10474, 'benson': 10470, 'befriended': 10468, 'basics': 10465, 'barney': 10464, 'valentino': 16443, 'razzie': 13399, 'bafta': 10462, 'auto': 10461, 'attracts': 10460, 'goose': 14161, 'association': 10457, 'associates': 10456, 'asinine': 10455, 'armand': 10453, 'arise': 10452, 'arcs': 10451, 'payment': 12321, 'architect': 10450, 'arabic': 10449, 'aptly': 10448, 'apocalyptic': 10445, 'ambiguity': 10442, 'lynched': 17625, 'amateurs': 10440, 'allusions': 10439, 'allure': 10438, 'aims': 10436, 'ahmad': 10434, 'affections': 10433, 'accuses': 10429, 'spoils': 16260, 'abigail': 10427, 'eglantine': 15405, '1949': 10424, '16mm': 10422, 'pitiable': 17882, '*spoilers*': 10419, 'small-time': 16226, 'lite': 15775, 'simplest': 13495, 'yokai': 10416, 'yadda': 10414, 'yada': 10413, 'wronged': 10410, 'womanizing': 10407, 'wizards': 10405, 'whip': 10402, 'colorado': 15235, 'mower': 10753, 'waterfront': 10400, 'wasteland': 10399, 'topping': 16352, 'warners': 10396, 'waits': 10395, 'vivah': 10393, 'restore': 13423, 'virtues': 10392, 'veers': 10389, 'neo-realism': 17757, 'uptight': 10385, 'upsetting': 10384, 'unemployed': 10382, 'extravagant': 17174, 'rail': 16056, 'refrain': 11534, 'unabashed': 10380, 'charmer': 16844, 'twitch': 10379, 'twentieth': 10378, 'troublesome': 10376, 'reactionary': 17986, 'gays': 10616, 'trinity': 10375, 'trigger': 10374, 'astronaut': 11076, 'triad': 10372, 'travis': 10371, 'trance': 10370, 'torrance': 10366, 'tornado': 10365, 'dyan': 11993, 'tokyo': 10364, 'threads': 10361, 'thirteen': 10359, 'teamed': 10355, 'crackpot': 16957, 'outfield': 15935, 'separates': 12449, 'advancement': 11045, 'tanner': 10353, 'humiliating': 12116, 'talkies': 10352, 'gino': 12069, 'tainted': 10351, 'novella': 13299, 'tailor': 10350, 'grate': 14170, 'systems': 10349, 'pre-release': 17912, 'athletes': 16660, 'cosby': 11926, 'swell': 10346, 'pathetically': 14508, 'sweetheart': 10345, 'supporter': 10343, 'sumptuous': 10341, 'compromised': 15252, 'summarized': 10340, 'stupidly': 10338, 'strikingly': 10335, 'figment': 15482, 'cass': 15185, 'jeffs': 14294, 'wannabes': 13655, 'straight-to-video': 10331, 'staircase': 10328, 'stadium': 10326, 'stacy': 10325, 'stabbing': 10324, 'squeamish': 10323, 'spectator': 10319, 'solving': 10315, 'societal': 10314, 'snafu': 10313, 'smuggling': 10312, 'squeal': 16271, 'slow-paced': 10310, 'slides': 10308, 'ridicules': 16113, 'sleepwalkers': 10307, 'singin': 10303, 'sided': 10299, 'shops': 10298, 'shootings': 10297, 'advancing': 16572, 'shiny': 10296, 'looser': 15784, 'sherlock': 10295, 'shell': 10294, 'staunton': 18247, 'shahid': 10293, 'shack': 10292, 'serling': 10289, 'boarding': 11105, 'serials': 10288, 'olga': 17800, 'sneaking': 13509, 'sensual': 10287, 'chilly': 15208, 'searches': 10286, 'screened': 10285, 'unemotional': 13626, 'ullman': 10982, 'scandal': 10282, 'sawa': 10280, 'satanic': 10278, 'trainor': 18378, 'consultant': 11916, 'sane': 10277, 'roses': 10273, 'loaded': 5086, 'process': 1687, 'ireland': 5080, 'primarily': 4547, 'say': 135, 'inconsistent': 5079, '*is*': 16521, 'quit': 4438, 'collapsing': 11895, 'casually': 8970, 'gregory': 5071, 'beliefs': 4693, 'lana': 12183, 'wooden': 1632, 'gentleman': 5069, 'rossitto': 16132, 'insanity': 7126, 'garden': 5068, 'emperor': 5062, 'drops': 5059, 'scent': 18097, 'emil': 11238, 'dont': 5058, 'mo': 13249, 'critique': 5050, 'yeung': 18537, 'deceptively': 11945, 'cream': 5049, 'combine': 4498, 'hawaiian': 13077, 'costuming': 11163, 'set-up': 5280, 'astonished': 7041, 'constructed': 5046, 'contestants': 6406, 'celebration': 5037, 'cbs': 5036, 'profound': 3072, 'attend': 5021, 'weave': 14905, 'alternate': 5018, 'burns': 2598, 'complaints': 4914, 'dealer': 7585, '64': 9857, 'succeeds': 3001, 'mcbain': 13226, '1974': 5008, '1933': 5006, 'typed': 16394, 'misunderstandings': 10173, 'wilds': 14919, 'youngest': 5005, 'vaguely': 5000, 'extra': 1936, 'soup': 4990, 'sissy': 4987, 'appallingly': 12705, 'destiny': 5056, 'patsy': 12317, 'holmes': 3019, 'blind': 2284, 'rabbit': 5256, 'selection': 4983, 'sociology': 18213, 'roots': 4980, 'lionel': 6666, 'romp': 4979, 'maugham': 8720, 'escapade': 17148, 'remained': 4974, 'region': 4972, 'barriers': 15095, 'reeve': 4970, 'rebel': 4968, 'fix': 4615, 'gwyneth': 5783, 'push': 4965, 'deteriorated': 12920, 'los': 2953, 'sent': 1362, 'ginty': 15534, '2002': 3398, 'conflicting': 13924, 'downbeat': 9508, 'historians': 7959, 'maltese': 17646, 'represent': 4107, 'protagonist': 2059, 'loy': 4946, 'ruining': 7737, 'somehow': 830, 'your': 136, 'logan': 4944, 'floating': 4931, 'anytime': 7032, 'extended': 4929, 'sleepwalking': 10910, 'clown': 4062, 'exploration': 4927, 'boorman': 9926, 'poisonous': 14543, 'dukes': 4925, 'bizarrely': 12762, 'dancers': 4917, 'encounters': 3268, 'creativity': 4915, 'circus': 4910, 'talespin': 14804, 'unaware': 4998, 'subdued': 11650, 'principles': 8398, 'kutcher': 17551, 'mckenna': 15818, 'alibi': 11768, 'throw': 1394, 'widmark': 2485, 'tacked': 9324, 'adequate': 4897, 'harried': 15593, 'pitiful': 4653, '1990s': 4894, 'wally': 12607, 'dismiss': 6832, 'rejection': 9255, '1939': 4891, 'andromeda': 16613, 'ephemeral': 14062, 'buff': 4221, 'wandering': 4890, 'gentlemen': 5468, 'voted': 4888, 'overlooking': 13315, 'venture': 4887, 'dunne': 8622, 'veneer': 10390, 'terrorist': 4881, 'bridget': 6212, 'sid': 4871, 'gosh': 10627, 'premiere': 5251, 'speedman': 18225, 'schlock': 4869, 'reeves': 4864, 'mockery': 13250, 'realised': 4862, 'insignificant': 10681, 'preachy': 4857, 'potentially': 4855, 'layered': 8700, 'melody': 4843, 'breeding': 13837, 'merit': 3433, 'lands': 4840, 'threshold': 16344, 'biggie': 13813, 'kipling': 10128, 'wrists': 12632, 'jess': 4838, 'spiders': 16255, 'happening': 1407, 'convinced': 2352, 'introduce': 4834, 'attracted': 4217, 'starlets': 18244, 'bundle': 16793, 'newcomer': 6914, 'inevitable': 4829, 'unheard': 14866, 'inappropriate': 4828, 'yea': 8152, 'kitty': 5081, 'blasphemy': 15123, 'disfigured': 12929, 'games': 1462, 'universe': 2805, 'pointless': 1205, 'workable': 18518, 'agitated': 16583, 'unremarkable': 9350, 'comedienne': 10521, 'bunny': 4223, 'operator': 17807, 'gina': 4819, 'frightened': 4817, 'outtakes': 13311, 'points': 810, 'vividly': 6181, 'cesar': 11134, 'ebert': 4807, 'dreary': 4805, 'admire': 3671, 'dalton': 4798, 'incorrect': 6878, 'realistically': 9719, 'confess': 4794, 'larger': 4253, 'talk': 788, 'bronze': 16781, 'havoc': 7116, 'capital': 4792, 'lifelike': 17590, 'rose': 2254, 'campaign': 4791, 'pivotal': 9226, 'parador': 17843, 'empathize': 10579, 'possibilities': 4853, 'doggie': 14020, 'geeks': 10618, '*1/2': 3972, 'bloom': 4789, 'con': 3914, 'funniest': 1242, 'gimmicky': 17290, 'advise': 4782, 'floyd': 11276, '$1': 4778, 'eighteen': 11999, 'chef': 8207, 'unintentional': 4771, 'nuke': 13300, 'understandable': 4770, 'poignantly': 17896, 'stuff': 539, 'twelve': 4769, 'tortured': 4767, 'overused': 12306, 'signed': 4762, 'investigators': 14281, 'stems': 12497, 'shirt': 4761, 'rita': 4757, 'manipulative': 4736, 'noah': 10766, 'randy': 4756, 'provoking': 4754, 'par': 2923, 'troops': 4884, 'poehler': 14541, 'charley': 9447, 'principal': 4750, 'boasting': 12771, 'nonsensical': 4745, 'method': 4738, 'surprise': 812, 'frustration': 4417, 'hardcore': 4718, 'greatness': 4717, 'dumpster': 17100, 'designed': 2566, 'rebirth': 14590, 'grayson': 4716, 'exposed': 4710, 'thematic': 13580, 'doll': 4706, 'ettore': 12018, 'accurate': 1693, 'owe': 8024, 'clarke': 4700, 'chicken': 4699, 'stake': 7762, 'boyle': 4696, 'adrenaline': 12678, 'attain': 11794, 'boom': 4695, 'dialect': 12924, 'kerry': 7978, 'afar': 15004, 'consummate': 10529, 'austen': 4903, 'diluted': 12926, 'pan': 4957, 'database': 15308, 'arrived': 4692, '19-year-old': 16534, 'classify': 13894, 'intentionally': 4832, 'aid': 4690, 'wet': 4685, 'spray': 11630, 'disbelief': 2601, 'unsuspecting': 4679, 'monkeys': 5954, 'leigh': 5799, 'stunned': 4672, 'diet': 9997, 'stages': 4669, 'avenge': 7268, 'scores': 4663, 'golf': 10626, 'ideal': 3428, 'revolutionary': 4660, 'polanski': 4654, 'annis': 15035, 'oz': 4649, 'phelps': 17869, 'orphanage': 8377, 'masterpieces': 4640, '700': 7020, 'marketing': 4639, 'replicate': 16091, 'kriemhild': 8697, 'picky': 15979, 'lumet': 4636, 'limits': 4634, 'familiar': 1005, 'occurring': 10769, 'landscapes': 4632, 'epitome': 8261, 'streetcar': 11645, 'pabst': 10790, 'hurts': 4623, 'frequent': 4618, 'cradle': 9005, 'fay': 4614, 'manure': 17651, 'pavarotti': 8382, 'hebrew': 13083, 'clip': 4912, 'dust': 4611, 'ready': 1582, 'chimp': 13885, 'dignity': 4607, 'closes': 9956, 'depressed': 4606, 'deceased': 4604, 'alot': 4478, 'firefighter': 13006, 'chronicles': 4600, 'cher': 4599, 'bumbling': 4593, 'impoverished': 11352, 'celluloid': 4597, 'cassidy': 4596, 'wayne': 2717, 'adversary': 15003, 'grier': 9555, 'blade': 4591, 'convinces': 6597, 'shoe': 8438, 'confidant': 16923, 'bela': 4588, 'segment': 2532, 'banal': 4587, 'intellectual': 3177, 'librarian': 8330, 'nailed': 10759, 'well-written': 4580, 'visited': 4577, 'heck': 2177, 'mind-numbingly': 10171, 'unsettling': 4576, 'equivalent': 4810, 'roads': 9734, 'underlying': 4574, 'twins': 4573, 'misfit': 9648, 'tonight': 4569, 'orleans': 4185, 'museum': 5092, 'plate': 8763, 'staring': 4561, 'promised': 4551, 'prisoner': 4549, 'madeline': 11414, 'gaps': 7631, 'primitive': 4548, 'hilton': 8675, 'hillary': 11339, 'patients': 4545, 'passes': 4544, 'immigrants': 6877, 'soprano': 9298, 'nephew': 4540, 'praising': 10826, 'carol': 3832, 'beginnings': 9910, 'abysmally': 12672, 'lear': 11395, 'muddled': 4537, 'motivations': 4535, 'widely': 4468, 'masks': 4533, 'transylvania': 9814, 'recounts': 14594, 'mankind': 4532, 'quarter': 5255, 'undressed': 18419, 'lindsay': 4530, 'imprisoned': 8684, 'irishman': 14283, 'kicked': 4529, 'kennedy': 4528, 'strutting': 18272, 'ken': 4527, 'deservedly': 7880, 'insights': 6103, 'hayek': 14202, 'grinch': 4522, 'dealings': 13974, 'galaxy': 5066, 'gambling': 5067, 'atypical': 12728, 'delicate': 6608, 'protagonists': 3139, 'jumping': 3636, 'saint': 7197, 'ease': 4512, 'horrifying': 5073, 'dysfunctional': 4510, 'absurdity': 5309, 'december': 11188, 'dimensional': 4508, 'moss': 6296, 'franco': 4714, 'consistently': 4502, 'myers': 4951, 'day-to-day': 16999, '40s': 4781, 'keaton': 1558, 'hughes': 4824, 'tests': 13578, 'stinkers': 13547, 'cd': 4489, 'fifties': 4515, 'cattle': 4488, 'roles': 555, 'twit': 16392, 'button': 4487, 'fundamentalist': 17253, 'urging': 16439, 'tilly': 9334, 'sequences': 923, 'awhile': 4482, 'armed': 4480, 'instinct': 4723, 'drastically': 7889, 'reflect': 4971, 'eagle': 6615, 'debating': 12902, 'fails': 934, 'tuned': 6364, 'candidates': 10495, 'astaire': 3903, 'ostensibly': 8744, 'spins': 11626, 'convincingly': 4702, 'charisma': 3257, 'suggested': 4458, 'peretti': 17859, 'abundance': 8898, 'brunette': 9430, 'subjected': 4457, 'concentrating': 16919, 'stronger': 4456, 'stilted': 4454, 'rotation': 14641, 'deeper': 3051, 'steps': 4453, 'innovation': 17457, 'sole': 4452, 'avoiding': 6800, 'witnessing': 7796, 'negligible': 15883, 'illustrate': 7121, 'seeks': 4447, 'scotland': 4445, 'reviewing': 4440, 'rejoice': 18008, 'camcorder': 6043, 'marbles': 17652, 'judges': 6887, 'rave': 4439, 'resource': 18029, 'meanders': 12236, 'othello': 4434, 'befriends': 5727, 'novak': 4433, 'nicholas': 4431, 'hook': 4423, 'expressed': 4413, 'endings': 4410, 'trees': 4464, 'education': 4407, 'dispute': 14012, 'completists': 13918, 'disappear': 4401, 'madchen': 15796, 'depicting': 4399, 'dolph': 5182, 'conceive': 15254, 'contest': 4392, 'siege': 10300, 'citizens': 5582, 'comebacks': 16897, 'clones': 16880, 'menu': 10165, 'concentrated': 7864, 'cake': 4385, 'looks': 296, 'newspaper': 3436, 'foxes': 9082, '3rd': 4374, 'dashing': 6826, 'yu': 18542, 'progressed': 6939, 'suite': 10339, 'colonel': 4793, '1993': 4372, 'peters': 5246, 'yellow': 4371, 'bake': 11803, 'tour': 3300, 'wee': 11727, 'candidate': 5885, 'widow': 4370, 'mimicking': 15840, '2003': 3399, 'leaud': 17575, 'voight': 4364, 'vivid': 4363, 'companion': 4064, 'crypt': 9484, 'may': 233, 'island': 1042, 'deliberately': 4802, 'exploding': 7341, 'subtext': 7483, '1924': 16536, 'jaime': 15703, 'wager': 9837, 'losing': 2126, 'entertained': 1902, 'rated': 1262, 'perennial': 11487, 'everywhere': 2396, 'cleaning': 5891, 'joint': 7973, 'possibility': 4337, 'train': 1307, 'sparkle': 10923, 'contrived': 2004, 'poetic': 4336, 'bluntly': 11104, 'nicole': 4332, 'dismembered': 15351, 'speakeasy': 11621, 'murdering': 4331, 'heartbroken': 17367, 'golden': 1985, 'ludicrously': 10727, 'obstacles': 6920, 'matthew': 4328, 'intercut': 14273, 'penn': 5393, 'lifestyle': 4326, 'voice-overs': 10998, 'justin': 4324, 'predictions': 17913, 'prisoners': 4751, 'winkler': 18515, 'tongue-in-cheek': 7493, 'suspenseful': 2742, 'singers': 5419, 'inferior': 4322, 'eats': 6432, 'tenuous': 14815, 'ashton': 11074, 'illness': 4320, 'storms': 14768, 'formula': 1968, 'beethoven': 16701, 'hates': 4318, 'potter': 5968, 'pauly': 17853, 'ensue': 6848, 'fulci': 4316, 'ranges': 9715, 'doo': 4312, 'slapstick': 2649, 'complexity': 4308, 'handsome': 2469, 'chang': 12820, 'propaganda': 2270, 'caricatures': 4303, 'exciting': 1084, 'irresistible': 10685, 'paranoid': 6695, 'adequately': 10432, 'chop': 8563, 'outwit': 17820, 'matheson': 14387, 'almodovar': 13747, 'bold': 4298, 'laughed': 1284, 'assault': 4295, 'legs': 3371, 'april': 4294, 'suitable': 4125, 'agrees': 4292, '**********': 13697, 'poe': 5659, 'unemployment': 11700, 'witnesses': 4289, 'yank': 16508, '87': 12664, 'willie': 4287, 'musician': 4950, 'smoke': 3800, 'perfect': 396, 'viewings': 4285, 'jeanette': 11380, 'position': 2771, 'enforced': 15425, 'anticipation': 4900, 'same': 178, 'inescapable': 14260, 'cleverly': 4305, 'btk': 7555, 'conclusions': 8218, 'le': 3484, 'chapel': 15199, 'easy': 777, 'settle': 4276, 'regardless': 4272, 'beds': 15104, 'fully': 1494, 'breaker': 16771, 'reduced': 4271, 'achieved': 3511, 'delirium': 17009, '54': 9382, 'dogs': 2724, 'disk': 9999, 'porno': 4266, 'glimmer': 17295, 'separating': 14690, 'jr': 1541, 'outcome': 4262, 'oregon': 13307, 'begin': 873, 'liberty': 7675, 'crackling': 13948, 'guest': 4245, 'prc': 14555, 'eugene': 4239, 'brettschneider': 12780, 'sluggish': 10913, 'dutch': 4236, 'stirba': 16286, 'seriously': 614, 'wolves': 12629, 'pasteur': 12316, 'monk': 5090, 'disappeared': 4233, 'dinosaur': 4921, 'uncompromising': 12578, 'developing': 4231, 'giggles': 8660, 'comparing': 4226, 'coffee': 4225, 'near': 790, 'movie-goers': 14426, 'let-down': 12192, 'attorney': 4216, 'cancer': 5735, 'dearly': 15312, 'altman': 4213, 'alexander': 3512, '100%': 4209, 'g-girl': 17261, 'iturbi': 10117, 'ifc': 17415, 'worried': 4208, 'tangent': 18321, 'all-out': 15018, 'tongue': 4206, 'villa': 10995, 'launch': 5377, 'outfits': 4955, 'spirits': 4202, 'producer': 1552, 'misery': 4948, 'butt': 4302, 'hokum': 12109, 'ought': 4186, 'string': 4455, 'miracle': 4179, 'webster': 12615, 'huh': 3537, 'companies': 4913, 'superimposed': 18288, 'consistent': 3680, '1928': 8891, 'menace': 4177, 'imagined': 4173, 'cliché': 1517, 'sony': 16243, 'hyde': 4171, 'nixon': 13287, 'greek': 4167, 'ppl': 17909, 'archaeological': 15045, 'spectacularly': 10924, 'dolls': 4162, 'doubt': 850, 'dedicated': 4161, 'avenging': 12733, 'cure': 4160, 'dazzled': 11943, 'stricken': 10334, 'heat': 3534, 'waves': 4776, 'commit': 4157, 'taught': 4460, 'circle': 4154, '.': 3, 'area': 1634, 'centers': 4149, 'john': 291, 'seaver': 11591, 'causing': 4148, 'sofia': 13514, 'sacrifice': 3957, 'banned': 4143, 'avoided': 4142, 'rash': 11527, 'speaks': 2615, 'gradual': 14164, 'pirate': 6139, 'fills': 6628, 'first-time': 12039, 'aforementioned': 4139, '9/11': 4136, 'capers': 16819, 'wreck': 4134, 'ancestry': 15027, 'riddle': 12416, 'virgin': 4132, 'vegas': 4131, 'owner': 1924, 'steam': 6746, 'symbolism': 4128, 'gerard': 4317, 'farce': 3762, 'styles': 4123, 'stale': 4121, 'prop': 9242, 'spain': 4119, 'rep': 14611, 'what': 53, 'abuses': 14987, 'mcclure': 10159, 'episodes': 573, 'south': 1198, 'bulgaria': 12790, 'silence': 4116, 'disc': 4402, 'maggots': 14365, 'celeste': 8201, 'cinematographer': 5041, 'shaw': 4114, 'stanley': 2857, 'sandra': 4113, 'chased': 4152, 'windows': 7254, 'pierce': 4101, 'abel': 14985, 'gadget': 4166, 'shots': 705, 'reserved': 7187, 'fencing': 8649, 'payed': 12320, 'persons': 4100, 'unlikable': 4999, 'parent': 4099, 'drowns': 15392, 'sledgehammer': 12476, 'middle-aged': 4739, 'chuckled': 16862, 'lenny': 12190, 'sylvia': 7486, 'reunites': 14624, 'imitate': 9129, 'jerk': 4087, 'popeye': 9230, 'film-going': 17200, 'dewey': 12923, 'engagement': 10021, 'illogical': 4084, 'deemed': 7876, 'hasselhoff': 10651, 'gift': 4081, 'quotable': 8047, 'dreadful': 1923, 'creek': 6413, 'fascinated': 4075, 'grendel': 7111, 'showed': 1116, 'irwin': 10686, 'discussing': 5908, 'links': 10141, 'fussy': 17259, 'knowingly': 14311, 'cultured': 13963, 'standard': 1154, 'cinematography': 638, 'divorce': 4070, 'crime': 838, 'disliked': 4068, 'glass': 4420, 'does': 133, 'avi': 16668, 'bête': 13854, 'overwhelmingly': 12308, 'confrontation': 6591, 'defends': 15319, 'affinity': 11763, 'comfortable': 4063, 'news': 1612, 'stared': 16277, 'organization': 7698, 'cia': 4059, 'attenborough': 4046, 'blues': 4050, 'melrose': 17681, 'delon': 12912, 'antics': 4045, 'pick': 1306, 'well-known': 4039, 'detailed': 4507, 'freud': 15514, 'chad': 11872, 'grand': 1848, 'strauss': 14770, 'substitute': 7230, 'blaxploitation': 8537, 'upper': 4037, 'bont': 16753, 'pretension': 11503, 'tiresome': 4034, 'tear': 4033, 'wilderness': 5002, 'wolfe': 10406, 'abilities': 4375, 'choose': 2438, 'sh': 10897, 'superhero': 4030, 'convict': 6231, 'sings': 4026, 'simpson': 4025, 'rocket': 4023, 'seventh': 8803, 'shut': 3102, 'students': 1410, 'stack': 5535, 'ducks': 14033, 'downtrodden': 14027, 'rank': 4019, 'tiring': 10363, 'haven': 669, 'pulling': 3878, 'pun': 4016, 'conform': 16925, 'lesser-known': 15761, 'psychiatrist': 4015, 'pokemon': 4013, 'defeat': 4801, 'foul': 4816, 'consists': 3084, 'true': 298, 'passionate': 4011, 'improbable': 5077, 'joke': 907, 'funerals': 17254, 'picked': 1421, 'manhattan': 4009, 'commendable': 7299, 'awfully': 5022, 'literature': 4007, 'store': 1089, 'kirk': 4630, 'manufactured': 10738, 'et': 3998, 'craig': 3989, 'ear': 6841, 'tigers': 9807, 'couples': 3988, 'captivating': 3986, '1968': 3974, 'catchphrase': 15189, '1930s': 3973, 'ignore': 3020, 'orson': 4096, 'unoriginal': 4772, 'american': 321, 'lupin': 12215, 'clichés': 1652, 'soviet': 3962, 'rid': 3955, 'laine': 17560, 'poverty': 3792, 'provide': 1719, 'amateurish': 2351, 'palermo': 14498, 'wondered': 3109, 'music': 230, 'props': 3949, 'terrace': 16339, 'seidl': 14685, 'hall': 2728, 'picking': 3947, 'fluke': 13012, 'box': 961, 'vibe': 9832, 'baton': 16696, 'online': 3945, 'parodies': 7702, 'throat': 4567, 'increasingly': 3935, 'worms': 6189, 'hart': 3931, 'natured': 13276, 'tire': 9808, 'history': 490, 'financial': 4076, 'grounds': 6263, 'shootout': 8084, 'enormous': 3926, 'alphabet': 13749, 'behaviour': 5025, 'knoxville': 10132, 'edgar': 3924, 'claptrap': 10514, 'duke': 3923, 'downey': 3921, 'definite': 3918, 'jon': 2607, 'struck': 3196, 'inherits': 11365, 'village': 1690, 'catchy': 5035, 'computer': 1281, 'senior': 5987, 'combat': 3912, 'pippi': 17880, 'weary': 11726, 'insults': 6104, 'checked': 3911, 'find': 173, 'capturing': 3909, 'afterward': 6030, 'landscape': 3939, 'reeling': 17998, 'ariauna': 16647, 'flags': 13010, 'seeing': 297, 'watanabe': 16476, 'grasshopper': 14169, '9/10': 3899, 'cate': 12813, 'wonders': 3898, 'pre': 11499, 'hottest': 7372, 'website': 3896, 'christmas': 1012, 'hasty': 14200, 'obligatory': 5099, 'latin': 5217, 'self-pity': 18123, 'hermann': 15606, 'transitions': 8850, 'striking': 3890, 'ethnicity': 17154, 'specially': 3888, 'shark': 3887, 'm': 149, 'tissues': 18359, 'purchase': 3880, 'colombo': 16894, 'punk': 3879, 'dragging': 7324, 'lunacy': 17617, 'rambo': 4656, 'psychotic': 3877, 'practice': 3876, 'trains': 7237, 'performer': 3873, 'cleaner': 8979, 'antwerp': 16628, 'mummy': 3868, 'tad': 4032, 'simplistic': 4450, 'instructors': 17467, 'intrigue': 3857, 'flute': 13014, 'develops': 2941, 'hatred': 3854, 'dire': 3623, 'wright': 6549, 'cold-blooded': 15226, 'funeral': 3852, 'permanently': 9224, 'flash': 3850, 'dollar': 3123, 'uncomfortable': 3344, 'mccarthy': 7147, 'bought': 1107, 'currently': 3839, 'nina': 6916, 'tarnished': 18325, 'blend': 3829, 'demolished': 17012, 'blowing': 5029, 'transfixed': 16367, 'eyes': 529, 'bitter': 3828, 'third': 869, 'remind': 3141, 'ambitious': 3822, 'time': 64, 'wannabe': 3816, 'passive': 17846, 'perpetrated': 15968, 'ups': 3814, 'aimlessly': 8907, 'crazies': 16963, 'barnaby': 15091, 'hera': 13088, 'tap': 3809, 'steel': 4875, 'swear': 3806, 'superbly': 3805, 'stinks': 3801, 'alfred': 5144, 'stunt': 3803, 'trimmed': 18391, 'harold': 4719, 'mortality': 14423, 'abu': 9864, 'disabled': 6238, 'pristine': 10832, 'stress': 4028, 'troy': 11694, 'reads': 3796, 'wang': 4367, 'cole': 3746, 'quotes': 3795, 'mall': 4176, 'replicas': 18018, 'opposed': 3789, 'task': 3002, 'lesser': 3778, 'disorder': 5181, 'antithesis': 15038, 'morales': 12255, 'rips': 7733, 'karloff': 3777, 'error': 7339, 'global': 3769, 'game': 510, 'grams': 13052, 'gandhi': 3767, 'trainwreck': 16365, 'fond': 3765, 'pecker': 5820, '*my': 16522, 'morbius': 14421, 'operating': 8372, 'aiello': 10435, 'felix': 3763, 'explaining': 3761, 'clad': 7062, 'differences': 3754, 'manson': 12222, 'significantly': 8809, 'brigham': 13838, 'daring': 3752, 'cooks': 16940, 'thief': 3198, 'apartheid': 7812, 'terrified': 5854, 'whisper': 16488, 'weeks': 2322, 'interestingly': 5481, 'boards': 7280, 'cats': 3744, 'positively': 4747, 'practicing': 9696, 'villainess': 16458, 'diamond': 3622, 'pulp': 4269, 'payback': 14511, 'albeit': 3738, 'collide': 13911, 'wonderland': 5137, 'groom': 15564, 'rex': 4109, 'ad': 3737, 'upset': 3731, 'was': 17, 'unbelievably': 3730, 'demons': 2393, 'crude': 2353, 'chocolate': 9953, 'cheery': 12824, 'disease': 3526, 'advertising': 3976, 'subjects': 3727, 'blank': 4906, 'yard': 5431, 'stops': 3726, 'solve': 3721, 'fitzgerald': 6254, 'mecca': 15820, 'rome': 3717, 'knockoff': 13177, 'aspiring': 5149, 'returning': 3716, 'sense': 307, 'pointed': 2994, 'rangers': 3714, 'autobiography': 7267, 'voters': 13649, 'watson': 4368, 'shawshank': 9279, 'norman': 3711, 'berkeley': 9416, 'meaningless': 3707, 'jaw-dropping': 12158, 'westerns': 2593, 'lou': 3705, 'retain': 11554, 'portraying': 2105, 'decision': 2299, 'prone': 10238, 'bosom': 15136, 'climatic': 13901, 'knock': 3703, 'journalist': 3702, 'arrival': 4786, 'downtown': 8620, 'ignored': 3700, 'devon': 9028, 'mukhsin': 10178, 'identify': 3699, 'gradually': 3698, 'ouch': 17815, 'troopers': 11692, 'feed': 3696, 'platinum': 17887, 'give': 208, '-like': 16525, 'offended': 4184, 'restrained': 6516, 'seconds': 1656, 'elsewhere': 3691, 'principle': 8042, 'towelhead': 18373, 'downhill': 3690, 'gaelic': 13027, 'venezuelan': 11710, 'honest': 1165, 'bleak': 3572, 'demands': 3686, 'creators': 3681, 'spock': 4873, 'wildlife': 16492, 'duty': 4072, 'killed': 564, 'survivors': 4127, 'proceedings': 3794, '$7': 11030, 'loneliness': 5492, 'seedy': 5986, 'clues': 3677, 'insists': 5215, 'cliche': 3676, 'experiment': 2725, 'adorable': 3672, 'giancarlo': 12067, 'beatty': 3826, 'contained': 3915, '1930': 3670, 'narrates': 14439, 'sugiyama': 12516, 'workers': 3669, 'liberation': 15763, 'unfolded': 10383, 'warrior': 3666, 'ward': 3665, 'undoubtedly': 3664, 'encounter': 2840, 'defining': 8234, 'syndicated': 18307, 'necrophilia': 13278, 'tarantino': 4878, 'thirty': 3660, 'madonna': 3487, 'credible': 3262, 'strikes': 3658, 'casino': 7060, 'weaker': 5552, 'cities': 4390, 'fiend': 8271, 'lookout': 17606, 'sport': 3656, 'breeds': 16774, 'similarities': 3655, 'chatter': 16846, 'height': 5072, 'triple': 7242, 'unto': 12589, 'anchors': 9893, 'welch': 11004, 'plastic': 3649, 'innocents': 17455, 'mandy': 7681, 'kylie': 17553, 'janet': 8692, 'overdone': 3646, 'minimal': 3642, 'maggie': 3639, 'slacker': 13504, 'investigation': 3634, 'overcoming': 13313, 'social': 1057, 'carolina': 13863, 'view': 617, 'herman': 6266, 'instantly': 3633, 'obnoxiously': 17786, 'hunting': 3632, 'influenced': 3429, 'hang': 3631, 'curtains': 9981, 'losers': 4635, 'raptor': 12383, 'impresses': 9131, 'groups': 3629, 'inept': 2635, 'trump': 14842, 'credits': 936, 'guise': 10640, 'receive': 4192, 'wendy': 6547, 'faust': 17185, 'interrupted': 8688, 'illegal': 4172, 'exotic': 3626, 'steele': 4763, 'damage': 4704, 'completist': 16909, '1938': 8893, 'dynamic': 3624, 'colour': 3619, 'blatant': 3617, 'traveling': 4035, 'phillip': 4851, 'beating': 3616, 'daisy': 5052, 'altogether': 3615, 'heder': 17368, 'congratulated': 15259, 'toys': 3609, 'mickey': 3780, 'outstandingly': 15936, 'spoiling': 8822, 'ignoring': 7120, 'scientific': 3601, 'snake': 4667, 'response': 3600, 'raised': 2772, 'likely': 1647, 'israel': 4726, 'declare': 8232, 'isle': 17490, 're': 201, 'tangible': 16324, 'stand-up': 5684, 'ki': 14305, 'photographer': 3596, 'unwatchable': 3813, 'maria': 3590, 'hearted': 5205, 'lily': 3587, 'inane': 3933, 'wing': 3243, 'kiss': 3586, 'iii': 3584, 'hartley': 3582, 'very': 58, 'goodness': 3581, 'becoming': 1467, 'existed': 3579, 'sagal': 18078, 'cotten': 16950, 'guidelines': 9102, 'equal': 3578, 'corrupt': 3575, 'complaint': 3574, 'divers': 15362, 'hanzo': 8294, 'shtick': 9759, 'broad': 3573, 'impression': 1322, 'akshay': 3570, 'cigars': 15216, 'quinn': 4017, 'clueless': 5447, 'saccharine': 13454, '**': 3568, 'vast': 4361, 'humility': 14229, 'increase': 11357, 'timeless': 3565, 'thrill': 3563, 'succeed': 3559, 'bible': 3674, 'slightest': 3557, 'producing': 3553, 'preview': 3552, 'bay': 5437, 'partly': 3549, 'vs': 1817, 'shea': 11603, 'opened': 3547, 'dissatisfied': 15356, 'robinson': 4661, 'gross': 3173, 'depressive': 17016, 'irony': 3539, 'singer': 2091, 'layer': 12186, 'suggests': 3891, 'investigate': 3538, 'prim': 16017, 'sp': 10922, 'understanding': 1999, 'sooraj': 16245, 'goals': 7637, 'cherish': 12827, 'ex': 3528, 'batmobile': 16695, 'rpg': 14645, 'emily': 3527, 'hostile': 8301, 'sections': 7745, 'rubbed': 18064, 'compounded': 16913, 'burning': 3519, 'lap': 10137, 'partake': 17844, 'pour': 10228, 'attentions': 12726, 'flick': 465, 'breakout': 15145, 'annie': 3513, 'brando': 3830, 'intelligence': 1730, 'wizard': 4582, 'addicted': 5143, '1999': 3509, 'trio': 3663, 'jumped': 4424, 'runway': 18067, 'madmen': 17637, 'ground': 1637, 'pimp': 11490, 'threatened': 5539, 'foil': 7349, 'blaise': 6395, 'bare': 4047, 'sides': 3499, 'sometimes': 540, 'cylons': 9486, 'templars': 16334, 'outer': 4542, 'outlook': 8021, 'lulu': 9167, 'real-life': 3497, 'missed': 990, 'about': 47, 'rap': 3496, 'suited': 3728, 'planning': 3494, 'worthy': 1912, 'flipped': 14110, 'entity': 11244, 'vote': 2277, 'marco': 17654, 'maybe': 301, 'nuclear': 3491, 'neat': 3490, 'chicago': 4491, 'riding': 3035, 'back-story': 15074, 'hes': 10091, 'mate': 3488, 'families': 2101, 'skits': 4117, 'jealous': 3483, 'aniston': 8163, 'co-worker': 8569, 'star-studded': 13544, 'provides': 1627, 'diversion': 14016, 'homage': 3479, 'cramped': 12876, 'paying': 2883, 'employing': 15419, 'smack': 10311, 'sure': 249, 'hire': 3478, 'health': 3477, 'nada': 12268, 'clever': 1083, 'solely': 4349, 'delights': 10547, 'next': 389, 'flicks': 1401, 'provided': 2453, 'distant': 3469, 'hackneyed': 7113, 'matriarch': 14389, 'bar': 1500, 'sung': 6168, 'hearts': 3533, 'cox': 3467, 'awareness': 5723, 'corpse': 3466, 'meanings': 8349, 'sen': 12447, 'convey': 3465, 'fades': 9064, 'renditions': 13416, 'pussy': 13386, 'cage': 1605, 'childish': 3461, 'horrifyingly': 15617, 'careers': 3459, 'belongs': 3457, 'goldblum': 6084, 'ammunition': 16611, 'classes': 4061, 'chainsaw': 5163, 'horns': 12113, 'basinger': 3456, '16': 3454, 'weller': 9360, 'tremendous': 3449, 'witherspoon': 7009, 'bags': 10463, 'woo': 5003, 'machine': 1955, 'year': 326, 'sticks': 3445, 'grinding': 17315, 'bone': 4384, 'unflinching': 16413, 'shoes': 3441, 'wound': 6374, 'schizophrenic': 13465, 'satan': 3439, 'ritchie': 4975, 'lab': 3431, 'inhabited': 6654, 'stagecoach': 10327, 'hence': 3425, 'thirty-something': 18344, 'handy': 11322, 'fears': 3999, 'evident': 3420, 'elephant': 3419, 'spotlight': 8100, 'provokes': 12357, 'depression': 3415, 'signing': 10301, 'mistaken': 3592, 'dancer': 3414, 'alleys': 16595, 'splatter': 4203, 'dip': 17042, 'tail': 6359, 'apartments': 12703, 'carries': 3410, 'paxton': 4263, 'dialogues': 3576, 'cameron': 3409, 'joanna': 8319, 'hispanic': 9579, 'birthday': 3407, 'personalities': 3099, 'regional': 18000, 'audio': 3405, 'playfulness': 17889, 'cross': 2005, 'zadora': 11022, 'inherently': 10679, '50s': 4473, 'reform': 13413, 'jesse': 4088, 'realise': 3882, 'mundane': 4538, 'cannibalistic': 15178, '1914': 13699, 'package': 5961, 'argument': 3402, 'om': 14476, 'amy': 3401, 'mind-boggling': 17697, 'mission': 2178, '4/10': 3400, 'joe': 888, 'antiques': 16626, 'perversion': 9685, 'alejandro': 13740, 'setup': 4984, 'unpleasant': 4282, 'ethnic': 6248, 'dealt': 3917, 'kingpin': 17539, 'surfing': 3391, 'stan': 3389, 'greg': 4520, 'covering': 6412, 'shape': 3386, 'gray': 5780, 'tube': 4359, 'cringe': 4797, 'lugosi': 2639, 'twee': 16391, 'amusement': 6788, 'resembles': 4194, 'mighty': 4330, 'scifi': 5277, 'researcher': 13418, 'providing': 3378, 'thugs': 3564, 'touchy': 18370, 'float': 9080, 'ourselves': 3377, 'exorcism': 14078, 'kissed': 13175, 'rathbone': 8407, 'inquiry': 17461, 'mann': 3374, 'locked': 3373, 'motions': 7153, 'factory': 3367, 'impressing': 12127, 'tasteless': 5127, 'drafted': 12946, 'queens': 8403, 'religions': 12400, 'essential': 3365, 'rogers': 2775, 'dinosaurs': 3363, 'cardboard': 3358, 'bears': 3355, 'wallace': 3347, 'videos': 3346, 'potential': 945, 'wide': 2349, 'uninspired': 3345, 'subsequent': 3340, 'successor': 10938, 'grey': 2759, 'manipulated': 8342, 'purely': 3335, 'real-time': 17987, 'namely': 4743, 'funded': 15517, 'antwone': 5019, 'jamie': 3331, 'soothe': 18219, 'haddad': 17338, 'hysterical': 3329, 'malevolent': 13218, 'bacall': 5023, 'collected': 15229, 'stop-motion': 9787, 'jeunet': 17508, 'host': 3328, 'heston': 3326, 'earth': 633, 'anti-christ': 12699, 'shock': 1720, 'kirsten': 6658, 'drink': 3317, 'bars': 6392, 'connected': 3314, 'making': 257, 'half-baked': 12092, 'bachelor': 5024, 'comprehend': 7863, 'delighted': 5904, 'arduous': 12710, 'appearing': 3307, 'cow': 6599, 'naiveté': 13273, 'angle': 3305, 'snot': 16233, 'reels': 11532, 'walken': 3302, 'celebrity': 3460, 'importantly': 3856, 'dramatically': 7600, 'fearless': 10041, 'tribute': 3301, 'toilet': 3299, 'lynda': 15792, 'ticket': 3298, 'attending': 6390, 'fighter': 3764, 'tea': 3297, 'sophisticated': 3294, 'pretext': 16016, 'horizons': 13107, '90s': 4137, 'term': 2620, 'shirley': 3292, 'hundred': 4319, 'sniffing': 12478, 'discovery': 4234, 'joel': 6107, 'crucifix': 16970, 'scripted': 3289, 'simply': 332, 'medusan': 17677, 'windshield': 14922, 'resort': 4341, 'excruciating': 6437, 'popcorn': 3283, 'du': 6837, 'performers': 3282, 'followers': 7095, 'waving': 13660, 'roaming': 9735, 'massacre': 3279, 'stillness': 18254, 'liberal': 3278, 'erased': 12976, 'convicts': 12869, 'raw': 2997, 'estate': 3760, 'gotta': 3274, 'liza': 9626, 'skating': 18179, 'scholarship': 18103, 'codename': 16888, 'frustrated': 3273, 'husband': 590, 'ongoing': 10196, 'atheist': 15057, 'flood': 13011, 'falk': 3271, 'campy': 2522, 'unchallenged': 18410, 'beans': 10467, 'portuguese': 6935, 'careful': 4224, 'relatives': 4105, 'directorial': 3264, 'megha': 17680, 'cruise': 3263, 'grudgingly': 17325, 'committed': 3260, 'club': 1147, 'husbands': 5361, 'cell': 3256, 'attempting': 2461, 'kubrick': 4090, 'honey': 10096, 'muni': 7155, 'card': 3255, 'samurai': 3958, 'cameos': 3254, 'border': 3251, 'brow': 16782, 'pervert': 8386, 'chick-flick': 15207, 'adventure': 1130, '8/10': 3246, 'revival': 7189, 'winter': 3244, 'rude': 5273, 'weeping': 12616, 'silver': 3239, 'represents': 3234, 'threats': 14825, 'olivier': 3232, 'tapestry': 18322, 'wonderful': 357, 'histrionic': 17385, 'promote': 5827, 'dame': 7314, 'hiking': 14215, 'starlet': 10329, 'lloyd': 3225, 'contributed': 8581, 'insulting': 3223, 'mama': 5224, 'imagery': 3221, 'hole': 3219, 'understood': 2590, 'witch': 1568, 'happily': 3218, 'billed': 4694, 'closely': 3522, 'z-grade': 13689, 'explosions': 3694, 'coincidentally': 13908, 'daddy': 3213, 'countries': 3212, 'metal': 2793, 'ironies': 15695, 'requires': 3235, 'chorus': 5167, 'assuming': 6203, 'papers': 7167, 'chair': 3210, 'bride': 3208, 'mr': 471, 'attached': 3204, 'laziness': 12187, 'kessler': 12167, 'attacks': 3248, 'redeem': 4863, '500': 9855, 'caucasian': 11130, 'vague': 3201, 'chasing': 3834, 'lamarr': 7981, 'indiana': 6652, 'shortly': 3194, 'locking': 17597, 'shines': 3193, 'motorbike': 17728, 'holly': 3536, 'biased': 4787, 'tips': 10962, 'rush': 3192, 'pat': 3186, 'slackers': 11611, 'severely': 5281, 'prom': 3598, 'tolkien': 9337, 'noise': 3185, 'cbc': 7285, 'solo': 5681, 'nine': 3184, 'naturalism': 14443, 'joseph': 1891, 'li': 3181, 'puddle': 11518, 'intensity': 3178, 'unimpressive': 8859, 'reasonable': 4555, 'if': 52, 'lusting': 17621, 'placed': 2885, 'style': 456, 'tomba': 16350, 'mix': 1466, 'statue': 5845, 'helen': 3174, 'explore': 3170, 'adrienne': 11044, 'eerie': 3168, 'hid': 11338, 'crimes': 3165, 'deus': 11961, 'commenter': 11149, 'engine': 8634, '0': 2486, 'classed': 16875, 'plight': 6142, 'catholic': 3162, 'one-dimensional': 4260, 'basement': 3158, 'pairing': 8380, 'brilliant': 492, 'spoiled': 3146, 'meatball': 14398, 'yelling': 5139, 'rebuilt': 17990, 'savage': 3142, 'elia': 10577, 'redemption': 3140, 'partition': 7168, 'envy': 6078, 'luckily': 3135, 'translator': 14835, 'maya': 11425, 'installment': 3133, 'challenged': 5038, 'mutant': 6911, 'overnight': 10786, 'documentaries': 3011, 'authority': 3904, 'entry': 3126, 'caruso': 11128, 'punished': 10846, 'destroying': 4919, 'vocal': 6542, 'tng': 13591, 'cube': 3121, 'considering': 1156, 'effortlessly': 9514, 'kargil': 14300, 'cynthia': 11941, 'carried': 3115, 'banana': 8527, 'defiant': 17005, '2001': 3111, 'lets': 1580, 'curtis': 3990, 'w': 2970, 'travels': 3108, 'thankfully': 3106, 'digicorp': 11966, 'sheriff': 2155, 'sixties': 4199, '12th': 14958, 'suffered': 3104, 'tumultuous': 16387, 'san': 2710, 'madagascar': 17633, 'spin': 3103, 'fellows': 15474, 'choice': 1076, 'philosophical': 4012, 'joining': 7665, 'lucas': 3094, 'london': 1268, 'superior': 1743, 'rideau': 13433, 'lords': 10722, 'lisa': 3093, 'manipulation': 7997, 'ranging': 8406, '360': 11751, 'new': 164, 'gratitude': 14171, 'ft': 14128, \"'\": 9, 'boy': 408, 'enmeshed': 17136, 'cheerful': 8205, 'hackers': 17337, 'conviction': 6408, 'gain': 3088, 'treated': 1997, 'choices': 3083, '7/10': 3079, 'root': 4197, 'biting': 6575, 'hayward': 9569, 'per': 3069, 'charlton': 6048, 'incompetent': 5078, 'arrogance': 6793, 'robbed': 8062, 'lights': 3063, 'well-filmed': 18497, 'innocence': 3330, 'deceit': 8231, 'apollonia': 15040, 'bout': 9930, 'puke': 12361, 'witless': 10404, 'lessons': 3061, 'karen': 3060, 'tame': 3808, 'greatly': 3056, 'earnest': 6431, 'joshua': 10694, 'taken': 653, 'eye-candy': 11259, 'ghosts': 3054, 'pleasantly': 3100, 'fish': 3053, 'talks': 2366, 'dime': 11207, 'blake': 3048, '$8': 12641, 'wickedly': 12624, 'beaten': 3047, 'arms': 3046, 'x': 3044, 'admirer': 6028, 'heiress': 9574, 'furthermore': 4165, 'wealthy': 3042, 'von': 3041, 'dig': 3416, 'exploit': 7910, 'rapid': 9247, 'vomited': 18482, 'sympathy': 3039, 'catered': 16831, 'feelings': 1406, 'asian': 2112, 'amaze': 16605, 'strip': 3038, 'catching': 4387, 'misfire': 9187, 'segments': 3036, 'naturally': 2104, 'punch': 3031, 'protect': 3030, 'nbc': 7157, 'airing': 8908, 'presentation': 3029, 'estelle': 12977, 'inherited': 9136, '2d': 16542, 'continent': 9471, 'valuable': 4886, 'depraved': 9991, 'mesmerized': 10170, 'month': 3025, 'bonanza': 8188, 'take': 207, 'ironic': 3023, 'birds': 5321, 'voyager': 6543, 'hellraiser': 13086, 'slip': 7469, 'squarely': 13539, 'inspiration': 3022, 'richards': 3884, 'buildings': 4052, 'attributed': 9901, 'americana': 13751, 'examination': 4811, 'taboo': 5852, 'oeuvre': 12287, 'recommended': 1225, 'starewicz': 16278, 'served': 3075, 'congregation': 16926, 'bush': 3520, 'friendly': 3015, 'pre-teen': 11500, 'cried': 3682, 'gloss': 14157, 'becomes': 505, 'expressions': 3014, 'expression': 3013, 'heyday': 10092, 'skid': 16205, 'portman': 10224, 'britain': 3008, 'group': 542, 'katt': 17528, 'editor': 3925, 'valentine': 4681, 'zone': 3006, 'writer/director': 3005, 'neve': 11457, 'brad': 2627, 'lifted': 7140, 'adored': 12677, 'text': 3003, '*spoiler': 16523, 'precious': 2995, 'glasses': 4820, 'immaculate': 14244, 'buddies': 3209, 'hottie': 13112, 'on': 27, 'patient': 2992, 'secretary': 3602, 'rendering': 10258, 'lonely': 2987, 'documents': 9503, 'pulled': 1796, 'hindus': 17384, 'addresses': 9873, 'businessman': 5032, 'realism': 2131, 'forgettable': 2982, 'unreal': 5299, 'flow': 2981, 'cynical': 2976, 'journalism': 15716, 'professor': 2476, 'calling': 2975, 'lethargic': 14333, 'bettie': 2973, 'composer': 5044, 'anywhere': 1785, 'dawn': 3122, 'stockwell': 9311, 'dyke': 7330, 'prefer': 2956, 'flavors': 17212, 'rug': 16137, 'exteriors': 15455, 'artifacts': 13765, 'kinda': 1646, 'ahead': 1314, 'berlin': 4485, 'judi': 9611, 'unleash': 16421, '12': 1882, 'slice-of-life': 18191, 'honour': 11343, 'ahab': 11048, 'jewish': 2949, 'wheel': 7005, 'jet': 2948, 'marker': 17656, 'tribal': 9819, 'hype': 2946, 'idiocy': 10672, 'waitress': 4682, 'fbi': 2944, 'primal': 10234, 'commercials': 3411, 'meaningful': 3182, 'switzerland': 8468, 'drivel': 2942, '1975': 5863, 'critical': 2939, 'berry': 8941, 'crisis': 2938, 'hideously': 14213, 'caan': 11860, 'beers': 8531, 'clips': 2936, 'descend': 17019, 'aged': 2934, 'unacceptable': 14853, 'tales': 2931, 'cv': 15300, 'statement': 2928, 'suspension': 5998, 'patriarch': 10210, 'angela': 4293, 'courtney': 11164, 'friendship': 1598, 'evacuated': 15436, '**spoilers**': 14954, 'segal': 6334, 'artificial': 4586, 'all-time': 3247, 'adaptation': 1097, 'impressively': 14248, 'flop': 3323, 'properly': 2924, 'miserably': 2922, 'hooked': 2915, 'alec': 5313, 'walker': 4466, 'ago': 532, 'showcase': 4985, 'dave': 3840, 'bankable': 16687, 'edmond': 14044, 'hamlet': 2913, 'halfway': 2912, 'endearing': 2911, 'mechanic': 13228, '13th': 4779, 'nicolas': 4645, 'badass': 12739, 'aggression': 12685, 'interaction': 4625, 'dot': 17078, 'polite': 10818, 'driver': 2910, 'shifty': 18149, 'coltrane': 12850, 'bore': 2434, 'relatable': 16084, 'spoke': 4874, 'contract': 4065, 'dracula': 2909, 'unit': 5298, 'shakes': 10898, 'concerns': 2905, 'suspended': 8110, 'amuse': 8516, 'broke': 2904, 'precise': 6937, 'chavez': 5039, 'subtlety': 4765, 'abandoning': 14982, 'wife': 314, 'wave': 2898, 'ian': 3932, 'warner': 2897, 'space': 854, 'barbarians': 11087, 'whoopi': 4040, 'mmm': 17705, 'rural': 3384, 'practices': 9695, 'warn': 2896, 'edie': 3996, 'phantom': 4961, 'snakes': 5529, 'tons': 2893, 'spare': 3387, 'pals': 10795, 'titles': 2892, 'satisfactory': 10279, 'table': 2889, 'bros': 5575, 'predator': 6704, 'rival': 2887, 'visits': 5136, 'praise': 2886, 'apprehension': 16636, 'mutiny': 13266, 'comedians': 5743, 'magazine': 3095, 'soles': 8816, 'connors': 10527, 'performed': 2884, 'bullets': 4222, 'hardware': 13071, 'prejudice': 5106, 'mcqueen': 4092, 'noted': 2881, 'fallen': 2875, 'daniella': 16990, 'dislike': 3265, 'cope': 6409, 'chopping': 12832, 'cusack': 2871, 'muscular': 8011, 'scriptwriter': 9745, 'marginal': 14378, 'sits': 4198, 'voyage': 7004, 'sanders': 8075, 'trite': 2860, 'supernatural': 2859, 'platform': 6699, 'scares': 2855, 'withstand': 14927, 'attic': 8929, 'nelson': 2852, 'maddy': 17635, 'culled': 16973, 'igor': 8682, 'lie': 2849, 'labeled': 6893, 'bloke': 9423, 'jake': 2848, 'pleasure': 1679, 'palace': 5240, 'flashback': 2841, 'besieged': 12752, 'tedious': 2619, 'murray': 4539, 'china': 2464, 'delight': 2836, 'sixty': 12470, 'amitabh': 4044, 'lillard': 15768, 'ton': 6362, 'repulsive': 5980, 'westerner': 18500, 'pumping': 16043, 'drummer': 8251, 'comics': 3464, 'canada': 2832, 'sneaky': 14731, 'obsession': 3280, 'zombi': 4687, 'tradition': 2831, 'cruella': 6824, 'zooms': 11025, 'lds': 6112, 'obnoxious': 2826, 'malone': 4531, 'innuendo': 7966, 'graphics': 2821, 'glover': 2820, 'inanimate': 17432, 'handled': 2397, 'godawful': 15539, 'enjoying': 2819, 'doug': 6240, 'bettany': 16716, 'adolescent': 4378, 'daily': 2816, 'limp': 7395, 'due': 682, 'competent': 2815, 'housewives': 9584, 'anger': 2810, 'bread': 6042, 'unconvincing': 2804, 'tee': 13572, 'touched': 2803, 'endless': 1901, 'suffice': 4278, 'bevy': 13811, 'consciousness': 8579, 'baldwin': 4218, 'fly': 2695, 'nervous': 4541, 'overcome': 2795, 'touches': 2483, 'lesbian': 2473, 're-enactment': 17983, 'moralizing': 15859, 'communist': 4307, 'glamor': 13043, 'nazi': 2794, '2nd': 3975, 'mentally': 2792, 'family': 200, 'utilizing': 14881, 'bestiality': 9914, 'lucy': 2791, 'cheating': 4058, 'uplifting': 4283, 'lazy': 2790, 'introduction': 2789, 'transplant': 6994, 'hanks': 2788, 'ample': 8912, 'gilbert': 6635, 'forest': 2787, 'darkness': 2785, 'rouge': 18062, 'conversation': 2784, 'creator': 4916, 'multi-talented': 17735, 'capt': 8554, 'schneebaum': 18102, 'salem': 9267, 'sin': 3293, 'controversial': 2783, 'substandard': 12512, 'comedian': 2782, 'doolittle': 15372, 'twists': 1177, 'appreciated': 2779, '13': 2778, 'throwing': 2777, 'knocked': 5796, 'australia': 2780, 'seek': 2776, 'teach': 3394, 'rings': 2774, 'spreading': 13535, 'grieving': 11311, '17': 3350, 'plates': 17886, 'eleven': 6844, 'kathleen': 6889, 'magical': 2766, 'louis': 2765, 'bicycle': 9417, 'okada': 17796, 'mcconaughey': 14393, 'jungle': 2764, 'make-up': 2920, 'jessica': 2762, 'property': 4753, 'interview': 2761, 'hoffman': 2760, 'dtv': 17092, 'you`ve': 16513, 'lately': 4633, 'doone': 17075, 'luc': 10726, 'enjoyment': 2756, 'merlin': 12241, 'choir': 7292, 'degree': 2753, 'thrilled': 5422, 'timon': 4463, 'cases': 2749, 'bus': 2748, 'elevate': 8628, 'screw': 6157, 'boxes': 8955, 'walks': 2744, 'nauseous': 14445, 'engrossing': 5609, 'facial': 2632, 'apocalypse': 7813, 'spite': 2740, 'primer': 16018, 'established': 3759, 'options': 15921, 'required': 2738, 'print': 2736, 'hamilton': 3772, 'phenomenon': 6698, 'nonetheless': 2734, 'payne': 10212, 'idiot': 2729, 'freeman': 2727, 'blow': 2719, 'salacious': 18080, 'hilariously': 4721, 'tobacco': 18362, 'ah': 3977, 'crud': 15291, 'convoluted': 3119, 'hammered': 12094, 'maid': 5494, 'sleazy': 2712, 'sidney': 2711, 'homeless': 3427, 'repeated': 2709, 'pemberton': 17857, 'opting': 17809, 'whiny': 6548, 'conflicts': 4227, 'heart-wrenching': 9571, 'pulls': 2708, 'int': 15677, 'endurance': 12970, 'roof': 4758, 'prime': 2707, 'originality': 2705, 'based': 412, 'listening': 2702, 'lon': 14345, 'liner': 13200, 'slap': 4200, 'mogul': 17709, 'hypnotizes': 17412, 'spectators': 14746, 'delivering': 4505, 'glaringly': 14152, 'sadistic': 4110, 'claire': 2834, 'jobs': 2700, 'soooo': 9297, 'harsh': 2698, 'mardi': 14376, 'wicked': 3349, 'added': 1249, '21': 6194, 'hooker': 6641, 'franchise': 2697, 'machines': 4637, 'vignettes': 6541, 'eight': 2692, 'stolen': 2802, 'pages': 6304, 'began': 1510, 'wuhrer': 16504, 'words': 700, 'slight': 3442, 'document': 7598, 'towards': 1058, 'darker': 3684, 'code': 2688, 'aquaman': 16638, 'run-of-the-mill': 12429, 'engaged': 3846, 'che': 2687, 'branagh': 2686, 'texts': 14820, 'bomb': 2685, 'warriors': 4467, 'whoever': 2109, 'aired': 2682, 'unrated': 13631, 'rifle': 5265, 'bursting': 12797, 'colorful': 3359, 'itch': 17493, '1st': 2680, 'sammy': 7199, 'immigrant': 6650, 'apprentice': 12708, 'lol': 3432, 'eggar': 12963, 'evidently': 7089, 'technically': 2890, 'stomped': 18260, 'addressed': 6559, 'recruit': 8409, 'acquaintance': 9866, 'spongebob': 18230, 'mass': 2672, 'zane': 4686, 'ill': 2669, 'goa': 15538, 'extraordinary': 2668, 'fascist': 6251, 'deaths': 2661, 'rider': 6953, 'syndrome': 7488, 'assassin': 4901, 'beast': 2657, 'amongst': 2656, 'hardesty': 13070, 'skull': 6341, 'tourist': 8482, 'satisfy': 4443, 'flashing': 9075, 'session': 7208, 'wears': 2653, 'content': 1492, 'throws': 2891, 'stayed': 2652, 'shorts': 2648, 'boring': 341, 'martian': 5808, 'bullet': 5160, 'adventurous': 8905, 'pedigree': 13331, 'shadow': 2647, 'tournament': 13597, 'pile': 2644, '1944': 6554, 'pacino': 2643, 'spooky': 3295, 'propels': 17938, 'ramon': 10246, 'player': 1925, 'conniving': 8576, 'wolf': 3971, 'makeup': 2640, 'salad': 16148, 'prevent': 3793, 'chelsea': 16854, 'angelopoulos': 13753, 'meets': 859, 'apologies': 9397, 'library': 2638, 'western': 1059, 'italy': 2637, 'tommy': 3661, 'rumors': 13450, 'carrell': 10504, 'cool': 589, 'fiercely': 15481, 'kisses': 12173, 'confusion': 3620, 'dear': 3362, 'promisingly': 14565, 'christians': 4389, 'uwe': 4360, 'guard': 2634, 'washing': 10398, 'kathy': 6470, 'false': 2633, 'masala': 10740, 'studios': 2962, 'erotic': 2631, 'besides': 1250, 'beats': 3906, 'georgia': 6446, 'buck': 2628, 'sobbing': 16237, 'betrayed': 7048, 'amazingly': 2625, 'except': 563, 'treatment': 2623, 'own': 222, 'pushes': 8400, 'ghostbusters': 17286, 'constructing': 16931, 'tristan': 9345, 'shades': 5526, 'satisfying': 2613, 'abused': 5310, 'andie': 6563, 'novels': 2611, 'sleeper': 8091, 'signe': 18169, 'whoopie': 16491, 'unintentionally': 3969, 'captain': 1606, 'serve': 2925, 'relation': 4021, 'assistants': 11791, 'corner': 2937, 'indie': 2606, 'hideo': 17377, 'weapon': 3453, 'dino': 11210, 'execution': 2604, 'fetched': 6626, '1954': 9377, 'acknowledged': 8900, 'journalists': 14296, 'breaking': 2597, 'hain': 17341, '~': 5707, 'representing': 10261, 'study': 1839, '***': 2595, 'role': 227, 'testament': 4992, 'blows': 3908, 'threatening': 4462, '14': 2862, 'variety': 2591, 'flowing': 10607, 'lassie': 7136, 'kibbutz': 13172, 'suffering': 2589, 'defending': 8233, 'exploits': 6854, 'misfits': 12246, 'princess': 2580, 'plantation': 7428, 'path': 2579, 'orders': 4746, 'shy': 3959, 'ami': 16610, 'buying': 2561, 'hardy': 2574, 'discrimination': 11970, 'vincent': 3004, 'hammering': 17346, 'masterfully': 5383, 'jaw': 5943, 'complexities': 9965, 'boxers': 16761, 'clark': 2562, 'lindy': 7141, 'test': 2555, 'paradise': 4958, 'jazz': 3776, 'malden': 9172, 'spiral': 7474, 'sharp': 2551, 'drake': 4707, 'arrives': 3308, 'crispin': 7872, 'rights': 2550, 'bystanders': 16803, 'favour': 6253, 'devoted': 3753, 'narration': 2576, 'remote': 2549, 'sooo': 8818, 'privileged': 10235, 'theory': 2830, 'lawyer': 2544, 'partially': 4959, 'overlong': 5237, 'cleese': 8980, 'worthless': 3245, 'invited': 5365, 'roosevelt': 11573, 'irritating': 2543, 'brush': 9431, 'questions': 1211, 'sun': 2617, 'drain': 11217, 'spelling': 10320, 'hank': 4935, 'meanwhile': 2037, 'tetsuo': 12537, 'sleaze': 6975, 'lecherous': 17576, 'jo': 8318, 'gaunt': 15527, 'greats': 9100, 'format': 2542, 'fool': 2541, 'etc': 483, 'nab': 17741, 'harmed': 15592, 'bordering': 13827, 'daninsky': 10541, 'speechless': 9779, 'tin': 13589, 'executives': 7611, 'complicated': 2539, 'winner': 2537, 'breathless': 8192, 'butts': 8962, 'absorbed': 6781, 'refer': 4865, 'pa': 10201, 'bet': 2002, 'scare': 2531, 'disposable': 11975, 'rivers': 5673, 'pregnant': 3137, 'superfluous': 11655, 'millions': 3136, 'relatively': 2529, 'trials': 5133, 'sensitive': 2998, '9-11': 14976, 'pol': 12345, 'flesh': 2525, 'inmates': 5790, 'burton': 2747, 'traumatized': 7783, 'sentimental': 3556, 'welcome': 2518, 'spielberg': 2715, 'decently': 17004, 'occurs': 4259, 'alice': 2165, 'pilgrimage': 14531, 'unfortunate': 2516, 'thoughts': 2514, 'composed': 4701, 'underneath': 5698, 'scale': 2511, 'sounds': 893, 'include': 1463, 'devoid': 3841, 'safe': 2510, 'gladiator': 7942, 'hiding': 3774, 'intermittently': 15680, 'occurrence': 14470, 'await': 13778, 'ruin': 2509, 'nostalgia': 4646, 's': 16, '1981': 5711, 'mexico': 2546, 'revolution': 2508, 'portrays': 2505, '3000': 4373, 'mrs': 2502, 'faithful': 3127, 'harrowing': 8296, 'yesterday': 3507, 'right': 225, 'league': 2499, 'liking': 3372, 'dashed': 12901, 'element': 1502, 'india': 2497, 'bit': 228, 'unfamiliar': 7497, 'grim': 2496, 'draw': 2494, 'cuthbert': 13967, 'cute': 928, 'primary': 4267, 'contemporary': 2492, 'guillotine': 14181, 'bodies': 2491, 'hallmark': 6455, 'angles': 2488, 'ilk': 8304, 'rhoda': 10267, 'leo': 5083, 'hoot': 6461, 'fleet': 7922, 'hung': 5074, 'transfer': 5423, 'keyboard': 11386, 'greenaway': 8289, 'rewrite': 10266, 'tiny': 2482, 'timing': 2481, 'how': 94, 'mcnally': 15819, 'players': 1835, 'movie-going': 9657, 'braga': 16764, 'affect': 4898, 'instant': 4831, 'sandler': 2478, 'uniqueness': 14868, 'remain': 2477, 'drew': 1847, 'previously': 2475, 'eye-opener': 17175, 'perfection': 3872, 'dazed': 13973, 'smiling': 4560, 'maintains': 6900, 'ardent': 16645, 'initially': 2471, 'chawla': 16848, 'dope': 10559, 'crowd': 2465, 'claus': 4493, 'surface': 2554, 'changing': 2463, 'vacation': 2459, 'mins': 6678, 'struggling': 2457, 'coherent': 4156, 'horrors': 4004, 'plans': 2452, 'darkly': 8594, 'freeze': 7928, 'performs': 4651, 'cap': 10499, 'occurred': 3545, 'meg': 4329, 'mattei': 12229, 'matters': 2450, 'dvds': 5345, 'difficulties': 4920, 'bridge': 3675, 'benkei': 10469, 'ludicrous': 2449, 'hit-man': 3535, 'forgot': 2446, 'beverly': 5026, 'jed': 7664, 'pino': 17878, 'educated': 7892, 'stylised': 16295, 'everett': 7906, 'enter': 2444, 'lift': 6664, 'creatures': 2441, 'bondage': 5878, 'crash': 2440, 'cooper': 2439, 'rightly': 8420, 'brains': 3618, 'michel': 9644, 'brave': 2435, 'ninja': 4848, 'source': 2430, 'litter': 15776, 'dvd': 270, 'unsuccessfully': 18446, 'scarface': 4982, 'ralph': 2582, 'batch': 16693, 'racist': 2427, 'contain': 3085, 'rachel': 2426, 'deliver': 1886, 'combination': 2209, 'prior': 2425, 'roberts': 3382, 'restores': 12410, 'network': 2424, 'curly': 4396, 'acting': 117, 'clichéd': 2720, 'michelle': 2422, 'achieve': 2745, 'singing': 1278, 'mouse': 2825, 'guilty': 2420, 'panics': 17839, 'behind': 515, 'annette': 13755, '30s': 4583, 'diving': 8614, 'oddball': 9207, 'excellent': 288, 'confines': 8219, 'voyeurism': 14895, 'needn': 10762, 'embarrassed': 2693, 'robotic': 10271, 'rochester': 3237, 'dummy': 12955, 'outfit': 3790, 'million': 1425, 'wear': 2556, 'tall': 3561, 'passed': 1876, 'articles': 15048, 'murderer': 2955, 'cost': 2414, 'pics': 13344, 'remarkable': 1771, 'core': 2413, 'caine': 2412, 'hillyer': 14216, 'combining': 7572, 'british': 665, 'vacant': 14883, 'repulsion': 14617, 'beckham': 5726, 'rising': 4441, 'accidentally': 2410, 'office': 1086, 'turturro': 7786, 'mismatched': 8354, 'tiempo': 18352, 'macy': 3588, 'saying': 699, 'multiplex': 12262, 'absorbing': 7023, 'bagdad': 9408, 'scenario': 2406, 'problem': 442, 'ann': 1913, 'saved': 2405, 'surpass': 16310, 'range': 2404, 'qualities': 2403, 'elvis': 2394, 'connections': 6058, 'plunges': 15993, 'crying': 2392, 'influence': 2264, 'continuity': 2391, 'intrigued': 3058, 'experiencing': 5612, 'bollywood': 2390, 'bradbury': 16763, 'stunning': 1263, 'minion': 10746, 'shred': 8807, 'verhoeven': 3815, 'account': 2387, 'fairy': 2467, 'melodrama': 2609, 'underdeveloped': 7496, 'congratulate': 13927, 'mainstream': 2378, 'funnier': 2375, 'crack': 4393, 'environment': 2373, 'deserve': 1776, 'bo': 2371, 'enlightenment': 9522, 'amateur': 2369, 'lascivious': 17567, 'rage': 4554, 'impressions': 12128, 'thousand': 3503, 'prototype': 10843, 'walked': 2368, 'urban': 2367, 'helping': 3424, 'drive-in': 4923, 'suffers': 2365, 'winchester': 6016, 'exposure': 4928, 'reaching': 5514, 'entries': 7338, 'relief': 2363, 'chick': 1919, 'mel': 4093, 'dubious': 5911, 'glove': 13046, 'logic': 2361, 'lenses': 15758, 'docu-drama': 15366, 'consumed': 7305, 'portrayal': 1099, 'thrills': 3447, 'whores': 14917, 'devotion': 8239, 'switch': 3807, 'bynes': 12798, 'decide': 1090, 'him': 102, 'gods': 5070, 'stanwyck': 2587, 'basket': 8935, 'spend': 1088, 'reporter': 2339, 'plays': 312, 'cartoons': 2191, 'pace': 1070, 'routine': 2675, 'projects': 3285, 'list': 1094, 'witness': 2519, 'carole': 8199, 'grant': 2176, 'ealing': 7602, 'educational': 3997, 'looney': 10720, 'spent': 1100, 'partners': 5242, 'franklin': 6632, 'reactions': 3189, 'professionals': 7181, 'slaughtered': 9290, 'till': 2092, 'godfather': 3129, 'mencia': 8351, 'decided': 720, 'chickens': 16857, 'edges': 11225, 'busy': 2560, 'suspects': 3393, 'define': 7316, 'appreciate': 1082, 'skies': 13501, 'stuffy': 12510, 'jeffrey': 4628, 'niven': 8367, 'revealed': 1878, 'amnesia': 12695, 'whatever': 885, 'sultry': 18283, 'moby': 10174, 'disastrous': 4922, 'object': 3785, 'ship': 1906, 'chilean': 13884, 'widescreen': 7006, 'must-see': 3229, 'wasted': 1055, 'miller': 2732, 'dunaway': 9511, 'scenes': 146, 'uttered': 14882, 'mary': 1054, '1997': 5141, 'tune': 3504, 'guinness': 7641, 'nods': 15901, 'suicide': 1859, 'lensman': 14331, 'holocaust': 7370, 'spouses': 13533, 'remembered': 2234, 'orange': 5236, 'python': 6506, '1918': 14961, 'don`t': 11213, 'actuality': 9870, 'closest': 4495, 'fantasy': 1039, 'guttenberg': 11317, 'liked': 377, 'bitchy': 8536, 'croatia': 15286, 'scratches': 14675, 'marsden': 14379, 'agreement': 13735, 'simpsons': 8089, 'advice': 2164, 'believes': 2490, 'scrappy': 7742, 'return': 1036, 'kids': 334, 'wasps': 18490, 'lawrence': 3863, 'twin': 3451, 'believe': 262, 'odd': 1034, 'darko': 16995, 'stands': 1507, 'wrinkle': 14934, 'favor': 1818, 'bono': 15134, 'preston': 5252, 'tree': 3242, 'dentist': 2564, 'occur': 3944, 'bewildered': 10471, 'knowledge': 2150, 'coming-of-age': 12853, 'leading': 1021, 'disturbed': 3689, 'proofs': 17936, 'suspicious': 4205, 'century': 1019, 'shenanigans': 9756, 'band': 1018, 'appealed': 11066, 'fire': 1017, 'reprehensible': 18019, 'louisiana': 10146, 'pretending': 4749, 'opinions': 4261, 'entertainment': 674, 'grandmother': 3324, 'sigourney': 16195, 'madness': 2850, 'puerto': 4861, 'dorm': 15375, 'awkward': 2096, 'diabolical': 8240, 'produced': 1007, 'watching': 140, 'crosby': 6235, 'hardly': 1006, 'robert': 597, 'ethan': 4613, 'beauty': 1003, 'setting': 1002, 'made-for-tv': 3864, 'pack': 2882, 'cooperation': 16941, 'depicted': 2565, 'graphically': 11309, 'lack': 592, 'burned': 3742, 'money': 292, 'humor': 470, 'suitcase': 14780, 'cohesive': 8988, 'domination': 10006, 'waiting': 998, 'filling': 5064, 'melancholic': 15824, 'gut': 7112, '48': 7520, 'lorna': 12210, 'incident': 3934, 'create': 996, 'plenty': 991, 'custer': 16979, 'bill': 824, 'he': 35, 'vanities': 12593, 'burial': 7283, 'harshness': 14198, 'dreadfully': 9046, '7': 1011, 'battle': 986, 'vary': 11709, 'fall': 820, 'deployed': 15333, 'plant': 5250, 'pounds': 4856, 'groin': 12081, 'girlfriend': 977, 'here': 137, 'stranger': 3000, 'excited': 2066, 'accused': 3900, 'males': 6286, 'katherine': 10696, '99': 4895, 'disappointment': 1412, 'award-winning': 11799, 'acts': 1459, 'showgirl': 18156, 'swearing': 10344, 'truth': 879, 'father': 329, 'road': 1392, 'business': 966, 'impressive': 1188, 'suffer': 2829, 'wrote': 965, 'lucio': 8709, 'rooms': 4196, 'prey': 6146, 'lays': 8701, 'garson': 14138, 'reveals': 2773, 'fictional': 2979, 'sums': 5294, 'serious': 649, 'mobster': 8726, 'tarr': 16326, 'lord': 1610, 'cues': 13962, 'cards': 4595, 'rough': 2827, 'graveyard': 7360, 'graves': 9099, 'haunted': 2149, 'heaving': 15602, 'noir': 1474, 'dan': 2171, 'wisdom': 5430, 'bereft': 16710, 'culminating': 9979, '20': 979, 'plain': 949, 'hostages': 14227, 'turning': 1744, 'mcdonald': 12233, 'explodes': 7614, 'current': 2099, 'pattern': 5962, 'multiple': 2362, 'bored': 1063, 'criminals': 3316, 'psychic': 4553, 'nichole': 15894, 'bourne': 3983, 'traci': 12554, 'q': 4755, 'reminiscent': 2584, 'r-rated': 10855, 'uncertainty': 10381, 'squad': 4668, 'investigating': 5939, 'carbon': 11864, 'camp': 1164, 'geraldine': 10059, 'glad': 1140, 'filmmakers': 1067, 'nose': 4257, 'model': 2575, 'handle': 2573, 'adult': 1081, 'classmate': 12838, 'accounts': 6382, 'yrs': 18541, 'belgium': 16704, 'choreographed': 4492, 'braveheart': 6211, 'keira': 7669, 'popular': 922, 'rewriting': 18038, 'wal-mart': 8875, 'curves': 12893, 'painful': 1229, 'r': 1563, 'bruhl': 13843, 'accept': 1949, 'skip': 1823, 'perfectly': 921, 'pained': 15944, 'marine': 7999, 'filmed': 755, 'copies': 4796, 'stay': 842, 'godzilla': 5358, 'excursion': 12019, 'emotionless': 12002, 'aware': 2168, 'outdid': 15934, 'smith': 1168, 'puri': 12365, 'swinging': 6357, 'mess': 948, 'germs': 14148, 'anticipating': 9897, 'adds': 1803, 'cash': 2192, 'francesca': 15508, 'doctor': 964, 'chips': 13886, 'stage': 908, 'basketball': 4049, 'stole': 3724, 'ranks': 3651, 'vital': 8139, 'newcombe': 11458, 'alas': 2866, 'stark': 5289, 'talent': 654, 'hill': 1986, 'majority': 2266, 'spades': 12485, 'hot': 906, 'ride': 1488, 'humane': 14228, 'savvy': 11580, 'garbo': 4078, 'europe': 2301, 'previous': 919, 'blown': 3249, 'keeps': 901, 'startled': 16279, 'casting': 900, 'glory': 3580, 'unrealistic': 2183, 'vixen': 11714, 'acquire': 9389, 'walk': 1102, 'varied': 7502, 'deliberate': 7591, 'free': 891, 'explicitly': 14079, 'deeds': 6607, 'bergman': 3981, 'using': 753, 'prescient': 17917, 'doubting': 17081, 'darling': 7584, 'alberto': 12690, 'discovers': 1922, 'others': 406, 'confronts': 8221, 'riot': 5835, 'finale': 2067, 'their': 77, 'animated': 1121, 'has': 50, 'trey': 8122, 'cal': 9939, 'hand': 606, 'dawson': 3685, 'hijacking': 15609, 'mayor': 6905, 'obvious': 596, 'revelation': 4108, 'sexual': 875, 'johnny': 1942, 'surly': 11656, 'zombie': 872, 'topic': 2621, 'ewoks': 11251, 'months': 1678, 'noteworthy': 10767, 'mommy': 9649, 'puppet': 4270, 'frankenstein': 4715, 'things': 199, 'cocky': 8572, 'unlike': 985, 'figuring': 8651, 'figure': 865, 'breathed': 16772, 'realize': 852, 'garrison': 12064, 'basil': 7540, 'contains': 1288, 'hewlett': 17376, 'blossoms': 15126, 'obsolete': 11473, 'between': 217, 'wealth': 3667, 'portrait': 2504, 'jolie': 6469, 'jonathan': 3937, 'disguised': 7320, 'hutt': 17411, 'spoilers*': 11627, 'garage': 7937, 'over': 131, 'atmosphere': 847, 'impersonator': 15642, 'perpetually': 13339, 'walls': 4365, 'period': 846, 'dr': 845, 'nc-17': 13277, 'lawyers': 8699, 'stooges': 3147, 'robbins': 4976, 'pfeiffer': 7707, 'nor': 841, 'mcadams': 13225, 'eastern': 5060, 'message': 840, 'tremendously': 6176, 'definition': 4504, 'lumiere': 11411, 'restoration': 10869, 'absence': 4474, 'forget': 989, 'disservice': 10000, 'edgy': 4406, 'fighting': 1047, 'farmers': 7616, 'prison': 1230, 'decay': 13978, 'descended': 11958, 'incredibly': 917, 'deadbeat': 15311, 'gil': 11298, 'moronic': 5390, 'pact': 13318, 'luise': 7992, 'jenna': 4837, 'auteurs': 13773, 'de': 835, 'magic': 1186, 'nouvelle': 13298, 'general': 832, 'polished': 4435, 'remake': 878, 'recordings': 11531, 'helped': 1622, 'retread': 10264, 'recommending': 12391, 'link': 5084, 'match': 1098, 'fulfilled': 11287, 'close': 546, 'bird': 4905, 'marvellous': 10157, 'giving': 829, 'pearl': 4960, 'unpredictable': 4575, 'yoda': 13683, 'assistance': 8927, 'erm': 11245, 'places': 1427, 'woodward': 18517, 'serving': 5279, 'succinctly': 18280, 'carefully': 3831, 'bandwagon': 15087, 'accomplish': 6557, 'shaq': 8083, 'pianist': 15978, 'loretta': 4427, 'editing': 825, 'combined': 2629, 'diana': 3842, 'coming': 603, 'indicating': 12135, 'keeping': 2008, 'chilling': 3462, 'sequence': 822, 'carrying': 2870, 'bloody': 1763, 'girls': 528, 'decipher': 13979, 'crouse': 8590, 'leonard': 3224, 'symbols': 7487, 'officer': 1987, 'terrorized': 10955, 'lizard': 10143, '3-4': 14966, 'slash': 8811, 'submerged': 16296, 'sinatra': 2454, 'hills': 3175, 'as': 19, 'material': 816, 'guards': 6873, 'leads': 815, 'enforcement': 9053, 'compelled': 4500, 'hammy': 6638, 'shameless': 7459, '25': 2324, 'possibly': 853, 'save': 616, 'concerned': 1885, 'lithgow': 12204, 'tooth': 4993, 'absolutely': 385, 'formulaic': 4416, 'gummer': 17331, 'unger': 16415, 'lyrics': 3940, 'quickly': 914, 'north': 2313, 'occupation': 14468, 'report': 3952, 'cursing': 9009, '2007': 3612, 'toronto': 4995, 'anime': 2370, 'affairs': 4475, 'bachchan': 6801, 'stripper': 8827, 'awkwardly': 13780, 'pickup': 7173, 'chamber': 9446, 'unused': 18448, 'needs': 722, 'servicemen': 18134, 'resurrect': 13424, 'incorporates': 11356, 'dance': 806, '8': 972, 'brooklyn': 3517, 'grudge': 5470, 'viewing': 804, 'blob': 3408, 'consequence': 6820, 'fictitious': 11269, 'surrogate': 9321, 'indy': 12137, 'wore': 4041, 'showing': 803, 'wit': 2460, 'russell': 2180, 'shore': 7465, 'heist': 4525, 'taste': 1271, 'tmnt': 18361, 'views': 2969, 'america': 800, 'deputy': 9496, 'performing': 3334, 'koo': 15739, 'mountains': 4010, 'b-movie': 2813, 'weaves': 11003, 'regarding': 2958, 'fishburne': 6080, 'moving': 782, 'doom': 4403, 'randolph': 6508, 'relevant': 3380, 'prince': 1544, 'degenerates': 10546, 'proof': 3138, 'walter': 2184, 'hammer': 4619, 'feature': 780, 'field': 2017, 'fast': 775, 'giallo': 4080, 'flashy': 4815, 'reading': 772, 'vulgar': 5427, 'adventures': 2296, 'greatest': 770, 'el': 6617, 'amount': 1264, 'ball': 1762, 'matthias': 17665, 'glenn': 3423, 'picture': 455, 'kyd': 17552, 'matt': 2127, 'scottish': 4446, 'funds': 7932, 'rick': 3798, 'sexuality': 3076, 'genteel': 17283, 'kept': 766, 'friedman': 17246, 'rescued': 9730, 'jfk': 13159, 'block': 4219, 'zizek': 6018, 'anyways': 3353, 'visuals': 2062, 'prevail': 17919, 'slower': 6740, 'disappoints': 9033, 'eisenberg': 17114, 'panther': 15950, 'magnetic': 14366, 'juan': 10695, 'anticipated': 5870, 'josh': 4252, 'boll': 3250, 'fox': 1351, 'lifes': 15765, 'streak': 10333, 'further': 1077, 'yiddish': 18538, 'learn': 889, 'condescending': 9464, 'considers': 8998, 'panahi': 8749, 'di': 13999, '50': 1145, 'national': 2198, 'photographed': 4334, 'flies': 4243, 'rent': 767, 'outstanding': 1216, 'recognizable': 5977, 'wyoming': 7514, 'writer': 754, 'creep': 4159, 'juvenile': 3860, 'being': 121, 'kim': 2103, 'whose': 650, 'effort': 749, 'meeker': 15822, 'hudson': 3220, 'ten': 748, 'nypd': 14466, 'middle': 721, 'system': 1447, 'interpretation': 3276, 'artistry': 7818, 'reward': 6950, 'blanche': 16733, 'tolerant': 13593, 'capitalize': 12808, 'celebrate': 7846, 'enterprise': 4809, 'lordi': 12209, 'warming': 4579, 'stiff': 3606, 'errors': 5063, 'bizarre': 1146, 'aversion': 15067, 'arbitrary': 9398, 'operated': 17806, 'katsu': 9614, 'comic': 743, 'lies': 1698, 'eye': 877, 'debbie': 5902, 'trust': 1567, 'sentinel': 5116, 'lex': 5800, 'officials': 9209, 'notably': 3943, 'rip-off': 3287, 'beggars': 11817, 'friends': 353, 'slaves': 7756, 'uses': 1106, 'cagney': 5162, 'viewed': 2217, 'clear': 818, 'pose': 7712, 'famed': 5765, 'bjm': 11825, 'dull': 732, 'into': 97, 'conceived': 5045, 'bunch': 725, 'sway': 18296, 'hitch': 15610, 'pleased': 3027, 'covered': 2415, 'speak': 1169, 'ended': 1000, 'badly': 895, 'editors': 9513, 'visionary': 12604, 'romantic': 719, 'sequel': 737, 'hungary': 15625, 'quo': 13389, 'lover': 1455, 'rousing': 10275, 'muslim': 3782, 'most': 93, 'closure': 7857, 'cut': 718, 'perspectives': 8755, 'abstract': 9863, 'labyrinth': 9617, 'swedish': 3296, 'pretense': 11502, 'thriller': 712, 'denying': 8236, 'all-american': 13744, 'grotesque': 4822, 'change': 711, 'dollars': 2417, 'lion': 2545, 'tragedies': 9813, 'flame': 10604, 'lots': 729, 'proper': 2382, 'potent': 9232, 'country': 657, 'campbell': 4054, 'dual': 11988, 'scola': 11585, 'jewelry': 10120, 'heavily': 3017, 'lastly': 9155, 'french': 736, 'endor': 17131, 'sandwich': 12433, 'contents': 11918, 'spaghetti': 6978, 'ziyi': 12637, 'pipes': 10816, 'digital': 3919, 'intellect': 9141, 'installed': 17466, 'ellen': 5061, 'total': 894, 'gabrielle': 13026, 'raymond': 5397, 'fiona': 11273, 'opener': 10775, '18th': 6376, 'apparently': 701, 'weissmuller': 14908, 'conversations': 4228, 'midnight': 3375, 'lester': 6662, 'cowboy': 2326, 'matrix': 2823, 'russo': 6956, 'stereotypical': 2828, 'jokes': 588, 'only': 71, 'falls': 689, 'turkey': 2484, 'monica': 6909, 'long-lost': 14346, 'interested': 884, 'continued': 3315, 'pedestrian': 6498, 'diminutive': 15344, 'reality': 693, 'rainy': 5666, 'angelo': 8913, 'birth': 2520, 'patchy': 14507, 'william': 909, 'impaired': 15640, 'wrist': 11016, 'them': 106, 'specifics': 16252, 'putrid': 10849, 'necks': 10761, 'policy': 7710, 'boringly': 16756, 'allowing': 4212, 'signs': 3961, 'populations': 17904, 'building': 1651, 'vijay': 18473, 'actors': 153, 'happy': 677, 'implausible': 4251, 'patti': 12318, 'hat': 2470, 'opening': 667, 'ashamed': 2902, 'hours': 666, 'fame': 2246, '1980s': 3397, 'intriguing': 1599, 'gore': 664, 'vice-versa': 16454, 'narrator': 3543, '1988': 6555, 'ginger': 3853, 'tyranny': 13618, 'essentially': 2065, 'forced': 976, '20th': 3613, 'calvet': 16811, 'comments': 659, 'write': 849, 'undemanding': 14859, 'lipstick': 14341, 'balance': 3354, 'oozing': 15918, 'russians': 7447, 'exactly': 658, 'nablus': 14434, 'finney': 12037, 'priest': 2089, 'simon': 1781, 'could': 101, 'executive': 3269, 'bite': 4144, 'humanistic': 17405, 'screwed': 5984, 'tashan': 8473, 'guessing': 3130, 'orphans': 15929, 'listed': 2952, 'walston': 12609, 'particularly': 648, 'alone': 646, 'questionable': 4966, 'chases': 3258, 'spies': 5844, 'inventive': 4725, 'lassalle': 17568, 'eva': 2874, 'predictable': 645, 'meet': 856, 'depth': 1194, 'furious': 4932, 'levin': 10714, 'useless': 2806, 'hungry': 5211, 'picks': 2993, 'specialty': 13526, 'brat': 5880, 'informed': 4722, 'substance': 2108, 'ripped': 3654, 'monument': 12253, '1/2': 3818, 'stations': 7476, 'bimbo': 10472, 'nobody': 1215, 'bates': 5571, 'correct': 2245, 'mechanical': 5498, 'voice': 655, 'gruesome': 3217, 'forthcoming': 15503, 'utter': 1910, 'trusty': 18394, 'wells': 4684, 'janeway': 13154, 'kilmer': 5945, 'heap': 8672, 'small': 405, 'season': 704, 'hanging': 2332, 'angelina': 6386, 'extraordinarily': 7342, 'minutes': 226, 'feature-length': 7919, 'exceptional': 3529, 'possible': 623, 'mechanics': 10161, 'slate': 18186, 'scientists': 3385, 'fluid': 8276, 'stefan': 7477, 'breaks': 2189, 'running': 619, 'griswold': 15560, 'hear': 896, 'stopping': 6352, 'pedophile': 15961, 'witty': 1705, 'mvp': 9659, 'hoping': 1267, 'treasury': 16374, 'hits': 1807, 'potente': 16004, 'perspective': 1974, 'surfers': 6984, 'temple': 3607, 'guy': 232, 'budding': 8549, 'rentals': 14610, 'techniques': 2965, 'definitely': 421, 'come': 216, 'experience': 598, 'hangs': 6089, 'thinner': 9331, 'know': 130, 'ronnie': 14638, 'gabriel': 5357, 'rewarding': 5263, 'wild': 1218, 'destination': 9027, 'cunningham': 9980, 'accent': 1287, 'depiction': 2754, 'expressing': 9061, 'executed': 2227, 'injuries': 17451, 'mpaa': 10754, 'cheesy': 926, 'toxic': 7236, 'experiences': 2330, 'punishment': 6314, 'burnett': 12796, 'living': 595, 'parking': 5654, 'heres': 9576, 'opinion': 580, 'odds': 3787, 'signature': 8087, 'airwolf': 11766, 'known': 594, 'lulls': 14358, 'make': 104, 'strays': 10332, 'james': 591, 'command': 4499, 'lengthy': 4841, 'zavet': 18544, 'drum': 7890, 'behaviors': 8532, '10/10': 2093, 'visible': 5135, 'blood': 582, 'cutouts': 13968, 'introduces': 4323, 'yearning': 8889, '76': 9859, 'silk': 7466, 'apart': 905, 'defies': 9021, 'st': 3657, 'virginia': 4286, 'returned': 3336, 'lee': 793, 'usually': 578, 'touching': 1387, 'rogen': 16126, 'elm': 4808, 'dream': 975, 'château': 16866, 'promos': 11510, 'psychopath': 5108, 'ethel': 17153, 'arrogant': 5020, 'bag': 3406, 'looked': 567, 'archetypal': 15046, 'builds': 3984, 'power': 723, 'ruse': 18068, 'desire': 1921, 'happens': 566, 'stallion': 10930, 'murder': 565, 'flames': 7623, 'inheritance': 9597, 'charmingly': 13878, 'quick': 1661, 'success': 944, 'klein': 14309, 'applause': 8167, 'fido': 4415, 'baby': 886, 'grow': 2305, 'forces': 2119, 'father-in-law': 12028, 'open': 1095, 'videotape': 10391, 'rivalry': 7734, 'pro': 5254, 'grade': 1398, 'doyle': 7888, 'efforts': 2144, 'tearing': 10356, 'poor': 338, 'involves': 2085, 'self-consciously': 16167, 'rippner': 14634, 'clara': 4911, 'angrily': 16619, 'pidgeon': 13345, 'brother': 556, 'colonialism': 15234, 'flaw': 3627, 'forgiven': 6631, 'master': 1167, 'woman': 250, 'wouldn': 553, 'transformation': 4357, 'garb': 15524, 'tense': 3148, 'numbers': 1603, 'throwaway': 9805, 'baker': 2683, 'reached': 3599, 'involved': 549, 'inner': 2845, 'insight': 2986, 'stream': 8105, 'cannot': 547, 'surprising': 1682, 'knife': 3637, 'pakistanis': 15946, 'kind': 255, 'chan': 2538, 'feel': 254, 'written': 400, 'really': 70, 'theatrical': 2237, 'bombs': 6209, 'destroy': 2466, 'equally': 1493, 'emerging': 11237, 'joey': 3635, 'died': 1195, 'cave': 4056, 'opportunities': 5506, 'stupid': 386, 'ayers': 9405, 'discussion': 3920, 'impact': 1574, 'sci-fi': 1037, 'caper': 9438, 'molested': 17712, 'center': 2372, 'pia': 8032, 'nephews': 12272, 'entire': 449, 'company': 1004, 'action': 234, 'acrobatics': 13721, 'many': 115, 'd': 251, 'terror': 2386, 'scarcely': 10890, 'rapist': 6509, 'reynolds': 3236, 'southern': 2713, 'blond': 3982, 'jam': 10688, 'virtually': 2136, 'commented': 3913, 'jammed': 17497, 'lilith': 13198, 'length': 1832, 'and': 6, 'gere': 5776, 'beavis': 15103, 'diversity': 9038, 'rhyme': 11558, 'introduced': 1658, 'reed': 3379, 'feeble': 7619, 'thornton': 8844, 'those': 157, 'loved': 375, 'baseball': 2188, 'experienced': 2665, 'bryan': 11849, 'no-budget': 10189, 'dyer': 14040, 'electrifying': 12965, 'surprised': 695, 'george': 668, 'well-made': 5001, 'load': 3638, 'strange': 576, 'starving': 13545, 'wonderfully': 1631, 'couldn`t': 16951, 'supreme': 9320, 'voodoo': 9358, 'supporting': 714, 'march': 4638, 'swift': 7772, 'result': 899, 'tolerated': 16349, 'self-inflicted': 16169, 'uncovered': 12579, 'twisted': 2275, 'urich': 16440, 'misses': 3942, 'realm': 4657, 'moves': 1069, 'recipe': 9721, 'dies': 1434, 'might': 252, 'eytan': 14083, 'problems': 688, 'briefly': 3357, 'gig': 9093, 'november': 11469, 'occasion': 5100, 'somebody': 1774, 'shows': 303, 'sized': 12471, 'downs': 5761, 'drawing': 4235, 'fitz': 15486, 'courage': 3360, 'interesting': 214, 'settings': 2428, 'sit': 794, 'warning': 1948, 'lead': 462, 'battlefield': 9411, 'notices': 13296, 'idea': 317, 'discloses': 14004, 'spill': 11625, 'reaper': 11528, 'metropolis': 9643, 'hokey': 6460, 'outdoor': 11479, 'products': 7715, 'found': 247, 'criticize': 5899, 'erupts': 14064, 'haunting': 2195, 'ignorance': 5477, 'ways': 742, 'torment': 9810, 'brooks': 2411, 'attempts': 1122, 'a': 5, 'knights': 8696, 'jim': 1176, 'theo': 8840, 'elliott': 9518, 'generic': 4079, 'commits': 5334, 'un': 8125, 'described': 1900, 'society': 892, 'myself': 488, 'dillinger': 8243, 'around': 192, 'johnnie': 15713, 'proving': 5663, 'respect': 1148, 'respected': 5520, 'sexism': 13481, 'firstly': 4163, 'stratten': 12504, 'common': 1203, 'sword': 3105, 'troma': 5695, 'nearly': 747, '2/10': 4135, 'lynch': 1611, 'three': 279, 'quite': 191, 'side': 518, '3d': 5012, 'omar': 7696, 'mini': 4845, 'thorn': 9804, 'tied': 3107, 'however': 190, 'set': 274, 'parts': 509, 'scarecrows': 10891, 'pretty': 185, 'remotely': 2272, 'song': 632, 'raped': 3881, 'cast': 181, 'springfield': 16266, '!': 36, 'capano': 13860, 'stood': 3725, 'resonate': 12408, 'critics': 1228, 'anyhow': 6564, 'kar': 17522, 'b': 792, 'arch': 11068, 'benefit': 4589, 'indeed': 951, 'innate': 12141, 'practically': 1905, 'video': 373, 'fed': 5767, '70%': 16549, 'talented': 932, 'teeth': 2513, 'roth': 4662, 'unity': 10986, 'commercial': 2114, 'freakish': 9086, 'packed': 3281, 'skit': 4451, 'sanity': 6959, 'justly': 15721, 'ogling': 14473, 'spot': 1496, 'ueto': 18405, 'jarvis': 13155, 'yvonne': 11020, 'skills': 1688, 'gullible': 14182, 'nicholson': 3870, 'behaving': 7544, 'went': 407, 'unimpressed': 18426, 'pleasant': 1991, 'bedroom': 5438, 'mock': 7689, 'wwii': 2809, 'orbit': 13305, 'seems': 196, 'self-parody': 18122, 'patriots': 17850, 'ned': 2768, 'carnage': 8198, 'abc': 2864, 'unbearably': 8127, 'revolving': 6517, 'sweets': 11660, 'able': 512, 'roscoe': 8066, 'hell': 661, 'slowly': 1380, 'novel': 608, 'spoof': 2456, 'we': 78, 'thank': 1364, 'showy': 14705, 'nothing': 167, 'followed': 1469, 'surrounded': 3392, 'texas': 2039, 'immortality': 13123, 'though': 163, 'topless': 4130, 'officially': 8738, 'seemed': 460, 'projection': 10839, 'physical': 1990, 'fisherman': 9072, 'slow-motion': 13508, 'explosion': 3849, 'until': 371, 'stellar': 4670, 'charles': 1450, 'analyzed': 11774, 'kolchak': 7389, 'shopping': 5679, 'unlikely': 2276, 'delightfully': 7592, 'banality': 15086, 'drift': 8250, 'burt': 2437, 'explain': 1320, 'heroine': 2053, '250': 9379, 'charge': 3009, 'wonder': 569, 'khouri': 10699, '1966': 7518, 'ark': 12711, 'biker': 5877, 'mankiewicz': 17650, 'date': 1419, 'conjure': 13928, 'phone': 1834, 'appalling': 3112, 'wherever': 8880, 'mae': 8336, 'nagra': 10181, 'relative': 3190, 'following': 982, 'regards': 5401, 'charlize': 15201, 'exaggeration': 11253, 'purposes': 5828, 'tasteful': 11664, 'footage': 938, 'proclaimed': 12354, 'broadway': 2241, 'bain': 16682, 'traumatic': 7495, 'drive': 1443, 'rosanna': 10272, 'transformed': 6536, 'raids': 17968, 'aren': 681, 'lousy': 2019, 'integrity': 4724, 'usual': 625, 'terrible': 379, 'captivated': 7842, 'middle-class': 8352, 'poet': 8765, '$4': 11743, 'something': 155, 'size': 4347, 'with': 20, 'interviewed': 8689, 'wards': 18487, 'scrooge': 5985, 'criticise': 12883, 'also': 96, 'human': 438, 'moreau': 11445, 'subtle': 1279, 'prequel': 4014, 'go': 150, 'events': 675, 'dusty': 10014, 'background': 974, 'behalf': 7828, 'swimming': 4031, 'closing': 3312, 'syriana': 16320, 'giant': 1573, 'accents': 2279, 'resemblance': 3954, 'such': 147, 'dogma': 7599, 'ligabue': 17591, 'cheerleaders': 16851, 'sarno': 9741, '&': 239, 'bakery': 13788, 'comedy': 197, 'invest': 17482, 'visually': 1962, 'distinguish': 12935, 'cliched': 5170, 'original': 194, 'comer': 15238, 'these': 145, 'normally': 1613, 'unusual': 1615, '40': 1432, 'fifteen': 2980, 'medium': 3591, 'brown': 1917, 'speech': 2714, 'strangle': 18263, 'overshadowed': 8379, 'off': 141, 'thematically': 12540, 'first': 81, 'sonia': 13517, 'away': 265, 'rudd': 8069, 'second': 348, 'mile': 3781, 'messed': 4255, 'rip-offs': 12418, 'conceal': 11905, 'everyday': 2603, 'reference': 2957, 'miniatures': 17701, '\\x96': 641, 'bacon': 6036, 'demise': 6068, 'one-note': 10772, 'fail': 1937, 'eyeballs': 9063, 'douglass': 17083, 'progress': 4268, 'hired': 3018, 'shah': 6733, 'intrepid': 15687, 'relying': 6711, 'led': 1850, 'beatles': 4382, 'held': 1644, 'almost': 223, 'immediately': 1175, 'shocking': 1669, 're-read': 16066, 'condensed': 15257, 'awards': 2014, 'opposite': 2229, 'inability': 7376, 'exercise': 3693, 'bank': 1932, 'milk': 4740, 'puts': 1379, 'notes': 3594, 'remorse': 10863, 'ala': 6785, 'closet': 4496, 'post': 1855, 'fan': 325, 'baddies': 6573, 'unfolds': 4678, 'eager': 4612, 'infant': 15661, 'effect': 1105, 'billy': 1365, 'aidan': 16586, 'hairstyles': 15579, 'toy': 3341, 'shockingly': 7464, 'alarming': 12689, 'thumbs': 3078, 'schwarzenegger': 6725, 'wondering': 1514, 'mediocrity': 8350, 'hallam': 9106, 'argentine': 16646, 'aunt': 2558, 'dubbed': 2329, 'hunt': 2333, 'costs': 2045, 'lincoln': 2608, 'inadvertently': 7123, 'cozy': 16956, 'turns': 541, 'loads': 4008, 'indians': 3481, 'photo': 6499, 'distribution': 4705, 'dense': 11193, 'bound': 3113, 'comparison': 2115, 'cleared': 13897, 'finch': 8653, 'cgi': 1683, 'obscured': 17787, 'judas': 12163, 'otherwise': 954, 'facing': 4813, 'six': 1657, 'haphazard': 10647, 'trained': 4570, 'readily': 6318, 'kentucky': 9152, 'blunt': 4220, 'engaging': 1934, 'boesman': 15131, 'collects': 13909, 'kris': 5375, 'released': 568, 'palm': 7418, 'willies': 18511, 'infected': 6100, 'glowing': 4934, 'witnessed': 3897, 'flirtatious': 10606, 'genetic': 9092, 'flawless': 4315, 'railway': 12379, 'alley': 5563, 'clan': 5169, 'obsessed': 2336, 'afternoon': 2280, 'gags': 2032, 'earned': 4511, 'noisy': 13292, 'late': 517, 'overlook': 5238, 'major': 684, 'vader': 5426, 'lackluster': 4730, 'grew': 1952, 'miserable': 4641, 'henchmen': 10089, 'corporate': 3836, 'saturday': 1944, 'transition': 4358, 'understandably': 7787, 'sutherland': 2618, 'unleashes': 16422, 'wings': 6017, 'toes': 12550, 'fits': 2524, 'murders': 1601, 'greedy': 4421, 'mistakes': 2733, 'single': 724, 'loathing': 15778, 'areas': 4214, 'homosexuals': 17395, ')': 24, 'legitimate': 7137, 'compromise': 9462, 'hitchcock': 2358, 'evoking': 14069, 'house': 324, 'saddles': 13455, 'seagal': 2856, 'marry': 2056, 'contrivance': 15267, 'because': 90, 'built': 2325, 'shallow': 1977, 'live': 429, 'wither': 18516, 'twenty': 2215, 'application': 16632, 'snaps': 9771, 'momentum': 8358, 'always': 211, 'vinci': 16460, 'willis': 4288, 'freely': 12052, 'hurt': 1591, 'proved': 2073, 'wounded': 6190, 'blackmailing': 15121, 'shoot': 1438, 'ends': 726, 'seuss': 10291, 'nightmare': 1686, 'tracks': 4768, 'votes': 4889, 'fu': 2146, 'tell': 382, 'absent': 5014, 'tiger': 4882, 'shapes': 16180, 'place': 289, 'gothic': 3476, '?': 57, 'requirement': 16098, 'wrapped': 4290, 'cleveland': 7854, 'insult': 1890, 'metaphors': 11431, 'comes': 295, 'nudity': 960, 'macabre': 6670, 'pander': 15949, 'laughably': 4731, 'females': 4712, 'culp': 7311, 'brief': 1418, 'directed': 493, 'talked': 3560, 'react': 4191, 'elisha': 8630, 'starred': 2364, 'pineapple': 17877, 'injecting': 15669, 'platoon': 6700, 'pursues': 9708, 'features': 943, 'muted': 10180, 'chances': 3521, 'harassed': 15589, 'similar': 738, 'shaken': 16178, 'gold-digger': 15542, 'bulldog': 11851, 'half': 359, 'mimic': 14411, 'frenzy': 12053, 'missing': 997, 'resolution': 3381, 'far': 242, 'saga': 4442, 'leap': 6473, 'kidnaps': 7670, 'earl': 5185, 'murderous': 4256, 'returns': 1799, 'youtube': 7798, 'cop': 1041, 'pancake': 13321, 'demand': 4918, 'handling': 6456, 'old': 165, '70': 1213, 'chewed': 15206, 'teens': 2214, 'tom': 733, 'continue': 2064, 'ants': 7262, 'evening': 2262, 'script': 219, 'mushrooms': 14432, 'abysmal': 3735, 'vernacular': 18470, 'overly': 2252, 'private': 1856, '2000': 3153, 'lust': 4327, 'camera': 427, 'lilly': 11401, 'then': 107, 'attitudes': 4141, 'laugh-out-loud': 9620, 'director': 177, 'clearer': 11885, 'camera-work': 3985, 'impressed': 1436, 'coarse': 8987, 'catalog': 11869, 'escape': 1038, 'should': 151, 'inject': 9598, 'loose': 1875, 'macdowell': 8713, 'farrell': 4514, 'passengers': 7420, 'biggs': 15114, 'no': 65, 'scary': 613, 'cable': 1695, 'dim': 7883, 'that': 15, 'efficiently': 12962, 'towers': 6175, 'irritates': 15696, 'pilot': 1426, 'search': 1583, 'don': 92, 'charleton': 13877, 'cutest': 12895, 'slipped': 10309, 'imagine': 789, 'conclusion': 1222, 'daria': 10542, 'severe': 4024, 'since': 218, 'menacing': 4534, 'heroes': 1753, 'english': 627, 'prophecy': 6940, 'plot': 114, 'chaplin': 2599, 'landowner': 17565, 'complex': 1335, 'joker': 5791, 'gangsters': 4418, 'justifies': 13165, 'wont': 3506, 'batman': 1433, 'nugget': 14462, 'parole': 9680, 'ok': 535, 'perry': 3946, 'damning': 15303, 'manipulates': 10736, 'version': 318, 'carter': 3116, 'steamy': 8458, 'one': 33, 'rien': 13435, 'pioneers': 11492, 'stitches': 9310, 'assisted': 15055, 'information': 1685, 'nebraska': 17751, 'comrade': 16915, 'her': 51, 'hope': 457, 'isn': 231, 'yoko': 18539, 'conrad': 6592, 'ineptitude': 13132, 'toro': 9811, 'good': 56, 'minute': 935, 'itself': 435, 'non': 3098, 'sheppard': 13487, 'motif': 11447, 'devilish': 11199, 'must': 210, 'secrets': 3074, 'agnostic': 16584, 'sunshine': 3964, 'unique': 882, 'desires': 5757, 'october': 6921, 'robbers': 11567, 'various': 959, 'essex': 12015, 'wins': 3505, 'killing': 911, 'which': 74, 'inclusive': 17434, 'eaters': 14043, 'jansen': 11379, 'chain': 3833, 'exceptionally': 4812, 'engage': 3757, 'describes': 3525, 'jennifer': 2121, 'wrestlemania': 10409, 'photos': 5508, 'stagy': 18238, 'okay': 795, 'brought': 837, 'not': 29, 'spelled': 8820, 'mm': 12248, 'funny': 152, 'sexy': 1096, 'actually': 166, 'modeled': 12250, 'leonora': 11398, 'hood': 3091, 'is': 10, 'panic': 3871, 'serum': 6336, 'rachael': 11521, 'despise': 7083, 'combs': 7861, 'maddox': 15797, 'poster': 3875, 'poirot': 17898, 'horrendously': 11344, 'anymore': 1479, 'saps': 13459, 'examine': 8642, 'ben': 946, 'mastered': 12227, 'beyond': 702, 'bennett': 6207, 'mcgregor': 11428, 'coupled': 6598, 'wanted': 463, 'arriving': 10454, 'pure': 1030, 'sour': 9299, 'enjoy': 337, 'this': 14, 'win': 1149, 'tribe': 4572, 'horrific': 3275, 'else': 346, 'got': 182, 'pet': 3713, 'dancing': 1103, 'backdrop': 3905, 'footsteps': 7924, '180': 11747, 'rock': 694, 'researched': 10262, 'imdb': 781, 'knight': 5490, 'fetish': 6859, 'charming': 1131, 'bernie': 7830, 'substantial': 9789, '(': 25, 'leaves': 897, 'linda': 4426, 'grisham': 13058, 'bud': 4697, 'whore': 8147, 'complain': 3748, 'job': 284, 'administration': 8157, 'serial': 1386, 'painfully': 1989, 'kinetic': 17538, 'encompasses': 15423, 'headache': 6639, 'doctors': 5343, 'eldest': 8255, 'done': 237, 'studio': 1062, 'pot': 4854, 'laughable': 1153, 'payments': 14512, 'henderson': 10655, 'tender': 3608, 'begins': 744, 'type': 587, 'didn`t': 15337, 'macho': 6116, 'enthusiasm': 5187, 'strongest': 6353, 'impromptu': 15646, 'knocking': 9153, 'read': 294, 'son': 454, 'stop': 605, 'masochist': 14383, 'story': 66, 'distract': 10557, 'uh': 5697, 'bachman': 13785, 'dock': 12938, 'anything': 235, 'babe': 4381, 'roadie': 16122, 'fellow': 1714, 'bureaucrat': 16795, 'resulted': 6322, 'implication': 13125, 'sophie': 6162, 'disappointing': 1245, 'purple': 3073, 'passing': 2853, 'venice': 9828, 'stunts': 3501, 'gay': 930, 'ships': 5416, 'rookie': 5983, 'age': 536, 'letter': 3062, 'blonde': 1981, 'mother': 440, 'onto': 1717, 'shoulders': 5840, 'kei': 8323, 'reprimanded': 18020, 'great': 85, 'penultimate': 13332, 'porn': 1338, 'dorky': 11214, 'eccentric': 3577, 'barry': 2903, 'watched': 246, 'chuck': 3311, 'for': 21, 'joss': 15715, 'explored': 4709, 'neighbors': 4644, 'surf': 8467, 'singles': 13497, 'davies': 3992, 'shemp': 9281, 'spying': 16269, 'inserting': 13138, 'vic': 8870, 'hopefully': 2307, 'expressionist': 17172, 'promotion': 9702, 'it': 11, 'excluding': 12986, 'curiosity': 3683, 'pushed': 4189, 'loners': 15782, 'stories': 525, 'break': 999, 'promo': 16032, 'eating': 2116, 'mostly': 672, 'monologue': 6681, 'marital': 9177, 'shady': 11600, 'rises': 4557, 'graced': 14163, 'rushed': 3554, 'laird': 14321, 'acknowledge': 7523, 'car': 533, 'stitzer': 18257, 'twice': 1258, 'language': 1093, 'inside': 1129, 'catherine': 3081, 'victims': 1641, 'marcus': 9175, '1800': 12648, 'like': 45, 'diego': 10551, 'improvement': 4826, 'raises': 6317, 'mildly': 2268, 'tries': 503, 'deep': 963, 'demeaning': 13990, 'grammar': 11308, 'v': 2135, 'masses': 5497, 'unsatisfactory': 18445, '#1': 5554, 'snl': 3720, 'possession': 6144, 'toad': 13592, 'tics': 13587, 'backing': 9406, 'budget': 418, 'boost': 9927, 'series': 195, 'translating': 16369, 'removed': 3951, 'frye': 7930, 'loner': 9163, 'derek': 2906, 'depictions': 7317, 'blu': 16742, 'skipping': 8810, 'ustinov': 5545, 'my': 61, 'thierry': 18342, 'commitment': 6818, 'disney': 814, 'coach': 4497, 'robots': 3956, 'example': 487, 'hitting': 3583, 'regrets': 9726, 'connect': 3313, 'world': 188, 'production': 369, 'starring': 1027, 'rather': 258, 'four': 731, 'threw': 3562, 'real': 161, 'dushku': 17103, 'non-existent': 3544, 'weakest': 4683, 'bonham': 8189, 'winston': 13674, 're-animator': 12386, 't': 26, 'persuades': 12328, 'dom': 8616, 'victor': 2159, 'necessary': 1892, 'order': 643, 'hosted': 9121, 'frank': 1241, 'sleepy': 8443, 'era': 929, '11': 1931, 'popularity': 4265, 'contrary': 3524, 'kimberly': 12172, 'victorian': 6012, 'posing': 7177, 'yes': 425, 'me': 75, 'allegorical': 15019, 'embarrassingly': 8258, 'separate': 3604, 'sadness': 4111, 'prove': 2154, 'david': 572, 'crew': 1029, 'performance': 245, 'breast': 6576, 'bearing': 8937, 'pride': 3071, 'wasn': 268, 'enamored': 15422, 'carl': 4055, 'too': 111, 'comrades': 12858, 'to': 8, 'paul': 685, 'mahoney': 15799, 'back': 159, 'light': 756, 'ladder': 4942, 'essence': 3169, 'suggesting': 8108, 'scraped': 14673, 'jeroen': 13158, 'wanna': 2895, 'black': 344, 'rental': 2060, 'become': 410, 'performances': 361, 'imaginable': 5075, 'sub': 4124, 'zealous': 18545, 'aunts': 8524, 'can': 59, 'promises': 4964, 'assembled': 6796, 'wrongly': 8888, 'characters': 109, 'meaty': 17674, 'oddity': 10770, 'cheap': 740, 'jets': 15711, 'kill': 577, 'conservative': 3987, 'starbuck': 16276, 'draws': 3922, 'virus': 3895, 'row': 2960, 'freddy': 1597, 'future': 698, 'churchill': 13890, 'creation': 4229, 'bear': 1980, 'population': 3284, 'college': 994, 'dramas': 3214, 'dumb': 957, 'glorified': 9095, 'boxer': 4300, 'theatre': 1689, 'pic': 10811, 'drives': 3266, 'mine': 1768, 'disguise': 5342, 'squirrel': 13540, 'unfortunately': 434, 'christie': 6049, 'jumps': 3059, 'union': 4281, 'derogatory': 17017, 'dern': 7879, 'proves': 1457, 'hilarity': 5360, 'hewitt': 10659, 'lamest': 10135, 'wants': 498, 'its': 100, 'turn': 514, 'have': 31, 'shabby': 11598, 'letdown': 6281, 'exception': 1289, '1982': 7018, 'staged': 4204, '1970': 2679, 'character': 124, 'tho': 6172, 'florida': 3628, 'awake': 3823, 'intolerable': 14276, 'contender': 13933, 'dances': 4799, 'traditions': 8849, 'moment': 671, 'useful': 4284, 'left': 335, 'sum': 3241, 'ask': 916, 'reason': 278, 'in-joke': 15647, 'neo': 12271, 'apartment': 1914, 'unsympathetic': 8487, 'beginning': 444, 'marty': 4947, 'attacked': 2812, 'edward': 2443, 'weed': 13664, 'purse': 7184, 'imagines': 14241, 'talking': 708, 'physically': 3597, 'section': 2646, 'stinker': 4562, 'issues': 1235, 'whenever': 2207, 'manoj': 10737, 'scope': 4870, 'asylum': 4481, 'fortunately': 2726, 'zip': 13693, 'casualty': 11129, 'forgive': 3472, 'worst': 220, '1972': 4892, 'elementary': 8626, 'aspirations': 8925, 'sympathise': 18305, 'did': 127, 'penthouse': 15965, 'see': 73, 'squeeze': 10927, 'meal': 6906, '<pad>': 1, 'mind-numbing': 11435, 'lemmon': 3485, 'the': 2, 'highlights': 4083, 'poignant': 3551, 'err': 11247, 'thunderbird': 10362, 'notorious': 3231, 'would': 67, 'gathering': 6082, 'product': 1975, 'aficionado': 16578, 'far-fetched': 5766, 'ceremony': 7849, 'hobby': 10664, 'messages': 3708, 'sturdy': 16293, 'guts': 3532, 'pbs': 8027, 'ramones': 4103, 'whom': 941, 'point': 243, 'anticipate': 13758, 'get': 87, 'triangle': 4883, 'wrestling': 3732, 'one-liners': 3437, 'sybil': 10347, 'affected': 4899, 'civilian': 9451, 'life': 126, 'ruthless': 3799, 'merely': 1639, 'prank': 6702, 'driven': 2978, 'cinéma': 16870, 'out-of-place': 15932, 'collapse': 11147, 'book': 264, 'honor': 2914, 'truck': 2676, 'defined': 5753, 'immoral': 14245, 'putting': 1487, 'kira': 13174, 'proud': 2337, 'impediment': 17422, 'june': 5371, 'examples': 2374, 'vicious': 4362, 'redneck': 7725, 'woods': 1286, 'everything': 308, 'survival': 3892, 'existence': 1750, 'falcon': 14091, 'capable': 2142, 'staying': 4351, 'lady': 760, 'clothing': 4155, 'grabs': 5469, 'pickford': 4264, 'writers': 925, 'harris': 1953, 'started': 548, 'curious': 1966, '2005': 2863, 'overdue': 17825, 'stunningly': 7481, 'bad': 80, 'zandalee': 14944, 'junk': 2527, 'teenager': 1995, 'youngsters': 10417, 'thrilling': 2967, 'granddaughter': 10075, 'follow': 798, 'transform': 14834, 'well-done': 6546, 'slob': 9293, 'restraint': 9259, 'vision': 1911, 'longs': 12208, 'are': 30, 'recent': 1079, 'weir': 12617, 'allen': 1383, 'arm': 3156, 'oppressed': 11478, 'shoots': 4559, 'impeccable': 10105, 'directly': 2872, 'exchange': 5917, 'dumbing': 12954, 'sebastian': 6332, 'zoo': 12638, 'emotional': 942, 'easier': 3319, 'thought': 186, 'so-called': 2455, 'met': 1779, 'disability': 9031, 'man': 134, 'bots': 13832, 'domestic': 5183, 'unappealing': 8126, 'sucked': 1840, 'doesn': 171, 'tosses': 14832, 'people': 83, 'killings': 3540, 'dangerous': 1898, 'israelis': 15700, 'imax': 13122, 'escaped': 3625, 'learned': 2086, 'finds': 683, 'negatives': 10184, 'care': 468, 'moments': 419, 'warm': 2432, 'forgetting': 7096, 'philippe': 10218, 'dried': 17088, 'random': 1564, 'creaky': 13954, 'retrieve': 8418, 'limb': 15769, 'sights': 5680, 'donald': 2567, 'whit': 12622, 'blacks': 5028, 'himself': 360, 'nice': 343, 'hrs': 13114, 'jack': 644, 'runyon': 14650, 'dudes': 11220, 'typical': 709, 'wendt': 8878, 'storytelling': 2858, 'brendan': 4146, 'triumph': 4997, 'slept': 7757, 'adolph': 11762, 'somewhat': 673, 'soon': 502, 'flimsy': 6255, 'davis': 1327, 'worthwhile': 2808, 'werewolves': 6186, 'weirdly': 14907, 'objectively': 13301, 'neurotic': 5957, 'war': 331, 'hagen': 12088, 'hospital': 1715, 'gives': 437, 'freedom': 2249, 'justify': 4629, 'attempted': 3404, 'council': 16952, 'stripes': 10336, 'stiller': 3390, 'strong': 607, 'lambs': 10706, 'nail': 5647, 'sci': 4759, 'clearly': 752, 'drugs': 1511, 'intended': 1376, 'slew': 9292, 'look': 179, 'manipulating': 14371, 'explanations': 7909, 'gratuitous': 2068, 'refers': 5978, 'secret': 1009, 'worse': 426, 'enables': 15421, 'delivers': 1451, 'agree': 915, 'marriage': 1473, 'while': 144, 'replacement': 8785, 'mini-series': 4178, 'gifted': 6447, 'crazy': 890, 'programmer': 17933, 'zeta-jones': 13692, 'melinda': 7149, 'mormon': 7407, 'theater': 717, 'unseen': 6366, 'rocks': 3238, 'fund': 12058, 'ross': 5271, 'omission': 14477, 'failures': 7911, 'individuals': 4005, 'kitten': 17542, 'hasten': 17357, 'clyde': 8212, 'synonymous': 18308, 'kelly': 1292, 'express': 2287, 'stars': 398, 'strategy': 11643, 'extremely': 586, 'cook': 3261, 'srk': 18236, 'redeems': 13407, 'penis': 10214, 'whilst': 1760, 'predecessor': 4858, 'travel': 1929, 'lovers': 2054, 'this-': 16343, 'genius': 1151, 'crush': 4503, 'garnered': 7633, 'spanish': 2157, 'chores': 15210, 'industrial': 4321, 'worth': 302, 'gentle': 3473, 'andreas': 16612, 'nipple': 14454, 'wisely': 8884, 'haired': 11319, 'offensive': 2269, 'oates': 11472, 'comical': 2835, 'spectacle': 6744, 'gump': 9558, 'hooray': 13105, 'nonsense': 1943, 'fathers': 4930, 'few': 180, 'little': 123, 'ones': 647, 'jackie': 1954, 'didn': 162, 'more': 62, 'spout': 16265, 'decade': 1845, 'hadn': 1676, 'featuring': 1713, 'kittens': 17543, 'misled': 15844, 'child': 508, 'buster': 4147, 'blue': 1481, 'craggy': 13950, 'tougher': 13596, 'partying': 10207, 'buried': 3518, 'fields': 5464, 'deleted': 5595, 'lennon': 6661, 'goldsworthy': 4518, 'soundtrack': 778, 'nauseating': 8014, 'injustice': 11366, 'fun': 256, 'woefully': 8885, 'i': 12, 'shot': 354, 'racism': 2996, 'doomed': 4804, 'competition': 3523, 'memories': 1701, 'tailored': 14802, 'men': 374, 'unrest': 12587, 'handed': 4524, 'outside': 1035, 'southeast': 18222, 'gaston': 17276, 'advantage': 3154, 'insurance': 4939, 'mastery': 11422, 'suspend': 4564, 'rejuvenation': 16083, 'they': 39, 'crews': 16965, 'political': 967, 'coast': 5449, 'peace': 2380, 'rate': 1087, 'captures': 2220, 'hopes': 1729, 'soapy': 18210, 'surveillance': 14786, 'superb': 796, 'eve': 3692, 'sr': 14754, 'centre': 7288, 'min': 4741, 'day': 260, 'clouds': 6589, 'lips': 4842, 'hopkins': 6643, 'slavery': 7216, 'programming': 8776, 'sinks': 10305, 'nancy': 2335, 'stirring': 9785, 'crawford': 4602, 'hires': 5472, 'shame': 924, 'secondly': 4274, 'unprofessional': 18440, 'copperfield': 16943, '//www': 10420, 'jaws': 4836, 'considered': 1108, 'blends': 8949, 'choi': 16859, 'grapple': 14166, 'rukh': 4981, 'characterization': 4388, 'reviewer': 2106, 'gigs': 14149, 'pans': 8750, 'rescue': 2340, '1973': 5007, 'neighbor': 3230, 'films': 116, 'thick': 4355, 'move': 833, '<unk>': 0, 'kane': 2918, 'each': 266, 'trough': 16379, 'sullivan': 2431, 'disjointed': 3843, 'where': 129, 'good-looking': 6450, 'love': 119, 'guys': 511, 'tropical': 10976, 'miniseries': 5640, 'pike': 13346, 'guru': 11316, 'in': 13, 'oklahoma': 13304, 'memory': 1820, 'esp': 10025, 'schmaltz': 18101, 'shaved': 12459, 'although': 272, 'rohmer': 4977, 'biggest': 1053, 'fans': 500, 'either': 372, 'exemplary': 17166, 'named': 757, 'our': 275, 'determined': 2908, 'cheesiest': 16852, 'rogue': 7445, 'se7en': 14680, 'lengths': 14330, 'prehistoric': 9235, 'teeny': 18329, 'extent': 2667, 'slutty': 14725, 'shop': 2156, 'ties': 4568, 'p': 1551, 'listened': 7142, 'boat': 1950, 'comically': 12852, 'caught': 970, 'threaten': 10959, '30': 1023, 'reasonably': 3286, 'surrealism': 10940, 'level': 745, 'rating': 690, 'jennie': 17505, 'earlier': 950, 'thats': 1333, 'overpowering': 17831, 'truthfully': 16382, 'incest': 5788, 'scooby': 3718, 'throughly': 18348, 'spy': 2716, 'intimidating': 9144, 'peanuts': 17856, 'byrne': 10488, 'cinematic': 1372, 'dim-witted': 15341, 'displaying': 8608, 'shakespeare': 1704, 'opus': 8742, 'familiarity': 10036, 'gripping': 3172, 'eurovision': 17157, 'award': 1411, 'sarandon': 8428, 'dye': 15396, 'peers': 7424, 'grows': 3531, 'along': 352, 'discs': 11212, 'thrillers': 2743, 'alongside': 4691, 'lunatic': 5380, 'craze': 11167, 'let': 286, 'tossing': 16359, 'hardest': 11324, 'immense': 7122, 'stank': 18242, 'sounded': 2384, 'writing': 464, 'weakness': 6014, 'basically': 642, 'modesty': 3434, 'hong': 2196, 'ufo': 10981, 'frequently': 3422, 'saw': 189, 'sons': 2926, 'nathan': 5093, 'thoughtful': 4566, 'dustin': 6839, 'churn': 13891, 'days': 507, 'playback': 14535, 'judging': 4089, 'gone': 783, 'bloodless': 11829, 'massive': 3064, 'checking': 3082, 'stopped': 2013, 'vault': 9354, 'tv': 238, 'sinister': 3240, 'savini': 10889, 'jagger': 5942, '300': 6195, 'culture': 1127, 'backs': 6571, 'dragged': 3166, 'adopting': 15000, 'treating': 10974, 'beautifully': 1296, 'extraneous': 15459, 'chuckles': 7293, 'fury': 4818, 'once': 300, 'furniture': 6634, 'mom': 1330, 'c': 1180, 'download': 9509, 'lost': 433, 'advert': 12681, 'veteran': 2592, 'skeptical': 7754, 'sleeve': 9291, 'tempo': 11667, 'mark': 984, 'during': 323, 'protracted': 11514, 'homosexual': 5209, 'wish': 635, '10': 304, 'spiritual': 3558, 'respond': 8057, 'bogart': 7834, 'styled': 18275, 'night': 306, 'service': 2235, 'frontier': 5197, 'omen': 4954, 'reluctant': 7441, 'wheeler': 11008, 'quiet': 1797, 'onwards': 11477, 'sidekick': 3960, 'necessarily': 3067, 'infectious': 9133, 'skin': 2512, 'anna': 2811, 'daniel': 2442, 'sith': 13498, 'entirely': 1157, 'full': 395, 'cells': 8972, 'incoherent': 2947, 'ending': 311, 'sad': 611, 'seymour': 5677, 'laughs': 874, 'still': 138, 'moral': 1810, 'breakdancing': 16770, 'keanu': 6890, 'morgue': 11446, 'trilogy': 2182, 'feinstone': 6857, 'kudos': 3541, 'shower': 2961, 'geronimo': 13037, 'memorable': 1025, 'progresses': 4550, 'fiancé': 4241, 'merry': 8722, 'sociological': 18212, 'unsure': 6367, 'compelling': 1404, 'said': 313, 'pert': 17866, 'revue': 13429, 'sexist': 7749, 'africans': 12684, 'mumbai': 12263, 'townspeople': 8120, 'profile': 9701, 'helmer': 10087, 'heaven': 1550, 'consequences': 4501, 'presents': 2381, 'harder': 4082, 'local': 618, 'scum': 8079, 'lacked': 4006, 'both': 212, 'coldest': 16891, 'spark': 5124, 'relaxing': 9727, 'ossie': 17814, 'opera': 1543, 'faults': 4240, 'mysterious': 1269, 'johnson': 3024, 'fight': 557, 'hotel': 1524, 'k-9': 9612, 'came': 356, 'spicy': 18227, 'fine': 489, 'myriad': 13267, 'undead': 6365, 'angels': 2718, 'authors': 9403, 'effects': 322, 'deer': 4605, 'actor': 287, 'ohio': 10195, 'desperately': 2723, 'versatility': 13641, 'course': 281, 'executions': 15445, 'distorted': 10002, 'different': 273, 'senseless': 4664, 'homages': 13101, 'larry': 2919, 'bruce': 1571, 'assassinate': 9402, 'stifler': 10933, 'devil': 1846, 'adjustment': 16567, 'ambient': 15023, 'philippines': 12330, 'stressed': 11646, 'assumes': 7266, 'simba': 8441, 'demi': 9986, 'took': 530, 'reliable': 7440, 'gimmick': 6260, 'aristocrat': 8923, 'desperation': 4311, 'peter': 799, 'lifting': 14337, 'untalented': 9351, 'horror': 202, 'fi': 4814, 'residents': 5519, 'hair': 1204, 'ditsy': 12937, 'musicals': 3066, 'entertaining': 430, 'home': 333, 'portray': 2057, 'adoption': 13727, 'huge': 662, 'remember': 336, 'audience': 339, 'urgency': 18454, 'anybody': 1707, 'anderson': 2094, 'pardon': 9678, 'gang': 1549, 'way': 103, '5': 558, 'attitude': 2063, 'star': 342, 'rolling': 3191, 'anne': 2208, 'venue': 18469, 'channel': 1200, 'katey': 15724, 'wargames': 13656, 'riddled': 13432, 'spoken': 2552, 'lived': 1504, 'prohibition': 16028, 'belushi': 4904, 'syrupy': 18310, 'marking': 15805, 'fanatical': 15463, 'laura': 2399, 'given': 367, 'lying': 3227, 'line': 347, 'absurd': 1825, 'leave': 601, '1': 401, 'avigdor': 16669, 'ultimately': 1388, 'sensuous': 18131, 'porch': 17905, 'perplexed': 10216, 'descent': 4400, 'part': 184, 'threatens': 5540, 'unbelievable': 1227, 'difficult': 855, 'follow-up': 6865, 'outright': 6493, 'try': 358, 'species': 5285, 'drags': 3167, 'canon': 10497, 'ritter': 3288, 'photography': 1384, 'superman': 2133, 'even': 68, 'anthony': 1736, 'swallow': 5850, 'comedies': 1201, 'funhouse': 17255, 'ossessione': 14491, 'research': 1959, 'unnecessary': 1947, 'stretching': 10934, 'former': 1046, 'survived': 4352, 'bucks': 3160, 'telegraphed': 10357, 'average': 826, 'annoyed': 3007, '45': 3303, 'snow': 3443, 'satisfaction': 7201, 'urmila': 10386, 'used': 362, 'cuss': 15298, 'killer': 474, 'packs': 7166, 'least': 229, 'maintain': 4735, 'civil': 3259, 'legend': 1623, 'help': 364, 'mash': 14382, 'battered': 13798, 'arrive': 3514, 'often': 397, 'check': 817, 'steve': 1155, 'melted': 17682, 'hour': 543, 'stash': 12496, 'drag': 2418, 'spoilers': 1118, 'younger': 1192, 'eli': 7897, 'weekend': 2218, 'headstrong': 14206, 'cold-hearted': 12848, 'produce': 2023, 'infinitely': 6879, '3': 415, 'pang': 10202, 'spring': 3388, 'brosnan': 2814, 'slightly': 1051, 'venantino': 16448, 'directing': 844, 'split': 2927, 'outrageous': 3548, 'exhibits': 12987, 'shouldn': 1531, 'wiped': 7008, 'brutal': 1521, 'com': 3747, 'ice': 2084, 'shootouts': 14702, '80': 1044, 'parable': 13324, 'sound': 516, 'acceptable': 3351, 'attractive': 1448, 'selfish': 5115, 'community': 1738, 'rest': 376, 'movie': 18, 'tragedy': 1533, 'ordered': 4849, 'romanticized': 12423, 'were': 76, 'or': 49, 'goo': 9097, 'burn': 4301, 'innuendos': 17459, 'truly': 380, 'screwball': 6727, 'couch': 5175, 'wei': 7794, 'release': 764, 'feels': 821, 'purpose': 1370, 'girl': 244, 'raja': 10858, 'miss': 692, 'waqt': 12611, 'emergency': 10018, 'hoe': 17389, 'rip': 2383, 'eventually': 937, 'lines': 392, 'offender': 12289, 'asks': 1915, 'directs': 4232, 'straight': 823, 'asia': 5148, 'pestilence': 15973, 'wes': 3566, 'secretly': 4760, 'minnelli': 6677, 'blames': 9917, 'whether': 797, 'ty': 16393, 'seinfeld': 8799, 'jews': 5484, 'safely': 6720, 'fabulous': 2302, '75': 7021, 'called': 453, 'lasted': 4174, 'empty': 2006, 'question': 931, 'blinded': 9422, 'children': 399, 'deal': 862, 'henry': 1539, 'bravo': 6041, 'richardson': 4556, 'disaster': 1653, 'grueling': 17326, 'stowe': 11640, 'older': 978, 'hit': 651, 'persona': 3187, 'padding': 10793, 'kicks': 3179, 'edge': 1374, 'splits': 13532, 'getting': 403, 'kher': 17534, 'marisa': 8344, 'keep': 404, 'title': 413, 'timmy': 6756, 'focal': 17222, 'chinese': 1662, 'frightening': 2876, 'baxter': 12747, 'amused': 5868, 'puking': 17950, 'masterpiece': 898, 'inkling': 17453, 'popped': 7429, 'unusually': 7499, 'ab': 14981, 'indulge': 10678, 'democracy': 9494, 'castle': 1918, 'fierce': 9535, 'duo': 3364, 'follows': 1068, 'distinct': 4610, 'brian': 1441, 'johansson': 7132, 'tunes': 3968, 'kitchen': 3861, 't-shirts': 14798, 'will': 95, 'deserves': 1064, 'destruction': 3994, 'pretend': 3948, 'torn': 3966, 'food': 1697, 'person': 420, 'scandalous': 11582, 'enthralled': 7903, 'maker': 3589, 'vienna': 8490, 'piece': 422, 'couple': 368, 'offered': 2735, 'bothered': 2596, 'wrestlers': 12631, 'hector': 11333, 'mcintire': 6675, 'activists': 14995, 'plots': 1813, 'treasure': 2515, 'broadcast': 3253, 'bobby': 3206, 'cooking': 6232, 'singleton': 10304, 'ring': 1926, 'slimy': 6343, 'gundam': 4523, 'admired': 6782, 'high-brow': 15607, 'think': 105, 'repertoire': 9728, 'regain': 10255, 'foxx': 4616, 'won': 411, 'frankly': 1788, 'span': 7222, 'thinks': 1353, 'feeling': 552, 'constant': 1696, 'comfortably': 12851, 'disappointments': 9032, 'brainy': 16765, 'oakie': 12284, 'poorly': 771, 'junior': 4839, 'jane': 1024, 'prize': 5253, 'top': 424, 'jean-marc': 14292, '1980': 2899, 'bargain': 4483, 'album': 4584, 'americans': 1562, 'boundaries': 7281, 'dated': 1920, 'enjoyable': 703, 'gremlins': 8290, 'horse': 1777, 'marie': 2767, 'vile': 7510, 'run': 519, 'aka': 2350, 'nyqvist': 17779, 'dives': 14017, 'lingering': 9623, 'bowl': 5322, 'shooting': 1244, 'reb': 12388, 'hearing': 2080, 'moretti': 12256, 'presented': 1428, 'some': 55, 'cheese': 3117, 'cukor': 9978, 'dug': 10012, 'shown': 615, 'preparing': 6505, 'coaster': 8213, 'never': 128, 'sweden': 5537, 'crotch': 15289, 'email': 8631, 'repeat': 3101, 'means': 839, 'gilliam': 4419, 'earning': 10573, 'arts': 1480, 'probable': 10834, 'mental': 1793, 'ha': 2844, 'doors': 4404, 'terrifying': 2966, 'selling': 4448, 'foggy': 10609, 'didnt': 7881, 'mumbling': 13264, 'broken': 2139, 'beware': 4590, 'stumble': 6749, 'soha': 9774, 'inn': 15671, 'trailers': 3395, 'gyllenhaal': 9562, 'ugly': 1578, 'morality': 4094, 'webber': 16480, 'barrymore': 4048, 'leia': 11396, 'palance': 4333, 'solution': 6346, 'esai': 15432, 'post-modern': 11497, 'darryl': 9489, 'put': 271, 'ever': 125, 'establishing': 7905, 'masterful': 4429, 'received': 1857, 'wrong': 330, 'purchasing': 13385, 'typically': 3151, 'now': 156, 'connecting': 8575, 'abiding': 11037, 'mafia': 3332, 'songs': 706, 'love-interest': 17611, 'hamill': 14186, 'climate': 7855, 'compound': 11154, 'ego': 4408, 'description': 2907, 'bolivia': 8187, 'stalwart': 12493, 'muster': 9196, 'wider': 9841, 'thorough': 10360, 'fantastic': 728, 'cinema': 446, 'storyline': 663, 'comprised': 8996, 'suspect': 1815, 'amazing': 458, 'cheats': 8974, 'frodo': 11285, 'abandoned': 2487, 'finally': 459, 'frail': 17236, 'gypsy': 7949, 'populace': 15999, 'expect': 513, 'female': 656, 'head': 472, 'canadian': 2141, 'polyester': 15997, 'journal': 13161, 'already': 469, 'heard': 504, 'skeleton': 10906, 'score': 631, 'meter': 11432, 'call': 710, 'moriarty': 14422, 'heavy': 1282, 'alex': 1843, 'gesture': 10622, 'starts': 485, 'atrocities': 10459, 'worlds': 2807, 'low': 476, 'past': 478, 'overall': 527, 'candy': 1864, 'grande': 17305, 'documentarian': 17068, 'display': 2663, 'dark': 480, 'helmet': 9112, 'michaels': 12242, 'security': 2290, 'compares': 11152, 'white': 481, 'chewing': 11139, 'f': 2031, 'inclined': 8686, 'flipping': 9079, 'summary': 2293, 'korea': 6277, 'show': 120, 'clause': 15219, 'steals': 2929, 'personally': 1248, '1932': 6775, 'beings': 4383, 'hacked': 13064, 'cheated': 4057, 'exquisitely': 14080, 'financially': 8652, 'concerning': 3679, 'waterston': 14904, 'famous': 727, 'guarantee': 4422, 'bounds': 12773, 'historically': 4170, 'jeon': 15710, 'feet': 2495, 'michael': 495, 'leung': 13193, 'today': 496, 'kid': 497, 'shone': 14700, '1996': 3819, 'continents': 15266, 'inch': 9132, 'works': 499, 'includes': 1557, 'inviting': 14282, 'germans': 4244, 'pool': 3028, 'attributes': 8523, 'decadence': 13977, 'values': 1143, 'air': 1074, 'bonus': 5030, 'luther': 17623, 'demonicus': 9988, 'cause': 1049, 'tendency': 8476, 'lucile': 12213, 'minimum': 3867, 'ramble': 17969, 'personal': 955, 'out': 54, 'mad': 1071, 'connecticut': 11913, 'instance': 1969, 'climactic': 6588, 'operate': 8741, 'complained': 8216, 'highly': 562, 'daughter': 526, 'bitch': 6208, 'cloud': 8984, 'act': 531, 'shining': 3440, 'improve': 4825, 'invasion': 4626, 'paint': 2379, 'friend': 448, 'elite': 5461, 'influential': 8308, 'scanners': 9270, 'positive': 1109, 'devito': 9994, '60s': 2258, 'weepy': 14906, 'manages': 1110, 'loosely': 2822, 'abhay': 9862, 'fosters': 17232, 'brittany': 15151, 'incidental': 12130, 'value': 1111, 'wistful': 16496, 'hard': 267, 'creative': 1684, 'transmitted': 16371, 'creepiness': 10536, 'roommates': 9738, '15': 1112, 'sloppy': 3500, 'shoves': 18155, 'hauntingly': 17360, 'collection': 1373, 'mac': 9169, 'science': 1114, 'steaming': 7763, 'figures': 3087, 'festival': 1115, 'demme': 11191, 'town': 501, 'special-effects': 16251, 'theft': 9803, 'situations': 1117, 'melanie': 13231, 'dubbing': 3012, 'sweet': 992, 'minor': 1625, 'credibility': 3010, 'trouble': 1119, 'elements': 801, 'tech': 8838, 'humour': 1128, 'sleepwalk': 14722, 'smallest': 8445, 'sheltered': 18147, 'post-apocalyptic': 10824, 'week': 1126, 'invented': 4940, 'olds': 8740, 'tastes': 4353, 'cult': 1134, 'unsatisfying': 7498, 'van': 1135, 'snipers': 14733, 'streisand': 4277, 'argentinian': 11783, 'sue': 4674, 'lot': 174, 'bannister': 13791, 'sloane': 7470, 'ham-fisted': 15584, 'rushes': 8793, 'overwhelm': 12307, 'jason': 1495, 'wind': 2110, 'galactica': 4933, 'mastroianni': 6903, 'gold': 1888, 'compass': 15244, 'kings': 6892, 'knees': 10129, 'griffith': 4521, 'waste': 394, 'unmissable': 18432, 'avengers': 13776, 'dinner': 3417, 'charm': 1319, 'supply': 6355, 'farmhouse': 14095, 'reunion': 2674, 'miles': 2311, 'journeys': 17516, 'kiddie': 7387, 'river': 2203, 'unnoticed': 18436, 'narrating': 14440, 'credit': 1150, 'k': 2671, 'helpful': 6095, 'la': 1152, 'puppy': 7437, 'teen': 1721, 'force': 1158, 'foreboding': 8277, 'smoking': 4201, 'prepared': 2706, 'couldn': 416, 'pathetic': 1159, '2006': 2932, 'holding': 2359, 'insulted': 10683, 'slaughter': 6342, 'meaning': 1251, 'barely': 1163, 'sees': 1166, 'dive': 8612, 'bath': 3825, 'teenage': 1489, 'overrated': 3333, 'guarded': 14180, 'image': 1655, 'location': 1700, 'madam': 17634, 'wow': 1170, 'cybill': 9010, 'keith': 4727, 'col': 11892, 'costumes': 1303, 'destinies': 15335, 'tape': 1979, 'lucille': 6669, 'drab': 7323, 'audiences': 1171, '*': 2409, 'sea': 1800, 'bullock': 9936, 'consider': 1172, 'palmer': 12311, 'failure': 2049, 'one-night': 17803, 'disturbing': 1173, 'frederic': 15512, 'bronte': 7837, 'intentional': 7127, 'furnishings': 17256, 'byron': 7556, 'yuppie': 11019, 'ghost': 1174, 'west': 1178, 'asking': 2095, 'control': 1181, '1950s': 2557, 'b-movies': 5315, 'failed': 1182, 'leaving': 1184, 'cunning': 9008, 'butterfly': 8195, 'dude': 2569, 'twenty-something': 18399, 'chamberlain': 4490, 'inventiveness': 15691, 'logo': 9630, 'sparkles': 13523, 'numerous': 1854, 'canal': 9940, 'russian': 1837, 'shaving': 14694, 'dario': 13971, 'dreaming': 10010, '2010': 14964, 'mysteries': 3376, 'sick': 1187, 'simira': 18174, 'commenters': 16900, 'icing': 14238, 'admit': 861, 'inserts': 17463, 'fountain': 14123, 'page': 1594, 'mild': 3941, 'treats': 4279, 'odyssey': 7163, 'military': 1189, 'supervisor': 16305, 'busts': 13853, 'abraham': 5308, 'beside': 5320, 'surprisingly': 1190, 'hindu': 14218, 'preferably': 9234, 'appreciation': 4585, 'helicopter': 4247, 'powerful': 980, 'll': 248, 'manga': 7145, 'weren': 1191, 'solutions': 12480, 'chemistry': 1193, 'adaption': 7024, 'ratso': 7185, 'takes': 320, 'farnsworth': 6856, 'thousands': 3729, 'abbott': 11035, 'miraculously': 7405, 'heightened': 13085, '90': 1199, 'hunters': 4622, 'filled': 1138, 'mount': 15864, 'cerebral': 6047, 'pass': 1345, '00': 4470, 'christ': 2833, 'excellently': 5916, 'smarmy': 8813, '6': 1207, 'jaffar': 14289, 'compared': 1066, 'maude': 11424, 'macmurray': 6899, 'embarrass': 8257, 'michell': 15833, 'thrown': 1508, 'fingers': 5354, 'scariest': 5839, 'brilliantly': 1964, 'trip': 1125, 'images': 1209, 'regret': 2583, 'pitt': 2854, 'historic': 5931, 'gap': 7104, 'scenery': 1385, 'contacts': 11159, 'originals': 7164, 'construction': 5047, 'marathon': 7998, 'sitting': 1212, 'movie-making': 8728, 'o': 787, 'brain': 1214, 'exaggerated': 4073, 'demille': 6419, 'sustain': 8834, 'simple': 571, 'daredevil': 16994, 'foot': 2018, 'gotten': 1939, '+': 5433, 'measure': 3866, 'holodeck': 15614, 'theaters': 1894, 'tough': 1217, 'actions': 1761, 'notoriously': 17772, 'mole': 5643, 'sweethearts': 16316, 'wait': 876, 'nearby': 3783, 'eddie': 1589, 'device': 2838, 'terms': 1382, 'mitchell': 3643, 'ruined': 2255, 'fishing': 5196, 'mraovich': 12259, 'literally': 1224, 'aside': 1233, 'skillful': 14717, 'niro': 4432, 'corruption': 4309, 'paulo': 12319, 'loud': 1236, 'floor': 2304, 'clarify': 12836, 'forbidden': 3766, 'hbo': 3773, 'snowman': 6344, 'screenplay': 834, 'beck': 16700, 'normal': 1237, 'pictures': 1238, 'larocca': 15749, 'rockets': 8421, 'anecdotes': 16615, 'unless': 863, 'caliber': 5734, 'jodie': 6655, 'flat': 988, 'catastrophe': 8556, 'crafted': 3120, 'rare': 1239, 'someone': 283, 'market': 2021, 'agreed': 3901, 'defeated': 5593, 'name': 393, 'panama': 12312, 'aspect': 1240, 'siren': 14713, 'green': 1243, 'pauline': 9681, 'fair': 1246, 'fear': 1247, 'logical': 4175, 'channels': 4151, 'shouting': 5527, 'tyrannosaurus': 18402, 'intent': 3482, '$$': 13695, 'palma': 4097, 'unscrupulous': 14871, 'naked': 1253, 'names': 1254, 'resist': 5405, 'spells': 8099, 'outta': 10784, 'exterior': 8645, 'tower': 8119, 'simultaneously': 4665, ',': 4, 'effortless': 8254, 'shep': 16183, 'worship': 11014, 'student': 1255, 'hd': 12099, 'hugh': 3480, 'z': 6553, 'skeletons': 18181, 'elections': 17117, 'compassionate': 9460, 'tension': 1256, 'loses': 1972, 'stated': 4122, 'rumour': 16140, 'alert': 5436, 'honesty': 4823, 'please': 538, 'thanks': 1257, 'changed': 1260, 'tawdry': 12530, 'shaft': 11601, 'sources': 6526, 'graham': 4821, 'demented': 4398, 'pad': 6693, 'graces': 11305, 'scratch': 6963, 'framed': 4617, 'paid': 1378, 'sadly': 1026, 'rotten': 5272, 'nowhere': 1261, 'continues': 2210, 'likes': 1210, 'bow': 5731, 'abusive': 4291, 'franchot': 10612, 'revealing': 4195, 'bob': 1829, 'thereafter': 8841, 'voluptuous': 18481, 'genres': 3768, 'wilder': 5428, 'ashley': 3403, 'subject': 866, 'battlestar': 5318, 'ordinarily': 14486, 'tremors': 8121, 'translation': 3812, 'airs': 13736, 'episode': 381, 'unhealthy': 12584, 'premise': 707, 'guns': 2033, 'sisters': 2061, 'topher': 14831, 'summer': 1381, '86': 7803, 'honestly': 1266, 'misuse': 15847, 'soldier': 1560, 'privilege': 11505, 'crawl': 9006, 'silent': 1270, 'pig': 4335, 'binge': 15116, 'dreams': 1273, 'sunk': 7769, 'thespian': 13582, 'priceless': 4655, 'brigitte': 8194, 'despite': 477, 'locations': 1778, 'identity': 2309, 'thin': 1532, 'contributions': 11921, 'final': 550, 'towel': 11687, 'nerd': 5094, 'warns': 7253, 'indian': 1275, 'breath': 2974, 'filmmaker': 1485, 'square': 4120, 'interference': 13143, 'targets': 7489, 'hark': 11325, 'math': 8347, 'loves': 1276, 'dice': 14000, 'sorts': 2586, 'oldies': 17799, 'changes': 1361, 'todd': 4356, 'available': 1280, 'delayed': 13987, 'hey': 1283, 'hiv': 9118, 'university': 3396, 'forefront': 15495, 'runs': 1285, 'foremost': 7925, 'demonstrated': 9025, 'screen': 305, 'bryant': 16784, 'don´t': 9507, 'fearsome': 17189, 'wine': 7512, 'mixture': 3710, 'breed': 7057, 'bridges': 5442, 'tony': 1294, 'sailing': 13456, 'horses': 2945, 'excessive': 4708, 'mocking': 8727, 'zero': 1295, 'subs': 18277, 'treat': 1534, 'lovely': 1297, 'stray': 12505, 'advertisement': 9876, 'inaccurate': 4827, 'ke': 17530, 'travesty': 4571, 'brodie': 9428, 'several': 439, 'lusty': 17622, 'ascension': 16651, 'water': 1300, 'duds': 17094, 'integrated': 11372, 'relax': 4973, '$15': 12639, 'cant': 2113, 'probably': 241, 'receiving': 4969, 'attack': 1301, 'goofy': 2877, 'chase': 1302, 'letterboxed': 17584, 'sorrow': 10317, 'beer': 3571, 'halestorm': 15580, 'tag': 4459, 'toward': 2206, 'ringing': 11562, 'notion': 4183, 'meticulous': 17687, 'associate': 8171, 'demanding': 6418, 'strangler': 8826, 'color': 1308, 'reflection': 4658, 'indies': 14253, 'tears': 1758, 'slow': 599, 'adults': 1313, 'publisher': 12360, 'addict': 5559, 'bs': 13844, 'sweep': 11658, 'justified': 6888, 'passable': 5507, 'authentic': 3515, 'enjoys': 3847, 'critiques': 15284, 'monsters': 1853, 'gaudy': 14141, 'achieving': 10430, 'nights': 3097, 'government': 1318, 'historical': 1321, 'luke': 2251, 'managed': 1323, 'noll': 12278, 'soldiers': 1324, 'implies': 7653, 'brutish': 16783, 'superheroes': 16303, 'members': 1065, 'effective': 1274, 'utterly': 1325, 'strides': 18268, 'fixing': 10603, 'actively': 9869, 'poignancy': 13358, 'literary': 4732, 'ally': 5720, 'streetwise': 18266, 'religion': 2315, 'negative': 1331, 'colors': 2659, 'spouse': 10322, 'stick': 1332, 'reject': 8410, 'focuses': 2526, '9': 1334, 'involving': 1336, 'trailer': 1339, 'fortune': 3216, 'rooted': 12424, 'glances': 11301, 'bother': 1340, 'elegant': 5459, 'male': 953, 'jones': 1343, 'yankees': 16509, 'levy': 8703, 'adam': 1347, 'chris': 1348, 'christopher': 1355, 'damn': 1537, 'preferable': 13369, 'mention': 827, 'add': 739, 'handicap': 17348, 'communications': 16903, 'long': 209, 'additional': 4896, 'meant': 1043, 'raising': 4018, 'particular': 851, 'finish': 1350, 'ordering': 15923, 'informative': 7124, 'his': 32, 'denominator': 11955, 'morons': 7690, 'denzel': 2818, 'kumar': 4631, 'screening': 2799, 'outrage': 8022, 'martial': 1444, 'lifetime': 2731, 'distinguished': 9500, 'clicked': 13900, 'tautou': 10950, '1995': 5010, 'thanking': 18337, 'supports': 9319, 'generates': 9551, 'snobs': 18206, 'horrid': 3327, 'gunsmoke': 17335, 'scene': 158, 'amrita': 7030, 'oscars': 3645, 'davenport': 13972, 'victim': 1354, 'cry': 1356, 'playwrights': 14538, 'manner': 1357, 'ceiling': 7845, 'ruby': 4273, '1970s': 3508, 'nielsen': 8732, 'vampire': 1360, 'gag': 3929, 'support': 1363, 'vamp': 12592, 'central': 1366, 'church': 1367, 'tarot': 16325, 'developed': 1368, 'wagon': 11719, 'access': 4042, 'bakshi': 3980, 'battles': 3740, 'trend': 5542, 'fitting': 3530, 'knowing': 1369, 'hollow': 4249, 'uma': 6996, 'simulated': 10904, 'observing': 9667, 'ruth': 3885, 'culprit': 9485, 'beckett': 12749, 'crappy': 1831, 'mid-life': 14405, 'when': 60, 'sell': 2090, 'mondo': 17715, 'luigi': 15790, 'from': 44, 'reckless': 9251, 'development': 843, 'brady': 4051, 'frame': 2605, 'marvelous': 2851, 'quips': 12371, 'grass': 6871, 'maine': 13215, 'fell': 1391, 'best/worst': 15112, 'trails': 13598, 'alluring': 9885, 'arnold': 2901, 'smart': 1393, 'complete': 584, 'blurred': 9922, 'arctic': 11069, 'j': 1399, 'classified': 9454, 'leg': 4325, '100': 1824, 'gigli': 13041, 'goodbye': 6451, 'piper': 10815, 'speaker': 10318, 'lip': 7396, 'moon': 1600, 'ability': 1395, 'am': 224, 'arthur': 1396, 'agent': 1400, 'scheme': 4444, 'retaining': 14621, 'cindy': 7294, 'anxiety': 8166, 'expenses': 17169, 'dorothy': 3086, 'peoples': 3712, 'form': 828, 'retains': 11555, 'actresses': 1402, 'artistic': 1403, 'relationships': 1476, 'failing': 3421, 'titanic': 3200, 'lit': 5085, 'powers': 1667, 'site': 1960, 'turner': 3343, 'infants': 14261, 'dresses': 5762, 'horatio': 15616, 'pasted': 14506, 'surpassed': 12520, 'presence': 1408, 'technique': 3810, 'foster': 2696, 'swain': 16314, 'coma': 7571, 'cat': 1045, 'starting': 1629, 'genuine': 2357, 'liquor': 12200, 'downside': 6835, 'reception': 12389, 'yugoslavia': 9848, 'clue': 2003, 'subconscious': 13554, 'kovacs': 12179, 'january': 7662, 'spots': 2801, 'liz': 9625, 'regular': 2314, 'state': 1124, 'buffalo': 5159, '1946': 10423, 'year-old': 5004, 'a-team': 12668, 'washed': 8877, 'kidney': 15730, 'kurt': 2730, 'elvira': 2786, 'bodily': 15130, 'hunter': 2083, 'reluctantly': 8056, 'kennel': 14304, 'harry': 1414, 'billboards': 13815, 'mood': 1415, 'author': 1916, 'mouths': 6483, 'horribly': 2308, 'accepted': 3304, 'focused': 2356, 'monkey': 3489, 'aspects': 1416, 'dish': 6831, 'rope': 8065, 'weaving': 16479, 'approve': 9898, 'uneven': 4280, 'themselves': 604, 'wallop': 13654, 'boss': 1417, 'controversy': 8223, 'kralik': 13180, 'silvio': 11609, 'cahill': 9938, 'transformers': 7239, 'send': 2800, 'mulligan': 14429, 'fresh': 1420, 'libido': 15764, 'legendary': 2360, 'self': 1422, 'concept': 1137, 'nurse': 3784, 'illustrated': 7652, 'york': 697, 'tormented': 6991, 'palme': 14499, 'abuse': 2624, 'oh': 466, 'spot-on': 8452, 'england': 1727, 'eulogy': 17155, 'delved': 15325, 'cement': 12817, 'context': 2044, 'topics': 4994, 'promptly': 6705, 'spoiler': 1429, 'greeks': 17313, 'adding': 2681, 'desk': 8238, 'twenties': 10979, 'teacher': 1430, 'lowest': 4733, 'winters': 3611, 'kidnappers': 12170, 'cheat': 9951, 'wars': 1431, '10th': 12645, 'shameful': 8432, 'climb': 6225, 'naive': 2312, 'winslet': 11012, 'seed': 4275, 'depicts': 5054, 'capture': 1865, 'park': 1437, 'surely': 1440, 'grandparents': 8287, 'testosterone': 18336, 'digging': 8607, 'technology': 2027, 'nefarious': 14447, 'oakland': 12285, 'sort': 467, 'emphasis': 4513, 'starvation': 12495, 'astor': 11793, 'details': 1452, 'clumsy': 4306, 'laurel': 3277, 'stepmother': 9784, 'boast': 11106, 'powell': 2506, 'media': 1809, 'preminger': 5969, 'reservation': 13419, 'diane': 3687, 'anyway': 551, 'barker': 6803, 'repression': 12404, 'ferry': 7344, 'be': 34, 'narrative': 1456, 'yearn': 16511, 'career': 621, 'absolute': 1458, 'counseling': 13941, 'lewis': 2197, 'travelling': 9817, 'challenge': 2935, 'doing': 414, 'forever': 1461, 'mixed': 1852, 'ollie': 4095, 'flair': 4242, 'spell': 3723, 'filmography': 7921, 'mgm': 2610, 'cursed': 8593, 'powerhouse': 17907, 'stereotyping': 9308, 'stuttering': 16294, 'forgotten': 1470, 'unneeded': 18435, 'tribulations': 10373, 'ex-wife': 8266, 'hartman': 11327, 'moved': 1626, 'inspired': 1472, 'humble': 4937, 'brilliance': 3516, 'landlord': 14323, 'factual': 6622, 'get-go': 12065, 'pieces': 1475, 'mustard': 17738, 'verbatim': 14887, 'politics': 2199, 'seizure': 16165, 'striving': 13552, 'forward': 868, 'reminded': 1477, 'fights': 1620, 'women': 355, 'comedic': 1482, 'incredulous': 17436, 'project': 1072, 'helps': 1677, 'dwells': 11992, 'generous': 4002, 'richard': 624, 'grabbed': 7109, 'ruler': 14648, 'herring': 13091, 'motion': 1486, 'quid': 17963, 'awry': 7270, 'track': 1490, 'extras': 2331, 'clavier': 12840, 'subtitles': 2553, 'boyfriend': 1491, 'kat': 13167, 'tricked': 8123, 'apes': 4785, 'wedding': 1692, 'founder': 15505, 'korda': 11389, 'nation': 2990, 'oscar-worthy': 15931, 'relieved': 11540, 'supposedly': 1497, 'elton': 14049, 'perhaps': 441, 'every': 176, 'resources': 3797, 'copy': 927, 'blair': 2283, 'hidden': 1503, 'breasts': 3458, 'morning': 1811, 'share': 1506, 'grabbing': 13050, 'matches': 3865, 'penny': 6696, 'sky': 1907, 'waldemar': 16467, 'reno': 6713, 'alien': 1509, 'laughing': 952, 'stuck': 1513, 'havana': 12098, 'weak': 773, 'alicia': 4784, 'planet': 1113, 'dealers': 8595, 'bed': 1515, 'reams': 16070, 'lillian': 9622, 'high': 316, 'industry': 1518, 'carmen': 5329, 'holds': 2069, 'animal': 1535, 'presumably': 4748, 'good-hearted': 13048, 'crowded': 9977, 'land': 1519, 'well-crafted': 10401, 'garbage': 1078, 'biography': 4788, '31': 12653, 'professional': 1520, 'aplomb': 11065, 'gena': 6083, 'christian': 1522, 'bio': 10473, 'drowning': 6426, 'tycoon': 12573, 'focus': 1139, 'disagree': 3052, 'likable': 1526, 'splendidly': 13531, 'moore': 1904, 'short': 365, 'kung-fu': 4729, 'above': 831, 'meteor': 7150, 'gusto': 9103, 'recovered': 16075, 'ms': 1527, 'nasty': 1528, 'energy': 1596, 'rarely': 1529, 'behave': 4484, 'institution': 6270, 'self-indulgent': 7203, 'jackson': 1666, 'evidence': 2355, 'denise': 5597, 'terrorists': 4676, 'acceptance': 6198, 'scientist': 1530, 'hints': 4620, 'close-up': 7567, 'nell': 14450, 'amusing': 1179, 'supermarket': 8831, 'allowed': 1805, 'filming': 1349, 'globe': 6869, 'cops': 1866, 'jacques': 9147, 'afford': 4211, 'ii': 1540, 'obstacle': 17788, 'liquid': 14342, 'sudden': 2480, 'quest': 2581, 'notice': 1542, 'therefore': 1546, 'internet': 2398, 'manager': 3640, 'paris': 1358, '1931': 8892, 'redeeming': 1553, 'paycheck': 7422, 'screenwriter': 3144, 'undeveloped': 8486, 'saints': 6328, 'tolerable': 6990, 'molly': 4949, 'direct': 1556, 'reincarnation': 8054, 'cars': 1674, 'literal': 7677, 'donate': 14021, 'invade': 13147, 'drunken': 3318, 'rituals': 18053, 'miriam': 14412, 'cousin': 3361, 'standards': 1561, 'gracefully': 10072, 'seeking': 3498, 'use': 390, 'irving': 7661, 'valley': 3894, 'bohemian': 15132, 'mob': 2880, 'flaws': 1579, 'salazar': 14659, 'escort': 9526, 'mould': 17729, 'lauded': 17571, 'nostril': 13295, 'bat': 3205, 'states': 1566, 'b5': 16676, 'dodge': 9039, 'beery': 7046, 'best': 122, 'neil': 3183, 'beat': 1570, 'faced': 3695, 'comparative': 16904, 'reitman': 14605, 'volumes': 9835, 'less': 351, 'sexually': 3291, 'redd': 17997, 'maintained': 11416, 'insipid': 4830, 'sexes': 12454, 'super': 1576, 'thoroughly': 1577, 'concentrates': 8217, 'loveable': 17612, 'undercover': 9347, 'member': 1581, 'seven': 1584, 'slashing': 12474, 'sleep': 1585, 'ancient': 2185, 'demonstrate': 6069, 'stephen': 1587, 'deprived': 13994, 'alba': 6786, 'naschy': 4846, 'unfinished': 9824, 'alan': 1588, 'vietnam': 2536, 'downer': 10007, 'breathes': 11113, 'ed': 1787, 'anecdote': 16614, 'certain': 848, 'emotions': 1590, 'fourteen': 11280, 'trademarks': 10368, 'miami': 7686, 'hard-boiled': 9567, 'international': 1970, 'parallel': 4098, 'riley': 16118, 'jean': 1592, 'walking': 1221, 'bon': 9424, 'critic': 3621, 'andrew': 2746, 'folks': 1375, 'theme': 763, '--': 428, 'pull': 1659, 'angry': 1595, 'web': 4133, 'ronald': 6718, '-the': 8890, 'delectable': 12911, 'remains': 1277, 'leisen': 15757, 'inches': 13131, 'noticeably': 11468, 'door': 1501, 'slapping': 10306, 'user': 4038, 'monstervision': 15854, 'intensely': 7658, 'jerks': 10690, 'creepy': 1028, 'under': 506, 'sake': 2204, 'sexploitation': 13482, 'mentioned': 1252, 'ash': 7819, 'offers': 1559, 'ignores': 7374, 'hollywood': 350, 'celebrates': 11871, 'orlando': 8376, 'douglas': 1607, 'harshly': 14197, 'finished': 1609, 'fake': 1309, 'runtime': 8070, 'thaw': 8114, 'slavic': 16213, 'soul': 1439, 'calamai': 12800, 'confused': 1617, 'verbally': 13640, 'monstrosity': 10175, 'thatcher': 14821, 'nary': 14441, 'cleans': 13896, 'drinking': 2540, 'sufficiently': 12515, 'jacket': 6886, 'charging': 13875, 'circles': 7295, 'federation': 15472, 'expensive': 3321, 'yummy': 18543, 'official': 3546, 'versions': 2348, 'reviewers': 1628, 'highest': 4720, 'virginity': 9357, 'pity': 2231, 'double': 1619, 'together': 285, 'theoretical': 18338, 'bravura': 16769, 'uncle': 1630, '70s': 1633, 'hilarious': 570, 'august': 6391, 'puzzle': 8401, 'eric': 1636, 'acclaimed': 5015, 'fat': 1887, 'cogent': 16890, 'hypnotic': 9126, 'independent': 1638, 'archetype': 16643, 'greetings': 14175, 'letting': 3486, 'heartless': 9109, 'makes': 168, 'vhs': 1640, 'clothes': 1709, 'criminal': 1642, 'fashions': 7915, 'amenabar': 16608, 'caged': 12799, 'completed': 5043, 'mocked': 12249, 'headed': 4169, 'angeles': 3352, 'boredom': 3252, 'lotr': 9165, 'intense': 1645, 'rooney': 5270, 'station': 1648, 'invent': 15689, 'strut': 14772, 'shuffle': 14706, 'heart': 537, 'arc': 7532, 'recorded': 4020, 'through': 154, 'mud': 9194, 'sucks': 1649, 'appears': 809, 'california': 2140, 'subplot': 4673, 'charismatic': 3310, 'buy': 751, 'reilly': 18005, 'academy': 1650, 'strangest': 8461, 'enjoyed': 432, 'anders': 9894, 'corny': 1739, 'grace': 1663, 'holes': 1664, 'cliche-ridden': 16878, 'base': 2868, 'cover': 995, 'cedric': 7286, 'humans': 1665, 'matured': 14390, 'featured': 2571, 'sand': 6329, 'another': 170, 'anniversary': 9396, 'jeepers': 17504, 'publicity': 7183, 'traditional': 1996, 'permanent': 9223, 'roll': 1668, 'carlos': 5328, 'furry': 10615, 'cutting': 2689, 'amick': 12694, 'narcissistic': 10760, 'ambiance': 8911, 'who': 42, 'laid': 3180, 'melvin': 10162, 'hoechlin': 13098, 'technical': 1671, 'shelf': 4345, 'addition': 1672, 'murphy': 2423, 'drunk': 2172, 'squat': 18235, 'program': 2058, 'watch': 113, 'bond': 1673, 'cuts': 2261, '1920s': 11031, 'gloomy': 7357, 'childhood': 1675, 'overlooked': 3492, 'stimulating': 9309, 'jumbled': 13164, 'nude': 2503, 'nitpick': 17766, 'connection': 2244, 'gordone': 15546, 'rubbish': 1680, 'rumor': 10276, 'entertain': 2395, 'hooks': 9583, 'strokes': 10935, 'fired': 3272, 'warburton': 14901, 'king': 622, 'frenchman': 10052, 'sat': 1681, 'strength': 2107, 'genre': 534, 'appeal': 1259, 'sappy': 3555, 'queen': 1660, 'mervyn': 17686, 'danvers': 16992, 'relies': 4022, 'laughter': 1971, 'lighting': 1699, 'end': 143, '19': 6377, 'chevy': 6585, 'korean': 3704, 'standing': 2256, 'remarks': 4867, 'injected': 13136, 'murdered': 1702, 'charlie': 1708, 'deeply': 1711, 'torrens': 18368, 'nasties': 17745, 'quaid': 4437, 'shadows': 4449, 'alike': 3739, '42nd': 12656, 'mediocre': 1445, 'fashion': 1712, 'planned': 5249, 'noticed': 1716, 'amazed': 2166, 'f-word': 10033, 'tasks': 10354, 'africa': 2297, 'belief': 2869, 'climax': 1725, 'smile': 1858, 'laugh': 452, 'darn': 5177, 'makers': 1310, 'raines': 5665, 'debut': 1726, 'told': 574, 'key': 1731, 'strathairn': 16290, 'newborn': 15892, 'jedi': 7131, 'spaceship': 8450, 'mere': 3096, 'fernando': 10598, 'realized': 1732, 'swim': 4877, 'torture': 1733, 'nerve': 9663, 'giovanni': 15535, 'room': 791, 'dornhelm': 15377, 'believed': 2389, 'classics': 1965, 'watchable': 1734, 'according': 1735, 'crazier': 16962, 'train-wreck': 16364, 'joan': 1871, 'nicely': 1742, 'attraction': 3157, 'relic': 14608, 'face': 445, 'argue': 4215, 'premiered': 7434, 'creature': 1747, 'coin': 11891, 'case': 423, 'geared': 10617, 'teaches': 4879, 'driving': 1749, 'wished': 4469, 'soft': 2317, 'copper': 12871, 'neighborhood': 2991, 'fred': 1751, 'profanity': 4860, 'latter': 1754, 'rewind': 6952, 'philip': 3550, 'suit': 1909, 'years': 148, 'limited': 1755, 'execute': 10031, 'vampires': 1759, 'arrested': 4380, 'strangled': 14769, 'worry': 2678, 'team': 762, 'youth': 1930, 'body': 676, 'purvis': 9710, 'counted': 9972, 'shooter': 14701, 'danish': 4066, 'scott': 1015, 'jaq': 17499, 'waited': 3610, 'hazzard': 6093, 'banks': 9409, 'loni': 17602, 'lives': 443, 'gratification': 17309, 'holy': 3426, 'discovering': 5758, 'backyard': 7272, 'hopelessly': 4621, 'newman': 5650, 'tennessee': 10954, 'mistake': 1298, 'contact': 3412, 'schindler': 9743, 'deceived': 12903, 'racy': 12373, 'accompanied': 5016, 'delivered': 2029, 'dork': 17077, 'gage': 8282, 'jeff': 1767, 'undistinguished': 18418, 'build': 1830, 'trick': 2968, 'hays': 17363, 'interviews': 3370, 'beckinsale': 7275, 'axel': 12736, 'chill': 4909, 'iago': 10671, 'jump': 1874, 'screaming': 1780, 'mentioning': 6119, 'answer': 1499, 'rob': 2025, 'sassy': 4868, 'thru': 3199, 'scream': 1773, 'ripoff': 7444, 'vaudeville': 9827, 'uninteresting': 2458, 'trek': 1784, 'gordon': 2175, 'extract': 15458, 'plato': 12337, 'no-one': 4953, 'desdemona': 9497, 'progression': 8777, 'worked': 971, 'ingredients': 3936, 'accusations': 8509, 'branch': 11111, 'misplaced': 9188, 'soar': 16236, 'realizing': 4967, 'gary': 1789, 'chile': 13883, 'urge': 4680, 'mcgovern': 9183, 'ladies': 1791, 'ass': 2388, 'slasher': 1197, 'creates': 2098, 'cheney': 15204, 'firing': 6862, 'pacific': 6496, 'caused': 2170, 'difference': 1453, 'equipment': 4412, 'mike': 1794, 'lads': 14319, 'madeleine': 10150, 'kidnapped': 3134, 'innocent': 1304, 'bosses': 8191, 'wall': 1801, 'undoing': 16409, 'immerse': 15638, 'alive': 1326, 'ages': 1804, 'gene': 1806, 'torches': 18366, 'gloria': 7107, 'cameraman': 7557, 'b&w': 8179, 'co-workers': 9958, 'seasons': 2012, 'abo': 11760, 'blackadder': 7548, 'argentina': 13763, 'romano': 9737, 'mansion': 2879, 'dooley': 12944, 'imho': 7375, 'mathis': 17662, 'adapt': 7805, 'unknown': 1816, 'splendid': 4027, 'compassion': 5588, 'formidable': 7926, 'sas': 18085, 'finest': 1819, 'losey': 17609, 'board': 2169, '2004': 3045, 'nuisance': 17776, 'lair': 14320, 'psychological': 1821, 'jacobi': 17496, 'buscemi': 11858, 'zombies': 1048, 'regurgitated': 18002, 'howling': 7119, 'rainer': 8780, 'suppress': 14785, 'recognize': 2612, 'modern': 670, 'mario': 4254, 'gun': 1234, 'zhang': 8501, 'andy': 1827, 'apparent': 1828, 'assigned': 3979, 'bizet': 15118, 'mumbles': 14431, 'handful': 3630, 'growing': 1790, 'bringing': 2240, 'telling': 1101, 'pacing': 1833, 'lapd': 10707, '2008': 5011, 'higher': 2081, 'corporation': 5746, 're-watch': 14588, 'alienation': 10437, 'pop': 1836, 'similarity': 6736, 'pedro': 12323, 'stereotypes': 1838, 'sites': 6737, 'colm': 13912, '1958': 8153, 'japan': 1741, 'having': 276, 'dazzling': 6415, 'everybody': 1413, 'honorable': 7649, 'romanticism': 18059, 'unable': 2321, 'refuses': 4104, 'amoral': 9890, 'conformity': 13925, 'thing': 160, 'possessed': 4102, 'disappoint': 4609, 'freebird': 13021, 'mobile': 5953, 'ranting': 10248, 'purists': 12366, 'sir': 2999, 'wanting': 1841, '92': 14978, 'willing': 1842, 'imaginary': 5787, 'array': 7037, 'deals': 1844, 'kundera': 13182, 'harron': 11326, 'dry': 2143, 'reaches': 5976, 'distance': 3688, 'cyborgs': 7075, 'tends': 4461, 'uninspiring': 8130, 'wearing': 1860, 'advance': 3821, 'campfire': 11120, 'right-wing': 10877, 'soft-core': 6345, 'friday': 2051, 'relate': 2201, '****': 1862, 'warped': 11723, 'cruel': 2600, 'darius': 5751, 'cue': 6065, 'pathos': 7421, 'aging': 3673, 'guevara': 7948, 'airplane': 4783, 'australian': 2187, 'thanksgiving': 16342, 'design': 1868, 'aimed': 3614, 're-watching': 17985, 'discover': 1869, 'claymation': 16876, 'judge': 1873, 'fortunate': 7927, 'dreamy': 8249, 'killers': 2124, 'nominated': 2402, 'robin': 2026, 'awfulness': 8177, 'synopsis': 2930, 'recall': 1877, 'chiba': 5739, '1959': 5710, 'elizabeth': 2354, 'um': 6763, 'terribly': 1881, 'constantly': 1468, 'celestial': 9947, 'flamenco': 9073, 'organized': 5816, 'prayed': 17911, '44': 16544, 'below': 1883, 'erik': 9055, 'captured': 1884, 'heads': 1889, 'desert': 1933, 'other': 89, 'ceases': 11870, 'wwe': 7010, 'japanese': 920, 'callahan': 9437, 'sean': 1893, 'delia': 15323, 'dozen': 2602, 'uk': 1895, 'visit': 1896, 'annual': 8165, 'chief': 2751, 'exists': 3366, 'predictably': 7432, 'types': 1998, 'off-screen': 8737, 'incidentally': 6269, 'bull': 4790, 'bothering': 9425, 'dudley': 6428, 'montage': 4180, '80s': 1897, 'intelligent': 1020, 'delightful': 1899, 'offerings': 11474, 'aboard': 7258, 'kong': 1903, 'calmly': 16810, 'doc': 2977, 'tickled': 16345, 'tells': 802, 'gonna': 1938, 'initial': 2498, 'bowen': 15139, 'accurately': 5017, 'mirrored': 17702, 'ridiculous': 620, 'polish': 6310, 'halloween': 1940, 'occasionally': 2528, 'humanity': 1941, 'beowulf': 5319, 'impossible': 1196, 'corbett': 5452, 'timer': 18356, 'speed': 1946, 'reacting': 13400, 'references': 1957, 'delve': 9985, 'flying': 1654, 'soap': 1927, 'perseverance': 17864, 'cg': 4150, 'indicate': 7378, 'dreck': 4405, 'religious': 1958, 'shakespearean': 12456, 'watches': 4775, 'created': 1133, 'stature': 8456, 'mexican': 2824, '400': 10426, 'develop': 1967, 'barbara': 1724, 'address': 6027, 'cracks': 8585, 'desperate': 1618, 'whereas': 3668, 'pie': 3188, 'danny': 1710, 'morgan': 1973, 'dirty': 1748, 'reunited': 9261, 'posey': 3874, 'sign': 1978, 'travolta': 6760, 'discovered': 1982, 'flawlessly': 9076, 'smaller': 4348, 'repeatedly': 3715, 'loren': 6476, 'suburbia': 9790, 'chong': 5040, 'recommend': 384, 'improving': 11354, 'explained': 1983, 'uncanny': 8854, 'fest': 4414, 'patriotic': 9218, 'president': 1992, 'groupie': 17324, 'immune': 12126, 'sheer': 1993, 'ontario': 14481, 'sentence': 3886, 'crashes': 6063, 'accuracy': 4688, 'shuttle': 13494, 'characteristics': 5444, 'concert': 2721, 'cabin': 2285, 'stock': 1994, 'gantry': 15523, 'important': 750, 'janeane': 10118, 'word': 660, 'grown': 2052, 'bonnie': 7052, 'assume': 2000, 'behavior': 2001, 'sparing': 18223, 'fright': 7102, 'proverbial': 11515, 'favorite': 473, 'stewart': 1226, 'pal': 5653, 'hepburn': 5929, 'approaching': 7815, 'gets': 221, 'exceeded': 10029, 'bubbles': 16785, 'piano': 3791, 'swallowed': 14790, 'european': 2007, 'washington': 1691, 'movements': 4536, 'quintessential': 8046, 'thursday': 14826, 'promise': 2010, 'n': 2152, 'liberties': 12193, 'tight': 3040, 'hated': 1621, 'hesitate': 9114, 'ensues': 4313, 'oriental': 15927, 'conflict': 2015, 'birthplace': 16729, 'dealing': 2016, 'and/or': 2867, 'low-budget': 2020, 'insomniac': 13139, 'gambler': 8659, 'meloni': 14401, 'native': 2022, 'counting': 7309, 'whats': 4369, 'graphic': 2102, 'porky': 7430, 'intrusive': 9603, 'willem': 8148, 'profession': 6312, 'adjust': 11042, 'pushing': 4190, 'shocked': 2291, 'rapp': 17975, 'achievement': 4138, 'lacking': 2034, 'detour': 17025, 'paired': 9216, 'enemy': 2694, 'dante': 9017, 'seventies': 3719, 'clint': 3463, 're-imagining': 12387, 'myra': 11453, 'lose': 1808, 'lake': 2035, 'lucky': 2036, 'smeared': 18199, 'audition': 7535, 'kevin': 1525, 'irresistibly': 17488, 'hardships': 9107, 'natascha': 17746, 'gas': 2758, 'exploitation': 2118, 'co-wrote': 7858, 'seem': 319, 'scripts': 3145, 'wallows': 16468, 're-runs': 9248, 'unexpected': 2040, 'buddy': 2043, 'buffs': 4486, 'kingdom': 4425, 'legitimacy': 17578, 'terry': 4129, 'desired': 3993, 'levels': 2087, 'scorsese': 6520, 'increasing': 10676, 'deserved': 2046, 'yelnats': 18536, 'disappointed': 593, 'hold': 1092, 'adams': 4376, 'embarrassing': 2047, 'structured': 8462, 'plausible': 4546, 'framework': 7352, 'excitement': 2048, 'mccallum': 15815, 'mustache': 7410, 'suo': 18286, 'flashbacks': 2050, 'manage': 2055, 'pressure': 4859, 'howard': 2070, 'immortal': 7965, 'suck': 2292, 'stacks': 14756, 'insane': 2071, 'victimized': 14891, 'productions': 2737, 'richly': 9733, 'mystic': 13268, 'pokes': 10223, 'streams': 18265, 'streep': 4991, 'results': 2074, 'employee': 7900, 'sports': 2075, '27': 9381, 'additionally': 9871, 'sunday': 2076, 'flower': 7094, 'colin': 6054, 'quantity': 13387, 'wise': 2077, 'dough': 15381, 'brothers': 969, 'directions': 4608, 'columbo': 2078, 'dana': 3991, 'problematic': 11507, 'factor': 2570, 'musical': 639, 'geographic': 17284, 'disturbance': 14014, 'righteous': 13436, 'finely': 12036, 'dressed': 2079, 'recruiting': 17995, 'tramp': 10369, 'raise': 3233, 'paramount': 6305, 'blurb': 11830, 'spirit': 1061, 'iowa': 7969, 'truths': 8852, 'encountered': 5608, 'divorced': 5057, 'vol': 18480, 'lin': 7987, 'require': 5981, 'felt': 417, 'happenings': 7364, 'helmets': 17371, 'humorous': 2082, 'chosen': 2097, 'hmm': 7960, 'injury': 6464, 'talkie': 9798, 'stereotype': 4764, 'eighth': 15408, 'hasn': 1424, 'included': 2263, 'sordid': 9777, 'jean-pierre': 14293, 'tracking': 6535, 'g': 1341, 'appearance': 1232, 'needed': 913, 'org': 15924, 'work': 172, 'expectations': 1208, 'yeah': 1231, 'craven': 3838, 'happened': 554, 'wives': 3817, 'tricky': 9344, 'pixar': 6140, 'reproduce': 16093, 'aliens': 2111, 'edited': 2117, 'unhappy': 4885, 'aneta': 15029, 'hick': 12104, 'dane': 9014, 'enthusiasts': 12009, 'fought': 4077, 'appalled': 8520, 'jesus': 2122, 'rigid': 13437, 'stare': 6980, 'pair': 2129, 'tone': 1299, 'hides': 6459, 'rain': 2130, 'surprises': 2134, 'weber': 13662, 'suspense': 808, 'nora': 7160, 'miranda': 6908, 'guilt': 3771, 'observer': 13302, 'allows': 2281, 'bigger': 2138, 'dunk': 11990, 'proceeds': 4752, '1991': 6193, 'relationship': 678, 'painted': 4650, 'opportunity': 1344, 'houses': 3775, 'spoil': 2318, 'cartoon': 1040, 'explanation': 2100, 'flock': 7625, 'cyborg': 5051, 'tacky': 5853, 'generation': 2147, 'fluff': 5355, 'tags': 18316, 'guide': 3368, 'east': 2839, 'parody': 2153, 'obscure': 3644, 'spends': 2650, 'learns': 2500, 'irs': 6468, 'zany': 8500, 'stand': 871, 'mullet': 12261, 'mindy': 11436, 'acted': 910, 'underrated': 2158, 'confection': 16920, 'voices': 2160, 'concern': 3678, 'all-in-all': 16593, 'wood': 2162, 'wishing': 5705, 'sheffer': 12460, 'encourage': 4409, 'chews': 13882, 'embark': 11234, 'stuart': 4671, 'empire': 4237, 'distracting': 4069, 'tricks': 3450, 'toolbox': 11684, 'hardened': 7954, 'megan': 9185, 'breakdown': 6397, 'nolan': 7159, 'surreal': 2181, 'mislead': 13246, 'underwritten': 11698, 'calls': 2190, 'rufus': 12427, 'resnais': 11550, 'been': 88, 'mirror': 2954, 'fisher': 3471, 'abound': 6196, 'flighty': 17215, 'germany': 2194, 'terrific': 1359, 'lore': 9164, 'experts': 7612, 'appear': 1031, 'werewolf': 1861, 'screen-time': 16161, 'afraid': 1569, 'sympathetic': 2205, 'cheryl': 13881, 'advanced': 4689, 'corpses': 6234, 'jafar': 12155, 'hide': 2212, 'slade': 16207, 'instrumental': 11370, 'francisco': 3851, 'fancy': 4711, 'pretentious': 2213, 'ultimate': 2216, 'natali': 7412, 'existent': 10032, 'chi': 12828, 'accident': 1706, 'greater': 3171, 'sex': 409, 'departure': 5053, 'stevens': 3963, 'regions': 18001, 'azaria': 8178, 'pit': 4652, 'cameo': 2219, 'wishes': 3043, 'cares': 2221, 'jud': 15717, 'natural': 1352, 'rubin': 14646, 'innovative': 3176, 'learning': 2951, 'billions': 16723, 'jewels': 11383, 'hindi': 7368, 'harilal': 14195, 'dean': 2225, 'prominently': 11509, 'bleed': 9918, 'patrick': 2230, 'psycho': 2233, 'rooting': 7446, 'observed': 9206, 'klaus': 14307, 'warren': 3452, 'l': 1464, 'interspersed': 9601, 'silly': 686, 'tend': 2236, 'warmly': 16473, 'victoria': 2239, 'verdict': 7506, 'mean': 391, 'fault': 2247, 'recreating': 16076, 'spraying': 14751, 'spatula': 14743, 'ritual': 6715, 'totally': 491, 'football': 2248, 'eternal': 6435, 'boys': 883, 'genuinely': 2250, 'strangers': 5292, 'smooth': 4666, 'clarity': 9453, 'emotion': 1329, 'dagger': 16986, 'stumbling': 8829, 'flabbergasted': 17208, 'training': 2257, 'grossed': 13059, '1915': 12649, 'african': 2259, 'fit': 1291, 'notch': 3593, 'phony': 5658, 'intern': 17473, 'italian': 1056, 'temptation': 11668, 'survive': 1961, 'represented': 3953, 'radio': 1976, 'fantastically': 11262, '200': 6378, 'housing': 7963, 'fakes': 17178, 'flight': 3128, 'gomez': 13047, 'structure': 2616, 'fontaine': 7626, 'carton': 16823, 'cherry': 13880, 'reach': 2271, 'sparse': 7760, 'round': 2273, 'chooses': 6812, 'rule': 2274, 'gave': 482, 'fun-loving': 17252, 'commissioned': 16902, 'adama': 12675, 'awakens': 11798, '/': 2278, 'leslie': 2701, 'beach': 2282, 'ugliest': 16395, 'tim': 1783, 'claims': 2286, 'rene': 10864, 'remarkably': 4106, 'bottom': 1449, 'teenagers': 2294, 'annakin': 15033, 'enters': 3758, 'lesson': 2421, 'happiness': 3089, 'snatch': 8446, 'window': 2295, 'carry': 1765, 'renting': 2179, 'carpenter': 2658, 'poop': 11495, 'issue': 1870, 'dennis': 2300, 'fridge': 12054, 'internal': 6271, 'understand': 387, 'vanished': 16445, 'embittered': 11235, 'stylish': 2964, 'h': 2306, 'hosting': 17401, 'bathroom': 5154, 'decades': 2817, 'ultra': 6006, 'portrayed': 940, 'evil': 484, 'bawdy': 15099, 'martino': 6674, 'court': 2523, 'resemble': 6155, 'tarzan': 2320, 'dress': 3124, 'strike': 4029, 'dumber': 6429, 'inhabit': 9596, 'butterflies': 16801, 'tomboy': 13594, 'softcore': 11617, 'yikes': 10415, '1950': 2323, 'berman': 16711, 'mathieu': 5948, 'harmless': 5471, 'option': 6491, 'pronounce': 16033, 'dying': 1786, 'danger': 2327, 'facile': 14087, 'max': 2334, 'crooked': 8226, 'client': 8981, 'kells': 8324, 'robot': 2341, 'winds': 4777, 'conveniently': 7067, 'sarah': 2342, 'robbery': 5112, 'butch': 5033, 'unquestionably': 12586, 'autumn': 11078, 'finding': 1512, 'walsh': 4366, 'sing': 2344, '1960': 3203, 'narrow': 6684, 'eyeball': 14081, 'ledger': 8702, 'weirder': 18495, 'binoculars': 16725, 'knows': 741, 'unfunny': 1722, 'choke': 9448, 'curry': 15295, 'down': 205, 'strongly': 2346, 'jail': 2917, 'competing': 8994, 'healy': 13080, 'translated': 4996, 'main': 282, 'danes': 4800, 'repeats': 8413, 'conscious': 8578, 'advertisements': 9877, 'mail': 5087, 'sheila': 9754, 'mclaglen': 5088, 'zemeckis': 14945, 'metaphor': 5089, 'avenue': 12734, 'joy': 1872, 'muppet': 5091, 'nut': 5097, 'fatale': 6623, 'became': 858, 'carpet': 8967, 'nyc': 5098, 'cemetery': 9948, 'forms': 4164, 'on-screen': 5101, 'outing': 5102, 'refuge': 9724, 'damned': 6602, 'ideally': 15633, 'exact': 2419, 'pg-13': 5105, 'freaky': 7100, 'fran': 17238, 'profoundly': 7182, 'succeeding': 8465, 'recording': 5109, '***1/2': 12642, '1951': 7801, 'relations': 5110, 'edge-of-your-seat': 17111, 'snipes': 6976, 'grateful': 6086, 'hyperbole': 15627, 'sunny': 4675, 'scarecrow': 5113, 'representation': 6321, 'seldom': 5114, 'shaky': 5117, 'walerian': 18485, 'channeling': 11874, 'dating': 3468, 'cape': 6810, 'sexiest': 11597, 'sharon': 5118, 'oasis': 17782, 'silliness': 5119, 'simmons': 5120, 'slice': 5121, 'dueling': 17095, 'necromancy': 15882, 'specifically': 5125, 'dominic': 6424, 'spinal': 5126, 'terminator': 5129, 'plot-': 17894, 'frantic': 6867, 'tomatoes': 5130, 'mortals': 17725, 'partnership': 12315, 'stealing': 3889, 'trademark': 5131, 'garth': 13032, 'unwilling': 9353, 'hadley': 7363, 'predictability': 8395, 'swinger': 18301, 'subtleties': 10937, 'y': 5138, 'inspirational': 5480, 'trash': 1161, 'activity': 5142, 'impersonating': 10106, 'arguing': 5146, 'ariel': 5147, 'doodle': 14024, 'assassination': 5150, 'succeeded': 3804, 'austin': 5151, 'epic': 1608, 'automatically': 5152, 'sollett': 16242, 'exposing': 9060, 'elusive': 11233, 'preserved': 10232, '1960s': 4471, 'balls': 5153, 'recycle': 17996, '1929': 13700, 'belong': 5155, 'betty': 5157, 'brutally': 5158, 'imaginations': 9591, 'declared': 10544, 'awarded': 8176, 'butler': 5161, 'large': 1060, 'gems': 6258, 'challenging': 5164, 'unexciting': 12582, 'partner': 1956, 'offbeat': 6133, 'bait': 7539, 'city': 520, 'charged': 5165, 'aghast': 12686, 'respective': 5111, 'cheaply': 5166, 'sensibility': 9276, 'chuckle': 5168, 'colleagues': 5171, 'sydney': 5688, 'log': 11406, 'lovable': 3226, 'janine': 9607, 'commonplace': 11899, 'comparisons': 5172, 'an': 41, 'spree': 5992, 'completely': 327, 'flirting': 8275, 'roland': 12421, 'dahmer': 5176, 'bites': 7832, 'die-hard': 5179, 'renowned': 10865, 'assorted': 10458, 'disgust': 5180, 'comedy-drama': 16898, 'lohman': 15780, 'oliver': 1988, 'drove': 5184, 'grip': 7361, 'shivers': 18152, 'esther': 5188, 'gigantic': 8285, 'sensibilities': 7454, 'particles': 17845, 'succession': 8466, 'fascinating': 1290, 'farmer': 5191, 'outcasts': 15933, 'importance': 4086, 'fascination': 5192, 'curr': 12891, 'forty': 4516, 'albums': 8160, 'fashioned': 5193, 'toughest': 16360, 'faster': 5194, 'cross-country': 15287, 'film-makers': 5195, 'carefree': 15181, 'impose': 13128, 'risk': 2798, 'generations': 5198, 'kaye': 15726, 'hack': 5201, 'hackman': 5202, 'seen': 112, 'engineer': 10022, 'aya': 16674, 'harrison': 5203, 'paper': 2769, 'hawke': 5204, 'heights': 5206, 'unsatisfied': 9825, 'hello': 5207, 'hippie': 5208, 'brolin': 11846, 'hooper': 5210, 'incomprehensible': 5212, 'slave': 4989, 'nature': 918, 'indication': 5213, 'relating': 6947, '4': 545, 'inhabitants': 5214, 'rico': 7191, 'preteen': 16015, 'dodgy': 9040, 'aryan': 15050, 'fooling': 14117, 'lang': 5216, 'evan': 14067, 'heading': 5618, 'lay': 5218, 'catch': 1136, 'palette': 7701, 'prologue': 10237, 'crap': 560, 'lively': 5220, 'leader': 2400, 'locals': 5221, 'celie': 9443, 'affects': 6384, 'german': 1120, 'magician': 5223, 'knee': 15734, 'themes': 1293, 'nope': 5096, 'mason': 5225, 'television': 602, 'federal': 7920, 'shortened': 12463, 'melting': 5226, 'gleason': 10064, 'merits': 5227, 'mildred': 5228, 'kudrow': 13181, 'scarred': 10892, 'embarrassment': 3845, 'uncertain': 8855, 'mistress': 5229, 'possesses': 6503, 'morbid': 5230, 'buys': 7059, 'pyrotechnics': 12370, 'impress': 5076, 'wacky': 4207, 'musicians': 5231, 'edition': 5458, 'parker': 2072, 'noises': 5232, 'geoffrey': 10620, 'later': 328, 'trier': 8124, 'nolte': 5233, 'occasions': 5234, 'wendigo': 6015, 'collectors': 16892, 'vanilla': 7249, 'owl': 5239, 'bin': 3356, 'miscast': 3228, 'hats': 6092, 'slow-moving': 9767, 'parked': 10204, 'appliances': 15042, 'pants': 5241, 'ridiculousness': 13434, 'lean': 6896, 'patience': 5243, 'peak': 5244, 'creating': 1740, 'lyrical': 7679, 'itchy': 11377, 'street': 836, 'healthy': 5928, 'pete': 5245, 'vera-ellen': 14886, 'petty': 5247, 'racial': 5257, 'trade': 3967, 'intellectually': 8310, 'raj': 5258, 'rat': 5259, 'referring': 5260, 'integration': 17470, 'casper': 6217, 'regarded': 5261, 'renaissance': 5262, 'gratifying': 15554, 'rhythm': 5264, 'islanders': 17489, 'obtained': 14467, 'riveting': 5266, 'insufficient': 17468, 'eyre': 4074, 'rocky': 5267, 'rod': 5268, 'differently': 6612, 'bouncing': 8954, 'u': 968, 'rolled': 5269, 'satirical': 5276, 'sympathize': 6169, 'sentiment': 5278, 'perception': 5657, 'spirals': 16256, 'shanghai': 5282, 'accompanies': 14989, 'black-and-white': 8945, 'rhode': 18040, 'shed': 5283, 'sink': 5284, 'iron': 4941, 'gym': 9104, 'spirited': 5286, 'stallone': 5287, 'stargate': 5288, 'straightforward': 5291, 'going': 175, 'subplots': 5293, 'shrinking': 18161, 'seaman': 13469, 'related': 2797, 'surgery': 5295, 'mines': 8004, 'overpopulated': 17829, 'hero': 691, 'tomorrow': 5297, 'val': 5300, 'manipulate': 8715, 'carlisle': 9440, 'criticism': 2563, 'wander': 5302, 'technicalities': 16331, 'arthouse': 13764, 'sunrise': 5997, 'writes': 5304, 'alcatraz': 13739, '---': 5305, 'boman': 15133, 'stranded': 6530, 'kendrick': 14303, 'invested': 8312, '1969': 5306, 'pocket': 8392, 'depends': 6420, '73': 5307, 'elaborate': 3756, 'acquired': 5311, 'alcohol': 5312, 'unbearable': 3893, 'ham': 7114, 'ape': 5314, 'babies': 5316, 'excuse': 1265, 'ballet': 5317, 'involvement': 3858, 'brenda': 5323, 'believing': 3159, 'budgets': 5324, 'shall': 3605, 'cain': 5326, 'bumped': 12792, 'associated': 3080, 'carell': 5327, 'punjabi': 16045, 'finlayson': 13005, 'civilization': 5331, 'clock': 5332, 'policemen': 6701, 'cohen': 5333, 'krabbé': 12180, 'confidence': 5335, 'cypher': 5336, 'steer': 8103, 'moonwalker': 9652, 'damon': 5337, 'definitive': 5338, '$25': 12640, 'dickens': 5340, 'parental': 10797, 'well': 79, 'dimension': 5341, 'hatton': 13074, 'sending': 6521, 'edit': 5346, 'miniature': 17700, 'minority': 6124, 'exquisite': 5349, 'fantasies': 5350, 'donna': 3844, 'cheech': 5580, 're-make': 7723, 'mind-blowing': 17696, 'police': 612, 'feminist': 5351, 'neville': 17759, 'mindless': 2989, 'femme': 5352, 'slowness': 16221, '$1000': 14952, 'fairly': 1032, 'filth': 5353, 'start': 349, 'hapless': 5359, 'originally': 1718, 'imitation': 5362, 'transforming': 13601, 'interactions': 5363, 'mph': 17732, 'ron': 2530, 'poppins': 8038, 'taller': 18318, 'norms': 17771, 'participate': 6929, 'intimate': 5364, 'spectacular': 1945, 'mercy': 6121, 'perform': 3070, 'variation': 6539, 'assure': 7040, 'irrelevant': 5366, 'jordan': 5369, 'sally': 3337, 'published': 6706, 'judd': 5370, 'karate': 5372, 'kissing': 5373, 'unresolved': 11704, 'kline': 5374, 'landing': 5376, 'liners': 5378, 'longest': 5379, 'capitalists': 15179, 'marlon': 5381, 'franz': 12050, 'marshall': 5382, 'hula': 15622, 'chains': 15197, 'saving': 2011, 'airport': 7525, 'whole': 236, 'matched': 5384, 'meryl': 5388, 'chaos': 4304, 'nuts': 5391, 'sayonara': 16151, 'commanding': 7298, 'parallels': 5392, 'phil': 5394, 'boone': 8953, 'retard': 10263, 'acme': 14991, 'photographs': 5396, 'retreat': 9260, 'strips': 10337, 'territory': 4354, 'reader': 5398, 'rebellious': 5399, 'reflects': 5400, 'rendition': 5403, 'zorro': 7799, 'repeating': 5404, 'bowie': 15140, 'terrain': 11670, 'remaining': 3950, 'appealing': 2167, 'busby': 9434, 'completes': 16908, 'wenders': 11731, 'brashear': 6396, 'responsibility': 5407, 'resulting': 5408, 'dakota': 11179, 'rowlands': 5409, 'rubber': 5410, 'satisfied': 5412, 'scared': 1554, 'shake': 5413, 'shared': 5414, 'dictionary': 14001, 'shepherd': 5415, 'plane': 1812, 'horny': 6644, 'medicine': 7148, 'sincere': 5417, 'parents': 746, 'sincerely': 5418, 'gavin': 13033, 'marrying': 6902, 'je': 7130, 'stores': 5420, 'springs': 9303, 'sitcom': 2533, 'believable': 805, 'studies': 5421, 'revive': 10265, 'marlene': 10156, 'peculiar': 8028, 'injection': 14267, 'lukas': 4734, 'rules': 2645, 'documentary': 579, 'unanswered': 5424, 'ranch': 5974, 'expense': 6852, 'spews': 14748, 'unexplained': 5425, 'snippets': 8094, 'chazz': 16849, 'proceeded': 11508, 'wildly': 5429, 'celebrities': 7847, '*****': 5432, 'affection': 5435, 'anxieties': 16630, 'ferrer': 15478, 'largely': 2265, '1976': 6192, 'big': 204, 'look-alike': 10144, 'answers': 2626, 'bike': 5439, 'smarter': 9294, 'albert': 2654, 'boasts': 5440, 'gretchen': 8291, 'breakfast': 5441, 'colonial': 9961, 'explosives': 15453, 'bulk': 5325, 'classical': 5445, 'clone': 5446, 'censored': 9949, 'agatha': 15007, 'co': 5448, 'vows': 10999, 'hicks': 10093, 'computers': 5451, 'mercifully': 7685, 'debate': 5453, 'despair': 5455, 'reviews': 716, 'difficulty': 5456, 'albuquerque': 16592, 'relish': 16085, 'sixth': 7467, 'seminal': 11593, 'conventional': 4158, 'opponent': 8373, 'elevator': 5460, 'inexorably': 17444, 'rut': 14651, 'feast': 5463, 'precedes': 13365, 'cancelled': 9942, 'temporarily': 14813, 'finger': 5465, 'forcing': 5466, 'corey': 6233, 'artemisia': 6388, 'shocks': 7751, 'sophomoric': 10316, 'genie': 5467, 'scoff': 18105, 'kiddies': 11387, 'passion': 1770, 'hk': 5473, 'hedy': 7117, 'drowned': 7326, 'gains': 14133, 'homes': 5474, 'hybrid': 5475, 'billion': 8184, 'kidnap': 8325, 'identical': 5476, 'immediate': 5478, 'fools': 7350, 'soderbergh': 6742, 'suave': 7767, 'sec': 18115, 'monster': 1001, 'iraq': 5482, 'iv': 5483, 'consensus': 11157, 'composition': 7300, 'jill': 5485, 'tragically': 10968, 'judgment': 5486, 'dialogs': 2755, 'realistic': 807, 'winners': 9844, 'kiera': 14306, 'julian': 5488, 'kinnear': 5489, 'boogeyman': 10478, 'intention': 3701, 'convincing': 1132, 'lowe': 5493, 'buchfellner': 15156, 'margaret': 5495, 'dripped': 14030, 'marsha': 10739, 'employees': 9051, 'hotter': 13111, 'mentality': 5499, 'hammers': 15585, 'countryside': 4703, 'mitchum': 5502, 'motives': 5503, 'hornblower': 14224, 'lad': 11391, 'serves': 2343, 'interact': 5938, 'dialog': 735, 'newly': 5504, 'ol': 5505, 'ram': 6707, 'groove': 8292, 'girly': 17291, 'yet': 259, 'escaping': 9056, 'prominent': 5509, 'del': 4397, 'quantum': 5510, 'nuances': 6488, 'dog': 912, 'devastating': 6611, 'racing': 5511, 'rats': 5513, 'recycled': 5515, 'mare': 14377, 'appreciates': 12707, 'survives': 6753, 'centres': 9445, 'refuse': 5516, 'rejected': 5517, 'times': 206, 'depardieu': 7593, 'turmoil': 7243, 'necronomicon': 17752, 'sabrina': 5521, 'fiennes': 7345, 'abominable': 10428, 'screens': 5523, '-and': 11746, 'brits': 8958, 'voyeur': 13650, 'endure': 4411, 'versatile': 9829, 'frankness': 15509, 'senses': 5524, 'ferocious': 17197, 'tagged': 14801, 'rotting': 8791, 'sinking': 5528, 'fidelity': 12034, 'sneak': 5530, 'melvyn': 5387, 'someday': 5531, 'sox': 5532, 'cary': 3910, 'roughly': 6327, 'sherry': 13488, 'soylent': 5533, 'pays': 4187, 'spread': 5534, 'strings': 5536, 'tie': 5541, 'letters': 3542, 'says': 630, 'unlikeable': 5543, 'drop': 2943, 'ursula': 5544, 'priestley': 17921, 'tenant': 4880, 'vain': 5546, 'pokémon': 13359, 'visitors': 8873, 'vice': 5547, 'propelled': 17937, 'charter': 15202, 'ling': 14340, '99%': 8506, 'voiced': 5548, 'vonnegut': 5549, 'wagner': 5550, 'competitive': 9964, 'collective': 8990, 'warmth': 5551, 'disturbingly': 15360, 'brides': 7058, '1940': 5556, 'bios': 16727, 'magnitude': 14367, '1986': 5557, '1987': 5558, 'adore': 5560, 'interest': 626, 'sara': 8076, 'advertised': 5561, 'roaring': 14636, 'affleck': 5562, 'smiley': 14726, 'girlfriends': 8662, 'amazon': 5564, 'rhymes': 13431, 'ambition': 5565, 'projector': 16030, 'ripping': 6156, 'upcoming': 7247, 'arkin': 5567, 'android': 9896, 'unwillingness': 16432, 'astounding': 5568, 'nausea': 17749, 'iraqi': 15694, 'successfully': 3197, 'awakening': 5569, 'scrutiny': 13468, 'bang': 5570, 'bernard': 5573, 'fetching': 11266, 'tripe': 4465, 'bottle': 5574, 'cannon': 5577, 'sadistically': 16144, 'caron': 5578, 'admiral': 14998, 'books': 1016, 'aided': 7026, 'stylized': 7766, 'aurora': 15063, 'reds': 14597, 'notable': 2578, 'casts': 5579, 'candle': 8551, '1990': 2972, 'claiming': 5583, 'journey': 1377, 'so-so': 5122, 'commenting': 6055, 'cliches': 5584, 'clooney': 5585, 'actual': 759, 'finnish': 9071, 'quirky': 2507, 'co-star': 5586, 'stooge': 11638, 'communicate': 5587, 'bland': 1963, 'complications': 5589, 'ther': 14824, 'switches': 9794, 'considerably': 5590, 'fonda': 4713, 'convicted': 5591, 'crazed': 5592, 'buttgereit': 15165, 'displayed': 3995, 'salvage': 8074, 'autopilot': 16667, 'leon': 4091, 'demonstrates': 5596, 'jimmy': 2123, 'ugh': 6762, 'vengeance': 5301, 'deranged': 5598, 'describing': 5599, 'diary': 5600, 'barrister': 16691, 'wymer': 16506, 'dirt': 5601, 'sweetly': 18300, 'tying': 13616, 'doubts': 5603, 'dud': 5604, 'electric': 5605, 'resembling': 6515, 'emerges': 5606, 'employed': 5607, 'entered': 5610, 'excruciatingly': 5611, 'curse': 2940, 'flashes': 5613, 'francis': 5614, 'glamorous': 5615, 'domino': 4509, 'sale': 5838, 'compliment': 6819, 'moviegoers': 10176, 'resting': 18031, 'aint': 16589, 'guitar': 5617, 'heels': 5620, 'boxing': 3207, 'household': 5621, 'multitude': 10755, 'much': 84, 'iconic': 5622, 'fritz': 6633, 'wallet': 14896, 'torturing': 10367, 'id': 5623, 'better': 132, 'inevitably': 5624, 'items': 5626, 'resolve': 9258, 'cleaned': 9954, 'gritty': 2447, 'jenny': 5628, 'grips': 8664, 'kazan': 5629, 'contrasting': 12867, 'lauren': 5631, 'boiler': 16745, 'painting': 3647, 'static': 6350, 'damme': 3916, 'laws': 5632, 'ambassador': 10441, 'icon': 6097, 'likewise': 5633, 'loyalty': 5635, 'blockbuster': 2298, 'overthrow': 9675, 'mannerisms': 5636, 'sam': 1202, 'suspicion': 7484, 'marion': 5637, 'fronts': 9542, 'personality': 1795, 'marries': 5638, 'mccoy': 5639, 'misleading': 5641, 'mortensen': 9655, 'turtles': 16388, 'blasts': 11827, 'mitch': 5642, 'moreover': 5644, 'enchanting': 7334, 'fidani': 17199, 'mtv': 5645, 'net': 5648, 'confident': 7302, 'hopper': 4250, 'norm': 5651, 'bravado': 15144, 'preceding': 13366, 'mesmerizing': 5949, 'siegfried': 9760, 'revisiting': 13428, 'breathtaking': 2436, 'pegg': 5656, 'contrast': 2660, 'poem': 5660, 'reputation': 2202, 'porter': 5661, 'arquette': 7035, 'barrel': 5875, 'rely': 5668, 'want': 193, 'remade': 5669, 'accessible': 6380, 'respectable': 5670, 'trucks': 18393, 'judy': 5487, 'retired': 5671, 'messing': 6907, 'revolt': 5672, 'philo': 8758, 'marshal': 13221, 'ruins': 5674, 'naughty': 4952, 'event': 1572, 'schools': 5675, 'liar': 9158, 'servants': 5676, 'psychologically': 8044, 'milking': 15838, 'distraught': 9501, 'sholay': 5678, 'sounding': 5682, 'moron': 5811, 'springer': 5683, 'pope': 10820, 'lends': 7139, 'derivative': 5454, 'deed': 9020, 'correctional': 15274, 'suburban': 5685, 'ignorant': 3132, 'susannah': 9323, 'believably': 11092, 'surviving': 5686, 'scammed': 14668, 'stumbled': 4563, 'nick': 1602, 'switched': 5687, 'rawlins': 17980, 'thompson': 5690, 'preaching': 6703, 'fiasco': 7091, 'timberlake': 5691, 'outpost': 17818, 'donor': 14023, 'ain': 2900, 'destined': 6072, 'tops': 5693, 'joins': 5368, 'trivia': 5694, 'timid': 13588, 'claimed': 4060, 'trying': 277, 'tunnel': 5696, 'vacuous': 10387, 'shifts': 9757, '35mm': 14968, 'unexpectedly': 5699, 'hackenstein': 12086, 'unfold': 5700, 'vein': 5701, 'victory': 5702, 'wardrobe': 5703, 'searing': 18114, 'wig': 5704, 'edits': 11997, 'romero': 4978, 'worker': 5706, '101': 5708, '35': 5713, 'eloquent': 17122, 'happen': 561, 'shannon': 7460, '5/10': 5714, 'accepts': 5715, 'gershwin': 6259, 'alexandre': 5718, 'contemplative': 16936, 'outsiders': 14494, 'alleged': 5719, 'update': 7501, 'artwork': 5722, 'bach': 5724, 'behold': 5728, 'holland': 10095, 'valet': 18460, 'blatantly': 5729, 'splash': 10321, 'macdonald': 10149, 'earthy': 17107, 'contacting': 16934, 'bones': 5730, 'brainless': 5732, 'pain': 1614, 'bye': 5733, 'aids': 4043, 'carey': 5737, 'yearly': 18535, 'choppy': 5740, 'mourning': 11448, 'lightly': 7676, 'admission': 6383, 'comeback': 5742, 'professionalism': 16025, 'maysles': 13224, 'socialist': 8815, 'conditions': 5744, 'contempt': 5745, 'tones': 8847, 'county': 5747, 'cruelty': 5748, 'searching': 3290, 'daniels': 5750, 'marred': 8719, 'delicious': 5754, 'uncut': 6007, 'der': 5755, 'designs': 5756, 'disgusted': 5759, 'cameras': 4053, 'distracted': 5760, 'ambiguous': 5721, '1992': 7519, 'mistreated': 15846, 'entitled': 5764, 'liv': 17594, 'bodyguard': 7550, 'fatal': 3470, 'glenda': 7636, 'filmmaking': 5768, 'firm': 5769, 'miyazaki': 7406, 'unparalleled': 18438, 'flowers': 5770, 'horrendous': 3369, 'dumbest': 7328, 'flynn': 2843, 'foolish': 5771, 'predict': 6145, 'gal': 5775, '`the': 8156, 'ghetto': 5777, 'aborigine': 13715, 'releases': 4866, 'gibson': 5778, 'rudolph': 14647, 'renny': 11542, 'explains': 3270, 'broderick': 9427, 'superficial': 3659, 'glued': 5779, 'wrath': 9367, 'claudette': 12839, 'guessed': 3930, 'greed': 5781, 'damsel': 9012, 'shawn': 10899, 'recruits': 9252, 'guests': 5782, 'producers': 1160, 'coincidences': 9959, 'dare': 3751, 'midst': 6122, 'hateful': 5784, 'heartwarming': 5785, 'studied': 6983, 'sleeping': 2739, 'hop': 5786, 'info': 5789, 'kapoor': 5792, 'ummm': 14852, 'pursued': 6315, 'plank': 17885, 'latest': 2125, 'karl': 5793, 'raye': 17981, 'consume': 16932, 'goal': 3475, 'kathryn': 5794, 'faked': 12025, 'khan': 5795, 'interpretations': 9142, 'kusturica': 5797, 'pondering': 14546, 'indestructible': 11358, 'ratings': 2796, 'laurence': 5798, 'chou': 10513, 'avid': 6799, 'heath': 7642, 'yasmin': 18534, 'kinds': 2310, 'portion': 4436, 'light-hearted': 5801, 'voice-over': 6013, 'transformations': 16368, 'peach': 13330, 'recover': 9722, 'comet': 9962, 'lightning': 5802, 'versa': 8868, 'lock': 5803, 'loyal': 5805, 'tear-jerker': 18328, 'die': 947, 'marc': 5806, 'mars': 5807, 'misguided': 5809, 'bastard': 7541, 'maintaining': 8338, 'silents': 14710, 'cliché-ridden': 13899, 'roy': 2132, 'motive': 5812, 'tamil': 14807, 'entirety': 7605, 'authenticity': 7537, 'nerves': 5813, 'screams': 4343, 'zu': 7256, 'niece': 5814, 'ny': 5815, 'dimwitted': 15345, '01': 10421, 'outdated': 5817, 'owen': 5818, '1984': 5009, 'owners': 5819, 'merchant': 13232, 'fling': 9078, 'phenomenal': 5821, 'hypnosis': 15628, 'stalker': 6529, 'semen': 18126, 'poison': 5822, '60': 1802, 'plausibility': 9690, 'patterson': 17852, 'art': 523, 'poker': 5823, 'jungles': 15719, 'hugely': 6267, 'there': 46, 'possess': 5824, 'unofficial': 14869, 'hi': 8298, 'praised': 5825, 'unintelligible': 13629, 'alternating': 11053, 'programs': 5826, 'preference': 13370, 'rea': 5830, 'recommendation': 5831, 'chronic': 15211, 'beforehand': 7542, 'interrupt': 15685, 'ads': 8904, 'identification': 12120, 'refused': 5832, 'sock': 13513, 'replace': 5833, 'riff': 5834, 'honeymoon': 9582, 'roommate': 5837, 'jocks': 11384, 'quarters': 10851, 'sirk': 5841, 'target': 2534, 'mcdermott': 9182, 'excuses': 5918, 'sniper': 5842, 'swap': 14791, 'sopranos': 5843, 'einstein': 7895, 'stumbles': 5846, 'sub-par': 5847, 'policeman': 6309, 'suitably': 5849, 'accepting': 7521, 'fill': 2289, 'swing': 5851, 'successful': 1052, 'thunderbirds': 5855, 'luthor': 9634, 'queue': 17962, 'gall': 17268, '51': 16545, 'unrelated': 5856, 'visions': 5857, 'bert': 9913, 'visiting': 5858, 'well-acted': 5859, 'last': 240, 'film-maker': 7093, 'iceberg': 10101, 'maudlin': 13223, 'souls': 3722, '000': 1775, 'heavy-handed': 9573, 'wholly': 5860, 'yup': 10418, 'snowy': 8447, 'plus': 903, 'would-be': 5861, 'cooperate': 15271, 'wrap': 5862, 'homer': 4003, '1977': 5864, 'professionally': 8775, 'aesthetic': 5865, 'overwhelming': 4648, 'pray': 7179, 'boyish': 10482, 'appeared': 1390, 'registered': 9254, 'allies': 12691, 'agenda': 5866, 'invites': 4835, 'alvin': 5867, 'gawd': 14142, 'analysis': 5869, 'approached': 5871, 'arab': 5872, 'pas': 14503, 'atlantis': 5873, 'authorities': 5874, 'droning': 14031, 'glimpse': 3474, 'benjamin': 5876, 'graboids': 15550, 'speculate': 14747, 'kareena': 13166, 'domineering': 12941, '28': 8155, 'bounty': 5879, 'calculating': 11861, 'omg': 9211, 'bronson': 5881, 'melts': 17683, 'compositions': 8995, 'butcher': 5883, 'heavens': 7957, 'canceled': 5884, 'luscious': 9633, 'carradine': 5886, 'politically': 3650, 'vomit': 8140, 'casual': 5887, 'hopelessness': 10667, 'tomei': 7780, 'villain': 1073, 'champion': 5889, 'fluffy': 10046, 'championship': 5890, 'cousins': 9003, 'co-stars': 5892, 'continually': 5893, 'jan-michael': 15704, 'reunite': 7188, 'pastor': 11485, 'zoom': 7516, 'isabelle': 7970, 'wage': 11718, 'dropping': 5910, 'contribute': 5894, 'controlling': 5895, 'admiration': 8510, 'corman': 5896, 'lassick': 17569, 'expecting': 867, 'correctly': 5897, 'crashing': 5898, 'everyone': 299, 'crystal': 5900, 'anchorman': 10444, 'surgeon': 6752, 'granted': 2572, 'dafoe': 5901, 'supremely': 18291, 'des': 5905, 'din': 5906, 'diner': 5907, 'captive': 9439, 'fading': 14088, 'fooled': 3928, 'dressing': 5909, 'duck': 5912, 'seas': 12440, 'bureau': 8959, 'supported': 4766, 'duration': 5913, 'ensuring': 14059, 'submarine': 7229, 'estranged': 5914, 'europeans': 5915, 'locke': 7678, 'willy': 8883, 'finesse': 15484, 'dietrichson': 14002, 'nazis': 4643, 'explores': 5919, 'feat': 5920, 'sands': 13458, 'interiors': 8311, 'frankie': 5921, 'hating': 7955, 'refreshing': 2338, 'there`s': 8478, 'taut': 8836, 'than': 86, 'gable': 5922, 'convenient': 7308, 'teddy': 10951, 'trusted': 8851, 'carnosaur': 11127, 'gear': 5925, 'gender': 5926, 'tackling': 13564, 'phillips': 4852, 'none': 636, 'hopeless': 5933, '=': 4210, 'huston': 5934, 'tango': 9325, 'stride': 16291, 'grounded': 9556, 'undeserved': 16408, 'ace': 6199, 'red': 860, 'animals': 1315, 'ie': 5935, 'liberally': 15762, 'satire': 1772, 'digest': 7882, 'newhart': 10763, 'imo': 5936, 'independence': 5937, 'abortion': 9386, 'frog': 7629, 'promoted': 5662, 'it`s': 5941, 'environments': 14061, 'favorites': 2445, 'kicking': 5944, 'skirt': 16206, 'fanfan': 14094, 'appropriate': 2137, 'likeable': 5946, 'liu': 5947, 'loser': 2878, 'minister': 5950, 'misfortune': 5951, 'mixing': 5952, 'tv-series': 16389, 'knocks': 7388, 'monty': 5955, 'tepid': 11669, 'non-stop': 5958, 'obtain': 5959, 'relentless': 7439, 'complimented': 16911, '18': 3110, 'fuller': 5772, 'peck': 5963, 'splitting': 16258, 'eagerly': 6840, 'incestuous': 9594, 'marcel': 7399, 'phoenix': 5965, 'schwartzman': 10284, 'celebrating': 9442, 'palestinian': 7700, 'blandings': 8947, 'pops': 5966, 'tempted': 5538, 'posters': 5967, 'psychologist': 5970, 'puppets': 5972, 'cup': 3750, 'craving': 9976, 'quentin': 5973, 'tracey': 10966, 'woeful': 9364, 'poisoned': 12344, 'waist': 10394, 'melodramatic': 3779, 'basis': 2559, 'razor': 5975, 'gus': 8666, 'evolved': 8264, 'gooding': 6637, 'mst': 12260, 'reminder': 5979, 'stuntman': 13553, 'restored': 5982, 'spending': 3444, '1936': 5709, 'resume': 6323, 'shepard': 5988, 'sf': 5525, 'edith': 6076, 'slick': 5990, 'glaring': 6261, 'studying': 5994, 'subtly': 5995, 'sundance': 5996, 'theories': 6000, 'thread': 6001, 'resurrected': 18033, 'defense': 5594, 'tickets': 6002, 'tip': 6003, 'tomb': 6004, 'troubles': 6005, 'exceptions': 5347, 'quality': 494, 'wretched': 5553, 'understands': 6008, 'cans': 13859, 'tissue': 9809, '1963': 6019, 'limitations': 6474, 'heartfelt': 5619, 'compensate': 7573, 'louise': 4428, '1985': 6020, 'cuba': 4395, 'betrays': 8183, 'distasteful': 9036, '1989': 6021, '1998': 6022, '23': 6023, 'magnificently': 10731, 'achieves': 6024, 'greeted': 15556, 'growth': 6453, 'acid': 6025, 'philosopher': 12331, 'israeli': 5940, 'addiction': 6026, 'finances': 14103, 'aftermath': 6029, 'aiming': 6031, 'assured': 7820, 'angst': 6033, 'attractions': 16665, 'destructive': 8603, 'astonishing': 6034, 'backwards': 6035, 'banter': 6037, 'bitten': 6038, 'bogus': 6039, 'boston': 6040, 'campus': 6044, 'cartoonish': 6045, 'holiday': 2983, 'disgusting': 2328, 'aaron': 9385, 'cassavetes': 6046, 'christina': 6050, 'corporations': 8582, 'short-lived': 10902, 'fade': 6249, 'cigarette': 6051, 'cliffhanger': 6052, 'compete': 6056, 'concentrate': 6057, 'fiction': 1435, 'cons': 6059, 'receives': 4193, 'convention': 6060, 'film': 23, 'counts': 6061, 'arrange': 12713, 'coup': 6062, 'arrow': 7039, 'crucial': 6064, 'louder': 13203, 'kinski': 8327, 'dandy': 6067, 'deserving': 6070, 'despicable': 6071, 'nihilism': 15898, 'ka': 14297, 'courageous': 8583, 'designer': 4803, 'conquest': 9469, 'nagging': 13272, 'hess': 11336, 'drinks': 6073, 'dwight': 6074, 'calf': 12801, 'eaten': 6075, 'september': 4344, 'daytime': 6604, 'costume': 1867, 'englund': 6077, 'persuaded': 15971, 'europa': 6079, 'gasoline': 17275, 'rise': 2253, 'explode': 7613, 'formed': 6081, 'offence': 15913, 'epps': 10582, 'spike': 3339, 'gorilla': 6085, 'guaranteed': 6087, 'borrowed': 4907, 'thereby': 8842, 'habit': 6088, 'ceylon': 15196, 'jewison': 14295, 'showcases': 8085, 'harm': 6091, 'heartbreaking': 6094, 'hobgoblins': 6096, 'whatsoever': 1616, 'inaccuracies': 6099, 'united': 2408, 'injured': 6101, 'insightful': 6102, 'shine': 4115, 'dread': 6425, 'resent': 18024, 'intro': 6105, 'closer': 2752, 'jaded': 6106, 'approach': 1536, 'consist': 6593, 'progressing': 16027, 'underwear': 6998, 'function': 5773, 'juliet': 6108, 'purposely': 12367, 'kidnapping': 7133, 'kay': 6109, 'self-conscious': 10896, 'dragon': 2568, 'nutshell': 7693, 'ringmaster': 14632, 'dentists': 13991, 'expected': 819, 'keen': 6110, 'lampoon': 6111, 'luis': 6114, 'lundgren': 6115, 'walt': 4578, 'madsen': 6117, 'disconcerting': 17049, 'befriend': 15106, 'brewing': 12781, 'meandering': 6118, 'waltz': 16470, 'wilson': 2594, 'sweetness': 9793, 'newbie': 14451, 'riders': 11561, 'altered': 6562, 'mentions': 6120, 'winded': 18514, 'spellbound': 16254, 'millionaire': 6123, 'incessant': 13130, 'skinny': 6523, 'mirrors': 6125, 'mode': 6126, 'moe': 6127, 'abrupt': 5013, 'romance': 904, 'morals': 6128, 'all': 38, 'so': 43, 'devices': 5339, 'developments': 9993, 'myrna': 6129, 'nails': 6130, 'html': 15621, 'located': 6284, 'neill': 6131, 'complaining': 5042, 'nominations': 6132, 'slams': 13505, 'ordeal': 6134, 'orphan': 6135, 'imbecilic': 17418, 'hurting': 9588, 'outline': 6136, 'owes': 6137, 'physics': 6138, 'accomplishment': 8508, 'playboy': 6141, 'humorless': 14231, 'imagination': 1471, 'grader': 10073, 'populated': 6143, 'tcm': 6171, 'lasting': 6894, 'provocative': 6147, 'pumbaa': 6148, 'oscar-nominated': 12302, 'movement': 2501, 'teaching': 6533, 'herbert': 7958, 'rescues': 10866, 'radiation': 6149, 'public': 1008, 'extremes': 9062, 'readers': 6150, 'old-fashioned': 5960, 'recognition': 6151, 'strong-willed': 16292, 'hears': 6265, 'presenting': 4963, 'reel': 6153, 'remembers': 6154, 'commander': 7297, 'selected': 6158, 'insultingly': 17469, 'chapter': 4908, 'shaking': 6159, 'freshness': 15513, 'russia': 5275, 'malcolm': 10152, 'sharing': 6160, 'sleeps': 6161, 'sorely': 6163, 'virgins': 8493, 'brings': 987, 'stairs': 6164, 'startling': 6165, 'stevenson': 18252, 'statements': 6166, 'atrocious': 2260, 'suggestion': 6167, 'tara': 6170, 'lamour': 15744, 'tierney': 6173, 'gripped': 15559, 'censorship': 8973, 'african-american': 5717, 'toby': 6174, 'cynicism': 11176, 'underwater': 6177, 'vastly': 6178, 'wary': 10397, 'vince': 6179, 'enough': 213, 'haines': 7951, 'talkative': 14805, 'vintage': 6180, 'wire': 6187, 'reportedly': 13417, 'witchcraft': 6188, 'sweeney': 18299, '1940s': 6191, 'kills': 1223, 'god': 585, 'bonds': 7551, 'abruptly': 6197, 'lush': 6285, 'kite': 17541, 'hate': 784, 'adopted': 6200, 'andre': 6201, 'betrayal': 5156, 'sins': 7753, 'joined': 5367, 'archie': 6202, 'labeouf': 13183, 'floriane': 12044, 'audrey': 6204, 'punched': 12362, 'observation': 7415, 'dorff': 17076, 'dismal': 6423, 'brandon': 6210, 'bruno': 6213, 'gould': 15549, '1934': 5555, 'rapidly': 5667, 'subway': 6354, 'bully': 6214, 'owed': 10789, 'busey': 6215, 'specific': 3338, 'widowed': 7007, 'successes': 9316, 'em': 3267, 'buzz': 6216, 'affair': 1547, 'cheek': 6218, 'nimoy': 10765, 'weight': 3202, 'chest': 6219, 'concepts': 6229, 'chip': 6220, 'ado': 16569, 'admirers': 16568, 'chopped': 6221, 'scarlett': 7740, 'cinemas': 6223, 'collins': 6226, 'comfort': 6227, '22': 5712, 'smug': 7219, 'conan': 6228, 'conclude': 6230, 'strain': 9313, 'damaged': 6236, 'hut': 13118, 'france': 2174, 'dixon': 6239, 'sloppily': 16217, 'dynamite': 6242, 'examined': 10028, 'earn': 6243, 'hells': 17370, 'enormously': 6245, 'bolivian': 16749, 'rediscovered': 16078, 'alias': 9393, 'deliciously': 6416, 'highway': 7644, 'miike': 5501, 'errol': 6247, 'holliday': 13100, 'reiser': 7727, 'backgrounds': 4297, 'fanatic': 6250, 'erase': 14063, 'beneath': 3827, 'fast-paced': 6252, 'tearjerker': 13570, 'forties': 6256, 'gates': 6257, 'simpler': 10302, 'grief': 6262, 'uniformly': 6010, 'hayworth': 6264, 'incapable': 6268, 'introducing': 6272, 'seth': 6967, 'investigator': 6273, 'jared': 6274, 'dangling': 13970, '1965': 6778, 'dates': 5178, 'judged': 6275, 'kidding': 3938, 'herself': 887, 'needless': 3435, 'figured': 2173, 'kristofferson': 6278, 'lasts': 6279, 'legal': 6280, 'liam': 6282, 'downright': 2664, 'legacy': 6113, 'elder': 10016, 'limit': 6283, 'maniac': 6287, 'detached': 7084, 'vermont': 12599, 'map': 6288, 'marked': 6289, 'marvin': 6290, 'hunky': 9124, 'observant': 15910, 'lopez': 6475, 'medieval': 6292, 'bring': 687, 'grandfather': 5199, 'messy': 6293, 'smoothly': 9768, 'mice': 6294, '1941': 9375, 'mothers': 6297, 'natalie': 6299, 'discernible': 9034, 'olivia': 6301, 'rigged': 16116, '19th': 5434, 'olsen': 6302, 'haul': 17359, 'callan': 15169, 'overboard': 6303, 'landed': 7392, 'passage': 6306, 'soggy': 16238, 'netflix': 5095, 'penned': 6307, 'valerie': 8866, 'evolving': 12981, 'preposterous': 6311, 'handheld': 14188, 'melbourne': 8001, 'psychology': 6313, 'pursuit': 6316, 'freaks': 5356, 'daylight': 6414, 'bret': 9931, 'records': 6319, 'bias': 7049, 'regularly': 6320, 'naval': 8729, 'mouth': 2009, 'reviewed': 6324, 'revolver': 6325, 'ripe': 11563, 'theirs': 10358, 'sensation': 8800, 'worm': 10408, 'sarcastic': 6330, 'grenades': 17314, 'disingenuous': 14009, 'scenarios': 6331, 'fulfilling': 11288, 'seductive': 6333, 'feats': 17190, 'ernest': 8639, 'cq': 13947, 'notions': 12280, 'sellers': 6335, 'fog': 6630, 'servant': 6337, 'loopy': 17607, 'punches': 5971, 'sho': 6338, 'shorter': 6339, 'idle': 10104, 'showdown': 6340, 'jealousy': 5627, 'bloodbath': 7279, 'stretch': 3446, 'standout': 6348, 'antonio': 4479, 'clarence': 8208, 'meeting': 2038, 'starters': 6349, 'purest': 14570, 'sticking': 6351, 'jumpy': 10125, 'survivor': 6356, 't&a': 6358, 'alison': 4477, 'tank': 6360, 'inhabits': 15666, 'tina': 6361, 'up': 69, 'traffic': 6363, 'updated': 6368, 'instances': 7380, 'obtrusive': 17789, 'wakes': 6370, 'wastes': 6371, 'wax': 6372, 'endeavors': 14056, 'whites': 6373, 'yawn': 6375, 'meantime': 9184, 'yacht': 10412, 'instead': 309, '21st': 6379, 'exploited': 10592, 'accidental': 6381, 'angel': 2042, 'agency': 6385, 'why': 142, 'province': 10239, 'hosts': 9122, 'applies': 6387, 'tool': 6758, 'writer-director': 8150, 'trashy': 4677, 'artsy': 6389, 'experiments': 4314, 'belly': 6393, 'bergen': 13808, 'paced': 2642, 'belt': 6394, 'brien': 6398, 'buffy': 6399, 'emotive': 14054, 'canyon': 6400, 'instalment': 15675, 'capote': 6401, 'entrenched': 15428, 'sayuri': 14666, 'olin': 14475, 'asleep': 2186, 'christianity': 6403, 've': 139, 'claude': 6404, 'watery': 18492, 'horne': 17399, 'jury': 7975, 'detract': 6610, 'closed': 6405, 'conveys': 6407, 'bolo': 16750, 'altering': 12692, 'corn': 6410, 'wahlberg': 13652, 'documented': 8615, 'nomination': 4744, 'garner': 7632, 'effectiveness': 15402, 'deliverance': 6417, 'unfulfilled': 14865, 'jayne': 10689, 'bloodthirsty': 9921, 'discussed': 6422, 'emma': 2211, 'dub': 6427, 'epics': 6433, 'establish': 6434, 'flicked': 15488, 'eternity': 6436, 'blender': 16735, 'promoting': 7436, 'improv': 11353, 'dialogue': 431, 'ryan': 1822, 'exorcist': 6438, 'antony': 11777, 'ppv': 9233, 'sugary': 16299, 'explosive': 6439, 'hayden': 7956, 'faded': 6440, 'reprises': 14614, 'races': 5664, 'distributors': 9037, 'first-rate': 6441, 'flew': 6442, 'cathartic': 16834, 'il': 8683, 'surrounding': 3502, 'timothy': 3811, 'bell': 3741, 'forrest': 6443, 'generated': 6445, 'devoured': 11963, 'gillian': 6448, 'meadows': 6291, 'graduate': 6452, 'mariette': 15804, 'retelling': 7732, 'superlative': 10939, 'harlow': 6457, 'evolves': 12980, 'misty': 5389, 'harriet': 6458, 'richer': 14630, 'responsible': 1814, 'indifferent': 6463, 'insist': 6465, 'label': 5491, 'insomnia': 6466, 'interests': 6467, 'offside': 14472, 'arises': 11070, 'viewers': 786, 'landmark': 6471, 'bombed': 7835, 'marvel': 6477, 'grease': 10632, 'vet': 8136, 'masterson': 6478, 'reminds': 1545, 'mill': 6480, 'edmund': 7086, 'mister': 6481, 'carrier': 8200, 'motorcycle': 6482, 'vessel': 11711, 'brand': 3049, 'nemesis': 6484, 'sicily': 18165, 'decrepit': 13982, 'governor': 10069, 'officers': 3788, 'norris': 6485, 'noticeable': 6487, 'scheider': 16153, 'qualify': 6507, 'objective': 6489, 'obsessive': 6490, 'innovations': 17458, 'translates': 13602, 'linger': 11402, 'dozens': 4071, 'origins': 6492, 'close-ups': 4391, 'overblown': 6494, 'civilians': 7564, 'tehran': 18330, 'jeanne': 15707, 'wholesome': 8146, 'owns': 6495, 'm&m': 15793, 'encouraging': 9052, 'bashed': 13793, 'film-': 11271, 'pale': 6497, 'queer': 14576, 'ensemble': 3215, 'before': 169, 'playwright': 6500, 'plotting': 6501, 'remove': 5402, 'secure': 9746, 'portrayals': 6502, 'reid': 6511, 'rejects': 6512, 'relevance': 6513, 'wilde': 10403, 'rosario': 6518, 'ruled': 6519, 'shoddy': 6522, 'muppets': 5956, 'hayes': 7366, 'prevented': 9239, 'smash': 6524, 'profane': 16024, 'rapid-fire': 13397, 'sought': 6525, 'spoofs': 6527, 'hundstage': 13117, 'stalked': 6528, 'engines': 17135, 'superstar': 6531, 'talky': 6532, 'narratives': 9660, 'perverted': 6697, 'turkish': 6537, 'users': 6538, 'ordinary': 1769, 'exploring': 5190, 'vega': 6540, 'haircut': 13065, 'wartime': 6544, 'towns': 6993, 'cents': 5888, 'wayans': 6545, 'baddie': 9407, 'ww2': 6550, 'gangsta': 9089, 'surround': 9322, 'nowadays': 2641, 'yarn': 6551, 'yours': 6552, '3-d': 6556, 'co-produced': 16886, 'highlight': 2699, 'admirable': 6560, 'listen': 1624, 'balanced': 6205, 'adrian': 6561, 'brimley': 16775, 'refugee': 9725, 'hers': 5930, 'scattered': 8077, 'applaud': 6565, 'coat': 7296, 'appropriately': 6566, 'armstrong': 6567, 'attract': 6569, 'impersonation': 10107, 'backed': 6570, 'biblical': 6574, 'btw': 6578, 'burke': 6579, 'burst': 6580, 'caretaker': 6581, 'soccer': 4118, 'irresponsible': 8313, 'jeter': 17507, 'caricature': 6582, 'tunnels': 12568, 'characterisation': 6583, 'characteristic': 6584, 'choosing': 6586, 'discusses': 15350, 'clay': 6587, 'collect': 6590, 'top-notch': 7494, 'picnic': 8761, '96': 11755, 'controls': 6595, 'smattering': 16228, 'prevalent': 9700, 'conveyed': 6596, 'theodore': 6534, 'crisp': 6600, 'destroys': 6609, 'crown': 6601, 'darren': 6603, 'debt': 6605, 'bullying': 9937, 'irish': 2636, 'five': 679, 'dillon': 6613, 'unworthy': 16433, 'disappears': 6614, 'corinne': 12872, 'output': 9215, 'economic': 6616, 'election': 6618, 'plotted': 12340, 'eastwood': 3418, 'previews': 5107, 'energetic': 6619, 'extensive': 6621, 'harlem': 8670, 'that`s': 9330, 'feel-good': 6625, 'filthy': 6629, 'god-awful': 6636, 'ho': 6640, 'spacey': 5123, 'hoover': 6642, 'hostel': 6645, '1979': 5140, 'replies': 10260, 'over-the-top': 2451, 'identified': 6648, 'idol': 6649, 'saxon': 10281, 'strangelove': 8104, 'kelso': 10127, 'implied': 6651, 'inexplicable': 6653, 'adele': 10431, 'cracked': 9974, 'genitals': 14144, 'july': 6656, 'kansas': 6657, 'plan': 1311, 'layers': 6659, 'against': 450, 'leaders': 6660, 'lethal': 6663, 'restaurant': 4342, 'merrill': 10169, 'succubus': 14776, 'linked': 6665, 'vinnie': 11713, 'skips': 8442, 'evils': 17164, 'race': 1446, 'live-action': 6667, 'lois': 6668, 'conductor': 7301, 'madman': 6671, 'marijuana': 6672, 'slums': 16224, 'pasolini': 10208, 'martha': 6673, 'positions': 10226, 'stomach': 3195, 'minded': 6676, 'jurassic': 7386, 'uneducated': 13625, 'condition': 3118, 'modern-day': 6679, 'morally': 6682, 'myth': 6683, 'sh*t': 8082, 'chess': 3163, 'natasha': 6685, 'nations': 6686, 'vulnerable': 4774, 'anil': 7031, 'sesame': 10290, 'filler': 6627, 'novelist': 6687, 'occult': 6688, 'ogre': 6689, 'kidnapper': 17536, 'slammed': 14720, 'weird': 870, 'ominous': 6690, 'clerks': 8210, 'pamela': 5103, 'salesman': 8427, 'insecure': 9138, 'superiors': 10342, 'pains': 6694, 'awaken': 16670, 'detective': 1328, 'babes': 8932, 'rear': 6708, 'bounces': 15138, 'grandma': 7640, 'loss': 2151, 'environmental': 8637, 'millennium': 9186, 'rebellion': 6709, 'leans': 14326, 'reign': 6710, 'senate': 16172, 'rendered': 6712, 'reverse': 6714, 'amounts': 4140, 'rodney': 6716, 'across': 629, 'runner': 5274, 'roller': 6717, 'sketch': 4988, 'half-hour': 9564, 'indoor': 17440, 'russ': 6719, '93': 16554, 'solves': 11618, 'allegory': 9884, 'special': 315, 'salman': 6721, 'ada': 13724, 'involve': 4627, 'samantha': 6722, 'schedule': 6724, 'trial': 3150, 'scored': 6726, 'camel': 12804, 'seduction': 6728, 'donnell': 11980, 'seeming': 6729, 'marrow': 17659, 'permitted': 14520, 'sentimentality': 6730, 'shelley': 4346, 'shocker': 6734, 'invaded': 15688, 'significance': 6735, 'lawn': 7673, 'bruckheimer': 9933, 'slapped': 6738, 'kidman': 4728, 'slide': 6739, 'smell': 6741, 'incessantly': 15651, 'sparks': 6743, 'thinly': 12542, 'bette': 2462, 'popping': 6934, 'stardom': 6745, 'stiles': 6747, 'stones': 6748, 'sufficient': 6750, 'suspected': 6754, 'utilizes': 18457, 'cannibal': 5034, 'seat': 2407, 'upbeat': 8865, 'promiscuous': 10840, 'repetitive': 3653, 'trace': 6759, '1971': 4780, 'party': 1022, 'unconventional': 6764, 'uniform': 6765, 'steal': 2345, 'shaped': 7210, 'unstable': 6766, 'shes': 18148, 'bratty': 12777, 'vance': 6767, 'whimsical': 6768, 'cupboard': 16975, 'worn': 6769, 'suzanne': 7771, 'percentage': 10215, 'yeti': 6771, 'fanatics': 10037, 'talents': 1880, 'youthful': 6772, 'heir': 9111, 'loving': 1792, 'spine': 5991, '0/10': 6773, '1943': 6776, '1953': 6777, '4th': 6779, '90%': 6780, 'aggressive': 6783, 'aim': 6784, 'midgets': 14406, 'dramatic': 933, 'enticing': 10024, 'amidst': 6787, 'roger': 2585, 'angie': 6789, 'caroline': 8966, 'headlight': 14204, 'anton': 6790, 'bettina': 13810, 'incredible': 983, 'arizona': 6791, 'arnie': 6792, 'make-believe': 17641, 'askey': 6795, 'attacking': 6798, 'backdrops': 6802, 'emory': 17127, 'lollobrigida': 15781, 'bashing': 6804, 'chronology': 13888, 'beg': 6805, 'blast': 6806, 'sporting': 8451, 'boris': 6808, 'innocently': 13137, 'brent': 6809, 'carla': 8555, '-': 82, 'need': 370, 'collaboration': 6814, 'renders': 11541, 'deaf': 4603, 'thug': 9806, 'cassette': 15186, 'benet': 11820, 'deserted': 5055, 'colman': 6815, 'replied': 16092, 'homo': 13102, 'colours': 6816, 'tended': 8111, 'ditch': 17063, 'tired': 1312, 'columbia': 6817, 'pup': 16046, 'brim': 15150, 'crippled': 6822, 'crossing': 6823, 'traced': 12553, 'cultures': 6825, 'death': 363, 'pony': 8394, 'lobby': 12207, 'demonic': 6827, 'bucket': 15157, 'depict': 6829, 'detroit': 6830, 'distributed': 6833, 'diverse': 6834, '24': 3510, 'dreyfuss': 6836, 'dunst': 6838, 'edison': 6843, 'schemes': 10283, 'isolated': 4526, 'scoop': 6962, 'emerge': 6845, 'practical': 8771, 'out-takes': 17816, 'elli': 17119, 'endlessly': 6846, 'contradiction': 12866, 'enhanced': 6847, 'bum': 7838, 'appetite': 13761, 'enthusiastic': 6849, 'action-adventure': 14993, 'dishonest': 12931, 'gazzara': 10058, 'hirsch': 12107, 'cowardly': 11165, 'decent': 544, 'expertly': 6853, 'broader': 13840, 'festivals': 6858, 'fiancée': 6860, 'fatally': 12993, 'technicolor': 5128, 'fifth': 6861, 'fist': 6863, 'admits': 13725, 'villagers': 6369, 'flavor': 6864, 'denouement': 7878, 'wellington': 11007, 'fragile': 6866, 'frontal': 6868, 'greta': 6872, 'helena': 6875, 'law': 1337, 'immature': 6876, 'sharif': 14693, 'intelligently': 6880, 'wtf': 6770, 'teams': 7775, 'intend': 6881, 'dumbness': 17098, 'omissions': 14478, 'price': 1756, 'ira': 6882, 'scruffy': 18110, 'lew': 17585, 'irene': 6883, 'item': 6884, 'reconsider': 13404, 'expects': 6851, 'it´s': 6885, 'warmed': 11722, 'kent': 6891, 'adelaide': 16566, 'lavish': 6895, 'uncaring': 13620, 'drifter': 10564, 'lighthearted': 6898, '1983': 4472, 'mind': 378, 'mamet': 6901, 'lurking': 8711, 'maureen': 6904, 'morgana': 6910, 'brazil': 4145, 'suppose': 1346, 'natives': 6912, 'co-written': 8986, 'krell': 10133, 'ne': 10182, 'neal': 6913, 'laser': 11394, 'nightclub': 6915, 'marines': 9176, 'kenneth': 3430, 'novelty': 6918, 'seals': 14681, 'offend': 6922, 'realizes': 3652, 'avoid': 769, 'dictator': 8241, 'topped': 8848, 'laurie': 6472, 'oldest': 6923, 'origin': 6924, 'resourceful': 10868, 'painter': 6925, 'paints': 6926, 'pam': 6927, 'exercises': 15447, 'sales': 7198, 'bulimia': 15160, 'cannes': 5736, 'parade': 6928, '1840': 16532, 'enigmatic': 7902, 'philosophies': 17871, 'chávez': 12834, 'phase': 6930, 'phrase': 6931, 'ford': 1951, 'pleasing': 6932, 'peasant': 12322, 'plodding': 6933, 'blame': 1745, 'casablanca': 6402, 'post-war': 6936, 'telly': 9800, 'psyche': 6941, 'quietly': 6942, 'rambling': 6944, 'desirable': 11960, 'freeway': 9540, 'honourable': 14221, 'raunchy': 6945, 'eponymous': 8262, 'salt': 8794, 'wyatt': 10411, 'reese': 6946, 'models': 4642, 'releasing': 6948, 'replacing': 6949, 'vick': 14890, 'invisibility': 11374, 'rewarded': 6951, 'rivals': 6954, 'of': 7, 'rosemary': 6955, 'saloon': 6957, 'salvation': 6958, 'feminists': 15477, 'pitched': 12335, 'scarier': 6960, 'ferrell': 7090, 'offer': 1593, 'hurry': 8680, 'doody': 14025, 'torch': 9340, 'flips': 10045, 'married': 902, 'schtick': 6961, 'favored': 12997, 'titled': 3448, 'screenplays': 6964, 'charlotte': 4598, 'temper': 6987, 'bug': 4592, 'seattle': 6965, 'masked': 7146, 'flushed': 13013, 'secondary': 6966, 'nevertheless': 2548, 'stalking': 5993, 'laboratory': 7135, 'blah': 2521, 'pompous': 8768, 'duchess': 17093, 'carroll': 10505, 'settled': 6968, 'siblings': 6970, 'boggy': 9924, 'oblivion': 8370, 'sidewalk': 6972, 'monotonous': 9650, 'sitcoms': 6973, 'relates': 8055, 'jenkins': 12160, 'skilled': 6974, 'lame': 785, 'counter': 7870, 'sooner': 6977, 'dreamworks': 10011, 'speeches': 6979, 'obliged': 17785, 'conspiracy': 3211, 'ransom': 7722, 'regulars': 11538, 'stating': 6981, 'strengths': 6982, 'swept': 6985, 'sold': 3077, 'tapes': 6986, 'domain': 9506, 'therapy': 6988, 'hoped': 2984, 'extreme': 1405, 'fried': 7101, 'yuck': 16514, 'costner': 6411, 'tossed': 6992, 'rented': 1162, 'truman': 6995, 'undeniably': 6997, 'shaka': 18142, 'rampage': 5829, 'thailand': 8113, 'criminally': 9007, 'anyone': 253, 'underworld': 6999, 'gimme': 17289, 'revenge': 1080, 'unleashed': 7000, 'russel': 10882, 'ivy': 10687, 'placing': 9688, 'vanity': 7001, 'experimental': 5348, 'vehicles': 7002, 'faking': 10035, 'virtual': 7003, 'borrowing': 11109, 'play': 310, 'yell': 7011, 'lanchester': 15747, 'ra': 14578, 'yep': 7012, 'zodiac': 7013, '6th': 8504, 'reprising': 12405, '$5': 7014, '***spoilers***': 7015, 'recognized': 3883, '1945': 7016, 'mst3k': 3065, '1967': 7017, 'generally': 1183, '1994': 7019, 'hara': 6090, '85': 7022, 'admitted': 7025, 'aime': 7027, 'roddy': 13443, 'ajay': 7028, 'dee': 5903, 'allan': 7029, 'apply': 7033, 'quote': 3032, 'liotta': 5634, 'approaches': 7034, 'containing': 5048, 'stays': 2588, 'arranged': 7036, 'annals': 15034, 'lorenzo': 8708, 'arrest': 7038, 'attended': 7042, 'juicy': 10124, 'rational': 10250, 'aussie': 7043, 'cloris': 16881, 'pakistani': 12310, 'caring': 2781, 'tactics': 8472, 'baseketball': 7044, 'bats': 7045, 'undertake': 16406, 'ridden': 8061, 'beetle': 7047, 'jodelle': 17512, 'bikini': 7050, 'depalma': 8602, 'asked': 1737, 'uniquely': 9348, 'modine': 15850, 'submitted': 11652, 'jew': 10119, 'exit': 6850, 'boogie': 7053, 'boyer': 7054, 'brazilian': 7055, 'suggest': 1478, 'mutated': 10179, 'comment': 813, 'breathing': 7056, 'challenges': 5443, 'thelma': 8115, 'cheesiness': 8206, 'chaotic': 7061, 'folk': 3927, 'coal': 7063, 'ultimatum': 11697, 'moody': 4742, 'afterwards': 3569, 'comparable': 7064, 'brute': 9934, 't-rex': 10946, 'consequently': 7066, 'toothache': 16351, 'cookie': 7068, 'mckenzie': 14396, 'disillusionment': 12932, 'beatrice': 11816, 'cinderella': 2223, 'courtroom': 7069, 'stereotyped': 7478, 'credited': 7070, 'cringing': 7071, 'perfected': 8385, 'infantile': 15662, 'crosses': 7072, 'barbarian': 8180, 'corleone': 9474, 'blew': 3907, 'pollack': 9228, 'bart': 5725, 'crowe': 7073, 'philips': 15976, 'snail': 9769, 'snooty': 16232, 'reagan': 7724, 'steady': 5290, 'cuban': 7074, 'czech': 7076, 'yourself': 610, 'dani': 7583, 'dahl': 7077, 'deathtrap': 7078, 'collapsed': 15228, 'carrey': 4386, 'deborah': 7079, 'counterpart': 12875, 'meyer': 7151, 'denver': 7081, 'morale': 15857, 'grave': 3325, 'depending': 7082, 'vivacious': 13647, 'had': 72, 'distress': 7085, 'polemic': 15995, 'egypt': 7087, 'ensure': 7088, 'fighters': 7092, 'socially': 7759, 'forgiveness': 7097, 'foundation': 7098, 'personified': 13340, 'warhols': 7793, 'depressing': 2493, 'waters': 3348, 'organs': 10198, 'gangs': 7103, 'lineup': 12199, 'inexplicably': 5625, 'minus': 6295, 'gielgud': 7105, 'glance': 7106, 'assert': 11790, 'speaking': 1586, 'abandon': 8507, 'lookin': 17605, 'fractured': 15507, 'looses': 9632, 'parties': 4543, 'goers': 7108, 'greene': 7110, 'revolves': 2316, 'haunt': 7115, 'hippies': 7118, 'borderline': 8542, 'smashed': 16227, 'finance': 9536, 'invention': 10112, 'butter': 15164, 'iran': 7128, 'steak': 14759, 'kramer': 7134, 'lend': 7138, 'surpasses': 8109, 'lunch': 7143, 'inclusion': 6462, 'lurid': 7144, 'brick': 8193, 'mostel': 7152, 'profit': 10236, 'chance': 575, 'mum': 7154, 'mysteriously': 7156, 'endorse': 15424, 'measured': 9641, 'situation': 981, 'neglected': 7158, 'northam': 7161, 'nuanced': 7162, 'elijah': 17118, 'overwhelmed': 7165, 'paths': 7169, '5th': 9856, 'medication': 12238, 'eleanor': 11229, 'goddess': 10625, 'pc': 7170, 'werner': 9840, 'vargas': 8488, 'peaceful': 7171, 'phantasm': 7172, 'glen': 14153, 'cheers': 7561, 'pierre': 7174, 'politician': 7175, 'grumpy': 9557, 'welcomed': 9839, 'polly': 7176, 'compensated': 15246, 'prejudices': 7180, 'reminding': 7186, 'rides': 7192, 'hamburg': 13067, 'damian': 12899, 'schneider': 5522, 'juliette': 7385, 'bogdanovich': 8539, 'romeo': 7196, 'sarcasm': 7200, 'troubled': 3342, 'seduce': 7202, 'curiously': 7312, 'sells': 7204, 'sinclair': 16199, 'freaking': 9085, 'sentences': 7206, 'vigilante': 7791, 'serbian': 7207, 'playing': 402, 'falling': 1423, 'shaggy': 7209, 'celia': 15193, 'remark': 8412, 'shares': 7211, 'sharks': 7212, 'longoria': 5804, 'paulie': 5655, 'shortcomings': 7213, 'anglaise': 16618, 'shrill': 7214, 'slashers': 7215, 'friggin': 10053, 'post-production': 14550, 'reverend': 13427, 'les': 5219, 'sleuth': 7217, 'smiles': 7218, 'soliloquy': 16240, 'snuff': 7220, 'welles': 2161, 'dominated': 9042, 'extension': 12988, 'rourke': 10274, 'sore': 7221, 'mid': 3709, 'spit': 7223, 'stella': 7225, 'coffin': 6813, 'brothel': 9932, 'gracious': 17303, 'gorgeous': 1317, 'stephanie': 7226, 'strict': 7227, 'determination': 7595, 'pleasures': 8034, 'rosie': 8790, 'nt': 9665, 'appointed': 16633, 'stupidest': 7228, 'pigeon': 10220, 'budapest': 13845, 'sucker': 7231, 'inherent': 7125, 'swayze': 7232, 'thieves': 7233, 'giovanna': 10624, 'retirement': 9732, 'mabel': 5222, 'traits': 7238, 'basic': 993, 'transported': 7241, 'struggles': 2741, 'thus': 1555, 'remakes': 5518, 'tyler': 7244, 'rich': 973, 'alexandra': 7807, 'ideals': 9127, 'confidential': 9465, 'understated': 5134, 'unattractive': 7245, 'she': 63, 'unimaginative': 7246, 'fingernails': 13002, 'upside': 7248, 'gravity': 12079, 'glorious': 3770, 'slut': 7471, 'terrorize': 13577, 'kick': 2376, 'vanishing': 7250, 'sustains': 18293, 'concerts': 13920, 'vapid': 7251, 'school': 366, 'promising': 2232, 'void': 7252, 'woke': 7255, 'oscar-winning': 8020, 'expresses': 8644, '1948': 7257, 'hater': 14201, 'lighter': 6897, 'aboriginal': 7259, 'throne': 11676, 'accompanying': 7260, 'graduates': 11307, 'answered': 7261, 'appearances': 3306, 'applied': 7263, 'arguments': 7264, 'boldly': 16747, 'scarlet': 6723, 'luzhin': 9635, 'assignment': 7265, 'two': 118, 'awaiting': 7269, 'lone': 4945, 'story-telling': 9312, 'connelly': 8997, 'freak': 4517, 'babysitter': 7271, 'irons': 10115, 'bauer': 7274, 'bernsen': 7276, 'kkk': 15732, 'blockbusters': 7278, 'competitor': 16906, 'ice-t': 15630, 'colored': 7570, 'christine': 6222, 'lightweight': 8704, 'bubble': 7282, 'plagiarism': 17884, 'carson': 7284, 'lied': 12195, 'efficient': 8625, 'celebrated': 7287, 'psychedelic': 9245, 'characterizations': 7289, 'cheadle': 7290, 'objects': 6919, 'chloe': 7291, 'confronted': 7303, 'marian': 15803, 'connor': 7304, 'crummy': 10538, 'pranks': 7178, 'continuing': 7306, 'criticisms': 7310, 'customers': 7313, 'darth': 7315, 'gen': 9091, 'favourite': 1728, 'rates': 5512, 'derived': 7318, 'inconsistencies': 10109, 'ciaran': 16867, 'garish': 12063, 'desi': 7319, 'disenfranchised': 17051, 'morris': 4182, 'district': 7321, 'drawings': 7325, 'jeans': 15708, 'duh': 7327, 'wash': 8143, 'dump': 7329, 'mutants': 9658, 'egg': 7332, 'graduation': 12078, 'blackie': 10475, 'villains': 2041, 'lena': 4943, 'egyptian': 7333, 'clients': 11887, 'enduring': 7335, 'locks': 11405, 'enhance': 7336, 'paltrow': 3648, 'entering': 7337, 'venezuela': 7504, 'reasons': 956, 'establishment': 7340, 'facility': 7343, 'fires': 7346, 'slashes': 16210, 'firmly': 7347, 'high-pitched': 17378, 'decoration': 12907, 'brennan': 6577, 'flows': 7348, 'escapism': 12013, 'harlin': 8295, 'hoodlums': 15615, 'he/she': 13078, 'at': 37, 'drama': 447, 'chemical': 8562, '5/5': 8895, 'reveal': 2959, 'gained': 7354, 'ghastly': 7355, 'ghostly': 7356, 'gossip': 7359, 'harmful': 17353, 'anastasia': 10443, 'press': 4188, 'hutton': 8681, 'helpless': 7367, 'homosexuality': 7371, 'invader': 17479, 'hugo': 7373, 'calm': 4594, 'incidents': 7377, 'solid': 1141, 'mercenary': 10166, 'iq': 7381, 'iranian': 7382, 'thirties': 6989, 'coolest': 7577, 'committing': 8574, 'jewel': 7383, 'jude': 7384, 'poorest': 8769, 'kurosawa': 7390, 'vh1': 9831, 'labor': 7391, 'lara': 7393, 'leno': 7394, 'low-key': 7397, 'lt': 7398, 'marx': 7400, 'consumers': 13932, 'carnival': 8965, 'updating': 14878, 'fallon': 9065, 'meredith': 7401, 'rarity': 10249, 'mick': 7402, 'venturing': 14885, 'reports': 7731, 'melt': 9642, 'midget': 7403, 'mills': 7404, 'weaknesses': 6184, 'mortal': 7408, 'cos': 9971, 'strictly': 3802, 'volume': 6182, 'murderers': 7409, 'hasso': 15595, 'stylistically': 12511, 'seasoned': 7452, 'deny': 6237, 'gimmicks': 8661, 'mutual': 7411, 'networks': 7413, 'deciding': 6606, 'nun': 7414, 'reiner': 12399, 'observations': 7416, 'overwrought': 7417, 'streets': 2319, 'shane': 9278, 'consistency': 9470, 'defend': 4310, 'exposition': 6620, 'gamut': 9544, '10-15': 16527, 'phones': 7426, 'mack': 8335, 'participation': 7419, 'paste': 10209, 'powerfully': 10825, 'record': 1798, 'jerry': 1454, 'pin': 7427, 'preacher': 7431, 'hitler': 1523, 'stance': 8453, 'produces': 7435, 'warned': 3152, 'realities': 7438, 'respects': 7443, 'obviously': 559, 'claim': 2242, 'samuel': 7448, 'donut': 17074, 'allude': 16597, 'uld': 16396, 'sergio': 8802, 'sasquatch': 7449, 'zealand': 7515, 'seats': 7453, 'majestic': 10733, 'sensible': 7455, '33': 9853, 'sergeant': 7456, '6/10': 9383, 'charts': 16845, 'highs': 14214, 'seriousness': 7457, 'opens': 2128, 'severed': 7458, 'depths': 8237, 'shaolin': 7461, 'shaun': 7462, 'sheets': 7463, 'slim': 7468, 'competence': 15247, 'designers': 13998, 'qualifies': 9246, 'exhibiting': 17167, 'i`m': 14237, 'sober': 7472, 'spice': 7473, 'stab': 7475, 'ramifications': 17971, 'working': 857, 'story-line': 7479, 'prints': 9241, 'strung': 7480, 'swamp': 7485, 'icons': 9589, '1917': 16535, 'provoke': 16036, 'tasty': 7490, 'silverman': 8088, 'upbringing': 7500, 'verbal': 7505, 'veterans': 7507, 'enlisted': 11242, 'vibrant': 7508, 'viewpoint': 7509, 'marketed': 10155, 'herge': 14211, 'blooded': 13820, 'wesley': 7511, 'documentation': 14019, 'wong': 7513, 'barefoot': 15089, 'trish': 13610, 'bombing': 8540, 'bureaucracy': 12794, '1957': 7517, 'acclaim': 7522, 'draft': 8248, 'adopt': 7524, 'fassbinder': 7916, 'akin': 7526, 'sherman': 8436, 'chauvinistic': 16847, 'analyze': 7527, 'announced': 7528, 'koreans': 15740, 'anthology': 7529, 'conned': 13929, 'flamboyant': 10042, 'apollo': 7530, 'delusions': 11953, 'neutral': 9201, 'astute': 7533, 'mature': 2921, 'auteur': 7536, 'badness': 7538, 'countess': 11928, 'mates': 8346, 'begging': 7543, 'believability': 7545, 'behaves': 8939, 'nubile': 11470, 'gather': 5924, 'benefits': 7546, 'allowances': 15021, 'bent': 7547, 'blazing': 7549, 'raucous': 16062, 'borrow': 7552, 'harvard': 11328, 'wolverine': 9365, 'afloat': 9879, 'dash': 9490, 'sullen': 16300, 'bothers': 7553, 'screeching': 14677, 'britney': 7554, 'loomis': 14349, 'long-suffering': 14347, 'vikings': 13646, 'caprica': 7558, 'swords': 9795, 'cassandra': 7559, 'cecil': 7560, 'chimney': 7562, 'clash': 7565, 'upon': 696, 'clockwork': 7566, 'note': 939, 'circumstance': 9450, '58': 14970, 'cody': 7568, 'oscar-winner': 17812, 'crabs': 15276, 'exist': 1935, 'collette': 7569, 'confront': 7574, 'nod': 6917, 'consideration': 7575, 'prepare': 4339, 'expedition': 5189, 'contestant': 7576, 'corbin': 7578, 'goes': 290, 'jose': 7974, 'bouts': 16759, 'anti': 8519, 'character-driven': 10509, 'capshaw': 8197, 'correctness': 7579, 'tormenting': 18367, 'excess': 7610, 'printed': 10831, 'threat': 3965, 'flawed': 2842, 'cracking': 7580, 'barrage': 15093, 'culkin': 7581, 'overacting': 4956, 'cycle': 7582, 'ussr': 14880, 'dramatics': 12947, 'deanna': 7586, 'penguin': 10804, 'decline': 7588, 'gabe': 17262, 'tedium': 9326, 'shotgun': 6969, 'degrees': 7590, 'housewife': 4936, 'commentary': 1746, 'detectives': 7594, 'ironically': 3859, 'disco': 7597, 'uprising': 18451, 'eg': 11227, 'dumped': 7601, 'nuance': 12282, 'duel': 7891, 'emmy': 7603, 'excel': 14071, 'al': 1389, 'tracy': 2622, 'sammo': 5411, 'redeemed': 8782, 'er': 7606, 'espionage': 7607, 'love-hate': 14352, 'eventual': 7608, 'excellence': 7609, 'moderate': 17708, 'struggled': 8106, 'expose': 7615, 'fart': 7617, 'royalty': 16134, 'docudrama': 11979, '$10': 9849, 'understatement': 8128, 'cellar': 11132, 'faux': 7618, 'unpopular': 14870, 'fellini': 7620, 'discuss': 4067, 'fifty': 7621, 'superiority': 18290, 'duchovny': 6241, 'file': 7622, 'sibrel': 9284, 'casualties': 16827, 'ideology': 9590, 'forbes': 7627, 'incorporate': 15654, 'reaction': 2200, '2': 261, 'freed': 7628, 'stretched': 4876, 'brash': 7836, 'status': 2651, 'frozen': 7630, 'geniuses': 7634, 'leaden': 13187, 'investment': 10114, 'knox': 10702, 'gertrude': 7635, 'fuzzy': 7353, 'goods': 7639, 'infamous': 3021, 'herd': 7643, 'brinke': 13839, '50%': 9854, 'supposed': 436, 'hinted': 7645, 'luck': 2088, 'hip-hop': 7646, 'hmmm': 7647, '9th': 14979, 'progressive': 10836, 'orgy': 8743, 'insects': 9137, 'fable': 8647, 'inspector': 3222, 'holden': 7648, 'hulk': 7650, 'deniro': 4506, 'kamal': 7976, 'hysterically': 7651, 'compose': 16912, 'winning': 1723, 'inc': 7654, 'cathy': 9946, 'inexperienced': 7655, 'fixed': 13009, 'openly': 7697, 'saget': 9265, 'inspire': 7656, 'underground': 2347, 'summed': 7768, 'fuel': 8656, 'disgustingly': 11973, 'intact': 7657, 'interplay': 7659, 'arguably': 3978, 'jar': 7663, 'mans': 8717, 'pod': 14540, 'again': 187, 'neglect': 9662, 'jules': 7667, 'participant': 15953, 'justification': 7668, 'languages': 7671, 'software': 14737, 'lanza': 7672, 'denizens': 15331, 'laying': 7674, 'hideous': 3855, '1/10': 3734, 'macarthur': 7680, 'founded': 17233, 'imaginative': 2985, 'mannered': 7682, 'mentor': 7684, 'micheal': 7687, 'repressed': 6514, 'misunderstood': 7688, 'glimpses': 9094, 'murky': 7691, 'animators': 8916, 'forth': 2757, 'nonexistent': 7692, 'luxurious': 17624, 'unforgivable': 8858, 'oblivious': 7694, 'holt': 12110, 'olympia': 7695, 'passenger': 7703, 'passions': 7704, 'neck': 3869, 'deathstalker': 9491, 'patty': 7705, 'paula': 7706, 'pigs': 7708, 'encouraged': 8259, 'reflected': 8783, 'pirates': 7709, 'rainbow': 11523, 'pornography': 7711, 'copied': 6821, 'guinea': 5616, 'pound': 7713, 'erotically': 17146, 'proceed': 7714, 'stabs': 7224, 'prophet': 7716, 'paz': 7423, 'pros': 7717, 'grotesquely': 17320, 'northern': 5652, 'protest': 7719, 'pursue': 7720, 'insanely': 9599, 'quaint': 7721, 'buggy': 16789, 'regime': 7726, 'relaxed': 7728, 'confusing': 1460, 'relentlessly': 7729, 'fortier': 17230, 'reported': 7730, 'rko': 7735, 'rounded': 7736, 's**t': 7738, 'hyped': 6647, 'satellite': 7739, 'schumacher': 7741, 'etched': 14065, 'jay': 2670, 'sorry': 811, 'manos': 8343, 'scratching': 7743, 'sometime': 4872, 'scripting': 7744, 'self-centered': 7746, 'milland': 8724, 'talalay': 18317, 'senator': 7747, 'fräulein': 17250, 'stereo': 11635, 'clair': 9452, 'services': 7748, 'shield': 7750, 'shoulder': 7752, 'sketches': 7755, 'smallville': 7758, 'spontaneous': 7761, 'higgins': 13094, 'stink': 7764, 'stuffed': 7765, 'surroundings': 7770, 'blackmailed': 15120, 'good-natured': 9098, 'swiss': 7773, 'symbol': 8469, 'targeted': 7774, 'fiery': 8650, 'dressler': 8621, 'tits': 7777, 'tolerance': 7778, 'tolerate': 7779, 'traps': 7781, 'trauma': 7782, 'cared': 3161, 'tucker': 7784, 'turtle': 7785, 'uniforms': 7789, 'unlucky': 7790, 'kal': 15722, 'wales': 13653, 'plastered': 12336, 'violence': 609, 'warden': 7792, 'terrorism': 7776, 'widower': 7795, 'afterwords': 16581, 'wrestler': 7797, 'a&e': 11756, '#2': 7800, 'saddest': 8073, '1955': 7802, 'collaborations': 10519, 'affluent': 9878, 'abomination': 7804, 'alain': 7806, 'ambitions': 7809, 'jox': 9609, 'amok': 7810, 'anti-hero': 7811, 'data': 9019, 'armor': 7816, 'induce': 11360, 'mystical': 5646, 'art-house': 7817, 'poetry': 4962, 'suddenly': 1142, 'athletic': 7821, 'fricker': 9541, 'axe': 7822, 'azumi': 7823, 'ballroom': 7825, 'paranoia': 4850, 'mixes': 8007, 'bathing': 7826, 'beaver': 7827, 'believer': 7829, 'duff': 9510, 'beta': 7831, 'blink': 7833, 'steadily': 14758, 'article': 6568, 'butchered': 7839, 'zuniga': 14948, 'e': 962, 'fourth': 2468, 'camping': 7840, 'spandex': 13521, 'cannibals': 7841, 'casted': 7843, 'categories': 7844, 'melissa': 5386, 'centuries': 7848, 'chandler': 7850, 'pleads': 17891, 'intricate': 4833, 'safety': 4112, 'fascism': 9066, 'merk': 12240, 'chock': 7851, 'sorcery': 12484, 'cinematographic': 7852, 'las': 5630, 'prestigious': 10233, 'circa': 7853, 'day-lewis': 5752, 'climbing': 7856, 'colbert': 7859, 'collecting': 7860, 'activities': 5716, 'communism': 7862, 'hip': 3131, 'concentration': 7865, 'royal': 4558, 'levant': 9157, 'accomplished': 3736, 'confirmed': 7866, 'lingers': 15772, 'corky': 7869, 'creations': 7871, 'bravely': 11839, 'crow': 7873, 'futuristic': 4001, 'cushing': 7874, 'morty': 10751, 'darkman': 7875, 'denial': 7877, 'http': 6646, 'posts': 10227, 'disgruntled': 7884, 'enjoyably': 10023, 'dad': 1123, 'disregard': 7885, 'becky': 8938, 'doris': 7887, 'eggs': 7893, 'pasta': 17847, 'advertise': 16573, 'eh': 7894, 'temporal': 13574, '66': 12658, 'bathtub': 10466, 'immensely': 6098, 'backstage': 9906, 'enthralling': 7604, 'electronic': 7896, 'elmer': 7898, 'episodic': 7904, 'evolution': 7907, 'exhibit': 7908, 'villages': 16457, 'faint': 7912, 'faye': 7918, 'judo': 17519, 'identities': 7964, 'fairbanks': 7913, 'farrah': 7914, 'dared': 16993, 'favourites': 7917, 'logically': 10718, 'fleshed': 7923, 'sputnik': 13538, 'friendships': 7929, 'fulfill': 7931, 'funky': 7933, 'fuss': 7934, 'clashing': 16874, 'barbie': 11808, 'screenwriters': 7451, 'gallery': 7935, 'hostage': 9120, 'meyers': 8723, 'gently': 7940, 'maltin': 10153, 'giants': 7941, 'oddly': 3786, 'allegedly': 9883, 'risqué': 18051, 'homespun': 17393, 'godard': 7943, 'starship': 10330, 'glossy': 6449, 'grandpa': 7944, 'bullies': 9432, 'grating': 7945, 'loop': 10721, 'gripe': 7946, 'grossly': 7947, 'nigel': 15896, 'remembering': 7442, 'subsequently': 7482, 'haha': 7950, 'revolve': 10874, 'played': 269, 'distinctly': 7886, 'half-way': 7952, 'hand-held': 7953, 'hometown': 7961, 'horrified': 7962, 'inserted': 7967, 'faces': 1766, 'tobe': 9336, 'effectively': 3125, 'mercury': 10168, 'interior': 7968, 'reinforce': 18006, 'jameson': 7971, 'disappearing': 15347, 'adulthood': 9875, 'jersey': 7972, 'keitel': 7977, 'grasp': 5200, 'sacrifices': 8072, 'kindly': 7979, 'conceivably': 16918, 'knack': 7980, 'film-making': 2145, 'lansbury': 7982, 'lars': 7983, 'launched': 7984, 'cocaine': 8570, 'i´ve': 14287, 'cliff': 4494, 'harvey': 4246, 'leather': 7985, 'mask': 2267, 'trashed': 9815, 'lohan': 7988, 'unwillingly': 14876, 'lacks': 1465, 'lola': 7989, 'escapes': 2873, 'separated': 6731, 'longing': 7990, 'spiderman': 11624, 'operation': 5235, 'lubitsch': 7991, 'jan': 7129, 'thurman': 7235, 'frances': 9083, 'lung': 7993, 'noble': 3026, 'luxury': 7994, 'periods': 6308, 'madison': 7995, 'magazines': 7996, 'eighties': 5186, 'coppola': 7868, 'mcdowell': 8000, 'mia': 8002, 'untimely': 12588, 'munchie': 12264, 'midler': 8003, 'remy': 16089, 'surrender': 8832, 'fortunes': 9539, 'mining': 8005, 'confined': 9466, 'slumming': 16223, 'monroe': 8008, 'moonstruck': 8009, 'carlito': 4698, 'mansfield': 9637, 'feisty': 9069, 'direction': 451, 'morse': 8010, 'muslims': 8012, 'neatly': 8015, 'necessity': 8016, 'needing': 8017, 'operas': 8018, 'optimism': 8019, 'active': 6558, 'outset': 8023, 'pressed': 8041, 'saddens': 18074, 'flip': 9537, 'paintings': 8025, 'earliest': 6842, 'notoriety': 9204, 'fry': 11286, 'assumed': 4902, 'hailed': 9105, 'planets': 9689, 'participants': 8026, 'peggy': 8029, 'aptitude': 16637, 'pen': 9682, 'diplomat': 17043, 'approved': 10446, 'planted': 10222, 'penelope': 8030, 'peterson': 8031, 'pilots': 8033, 'flare': 9074, 'plotline': 8035, 'pole': 8036, 'politicians': 8037, 'peg': 12325, 'individual': 2120, 'poses': 8039, 'predecessors': 8040, 'stylishly': 18276, 'proudly': 8043, 'oj': 12292, 'throughout': 479, 'questioning': 8045, 'rampant': 8048, 'ratio': 8049, 'crashed': 9975, 'powered': 10229, 'creepiest': 15282, 'admittedly': 2933, 'realization': 8050, 'micawber': 17691, 'cows': 16955, 'recreate': 8051, 'chan-wook': 16842, 'recreation': 8052, 'but': 22, 'focusing': 4000, 'rehash': 8053, 'posted': 4338, 'rests': 8058, 'cyd': 16983, 'operations': 14483, 'retrospect': 8059, 'navy': 2577, 'revolting': 8060, 'artist': 1863, 'robbie': 8063, 'romanian': 8064, 'pageant': 17833, 'genesis': 17281, 'route': 8067, 'dour': 17084, 'tale': 774, 'pitch': 3493, 'rupert': 8071, 'science-fiction': 8078, 'serviceable': 12450, 'se': 8080, 'slowed': 16220, 'semblance': 8081, 'slam': 8090, 'sly': 8092, 'thumb': 8479, 'swarming': 13559, 'hint': 3090, 'small-town': 8093, 'commandments': 15239, 'norma': 9203, 'sophia': 8095, 'farm': 3322, 'phyllis': 8760, 'deadly': 2416, 'sophistication': 8096, 'dwelling': 11991, 'sorvino': 8097, 'steven': 1670, 'underdog': 8856, 'sonny': 6347, 'frenetic': 9087, 'spade': 8098, 'bishop': 13816, 'stalk': 8101, 'backbone': 16678, 'stardust': 8102, 'sucking': 8107, 'tensions': 8112, 'refined': 13412, 'tide': 8116, 'resurrection': 10871, 'toned': 8117, 'poets': 13357, 'pets': 8756, 'ours': 14492, 'toole': 8118, 'unhinged': 8129, 'rounds': 8422, 'over-acting': 9672, 'padded': 13319, 'variations': 8132, 'vaughn': 8133, 'awe': 4296, 'hundreds': 3057, 'verge': 8134, 'vertigo': 8135, 'visconti': 8137, 'trap': 3662, 'warfare': 8141, 'parodying': 10205, 'warrant': 8142, 'invitation': 11375, 'ax': 8525, 'watcher': 8144, 'whining': 8145, 'heroic': 4248, 'wounds': 8149, 'x-files': 8151, '2009': 8154, 'enemies': 4238, 'advances': 8158, 'turned': 640, 'afghanistan': 8159, 'tax': 5689, 'allied': 8161, 'allison': 8162, 'barbra': 7273, 'anita': 8164, 'raquel': 12384, 'archer': 8168, 'archive': 8169, 'hershey': 14212, 'respectively': 5406, 'assist': 8170, 'patricia': 5104, 'astonishingly': 8172, 'chicks': 4153, 'astronauts': 8173, 'assertion': 16655, 'without': 215, 'atwill': 8174, 'pause': 10211, 'inherit': 12140, 'debra': 7080, 'automatic': 8175, 'sans': 8797, 'put-upon': 14572, 'industries': 14258, 'transfered': 13600, 'corsaut': 12873, 'join': 2472, 'unnatural': 8131, 'barman': 8181, 'bean': 8182, 'maximum': 6479, 'submit': 8464, 'blessed': 8185, 'gardens': 8283, 'bliss': 8186, 'decidedly': 7587, 'boobs': 8190, 'censors': 8202, 'chalk': 8203, 'florence': 15492, 'cheaper': 8204, 'token': 7492, 'click': 8211, 'voyeuristic': 18483, 'geller': 15529, 'colourful': 8214, 'alarm': 8514, 'commentator': 8215, 'frighten': 17247, 'conflicted': 8220, 'wisecracking': 14925, 'constraints': 8222, 'toying': 18374, 'compensates': 16905, 'hallucinating': 15583, 'hallway': 14185, 'cortez': 8224, 'criticized': 8225, 'crossed': 8227, 'cutter': 8228, 'dale': 8229, 'daphne': 8230, 'touring': 10963, 'dench': 8235, 'dietrich': 8242, 'riots': 14633, 'direct-to-video': 8244, 'flashlight': 14108, 'disappearance': 8245, 'ps': 9706, 'divided': 8246, 'troop': 13612, 'gangster': 1752, 'dukakis': 8252, 'pieced': 15980, 'echoes': 9050, 'ecstasy': 8253, 'elsa': 8256, 'improved': 4624, 'enlightened': 8260, 'ex-girlfriend': 8265, 'reworking': 11557, 'expanded': 8267, 'geek': 9549, 'bursts': 16796, 'manhood': 14370, 'fairness': 8268, 'robs': 10879, 'feminine': 8269, 'degenerate': 11951, 'fez': 8270, 'babel': 16677, 'finishing': 8272, 'ming': 17699, 'flag': 8273, 'fleeing': 8274, 'varying': 9826, 'forgets': 8278, 'wink': 13673, 'weekly': 6185, 'catches': 3743, 'dick': 1635, 'full-length': 8280, 'duryea': 12957, 'fundamental': 8281, 'ill-conceived': 11349, 'gerald': 8284, 'leone': 12191, 'shelves': 9280, 'dallas': 6066, 'granger': 8288, 'hammerhead': 8293, 'lowbrow': 15787, 'heather': 8297, 'after': 108, 'controlled': 6594, 'hogg': 8299, 'self-respect': 13474, 'homicidal': 8300, 'grab': 4519, 'hum': 8302, 'mountain': 2547, 'hunted': 8303, 'artists': 2489, 'imperial': 8305, 'nymphs': 15908, 'coleman': 9960, 'knotts': 17546, 'lane': 2950, 'causes': 2750, 'in-depth': 8306, 'income': 8307, 'erendira': 17144, 'whines': 16486, 'insert': 8309, 'shamed': 18143, 'indifference': 12136, 'irritated': 8314, 'welling': 18498, 'islands': 8315, 'ivan': 8316, 'jabba': 8317, 'clothed': 11889, 'joking': 8321, 'regard': 3033, 'ricardo': 10268, 'made': 99, 'judgement': 8322, 'mystery': 776, 'kingsley': 8326, 'nostalgic': 4258, 'krueger': 8328, 'annoying': 600, 'lili': 8331, 'probing': 13376, 'longtime': 8333, 'thwart': 18349, 'stuffs': 18273, 'geico': 17279, 'arty': 6794, 'lorre': 8334, 'magically': 8337, 'lori': 11407, 'blackmail': 7051, 'healing': 9108, 'management': 8339, 'reckon': 10253, 'chopper': 11881, 'managing': 8340, 'mandatory': 8341, 'martians': 8345, 'gale': 15522, 'mc': 8348, 'sg-1': 9752, 'milo': 8353, 'hal': 4168, 'continuous': 7867, 'patton': 8752, 'missile': 8355, 'bigelow': 15113, 'hampered': 14187, 'begun': 6206, 'moderately': 8356, 'categorize': 16829, 'monks': 8360, 'monologues': 8361, 'suburbs': 9791, 'muriel': 8362, 'mute': 8363, 'chops': 7563, 'redundant': 6152, 'nash': 8364, 'parasite': 15952, 'nerdy': 8365, 'beloved': 2433, 'instructor': 9140, 'ninjas': 8366, 'nuns': 8368, 'contaminated': 12865, 'brooding': 5882, 'oberon': 8369, 'whale': 3567, 'observe': 8371, 'frustrating': 5065, 'canned': 8196, 'opponents': 8374, 'oprah': 8375, 'combatants': 15236, '3/4': 10425, 'programme': 6938, 'affecting': 8906, 'overbearing': 8378, 'co-production': 15224, 'hale': 8668, 'downward': 10008, 'paragraph': 8381, 'similarly': 5989, 'peaks': 8383, 'horrible': 475, 'perceive': 8384, 'pinjar': 8387, 'boyfriends': 11836, 'yells': 8499, 'sentiments': 8801, 'pizza': 8388, 'da': 5749, 'coverage': 9476, 'inappropriately': 17433, 'coincidence': 4601, 'planes': 8389, 'hamiltons': 17344, 'adolescence': 14999, 'plants': 8390, 'dragoon': 17086, 'plummer': 8391, 'polar': 8393, 'stepsisters': 16285, 'auntie': 11795, 'decides': 1091, 'commando': 9459, 'simplified': 18176, 'boot': 4299, 'presidential': 8396, 'true-to-life': 13614, 'pretends': 8397, 'prostitutes': 8399, 'caulfield': 12815, 'visceral': 8494, 'puzzling': 8402, 'raging': 8404, 'raid': 8405, 'vulnerability': 9836, 'rockin': 16125, 'clean': 2243, 'recovering': 8408, 'woody': 2163, 'hustler': 9125, 'remainder': 8411, 'pufnstuf': 17949, 'requisite': 8414, 'abroad': 9387, 'reruns': 8415, 'responds': 8416, 'discount': 12927, 'restless': 8417, 'ridley': 8419, 'rugged': 8423, 'penchant': 9683, 'sabretooth': 8424, 'sade': 8425, 'bunuel': 11853, 'sailor': 8426, 'embracing': 14051, 'dominant': 10558, 'borders': 6807, 'elderly': 3320, 'scooby-doo': 8429, 'miguel': 15837, 'seduced': 8430, 'avenger': 11079, 'demeanor': 8601, 'frames': 7099, 'dragons': 5457, 'sensational': 8431, 'newer': 5649, 'sheen': 8433, 'shelter': 8434, 'motivation': 4430, 'invisible': 2847, 'sheridan': 8435, 'shift': 8437, 'shout': 8439, 'simple-minded': 16198, 'shrink': 8440, 'reincarnated': 12398, 'bonkers': 11832, 'department': 2630, 'slows': 8444, 'rockstar': 18057, 'bits': 1694, 'solved': 8448, 'mermaid': 4844, 'beautiful': 293, 'sondra': 8449, 'stares': 8454, 'combines': 5450, 'starr': 8455, 'molester': 17713, 'stealth': 8457, 'taxi': 8837, 'stoltz': 8460, 'sub-plot': 8463, 'symbolic': 8470, 'sociopath': 9773, 'tackle': 8471, 'tease': 8474, 'lacklustre': 13185, 'sgt': 6732, 'telephone': 8475, 'rape': 1703, 'texture': 8477, 'tintin': 8480, 'clive': 8982, 'todays': 8481, 'sematary': 9747, 'shook': 9283, 'thwarted': 18350, 'distributor': 9502, 'transport': 8483, 'truthful': 8484, 'unclear': 8485, 'ferrari': 10599, 'bend': 5572, 'veronica': 8489, 'villainous': 8491, 'dourif': 9043, 'cylon': 11175, 'purchased': 3495, 'matthau': 2474, 'violently': 8492, 'via': 2677, 'voting': 8495, 'compare': 1483, 'w/': 8496, 'wheelchair': 8497, 'wits': 8498, 'zoe': 8502, '11th': 8503, '95': 8505, 'adultery': 8511, 'advised': 8512, 'affectionate': 13731, 'agony': 8513, 'amid': 8515, 'annoyance': 8517, 'mold': 9190, 'oil': 3068, 'antagonist': 8518, 'artistically': 8521, 'soulless': 10921, 'weather': 5303, 'ate': 8522, 'actors/actresses': 8901, 'b/c': 8526, 'ill-fated': 15635, 'fav': 14098, 'christy': 3835, 'battling': 8528, 'schrader': 16157, 'precisely': 6504, 'beard': 8529, 'beau': 8530, 'goat': 7358, 'bel': 8533, 'over-rated': 15938, 'daughters': 2690, 'benny': 8534, 'berenger': 8535, 'boots': 8541, 'mol': 8357, 'dangers': 9015, 'borrows': 8543, 'sabotage': 18071, 'beyonce': 16718, 'bravery': 8544, 'roxbury': 18063, 'andrews': 3155, 'overt': 9674, 'sykes': 10348, 'breakthrough': 8545, 'danning': 9016, 'brink': 8546, 'brisson': 8547, 'en': 7901, 'weapons': 2861, 'brooke': 8548, 'mortimer': 15863, 'exemplifies': 15446, 'burgess': 8550, 'peckinpah': 10213, 'nearest': 10183, 'capsule': 8553, 'early': 388, 'caution': 8557, 'centering': 15194, 'celine': 8558, 'cold': 1316, 'charges': 8559, 'chat': 8560, 'cheer': 8561, 'landon': 12184, 'chow': 8564, 'graffiti': 10074, 'christensen': 8565, 'category': 2222, 'claw': 8566, 'visual': 1104, 'clerk': 8567, 'cloth': 8568, 'jin': 17509, 'weston': 14911, 'cockney': 8571, 'ape-like': 16631, 'coke': 8573, 'conquer': 8577, 'continuously': 8580, 'crass': 8586, 'judith': 17518, 'creasy': 8587, 'bsg': 5576, 'thomas': 1782, 'cringed': 8588, 'crouching': 8589, 'desolate': 9026, 'archaeologist': 8922, 'keener': 13169, 'gasp': 7938, 'crushed': 8592, 'decency': 8596, 'unfaithful': 12583, 'amanda': 3902, 'motel': 9656, 'tick': 12546, 'thought-provoking': 4565, 'deck': 8597, 'standpoint': 9783, 'defines': 8598, 'scheming': 9272, 'delirious': 8599, 'orca': 10197, 'dose': 5344, 'preferred': 7433, 'demanded': 8600, 'dickinson': 8605, 'exuberant': 11258, 'differ': 8606, 'constable': 15262, 'displeasure': 8609, 'medical': 2988, 'deol': 9495, 'distinctive': 8610, 'inert': 13133, 'distraction': 8611, 'diver': 8613, 'gandolfini': 7936, 'dominick': 8617, 'dopey': 8618, 'prostitution': 9244, 'downfall': 8619, 'dwarf': 8623, 'flopped': 11275, 'ebay': 8624, 'skulls': 14718, 'drug': 1397, 'knew': 652, 'elephants': 8627, 'clashes': 16873, 'guess': 521, 'owned': 6692, 'trapped': 3149, 'choreography': 3745, 'eliminated': 8629, 'custom': 9982, 'repulsed': 16095, 'hazel': 10085, 'embarks': 8632, 'nightmares': 4847, 'endured': 8633, 'gunga': 6454, 'bigfoot': 7277, 'enhances': 8635, '17th': 12647, 'courtesy': 8584, 'selma': 7205, 'eskimo': 8640, 'prostitute': 4552, 'bald': 7824, 'ewan': 8641, 'exploitative': 8643, 'biko': 5027, 'exudes': 8646, 'forsythe': 7351, 'fabric': 8648, 'strangely': 2888, 'unforgettable': 2894, 'fleeting': 8654, 'fur': 8657, 'review': 628, 'gaining': 8658, 'glue': 8663, 'gruner': 8665, 'drying': 17091, 'adapted': 2865, 'haggard': 8667, 'harbor': 8669, 'bands': 3824, 'hawaii': 8671, 'carrie': 5330, 'hesitation': 8673, 'slovenia': 16219, 'mellisa': 15825, 'gardner': 9546, 'unfair': 6009, 'hilliard': 8674, 'hiring': 8676, 'holidays': 8677, 'horn': 8678, 'maher': 11415, 'della': 9023, 'humiliated': 8679, 'reservations': 16101, 'rerun': 14618, 'impulse': 8685, 'informs': 8687, 'additions': 9872, 'mcenroe': 17670, 'incarnation': 9593, 'italians': 8690, 'jackman': 8691, 'bosworth': 10480, 'jessie': 8693, 'rohm': 16127, 'katie': 8694, '43': 12657, 'kate': 1849, 'sincerity': 9762, 'baroque': 15092, 'usher': 13634, 'keys': 8695, 'diatribe': 17031, 'aweigh': 9905, 'lamas': 8698, 'stupidity': 2963, 'circumstances': 2224, 'lists': 8705, 'sissi': 18177, 'lo': 8706, 'ashes': 12715, 'lombard': 8707, 'lump': 8710, 'aspire': 15052, 'hawn': 7365, 'ma': 8712, 'by': 40, 'madly': 8714, 'manners': 8716, 'sublime': 5848, 'marquis': 8718, 'meetings': 8721, 'mindset': 8725, 'needlessly': 8730, 'neeson': 8731, 'scorpion': 7450, 'ninety': 8733, 'non-related': 15904, 'nintendo': 8734, 'ray': 1409, 'no-nonsense': 8735, 'stretches': 12506, 'obscurity': 8736, 'grimy': 13057, 'offspring': 8739, 'ounce': 8745, 'flea': 7624, 'outlaw': 8746, 'outrageously': 8747, 'berkowitz': 15111, 'overtones': 8748, 'parrot': 8751, 'penalty': 8753, 'bulb': 12789, 'peril': 8754, 'landau': 15748, 'placement': 9227, 'otto': 6691, 'philadelphia': 8757, 'swings': 16318, 'brutality': 5031, 'phrases': 8759, 'plagued': 8762, 'playful': 8764, 'organisation': 14487, 'lens': 8329, 'invite': 7660, 'pointing': 8766, 'poke': 8767, 'funnily': 14131, 'pouring': 8770, 'pre-code': 8772, 'varma': 10388, 'preparation': 8773, 'wherein': 8879, 'priests': 8774, 'quatermain': 8778, 'marks': 3641, 'raiders': 8779, 'recognised': 8781, 'remaking': 8784, 'canoe': 10496, 'resembled': 8786, 'coherence': 13906, 'classmates': 8209, 'resolved': 8787, 'ronny': 8789, 'runaway': 8792, 'sammi': 8795, 'modified': 14419, 'sang': 8796, 'bowels': 16760, 'searched': 8798, 'compact': 15243, 'empathy': 5462, 'shamelessly': 8804, 'turf': 14844, 'idiotic': 2916, 'sheedy': 8805, 'shoved': 8806, 'sibling': 8808, 'infused': 17448, 'inferno': 14263, 'trendy': 6761, 'slugs': 8812, 'smitten': 8814, 'somber': 8817, 'especially': 263, 'allow': 1826, 'spawned': 8819, 'bitterness': 15117, 'reinhold': 14604, 'unthinkable': 11706, 'spider': 8821, 'sterile': 8823, 'alright': 2655, 'stern': 8824, 'strands': 8825, 'stroke': 8828, 'doesnt': 10005, 'surrounds': 8833, 'sweat': 8835, 'adaptations': 4377, 'lower': 2401, 'auditioning': 9902, 'tenderness': 8839, 'therein': 8843, 'tito': 8845, 'togar': 8846, 'turd': 8853, 'breathtakingly': 16773, 'rags': 13394, 'unfairly': 8857, 'universally': 8860, 'scaring': 9742, 'unnamed': 8861, 'trudy': 16380, 'non-linear': 10190, 'unnerving': 8862, 'same-sex': 14660, 'masters': 3706, 'unravel': 8863, 'demon': 2662, 'significant': 2614, 'nutty': 6300, 'valid': 8867, 'intrusion': 17478, 'velvet': 9355, 'vets': 8869, 'looking': 280, 'rolls': 7193, 'detail': 1538, 'viggo': 8871, 'point-of-view': 17897, 'thereof': 7491, 'vincenzo': 8872, 'sync': 9796, 'waking': 8874, 'julia': 2448, '1947': 9851, 'hagar': 12087, 'walters': 8876, 'creepers': 15280, 'ingenious': 5479, 'surrealistic': 9792, 'wielding': 8881, 'henchman': 10088, 'willingly': 8882, 'tamblyn': 12527, 'enchanted': 6244, 'worries': 8886, 'gunfight': 9559, 'worrying': 8887, '1952': 8894, 'abbot': 8896, 'halt': 9565, 'abducted': 8897, 'panties': 9677, 'approximately': 10447, 'accompany': 8899, 'adept': 8902, 'monetary': 15853, 'admirably': 8903, 'awful': 345, 'all-star': 8909, 'alter': 8910, 'rehearsal': 11539, 'universal': 2517, 'capacity': 8552, 'anguish': 8914, 'combo': 8992, 'animations': 8915, 'bbc': 2684, 'annoy': 8917, 'annoyingly': 8918, 're-release': 14587, 'anonymous': 8919, 'scathing': 13464, 'ocean': 4647, 'license': 7986, 'apologize': 8921, 'devious': 7596, 'asset': 8926, 'magnificent': 1851, 'fathom': 9067, 'attendant': 8928, 'austrian': 8930, 'aviv': 8931, 'vanessa': 6011, 'sugar': 6751, 'balloon': 8933, 'romances': 7194, 'baltimore': 8934, 'batwoman': 8936, 's/early': 16143, 'benoit': 8940, 'witches': 4581, 'saves': 3143, 'billing': 8943, 'bills': 8944, 'grisby': 17318, 'naudet': 15880, 'blades': 8946, 'locale': 9627, 'bleeding': 8948, 'linear': 8332, 'blondell': 8950, 'divine': 7322, 'foreign': 1984, 'bonham-carter': 8952, 'insistent': 17464, 'gory': 2148, 'bradford': 8956, 'gopal': 10067, 'brit': 8957, 'assistant': 3309, 'execrable': 9059, 'burnt': 8960, 'bust': 8961, 'caesar': 8963, 'calvin': 8964, 'including': 634, 'carr': 8968, 'horde': 14223, 'atlantic': 6797, 'cassie': 8969, 'cavemen': 8971, 'cheung': 8975, 'unbalanced': 14854, 'army': 1272, 'chew': 8976, 'juice': 10123, 'chore': 8977, 'plump': 13354, 'ears': 4806, 'gutter': 10080, 'shedding': 18146, 'circuit': 8978, 'ideas': 958, 'closeups': 8983, 'clunky': 8985, 'colleague': 8989, '1000': 6774, 'communication': 8993, 'contemplate': 9000, 'opposition': 9212, 'hookers': 10665, 'conveying': 9001, 'coward': 9004, '-just': 16524, 'dalmatians': 9011, 'bloated': 8538, 'goldsmith': 9096, 'danced': 9013, 'darkest': 9018, 'strangeness': 11641, 'degrading': 9022, 'tripod': 12560, 'roman': 3383, 'democratic': 9024, 'percent': 9222, 'perkins': 9684, 'within': 779, 'digs': 9029, 'director/writer': 9030, 'discipline': 9035, 'soo': 9776, 'dominate': 9041, 'requests': 16096, 'hickock': 10660, 'drained': 9044, 'makings': 17644, 'preserve': 16014, 'janitor': 12156, 'drawback': 9045, 'macbeth': 10148, 'dreamed': 9047, 'forbid': 10048, 'romania': 7195, 'dungeon': 9048, 'citizen': 3164, 'duties': 9049, 'epidemic': 9054, 'evans': 9057, 'opted': 14485, 'exclusively': 9058, 'feared': 9068, 'fewer': 9070, 'flee': 9077, 'sparring': 16249, 'fodder': 9081, 'eat': 2030, 'gaming': 9088, 'perpetual': 10808, 'jeremy': 3092, 'guardian': 9101, 'bassinger': 13796, 'melancholy': 7683, 'hines': 7369, 'heavenly': 9110, 'heroism': 9113, 'high-school': 9115, 'upscale': 14879, 'high-tech': 9116, 'actress': 524, 'his/her': 9117, 'trelkovsky': 9818, 'modest': 5810, 'hungarian': 9123, 'present': 1050, 'illiterate': 9128, 'matter': 583, 'impending': 9130, 'infidelity': 9134, 'thai': 9329, 'ingrid': 9135, 'belonged': 13801, 'instincts': 9139, 'interpreted': 9143, 'wasting': 2971, 'izzard': 9145, 'jackass': 9146, 'hagan': 15576, 'jarring': 9148, 'josie': 9149, 'kaufman': 9150, 'counterparts': 9002, 'keeper': 9151, 'any': 110, 'largest': 9154, 'jeffries': 15709, 'scriptwriting': 13467, 'legion': 9156, 'lila': 9161, 'immersed': 9592, 'locate': 9162, 'loudly': 9166, 'staunch': 16282, 'lupino': 9168, 'magnum': 9170, 'ranked': 10860, 'maiden': 9171, 'you': 28, 'pg': 5964, 'manic': 9173, 'narrated': 6298, 'mantegna': 9174, 'mary-kate': 9178, 'massey': 9179, 'rai': 16055, 'taking': 680, 'owning': 7699, 'matching': 9181, 'machinery': 14364, 'missions': 9189, 'ernesto': 15430, 'roar': 12419, 'mona': 9191, 'townsfolk': 10965, 'simplicity': 4986, 'ott': 9214, 'sickness': 9285, 'dwell': 14039, 'montages': 9192, 'muscle': 9195, 'mythical': 9197, 'staple': 13542, 'mythology': 9198, 'needle': 9199, 'nerds': 9200, 'offense': 9208, 'olympic': 9210, 'oral': 9213, 'paresh': 9217, 'coastal': 13904, 'patriotism': 9219, 'payoff': 9220, 'wouldnt': 14931, 'twist': 1010, 'frost': 8655, 'thrust': 7234, 'perceived': 9221, 'williams': 1498, 'disgrace': 5602, 'perverse': 9225, 'rumored': 14649, 'derives': 13995, 'ponder': 9229, 'tragic': 1604, 'mayhem': 5385, 'posting': 9231, 'premises': 9236, 'self-destructive': 13472, 'presley': 9237, 'chairman': 13870, 'turgid': 10377, 'dhoom': 9498, 'pretensions': 9238, 'bright': 1764, 'principals': 9240, 'participated': 10206, 'bandit': 11086, 'gate': 5923, 'proportions': 9243, 'contributors': 16937, 'traveled': 9816, 'confuse': 7065, 'realises': 9249, 'convent': 9472, 'seemingly': 1565, 'recalls': 9250, 'untouched': 8864, 'reeks': 9253, 'republic': 9257, 'pretentiousness': 14562, 'rizzo': 9262, 'wake': 3970, 'robocop': 9263, 'longer': 1185, 'pink': 5248, 'rochon': 9264, 'unsavory': 16429, 'sailors': 9266, 'scam': 9269, 'dizzy': 14018, 'scantily': 9271, 'scriptwriters': 9273, 'seal': 9274, 'parsifal': 13326, 'self-absorbed': 9275, 'buffoon': 13846, 'comprehension': 10524, 'generate': 7939, 'shambles': 9277, 'avalanche': 9904, 'shifting': 9282, 'gifts': 13040, 'idiots': 4938, 'signals': 9286, 'ran': 2024, 'assortment': 9900, 'render': 9256, 'jock': 8320, 'silverstone': 9287, 'skater': 9288, 'skipped': 9289, 'norton': 6486, 'societies': 9296, 'spectrum': 9300, 'eyebrow': 14082, 'oscar': 761, 'spinning': 9301, 'spitting': 9302, 'hubby': 10100, 'dj': 8247, 'do': 91, 'stable': 9304, 'stahl': 9305, 'standup': 9306, 'stepped': 9307, 'soaps': 9295, 'stud': 9314, 'subtitled': 9315, 'sunset': 9317, 'supportive': 9318, 'maniacal': 10735, 'resident': 4659, 'tel': 9327, 'testing': 9328, 'describe': 1442, 'thunder': 9332, 'bugs': 3114, 'tightly': 9333, 'timed': 9335, 'lommel': 13202, 'tomato': 9338, 'heterosexual': 13093, 'among': 864, 'collector': 8991, 'tools': 9339, 'townsend': 9341, 'transferred': 9342, 'transparent': 9343, 'unconscious': 9346, 'fagin': 12024, 'unnecessarily': 9349, 'lungren': 17618, 'sight': 1879, 'untrue': 9352, 'mat': 10742, 'vera': 9356, 'overtly': 12305, 'weirdness': 9359, 'peripheral': 14519, 'whoa': 9361, 'noonan': 13294, 'wicker': 9362, 'wipe': 9363, 'woven': 9366, 'ya': 3733, 'wray': 9368, 'staff': 4350, 'wu': 9369, 'cleansing': 12841, 'just': 48, 'visitor': 8138, 'zelah': 9371, 'wwf': 12633, 'atmospheric': 3455, 'coburn': 6053, '$': 9372, '1920': 9373, 'theorists': 18339, '1922': 9374, 'reasoning': 9720, '1942': 9376, 'hands': 1013, 'ida': 10103, 'snarling': 16230, 'jonny': 7666, '1964': 9378, 'alcoholic': 4379, '26': 9380, 'translate': 7240, '80%': 9384, 'accustomed': 9388, 'adapting': 9390, 'discontent': 17050, 'conventions': 5174, 'aditya': 9391, 'selecting': 18119, 'aircraft': 9392, 'equals': 8638, 'lil': 9160, 'lifeless': 9159, 'alpha': 9394, 'unearthed': 16411, 'radical': 6943, 'anchor': 9395, 'argento': 9399, 'artful': 9400, 'wwi': 9370, 'articulate': 9401, 'hallucinations': 11320, 'avoids': 9404, 'baron': 9410, 'bava': 9412, 'bearable': 9413, 'sets': 713, 'arrangements': 8924, 'moran': 9193, 'begs': 9414, 'beasts': 13799, 'conquers': 11914, 'belle': 9415, 'buddhist': 15158, 'bing': 9418, 'georges': 5927, 'biopic': 9419, 'mendes': 10164, 'bittersweet': 9420, 'blamed': 9421, 'merchandise': 15829, 'myths': 12267, 'brett': 9426, 'triumphs': 14838, 'teachers': 5296, 'bronx': 9429, 'front': 1033, 'burlesque': 9433, 'rub': 9740, 'buttons': 9435, 'evangelical': 17160, 'recognizing': 16073, 'copyright': 11161, 'kyle': 3862, 'cab': 9436, 'shrek': 8086, 'castro': 9441, 'taylor': 1928, 'cent': 9444, 'cinemax': 9449, 'udo': 18404, 'cobra': 9455, 'travelogue': 18387, 'coffy': 9456, 'collar': 9457, 'riemann': 18047, 'dead': 383, 'colony': 9458, 'complains': 9461, 'condemned': 9463, 'dissertation': 17058, 'connie': 9467, 'cynics': 15301, 'connolly': 9468, 'demunn': 15328, 'copious': 9473, 'implemented': 17425, 'costello': 9475, 'cracker': 9477, 'crenna': 9478, 'pepper': 7425, 'cries': 9479, 'justice': 1219, 'criteria': 9480, 'referred': 6510, 'philosophy': 5395, 'crocodile': 9481, 'crook': 9482, 'sweaty': 12523, 'crop': 9483, 'prematurely': 16013, 'ted': 2028, 'dangerously': 9487, 'darkwolf': 9488, 'sludge': 18197, 'erika': 8263, 'debacle': 9492, 'deluise': 9493, 'pension': 15964, 'diaz': 9499, 'doe': 9504, 'enlightening': 15426, 'dolemite': 9505, 'mornings': 17721, 'fanfare': 17181, 'eddy': 9512, 'dogg': 15368, 'electronics': 9515, 'suicides': 14779, 'eliminate': 9516, 'agents': 4476, 'drawn': 1484, 'elliot': 9517, 'vcr': 7503, 'sickening': 6971, 'encourages': 9519, 'englishman': 9520, 'destroyed': 2837, 'engrossed': 9521, 'suits': 4126, 'entertainer': 9523, 'entrance': 9524, 'sit-com': 12468, 'ernst': 9525, 'young': 183, 'excesses': 9527, 'geez': 10619, 'exclusive': 9528, 'birney': 16728, 'sylvester': 11661, 'displays': 3755, 'expertise': 9529, 'exposes': 9530, 'depend': 10549, '1978': 4893, 'fahey': 9531, 'fate': 2228, 'fanning': 9532, 'fast-forward': 9533, 'fence': 9534, 'goth': 10068, 'folklore': 9538, 'funding': 9543, 'fave': 12996, 'viewer': 486, 'sub-plots': 8830, 'garcia': 9545, 'blinding': 16736, 'gathered': 9547, 'tried': 758, 'quirks': 10243, 'gee': 9548, 'gellar': 9550, 'goodnight': 9552, 'condemn': 11909, 'goons': 9553, 'gem': 1342, 'prowess': 9705, 'governments': 9554, 'insecurities': 15673, 'duvall': 6430, 'guzman': 9560, 'yards': 14936, 'idyllic': 12121, 'gwynne': 9561, 'otis': 13309, 'syrup': 10945, 'embrace': 7899, 'movies': 98, 'haim': 9563, 'hannah': 9566, 'legends': 5082, 'attention': 715, 'harmony': 9568, 'selves': 14687, 'santa': 1757, 'heart-warming': 9570, 'lamb': 14322, 'ricky': 8788, 'heartily': 9572, 'monday': 8359, 'hellman': 9575, 'certainly': 461, 'heroin': 9577, 'deplorable': 12915, 'goldie': 7638, 'hockey': 9580, 'snappy': 9770, 'emotionally': 2226, 'homeward': 9581, 'shouted': 13491, 'hunger': 9585, 'sealed': 11590, 'easily': 765, 'hunk': 9586, 'huppert': 9587, 'skill': 2429, 'increased': 9595, 'interminable': 9600, 'intertwined': 9602, 'fare': 2303, 'irrational': 9605, 'irreverent': 9606, 'competently': 13917, 'somethings': 9775, 'jj': 9608, 'ineptness': 17442, '79': 12661, 'dynamics': 7331, 'joyce': 9610, 'kalifornia': 9613, 'ps2': 17947, 'marley': 15806, 'kinky': 9615, 'kornbluth': 9616, 'im': 4085, 'lambert': 9618, 'declares': 11189, 'fever': 3697, 'late-night': 9619, 'lent': 9621, 'o-lan': 15909, 'count': 1548, 'listing': 9624, 'afterthought': 13734, 'coulier': 12874, 'locales': 9628, 'locker': 9629, 'loony': 9631, 'satiric': 10888, 'manor': 9636, 'www': 11739, 'charms': 5738, 'marvelously': 9638, 'singapore': 10905, 'mcintyre': 9640, 'class': 734, 'conscience': 5173, 'miners': 9645, 'mainly': 1305, 'minions': 9646, 'toto': 12552, 'mischievous': 9647, 'oakley': 17781, 'monstrous': 9651, '14th': 12646, 'morita': 9653, 'omnipresent': 17802, 'mormons': 9654, 'nasa': 9661, 'ernie': 6246, 'non-actors': 9664, 'garfield': 11293, 'obligation': 9666, 'maturity': 11423, 'influences': 7379, 'occupied': 9668, 'apple': 7814, 'oneself': 9669, '747': 13710, 'touch': 1206, 'outs': 9671, 'overseas': 9673, 'palsy': 9676, 'parks': 9679, 'usa': 2535, 'atrocity': 7534, 'gunfire': 10079, 'pesci': 9686, 'pictured': 9687, 'plug': 9691, 'directors': 881, 'pond': 9692, 'sends': 3603, 'portions': 9693, 'boomers': 13825, 'postman': 9694, 'praises': 9697, 'resorted': 18027, 'grainy': 6870, 'praying': 9698, 'step': 1908, 'methods': 5500, 'pressures': 9699, 'ticked': 11678, 'pronounced': 9703, 'protective': 9704, 'pollution': 12346, 'punchline': 9707, 'pursuing': 9709, 'replaced': 3034, 'rabid': 9711, '1%': 14955, 'ramtha': 9712, 'mckidd': 17671, 'protecting': 7718, 'shelly': 9755, 'anupam': 16629, 'tess': 5999, 'rancid': 9713, 'randall': 9714, 'wanders': 6183, 'maurice': 9639, 'raoul': 9716, 'raul': 9717, 'raven': 9718, 'redford': 9723, 'request': 9729, 'resonance': 9731, 'expectation': 4926, 'rocker': 9736, 'rory': 9739, '$50': 11744, 'antonioni': 5566, 'schlocky': 9744, 'semi': 9748, 'set-pieces': 9750, 'covers': 3413, 'sfx': 9751, 'tribulation': 13607, 'sheet': 9753, 'fact': 203, 'showtime': 9758, 'stepfather': 11634, 'signal': 9761, 'singular': 9763, 'skimpy': 9764, 'skywalker': 9765, 'slang': 9766, 'snob': 9772, 'trail': 5132, 'spawn': 9778, 'acquaintances': 9867, 'ragged': 12375, 'violent': 1144, 'tatum': 9799, 'spencer': 9780, 'sprinkled': 9781, 'recently': 880, 'staging': 9782, 'sterling': 8459, 'stoned': 9786, 'appeals': 5145, 'toni': 5692, 'sub-genre': 9788, 'tested': 9801, 'haunts': 12097, 'theatres': 9802, 'tow': 9812, 'taped': 6755, 'trivial': 9820, 'tsui': 9821, 'disapproving': 17047, 'unavailable': 9822, 'uncredited': 9823, 'number': 637, 'verve': 9830, 'fx': 3016, 'virtue': 9833, 'vivian': 9834, 'craft': 4394, 'geisha': 9090, 'hairy': 10082, 'weaver': 9838, 'offering': 3595, 'wimpy': 9842, 'winger': 9843, 'woronov': 9845, 'entertains': 8636, 'writings': 9846, 'holm': 9119, 'yakuza': 9847, 'lest': 11400, '$2': 9850, 'merle': 14403, '1956': 9852, 'lightness': 13197, 'minds': 2703, 'iris': 9604, '65': 9858, 'busty': 15163, 'stone': 1371, '8th': 9860, 'occasional': 2704, 'storm': 3037, ']': 9861, 'academic': 9865, 'orchestral': 13306, 'meat': 4737, 'acquainted': 9868, 'addressing': 9874, 'dilemma': 6421, 'afterlife': 9880, 'alcoholism': 9881, 'classy': 6224, 'ali': 9882, 'almighty': 9886, 'dylan': 5763, 'altar': 9887, 'amazes': 9888, 'amber': 9889, 'ventures': 16450, 'cultural': 2722, 'born': 1516, 'ana': 9891, 'struggle': 1575, 'anatomy': 9892, 'andrea': 9895, 'arena': 9899, 'aura': 9903, 'barnes': 9907, 'attempt': 581, 'barton': 9908, 'bass': 9909, 'forum': 11279, 'bells': 9911, 'belonging': 9912, 'sentenced': 9749, 'bets': 9915, 'feeding': 6624, 'bikers': 9916, 'blondes': 9919, 'bloodshed': 9920, 'perils': 12326, 'boats': 9923, 'bomber': 9925, 'side-splitting': 18167, 'camilla': 15172, 'firemen': 10602, 'rice': 7190, 'booth': 9928, 'inspiring': 3585, 'devils': 8604, 'borzage': 9929, 'bubba': 9935, 'sy': 18304, 'cancel': 9941, 'candles': 9943, 'carlyle': 9944, 'crowds': 8591, 'cartwright': 9945, 'purist': 17955, 'dna': 11978, 'vocabulary': 10997, 'charity': 9950, 'cheered': 9952, 'clinton': 9955, 'gripes': 17317, 'lurks': 15791, 'clutter': 9957, 'alimony': 15017, 'commentators': 9963, 'robertson': 6326, 'compliments': 9966, 'compulsive': 9967, 'congratulations': 9968, 'montana': 4181, 'connects': 9969, 'coop': 9970, 'jolt': 17514, 'cowboys': 9973, 'preferring': 17915, 'macchesney': 17627, 'rhapsody': 16110, 'd-': 9983, 'creepshow': 13956, 'danielle': 9984, 'collapses': 11148, 'explicit': 3848, 'demographic': 9987, 'transcend': 16366, 'originated': 14489, 'departed': 9990, 'chills': 5581, 'claustrophobic': 5741, 'determine': 9992, 'settles': 12452, 'diagnosis': 9995, 'dibiase': 9996, 'discarded': 9998, 'grungy': 17327, 'karin': 14302, 'distinction': 10001, 'facts': 2288, 'ditto': 10003, 'handles': 6874, 'division': 10004, 'highlighted': 9578, 'draining': 10009, 'neither': 1085, 'dumps': 10013, 'economy': 10015, 'intentions': 2846, 'elegance': 10017, 'persecuted': 11488, 'plague': 2770, 'emmanuelle': 10019, 'formal': 10611, 'apt': 7531, 'emphasize': 10020, 'ridiculously': 3438, 'ethics': 10026, 'marilyn': 5496, 'evokes': 10027, 'glow': 8286, 'animation': 730, 'exceedingly': 10030, 'fairytale': 10034, 'randomly': 4340, 'farcical': 10038, 'justifiably': 15720, 'farting': 10039, 'backwoods': 6572, 'fawcett': 10040, 'awaits': 13779, 'flavia': 10043, 'freudian': 11284, 'notwithstanding': 9205, 'fleming': 10044, 'foe': 10047, 'forming': 10049, 'deepest': 7589, 'fraud': 10050, 'freaked': 10051, 'befuddled': 16702, 'susan': 2385, 'fruit': 6444, 'functions': 10054, 'countless': 3837, 'gadgets': 10055, 'periodically': 13335, 'sequels': 2479, 'galore': 10056, 'julie': 2763, 'gameplay': 10057, 'gerry': 10060, 'homicide': 5932, 'gestures': 10061, 'duval': 10571, 'gi': 10062, 'gladly': 10063, 'glee': 10065, 'goodman': 10066, 'bowery': 11835, 'govinda': 10070, 'outbreak': 9670, 'classic': 340, 'graceful': 10071, 'gruff': 10076, 'consisting': 8999, 'guerrilla': 10077, 'guided': 10078, 'martin': 1505, 'habits': 10081, 'hanged': 10083, 'foley': 14115, 'hawk': 10084, 'easter': 15398, '3/10': 3820, 'mira': 8006, 'heavyweight': 10086, 'stalks': 14757, 'sooooo': 12483, 'goldberg': 3055, 'heritage': 10090, 'miklos': 10745, 'dental': 9989, 'freshman': 8279, 'hillbilly': 10094, 'rodriguez': 5836, 'centered': 6811, 'horizon': 10097, 'frat': 9084, 'labour': 10134, 'hostess': 10098, 'karma': 17526, 'somewhere': 1220, 'houston': 10099, 'cholera': 16860, 'retarded': 2673, 'icy': 10102, 'incompetence': 10108, 'groundbreaking': 7362, 'interacting': 10110, 'fiddle': 15479, 'intolerance': 10111, 'glimpsed': 15536, '68': 13709, 'investigates': 10113, 'shin-ae': 12462, 'considerable': 4795, 'jolly': 10121, 'isolation': 10116, 'jovi': 10122, 'keller': 10126, 'nevada': 9202, 'knightly': 10130, 'knives': 10131, 'lange': 10136, 'laputa': 10138, 'us': 198, 'leagues': 10139, 'leopold': 10140, 'elmore': 17121, 'listless': 10142, 'delivery': 2691, 'decisions': 4230, 'convince': 3050, 'alternative': 6032, 'losses': 10145, 'lynn': 10147, 'majors': 10151, 'factors': 6855, 'marginally': 10154, 'savior': 12437, 'versus': 4773, 'awesome': 1075, 'marylee': 10158, 'introductory': 14279, 'mcgavin': 10160, 'memoirs': 10163, 'serpent': 13479, 'antidote': 8920, 'mercilessly': 10167, 'miracles': 10172, 'endowed': 17133, 'shattered': 12458, 'muddy': 10177, 'avidly': 15068, 'dropped': 4924, 'gackt': 5774, 'contribution': 7307, 'routines': 8068, 'neighbours': 10185, 'mon': 6680, 'beth': 8942, 'nest': 10186, 'newcomers': 10187, 'carne': 16822, 'expert': 2666, 'niche': 10188, 'napoleon': 8013, 'talentless': 9797, 'noon': 10191, 'noticing': 10192, 'sister': 768, 'noting': 10193, 'yay': 14938, 'sandy': 9268, 'numbing': 10194, 'outlandish': 10199, 'apparitions': 13760, 'overuse': 10200, 'bonding': 8951, 'panned': 10203, 'persuade': 10217, 'connery': 3749, 'pickpocket': 10219, 'faith': 1643, 'vehicle': 2238, 'pinnacle': 10221, 'posh': 10225, 'unfolding': 7788, 'predicted': 10230, 'shoving': 13492, 'prefers': 10231, 'puerile': 10240, 'pullman': 10241, 'qualified': 10242, 'knightley': 6276, 'rack': 10244, 'adoration': 16570, 'kung': 2377, 'masturbation': 9180, 'radar': 10245, 'rang': 10247, 'thinking': 522, 'raving': 10251, 'chose': 2193, 'recap': 10252, 'recreated': 10254, 'reinforced': 10256, 'pay': 1014, 'denis': 6828, 'relied': 10257, 'twilight': 4036, 'rents': 10259, 'reinforces': 18007, 'sergeants': 11596, 'alternately': 7808, 'riveted': 10269, 'titular': 6757, 'roach': 10270}\n"
          ]
        }
      ]
    },
    {
      "cell_type": "code",
      "source": [
        "print(len(vocab))\n",
        "print(pretrained_embedding.shape)"
      ],
      "metadata": {
        "colab": {
          "base_uri": "https://localhost:8080/"
        },
        "id": "qf28ounFFRlu",
        "outputId": "ca435147-ed36-4d37-ce08-18ef6a5328d9"
      },
      "id": "qf28ounFFRlu",
      "execution_count": 66,
      "outputs": [
        {
          "output_type": "stream",
          "name": "stdout",
          "text": [
            "18550\n",
            "torch.Size([18550, 300])\n"
          ]
        }
      ]
    },
    {
      "cell_type": "code",
      "execution_count": 67,
      "id": "7489711f",
      "metadata": {
        "id": "7489711f"
      },
      "outputs": [],
      "source": [
        "model.embedding.weight.data = pretrained_embedding"
      ]
    },
    {
      "cell_type": "code",
      "execution_count": 68,
      "id": "e2d0b14e",
      "metadata": {
        "id": "e2d0b14e"
      },
      "outputs": [],
      "source": [
        "lr = 5e-4\n",
        "\n",
        "optimizer = optim.Adam(model.parameters(), lr = lr)"
      ]
    },
    {
      "cell_type": "code",
      "execution_count": 69,
      "id": "d798a6bd",
      "metadata": {
        "id": "d798a6bd"
      },
      "outputs": [],
      "source": [
        "criterion = nn.CrossEntropyLoss()"
      ]
    },
    {
      "cell_type": "code",
      "execution_count": 70,
      "id": "4a780705",
      "metadata": {
        "colab": {
          "base_uri": "https://localhost:8080/"
        },
        "id": "4a780705",
        "outputId": "3d4542cc-8bd5-446c-f592-4d5450d83ae3"
      },
      "outputs": [
        {
          "output_type": "execute_result",
          "data": {
            "text/plain": [
              "device(type='cuda')"
            ]
          },
          "metadata": {},
          "execution_count": 70
        }
      ],
      "source": [
        "device = torch.device(\"cuda\" if torch.cuda.is_available() else \"cpu\")\n",
        "\n",
        "device"
      ]
    },
    {
      "cell_type": "code",
      "execution_count": 71,
      "id": "5c8302f0",
      "metadata": {
        "id": "5c8302f0"
      },
      "outputs": [],
      "source": [
        "model = model.to(device)\n",
        "criterion = criterion.to(device)"
      ]
    },
    {
      "cell_type": "code",
      "execution_count": 72,
      "id": "8a1e9b07",
      "metadata": {
        "id": "8a1e9b07"
      },
      "outputs": [],
      "source": [
        "def train(dataloader, model, criterion, optimizer, device):\n",
        "    model.train()\n",
        "    epoch_losses = []\n",
        "    epoch_accs = []\n",
        "    for batch in tqdm.tqdm(dataloader, desc=\"training...\"):\n",
        "        ids = batch[\"ids\"].to(device)\n",
        "        length = batch[\"length\"]\n",
        "        label = batch[\"label\"].to(device)\n",
        "        prediction = model(ids, length)\n",
        "        loss = criterion(prediction, label)\n",
        "        accuracy = get_accuracy(prediction, label)\n",
        "        optimizer.zero_grad()\n",
        "        loss.backward()\n",
        "        optimizer.step()\n",
        "        epoch_losses.append(loss.item())\n",
        "        epoch_accs.append(accuracy.item())\n",
        "    return np.mean(epoch_losses), np.mean(epoch_accs)"
      ]
    },
    {
      "cell_type": "code",
      "execution_count": 73,
      "id": "c7988786",
      "metadata": {
        "id": "c7988786"
      },
      "outputs": [],
      "source": [
        "def evaluate(dataloader, model, criterion, device):\n",
        "    model.eval()\n",
        "    epoch_losses = []\n",
        "    epoch_accs = []\n",
        "    with torch.no_grad():\n",
        "        for batch in tqdm.tqdm(dataloader, desc=\"evaluating...\"):\n",
        "            ids = batch[\"ids\"].to(device)\n",
        "            length = batch[\"length\"]\n",
        "            label = batch[\"label\"].to(device)\n",
        "            prediction = model(ids, length)\n",
        "            loss = criterion(prediction, label)\n",
        "            accuracy = get_accuracy(prediction, label)\n",
        "            epoch_losses.append(loss.item())\n",
        "            epoch_accs.append(accuracy.item())\n",
        "    return np.mean(epoch_losses), np.mean(epoch_accs)"
      ]
    },
    {
      "cell_type": "code",
      "execution_count": 74,
      "id": "d66535bd",
      "metadata": {
        "id": "d66535bd"
      },
      "outputs": [],
      "source": [
        "def get_accuracy(prediction, label):\n",
        "    batch_size, _ = prediction.shape\n",
        "    predicted_classes = prediction.argmax(dim=-1)\n",
        "    correct_predictions = predicted_classes.eq(label).sum()\n",
        "    accuracy = correct_predictions / batch_size\n",
        "    return accuracy"
      ]
    },
    {
      "cell_type": "code",
      "execution_count": 75,
      "id": "24c05b57",
      "metadata": {
        "colab": {
          "base_uri": "https://localhost:8080/"
        },
        "id": "24c05b57",
        "outputId": "c76d40f9-c875-418c-b82a-9ad099b312d8"
      },
      "outputs": [
        {
          "output_type": "stream",
          "name": "stderr",
          "text": [
            "training...: 100%|██████████| 28/28 [00:28<00:00,  1.01s/it]\n",
            "evaluating...: 100%|██████████| 10/10 [00:03<00:00,  3.25it/s]\n"
          ]
        },
        {
          "output_type": "stream",
          "name": "stdout",
          "text": [
            "epoch: 0\n",
            "train_loss: 0.648, train_acc: 0.606\n",
            "valid_loss: 0.563, valid_acc: 0.707\n"
          ]
        },
        {
          "output_type": "stream",
          "name": "stderr",
          "text": [
            "training...: 100%|██████████| 28/28 [00:29<00:00,  1.05s/it]\n",
            "evaluating...: 100%|██████████| 10/10 [00:02<00:00,  3.34it/s]\n"
          ]
        },
        {
          "output_type": "stream",
          "name": "stdout",
          "text": [
            "epoch: 1\n",
            "train_loss: 0.553, train_acc: 0.714\n",
            "valid_loss: 0.522, valid_acc: 0.748\n"
          ]
        },
        {
          "output_type": "stream",
          "name": "stderr",
          "text": [
            "training...: 100%|██████████| 28/28 [00:27<00:00,  1.03it/s]\n",
            "evaluating...: 100%|██████████| 10/10 [00:02<00:00,  3.52it/s]\n"
          ]
        },
        {
          "output_type": "stream",
          "name": "stdout",
          "text": [
            "epoch: 2\n",
            "train_loss: 0.440, train_acc: 0.800\n",
            "valid_loss: 0.468, valid_acc: 0.810\n"
          ]
        },
        {
          "output_type": "stream",
          "name": "stderr",
          "text": [
            "training...: 100%|██████████| 28/28 [00:27<00:00,  1.01it/s]\n",
            "evaluating...: 100%|██████████| 10/10 [00:03<00:00,  3.32it/s]\n"
          ]
        },
        {
          "output_type": "stream",
          "name": "stdout",
          "text": [
            "epoch: 3\n",
            "train_loss: 0.373, train_acc: 0.836\n",
            "valid_loss: 0.451, valid_acc: 0.827\n"
          ]
        },
        {
          "output_type": "stream",
          "name": "stderr",
          "text": [
            "training...: 100%|██████████| 28/28 [00:27<00:00,  1.00it/s]\n",
            "evaluating...: 100%|██████████| 10/10 [00:02<00:00,  3.47it/s]\n"
          ]
        },
        {
          "output_type": "stream",
          "name": "stdout",
          "text": [
            "epoch: 4\n",
            "train_loss: 0.343, train_acc: 0.854\n",
            "valid_loss: 0.471, valid_acc: 0.825\n"
          ]
        },
        {
          "output_type": "stream",
          "name": "stderr",
          "text": [
            "training...: 100%|██████████| 28/28 [00:27<00:00,  1.01it/s]\n",
            "evaluating...: 100%|██████████| 10/10 [00:02<00:00,  3.45it/s]\n"
          ]
        },
        {
          "output_type": "stream",
          "name": "stdout",
          "text": [
            "epoch: 5\n",
            "train_loss: 0.327, train_acc: 0.862\n",
            "valid_loss: 0.362, valid_acc: 0.843\n"
          ]
        },
        {
          "output_type": "stream",
          "name": "stderr",
          "text": [
            "training...: 100%|██████████| 28/28 [00:28<00:00,  1.00s/it]\n",
            "evaluating...: 100%|██████████| 10/10 [00:02<00:00,  3.43it/s]\n"
          ]
        },
        {
          "output_type": "stream",
          "name": "stdout",
          "text": [
            "epoch: 6\n",
            "train_loss: 0.295, train_acc: 0.879\n",
            "valid_loss: 0.473, valid_acc: 0.847\n"
          ]
        },
        {
          "output_type": "stream",
          "name": "stderr",
          "text": [
            "training...: 100%|██████████| 28/28 [00:28<00:00,  1.01s/it]\n",
            "evaluating...: 100%|██████████| 10/10 [00:02<00:00,  3.46it/s]\n"
          ]
        },
        {
          "output_type": "stream",
          "name": "stdout",
          "text": [
            "epoch: 7\n",
            "train_loss: 0.258, train_acc: 0.896\n",
            "valid_loss: 0.390, valid_acc: 0.861\n"
          ]
        },
        {
          "output_type": "stream",
          "name": "stderr",
          "text": [
            "training...: 100%|██████████| 28/28 [00:28<00:00,  1.00s/it]\n",
            "evaluating...: 100%|██████████| 10/10 [00:02<00:00,  3.43it/s]\n"
          ]
        },
        {
          "output_type": "stream",
          "name": "stdout",
          "text": [
            "epoch: 8\n",
            "train_loss: 0.228, train_acc: 0.908\n",
            "valid_loss: 0.394, valid_acc: 0.868\n"
          ]
        },
        {
          "output_type": "stream",
          "name": "stderr",
          "text": [
            "training...: 100%|██████████| 28/28 [00:27<00:00,  1.00it/s]\n",
            "evaluating...: 100%|██████████| 10/10 [00:02<00:00,  3.46it/s]"
          ]
        },
        {
          "output_type": "stream",
          "name": "stdout",
          "text": [
            "epoch: 9\n",
            "train_loss: 0.219, train_acc: 0.916\n",
            "valid_loss: 0.336, valid_acc: 0.872\n"
          ]
        },
        {
          "output_type": "stream",
          "name": "stderr",
          "text": [
            "\n"
          ]
        }
      ],
      "source": [
        "n_epochs = 10\n",
        "best_valid_loss = float(\"inf\")\n",
        "\n",
        "metrics = collections.defaultdict(list)\n",
        "\n",
        "for epoch in range(n_epochs):\n",
        "    train_loss, train_acc = train(\n",
        "        train_data_loader, model, criterion, optimizer, device\n",
        "    )\n",
        "    valid_loss, valid_acc = evaluate(valid_data_loader, model, criterion, device)\n",
        "    metrics[\"train_losses\"].append(train_loss)\n",
        "    metrics[\"train_accs\"].append(train_acc)\n",
        "    metrics[\"valid_losses\"].append(valid_loss)\n",
        "    metrics[\"valid_accs\"].append(valid_acc)\n",
        "    if valid_loss < best_valid_loss:\n",
        "        best_valid_loss = valid_loss\n",
        "        torch.save(model.state_dict(), \"lstm.pt\")\n",
        "    print(f\"epoch: {epoch}\")\n",
        "    print(f\"train_loss: {train_loss:.3f}, train_acc: {train_acc:.3f}\")\n",
        "    print(f\"valid_loss: {valid_loss:.3f}, valid_acc: {valid_acc:.3f}\")"
      ]
    },
    {
      "cell_type": "code",
      "execution_count": null,
      "id": "b360d0cd",
      "metadata": {
        "id": "b360d0cd",
        "outputId": "feb3f9b4-63ae-48d1-90af-9f928f2640cf"
      },
      "outputs": [
        {
          "data": {
            "image/png": "[encoded data removed]",
            "text/plain": [
              "<Figure size 1000x600 with 1 Axes>"
            ]
          },
          "metadata": {},
          "output_type": "display_data"
        }
      ],
      "source": [
        "fig = plt.figure(figsize=(10, 6))\n",
        "ax = fig.add_subplot(1, 1, 1)\n",
        "ax.plot(metrics[\"train_losses\"], label=\"train loss\")\n",
        "ax.plot(metrics[\"valid_losses\"], label=\"valid loss\")\n",
        "ax.set_xlabel(\"epoch\")\n",
        "ax.set_ylabel(\"loss\")\n",
        "ax.set_xticks(range(n_epochs))\n",
        "ax.legend()\n",
        "ax.grid()"
      ]
    },
    {
      "cell_type": "code",
      "execution_count": null,
      "id": "742a6855",
      "metadata": {
        "id": "742a6855",
        "outputId": "65bee643-8a2e-4c37-9f64-50d95ac05a19"
      },
      "outputs": [
        {
          "data": {
            "image/png": "[encoded data removed]",
            "text/plain": [
              "<Figure size 1000x600 with 1 Axes>"
            ]
          },
          "metadata": {},
          "output_type": "display_data"
        }
      ],
      "source": [
        "fig = plt.figure(figsize=(10, 6))\n",
        "ax = fig.add_subplot(1, 1, 1)\n",
        "ax.plot(metrics[\"train_accs\"], label=\"train accuracy\")\n",
        "ax.plot(metrics[\"valid_accs\"], label=\"valid accuracy\")\n",
        "ax.set_xlabel(\"epoch\")\n",
        "ax.set_ylabel(\"loss\")\n",
        "ax.set_xticks(range(n_epochs))\n",
        "ax.legend()\n",
        "ax.grid()"
      ]
    },
    {
      "cell_type": "code",
      "execution_count": null,
      "id": "8b89f53f",
      "metadata": {
        "id": "8b89f53f",
        "outputId": "1bf21c52-d979-4596-ebd5-03d1c657267b"
      },
      "outputs": [
        {
          "name": "stderr",
          "output_type": "stream",
          "text": [
            "evaluating...: 100%|████████████████████████████| 49/49 [00:03<00:00, 15.55it/s]\n"
          ]
        }
      ],
      "source": [
        "model.load_state_dict(torch.load(\"lstm.pt\"))\n",
        "\n",
        "test_loss, test_acc = evaluate(test_data_loader, model, criterion, device)"
      ]
    },
    {
      "cell_type": "code",
      "execution_count": null,
      "id": "10bc7bc3",
      "metadata": {
        "id": "10bc7bc3",
        "outputId": "641bdd9b-cd16-4ef0-9bd0-11896132b75f"
      },
      "outputs": [
        {
          "name": "stdout",
          "output_type": "stream",
          "text": [
            "test_loss: 0.327, test_acc: 0.862\n"
          ]
        }
      ],
      "source": [
        "print(f\"test_loss: {test_loss:.3f}, test_acc: {test_acc:.3f}\")"
      ]
    },
    {
      "cell_type": "code",
      "execution_count": null,
      "id": "c07df383",
      "metadata": {
        "id": "c07df383"
      },
      "outputs": [],
      "source": [
        "def predict_sentiment(text, model, tokenizer, vocab, device):\n",
        "    tokens = tokenizer(text)\n",
        "    ids = vocab.lookup_indices(tokens)\n",
        "    length = torch.LongTensor([len(ids)])\n",
        "    tensor = torch.LongTensor(ids).unsqueeze(dim=0).to(device)\n",
        "    prediction = model(tensor, length).squeeze(dim=0)\n",
        "    probability = torch.softmax(prediction, dim=-1)\n",
        "    predicted_class = prediction.argmax(dim=-1).item()\n",
        "    predicted_probability = probability[predicted_class].item()\n",
        "    return predicted_class, predicted_probability\n",
        "    #Single input → Add batch dimension → Model processing → Remove batch dimension → Single output"
      ]
    },
    {
      "cell_type": "code",
      "execution_count": null,
      "id": "8d9d591d",
      "metadata": {
        "id": "8d9d591d",
        "outputId": "7a2e2295-c726-41b4-83f0-fa5eda8226b3"
      },
      "outputs": [
        {
          "data": {
            "text/plain": [
              "(0, 0.9134657382965088)"
            ]
          },
          "execution_count": 40,
          "metadata": {},
          "output_type": "execute_result"
        }
      ],
      "source": [
        "text = \"This film is terrible!\"\n",
        "\n",
        "predict_sentiment(text, model, tokenizer, vocab, device)"
      ]
    },
    {
      "cell_type": "code",
      "execution_count": null,
      "id": "f392b05a",
      "metadata": {
        "id": "f392b05a",
        "outputId": "23caca9e-b851-48f6-bf79-33aa740ad6fa"
      },
      "outputs": [
        {
          "data": {
            "text/plain": [
              "(1, 0.9098743200302124)"
            ]
          },
          "execution_count": 41,
          "metadata": {},
          "output_type": "execute_result"
        }
      ],
      "source": [
        "text = \"This film is great!\"\n",
        "\n",
        "predict_sentiment(text, model, tokenizer, vocab, device)"
      ]
    },
    {
      "cell_type": "code",
      "execution_count": null,
      "id": "3196951d",
      "metadata": {
        "id": "3196951d",
        "outputId": "f6921e4e-1cd0-440c-c69b-b09a4a9cda6a"
      },
      "outputs": [
        {
          "data": {
            "text/plain": [
              "(0, 0.7186734676361084)"
            ]
          },
          "execution_count": 42,
          "metadata": {},
          "output_type": "execute_result"
        }
      ],
      "source": [
        "text = \"This film is not terrible, it's great!\"\n",
        "\n",
        "predict_sentiment(text, model, tokenizer, vocab, device)"
      ]
    },
    {
      "cell_type": "code",
      "execution_count": null,
      "id": "c35aeb03",
      "metadata": {
        "id": "c35aeb03",
        "outputId": "6ef31678-8412-4698-eedd-683bff6361b6"
      },
      "outputs": [
        {
          "data": {
            "text/plain": [
              "(0, 0.6654170155525208)"
            ]
          },
          "execution_count": 43,
          "metadata": {},
          "output_type": "execute_result"
        }
      ],
      "source": [
        "text = \"This film is not great, it's terrible!\"\n",
        "\n",
        "predict_sentiment(text, model, tokenizer, vocab, device)"
      ]
    }
  ],
  "metadata": {
    "kernelspec": {
      "display_name": "Python 3",
      "name": "python3"
    },
    "language_info": {
      "codemirror_mode": {
        "name": "ipython",
        "version": 3
      },
      "file_extension": ".py",
      "mimetype": "text/x-python",
      "name": "python",
      "nbconvert_exporter": "python",
      "pygments_lexer": "ipython3",
      "version": "3.9.12"
    },
    "colab": {
      "provenance": [],
      "gpuType": "T4",
      "include_colab_link": true
    },
    "accelerator": "GPU",
    "widgets": {
      "application/vnd.jupyter.widget-state+json": {
        "23b93484a9bc416dbb6eb5afef7b0fd6": {
          "model_module": "@jupyter-widgets/controls",
          "model_name": "HBoxModel",
          "model_module_version": "1.5.0",
          "state": {
            "_dom_classes": [],
            "_model_module": "@jupyter-widgets/controls",
            "_model_module_version": "1.5.0",
            "_model_name": "HBoxModel",
            "_view_count": null,
            "_view_module": "@jupyter-widgets/controls",
            "_view_module_version": "1.5.0",
            "_view_name": "HBoxView",
            "box_style": "",
            "children": [
              "IPY_MODEL_51c76506f8144104a131d2467244c9bc",
              "IPY_MODEL_17ab9f2433894a6db6b3c6e47937a78f",
              "IPY_MODEL_388d65b37b5a45f7955796d293baa7fc"
            ],
            "layout": "IPY_MODEL_6ae09d793b5c47c3ae70729dc3d6aafa"
          }
        },
        "51c76506f8144104a131d2467244c9bc": {
          "model_module": "@jupyter-widgets/controls",
          "model_name": "HTMLModel",
          "model_module_version": "1.5.0",
          "state": {
            "_dom_classes": [],
            "_model_module": "@jupyter-widgets/controls",
            "_model_module_version": "1.5.0",
            "_model_name": "HTMLModel",
            "_view_count": null,
            "_view_module": "@jupyter-widgets/controls",
            "_view_module_version": "1.5.0",
            "_view_name": "HTMLView",
            "description": "",
            "description_tooltip": null,
            "layout": "IPY_MODEL_e490e5adf1a149a6b8d8d168f34b0d7c",
            "placeholder": "​",
            "style": "IPY_MODEL_e49d6fee8ba04daabe839287201e0965",
            "value": "README.md: 100%"
          }
        },
        "17ab9f2433894a6db6b3c6e47937a78f": {
          "model_module": "@jupyter-widgets/controls",
          "model_name": "FloatProgressModel",
          "model_module_version": "1.5.0",
          "state": {
            "_dom_classes": [],
            "_model_module": "@jupyter-widgets/controls",
            "_model_module_version": "1.5.0",
            "_model_name": "FloatProgressModel",
            "_view_count": null,
            "_view_module": "@jupyter-widgets/controls",
            "_view_module_version": "1.5.0",
            "_view_name": "ProgressView",
            "bar_style": "success",
            "description": "",
            "description_tooltip": null,
            "layout": "IPY_MODEL_f61cfc18670a4234b7b94100f12f78bc",
            "max": 7809,
            "min": 0,
            "orientation": "horizontal",
            "style": "IPY_MODEL_9e9cbc58907140beaf0d3736643af143",
            "value": 7809
          }
        },
        "388d65b37b5a45f7955796d293baa7fc": {
          "model_module": "@jupyter-widgets/controls",
          "model_name": "HTMLModel",
          "model_module_version": "1.5.0",
          "state": {
            "_dom_classes": [],
            "_model_module": "@jupyter-widgets/controls",
            "_model_module_version": "1.5.0",
            "_model_name": "HTMLModel",
            "_view_count": null,
            "_view_module": "@jupyter-widgets/controls",
            "_view_module_version": "1.5.0",
            "_view_name": "HTMLView",
            "description": "",
            "description_tooltip": null,
            "layout": "IPY_MODEL_5e3af58e4f7e41818d319bcf15e9a3e4",
            "placeholder": "​",
            "style": "IPY_MODEL_0b46f0c472cb421c94a2ee04451ed6b5",
            "value": " 7.81k/7.81k [00:00&lt;00:00, 646kB/s]"
          }
        },
        "6ae09d793b5c47c3ae70729dc3d6aafa": {
          "model_module": "@jupyter-widgets/base",
          "model_name": "LayoutModel",
          "model_module_version": "1.2.0",
          "state": {
            "_model_module": "@jupyter-widgets/base",
            "_model_module_version": "1.2.0",
            "_model_name": "LayoutModel",
            "_view_count": null,
            "_view_module": "@jupyter-widgets/base",
            "_view_module_version": "1.2.0",
            "_view_name": "LayoutView",
            "align_content": null,
            "align_items": null,
            "align_self": null,
            "border": null,
            "bottom": null,
            "display": null,
            "flex": null,
            "flex_flow": null,
            "grid_area": null,
            "grid_auto_columns": null,
            "grid_auto_flow": null,
            "grid_auto_rows": null,
            "grid_column": null,
            "grid_gap": null,
            "grid_row": null,
            "grid_template_areas": null,
            "grid_template_columns": null,
            "grid_template_rows": null,
            "height": null,
            "justify_content": null,
            "justify_items": null,
            "left": null,
            "margin": null,
            "max_height": null,
            "max_width": null,
            "min_height": null,
            "min_width": null,
            "object_fit": null,
            "object_position": null,
            "order": null,
            "overflow": null,
            "overflow_x": null,
            "overflow_y": null,
            "padding": null,
            "right": null,
            "top": null,
            "visibility": null,
            "width": null
          }
        },
        "e490e5adf1a149a6b8d8d168f34b0d7c": {
          "model_module": "@jupyter-widgets/base",
          "model_name": "LayoutModel",
          "model_module_version": "1.2.0",
          "state": {
            "_model_module": "@jupyter-widgets/base",
            "_model_module_version": "1.2.0",
            "_model_name": "LayoutModel",
            "_view_count": null,
            "_view_module": "@jupyter-widgets/base",
            "_view_module_version": "1.2.0",
            "_view_name": "LayoutView",
            "align_content": null,
            "align_items": null,
            "align_self": null,
            "border": null,
            "bottom": null,
            "display": null,
            "flex": null,
            "flex_flow": null,
            "grid_area": null,
            "grid_auto_columns": null,
            "grid_auto_flow": null,
            "grid_auto_rows": null,
            "grid_column": null,
            "grid_gap": null,
            "grid_row": null,
            "grid_template_areas": null,
            "grid_template_columns": null,
            "grid_template_rows": null,
            "height": null,
            "justify_content": null,
            "justify_items": null,
            "left": null,
            "margin": null,
            "max_height": null,
            "max_width": null,
            "min_height": null,
            "min_width": null,
            "object_fit": null,
            "object_position": null,
            "order": null,
            "overflow": null,
            "overflow_x": null,
            "overflow_y": null,
            "padding": null,
            "right": null,
            "top": null,
            "visibility": null,
            "width": null
          }
        },
        "e49d6fee8ba04daabe839287201e0965": {
          "model_module": "@jupyter-widgets/controls",
          "model_name": "DescriptionStyleModel",
          "model_module_version": "1.5.0",
          "state": {
            "_model_module": "@jupyter-widgets/controls",
            "_model_module_version": "1.5.0",
            "_model_name": "DescriptionStyleModel",
            "_view_count": null,
            "_view_module": "@jupyter-widgets/base",
            "_view_module_version": "1.2.0",
            "_view_name": "StyleView",
            "description_width": ""
          }
        },
        "f61cfc18670a4234b7b94100f12f78bc": {
          "model_module": "@jupyter-widgets/base",
          "model_name": "LayoutModel",
          "model_module_version": "1.2.0",
          "state": {
            "_model_module": "@jupyter-widgets/base",
            "_model_module_version": "1.2.0",
            "_model_name": "LayoutModel",
            "_view_count": null,
            "_view_module": "@jupyter-widgets/base",
            "_view_module_version": "1.2.0",
            "_view_name": "LayoutView",
            "align_content": null,
            "align_items": null,
            "align_self": null,
            "border": null,
            "bottom": null,
            "display": null,
            "flex": null,
            "flex_flow": null,
            "grid_area": null,
            "grid_auto_columns": null,
            "grid_auto_flow": null,
            "grid_auto_rows": null,
            "grid_column": null,
            "grid_gap": null,
            "grid_row": null,
            "grid_template_areas": null,
            "grid_template_columns": null,
            "grid_template_rows": null,
            "height": null,
            "justify_content": null,
            "justify_items": null,
            "left": null,
            "margin": null,
            "max_height": null,
            "max_width": null,
            "min_height": null,
            "min_width": null,
            "object_fit": null,
            "object_position": null,
            "order": null,
            "overflow": null,
            "overflow_x": null,
            "overflow_y": null,
            "padding": null,
            "right": null,
            "top": null,
            "visibility": null,
            "width": null
          }
        },
        "9e9cbc58907140beaf0d3736643af143": {
          "model_module": "@jupyter-widgets/controls",
          "model_name": "ProgressStyleModel",
          "model_module_version": "1.5.0",
          "state": {
            "_model_module": "@jupyter-widgets/controls",
            "_model_module_version": "1.5.0",
            "_model_name": "ProgressStyleModel",
            "_view_count": null,
            "_view_module": "@jupyter-widgets/base",
            "_view_module_version": "1.2.0",
            "_view_name": "StyleView",
            "bar_color": null,
            "description_width": ""
          }
        },
        "5e3af58e4f7e41818d319bcf15e9a3e4": {
          "model_module": "@jupyter-widgets/base",
          "model_name": "LayoutModel",
          "model_module_version": "1.2.0",
          "state": {
            "_model_module": "@jupyter-widgets/base",
            "_model_module_version": "1.2.0",
            "_model_name": "LayoutModel",
            "_view_count": null,
            "_view_module": "@jupyter-widgets/base",
            "_view_module_version": "1.2.0",
            "_view_name": "LayoutView",
            "align_content": null,
            "align_items": null,
            "align_self": null,
            "border": null,
            "bottom": null,
            "display": null,
            "flex": null,
            "flex_flow": null,
            "grid_area": null,
            "grid_auto_columns": null,
            "grid_auto_flow": null,
            "grid_auto_rows": null,
            "grid_column": null,
            "grid_gap": null,
            "grid_row": null,
            "grid_template_areas": null,
            "grid_template_columns": null,
            "grid_template_rows": null,
            "height": null,
            "justify_content": null,
            "justify_items": null,
            "left": null,
            "margin": null,
            "max_height": null,
            "max_width": null,
            "min_height": null,
            "min_width": null,
            "object_fit": null,
            "object_position": null,
            "order": null,
            "overflow": null,
            "overflow_x": null,
            "overflow_y": null,
            "padding": null,
            "right": null,
            "top": null,
            "visibility": null,
            "width": null
          }
        },
        "0b46f0c472cb421c94a2ee04451ed6b5": {
          "model_module": "@jupyter-widgets/controls",
          "model_name": "DescriptionStyleModel",
          "model_module_version": "1.5.0",
          "state": {
            "_model_module": "@jupyter-widgets/controls",
            "_model_module_version": "1.5.0",
            "_model_name": "DescriptionStyleModel",
            "_view_count": null,
            "_view_module": "@jupyter-widgets/base",
            "_view_module_version": "1.2.0",
            "_view_name": "StyleView",
            "description_width": ""
          }
        },
        "78239f6a0a394216b4c127a5b1f13ef0": {
          "model_module": "@jupyter-widgets/controls",
          "model_name": "HBoxModel",
          "model_module_version": "1.5.0",
          "state": {
            "_dom_classes": [],
            "_model_module": "@jupyter-widgets/controls",
            "_model_module_version": "1.5.0",
            "_model_name": "HBoxModel",
            "_view_count": null,
            "_view_module": "@jupyter-widgets/controls",
            "_view_module_version": "1.5.0",
            "_view_name": "HBoxView",
            "box_style": "",
            "children": [
              "IPY_MODEL_bb409f3b8d9b4b82b712df6b712c1c4b",
              "IPY_MODEL_5399e7887f3945e98f2790ebcf33c265",
              "IPY_MODEL_d5efc49bf17d45bea41980027f77d004"
            ],
            "layout": "IPY_MODEL_46ba77f75a7b4bfd828c5cbbc5115624"
          }
        },
        "bb409f3b8d9b4b82b712df6b712c1c4b": {
          "model_module": "@jupyter-widgets/controls",
          "model_name": "HTMLModel",
          "model_module_version": "1.5.0",
          "state": {
            "_dom_classes": [],
            "_model_module": "@jupyter-widgets/controls",
            "_model_module_version": "1.5.0",
            "_model_name": "HTMLModel",
            "_view_count": null,
            "_view_module": "@jupyter-widgets/controls",
            "_view_module_version": "1.5.0",
            "_view_name": "HTMLView",
            "description": "",
            "description_tooltip": null,
            "layout": "IPY_MODEL_b7f06f580e344e1faac40f6b01359157",
            "placeholder": "​",
            "style": "IPY_MODEL_07bf087fc9e04fbeb3ff63b18adadbb9",
            "value": "train-00000-of-00001.parquet: 100%"
          }
        },
        "5399e7887f3945e98f2790ebcf33c265": {
          "model_module": "@jupyter-widgets/controls",
          "model_name": "FloatProgressModel",
          "model_module_version": "1.5.0",
          "state": {
            "_dom_classes": [],
            "_model_module": "@jupyter-widgets/controls",
            "_model_module_version": "1.5.0",
            "_model_name": "FloatProgressModel",
            "_view_count": null,
            "_view_module": "@jupyter-widgets/controls",
            "_view_module_version": "1.5.0",
            "_view_name": "ProgressView",
            "bar_style": "success",
            "description": "",
            "description_tooltip": null,
            "layout": "IPY_MODEL_3e4f4d71c87c4e85b31025da0b15d836",
            "max": 20979968,
            "min": 0,
            "orientation": "horizontal",
            "style": "IPY_MODEL_77fd1657de0a4470aa9635998d0973d8",
            "value": 20979968
          }
        },
        "d5efc49bf17d45bea41980027f77d004": {
          "model_module": "@jupyter-widgets/controls",
          "model_name": "HTMLModel",
          "model_module_version": "1.5.0",
          "state": {
            "_dom_classes": [],
            "_model_module": "@jupyter-widgets/controls",
            "_model_module_version": "1.5.0",
            "_model_name": "HTMLModel",
            "_view_count": null,
            "_view_module": "@jupyter-widgets/controls",
            "_view_module_version": "1.5.0",
            "_view_name": "HTMLView",
            "description": "",
            "description_tooltip": null,
            "layout": "IPY_MODEL_a91fe37702d34a61a9bf540e2032aac6",
            "placeholder": "​",
            "style": "IPY_MODEL_2e356cf25370459cb9aea545890093da",
            "value": " 21.0M/21.0M [00:00&lt;00:00, 43.5MB/s]"
          }
        },
        "46ba77f75a7b4bfd828c5cbbc5115624": {
          "model_module": "@jupyter-widgets/base",
          "model_name": "LayoutModel",
          "model_module_version": "1.2.0",
          "state": {
            "_model_module": "@jupyter-widgets/base",
            "_model_module_version": "1.2.0",
            "_model_name": "LayoutModel",
            "_view_count": null,
            "_view_module": "@jupyter-widgets/base",
            "_view_module_version": "1.2.0",
            "_view_name": "LayoutView",
            "align_content": null,
            "align_items": null,
            "align_self": null,
            "border": null,
            "bottom": null,
            "display": null,
            "flex": null,
            "flex_flow": null,
            "grid_area": null,
            "grid_auto_columns": null,
            "grid_auto_flow": null,
            "grid_auto_rows": null,
            "grid_column": null,
            "grid_gap": null,
            "grid_row": null,
            "grid_template_areas": null,
            "grid_template_columns": null,
            "grid_template_rows": null,
            "height": null,
            "justify_content": null,
            "justify_items": null,
            "left": null,
            "margin": null,
            "max_height": null,
            "max_width": null,
            "min_height": null,
            "min_width": null,
            "object_fit": null,
            "object_position": null,
            "order": null,
            "overflow": null,
            "overflow_x": null,
            "overflow_y": null,
            "padding": null,
            "right": null,
            "top": null,
            "visibility": null,
            "width": null
          }
        },
        "b7f06f580e344e1faac40f6b01359157": {
          "model_module": "@jupyter-widgets/base",
          "model_name": "LayoutModel",
          "model_module_version": "1.2.0",
          "state": {
            "_model_module": "@jupyter-widgets/base",
            "_model_module_version": "1.2.0",
            "_model_name": "LayoutModel",
            "_view_count": null,
            "_view_module": "@jupyter-widgets/base",
            "_view_module_version": "1.2.0",
            "_view_name": "LayoutView",
            "align_content": null,
            "align_items": null,
            "align_self": null,
            "border": null,
            "bottom": null,
            "display": null,
            "flex": null,
            "flex_flow": null,
            "grid_area": null,
            "grid_auto_columns": null,
            "grid_auto_flow": null,
            "grid_auto_rows": null,
            "grid_column": null,
            "grid_gap": null,
            "grid_row": null,
            "grid_template_areas": null,
            "grid_template_columns": null,
            "grid_template_rows": null,
            "height": null,
            "justify_content": null,
            "justify_items": null,
            "left": null,
            "margin": null,
            "max_height": null,
            "max_width": null,
            "min_height": null,
            "min_width": null,
            "object_fit": null,
            "object_position": null,
            "order": null,
            "overflow": null,
            "overflow_x": null,
            "overflow_y": null,
            "padding": null,
            "right": null,
            "top": null,
            "visibility": null,
            "width": null
          }
        },
        "07bf087fc9e04fbeb3ff63b18adadbb9": {
          "model_module": "@jupyter-widgets/controls",
          "model_name": "DescriptionStyleModel",
          "model_module_version": "1.5.0",
          "state": {
            "_model_module": "@jupyter-widgets/controls",
            "_model_module_version": "1.5.0",
            "_model_name": "DescriptionStyleModel",
            "_view_count": null,
            "_view_module": "@jupyter-widgets/base",
            "_view_module_version": "1.2.0",
            "_view_name": "StyleView",
            "description_width": ""
          }
        },
        "3e4f4d71c87c4e85b31025da0b15d836": {
          "model_module": "@jupyter-widgets/base",
          "model_name": "LayoutModel",
          "model_module_version": "1.2.0",
          "state": {
            "_model_module": "@jupyter-widgets/base",
            "_model_module_version": "1.2.0",
            "_model_name": "LayoutModel",
            "_view_count": null,
            "_view_module": "@jupyter-widgets/base",
            "_view_module_version": "1.2.0",
            "_view_name": "LayoutView",
            "align_content": null,
            "align_items": null,
            "align_self": null,
            "border": null,
            "bottom": null,
            "display": null,
            "flex": null,
            "flex_flow": null,
            "grid_area": null,
            "grid_auto_columns": null,
            "grid_auto_flow": null,
            "grid_auto_rows": null,
            "grid_column": null,
            "grid_gap": null,
            "grid_row": null,
            "grid_template_areas": null,
            "grid_template_columns": null,
            "grid_template_rows": null,
            "height": null,
            "justify_content": null,
            "justify_items": null,
            "left": null,
            "margin": null,
            "max_height": null,
            "max_width": null,
            "min_height": null,
            "min_width": null,
            "object_fit": null,
            "object_position": null,
            "order": null,
            "overflow": null,
            "overflow_x": null,
            "overflow_y": null,
            "padding": null,
            "right": null,
            "top": null,
            "visibility": null,
            "width": null
          }
        },
        "77fd1657de0a4470aa9635998d0973d8": {
          "model_module": "@jupyter-widgets/controls",
          "model_name": "ProgressStyleModel",
          "model_module_version": "1.5.0",
          "state": {
            "_model_module": "@jupyter-widgets/controls",
            "_model_module_version": "1.5.0",
            "_model_name": "ProgressStyleModel",
            "_view_count": null,
            "_view_module": "@jupyter-widgets/base",
            "_view_module_version": "1.2.0",
            "_view_name": "StyleView",
            "bar_color": null,
            "description_width": ""
          }
        },
        "a91fe37702d34a61a9bf540e2032aac6": {
          "model_module": "@jupyter-widgets/base",
          "model_name": "LayoutModel",
          "model_module_version": "1.2.0",
          "state": {
            "_model_module": "@jupyter-widgets/base",
            "_model_module_version": "1.2.0",
            "_model_name": "LayoutModel",
            "_view_count": null,
            "_view_module": "@jupyter-widgets/base",
            "_view_module_version": "1.2.0",
            "_view_name": "LayoutView",
            "align_content": null,
            "align_items": null,
            "align_self": null,
            "border": null,
            "bottom": null,
            "display": null,
            "flex": null,
            "flex_flow": null,
            "grid_area": null,
            "grid_auto_columns": null,
            "grid_auto_flow": null,
            "grid_auto_rows": null,
            "grid_column": null,
            "grid_gap": null,
            "grid_row": null,
            "grid_template_areas": null,
            "grid_template_columns": null,
            "grid_template_rows": null,
            "height": null,
            "justify_content": null,
            "justify_items": null,
            "left": null,
            "margin": null,
            "max_height": null,
            "max_width": null,
            "min_height": null,
            "min_width": null,
            "object_fit": null,
            "object_position": null,
            "order": null,
            "overflow": null,
            "overflow_x": null,
            "overflow_y": null,
            "padding": null,
            "right": null,
            "top": null,
            "visibility": null,
            "width": null
          }
        },
        "2e356cf25370459cb9aea545890093da": {
          "model_module": "@jupyter-widgets/controls",
          "model_name": "DescriptionStyleModel",
          "model_module_version": "1.5.0",
          "state": {
            "_model_module": "@jupyter-widgets/controls",
            "_model_module_version": "1.5.0",
            "_model_name": "DescriptionStyleModel",
            "_view_count": null,
            "_view_module": "@jupyter-widgets/base",
            "_view_module_version": "1.2.0",
            "_view_name": "StyleView",
            "description_width": ""
          }
        },
        "cef26bd126b5451daaa7bb7d6133456d": {
          "model_module": "@jupyter-widgets/controls",
          "model_name": "HBoxModel",
          "model_module_version": "1.5.0",
          "state": {
            "_dom_classes": [],
            "_model_module": "@jupyter-widgets/controls",
            "_model_module_version": "1.5.0",
            "_model_name": "HBoxModel",
            "_view_count": null,
            "_view_module": "@jupyter-widgets/controls",
            "_view_module_version": "1.5.0",
            "_view_name": "HBoxView",
            "box_style": "",
            "children": [
              "IPY_MODEL_0f9c8e92a9ee4b638b8b6c9e6d1a7a06",
              "IPY_MODEL_2b83c72e6e2b4819900a652e7dc0b548",
              "IPY_MODEL_39afd2f552744c54b09735b2b27021b8"
            ],
            "layout": "IPY_MODEL_f753b82d229e4690adcb4513e8b07efc"
          }
        },
        "0f9c8e92a9ee4b638b8b6c9e6d1a7a06": {
          "model_module": "@jupyter-widgets/controls",
          "model_name": "HTMLModel",
          "model_module_version": "1.5.0",
          "state": {
            "_dom_classes": [],
            "_model_module": "@jupyter-widgets/controls",
            "_model_module_version": "1.5.0",
            "_model_name": "HTMLModel",
            "_view_count": null,
            "_view_module": "@jupyter-widgets/controls",
            "_view_module_version": "1.5.0",
            "_view_name": "HTMLView",
            "description": "",
            "description_tooltip": null,
            "layout": "IPY_MODEL_beb096c38786403fbe8f9a04ea731342",
            "placeholder": "​",
            "style": "IPY_MODEL_60dc2a2bd75b467b83b207696ca5866b",
            "value": "test-00000-of-00001.parquet: 100%"
          }
        },
        "2b83c72e6e2b4819900a652e7dc0b548": {
          "model_module": "@jupyter-widgets/controls",
          "model_name": "FloatProgressModel",
          "model_module_version": "1.5.0",
          "state": {
            "_dom_classes": [],
            "_model_module": "@jupyter-widgets/controls",
            "_model_module_version": "1.5.0",
            "_model_name": "FloatProgressModel",
            "_view_count": null,
            "_view_module": "@jupyter-widgets/controls",
            "_view_module_version": "1.5.0",
            "_view_name": "ProgressView",
            "bar_style": "success",
            "description": "",
            "description_tooltip": null,
            "layout": "IPY_MODEL_f2418d0019e542daa3a97b4e4ac8eb0f",
            "max": 20470363,
            "min": 0,
            "orientation": "horizontal",
            "style": "IPY_MODEL_5121913304e44d15b32a1c67e956e801",
            "value": 20470363
          }
        },
        "39afd2f552744c54b09735b2b27021b8": {
          "model_module": "@jupyter-widgets/controls",
          "model_name": "HTMLModel",
          "model_module_version": "1.5.0",
          "state": {
            "_dom_classes": [],
            "_model_module": "@jupyter-widgets/controls",
            "_model_module_version": "1.5.0",
            "_model_name": "HTMLModel",
            "_view_count": null,
            "_view_module": "@jupyter-widgets/controls",
            "_view_module_version": "1.5.0",
            "_view_name": "HTMLView",
            "description": "",
            "description_tooltip": null,
            "layout": "IPY_MODEL_44f96603ca2e4910932b9f69c047210b",
            "placeholder": "​",
            "style": "IPY_MODEL_978685f9f1ad4b7cafb3370662a0dedd",
            "value": " 20.5M/20.5M [00:00&lt;00:00, 91.5MB/s]"
          }
        },
        "f753b82d229e4690adcb4513e8b07efc": {
          "model_module": "@jupyter-widgets/base",
          "model_name": "LayoutModel",
          "model_module_version": "1.2.0",
          "state": {
            "_model_module": "@jupyter-widgets/base",
            "_model_module_version": "1.2.0",
            "_model_name": "LayoutModel",
            "_view_count": null,
            "_view_module": "@jupyter-widgets/base",
            "_view_module_version": "1.2.0",
            "_view_name": "LayoutView",
            "align_content": null,
            "align_items": null,
            "align_self": null,
            "border": null,
            "bottom": null,
            "display": null,
            "flex": null,
            "flex_flow": null,
            "grid_area": null,
            "grid_auto_columns": null,
            "grid_auto_flow": null,
            "grid_auto_rows": null,
            "grid_column": null,
            "grid_gap": null,
            "grid_row": null,
            "grid_template_areas": null,
            "grid_template_columns": null,
            "grid_template_rows": null,
            "height": null,
            "justify_content": null,
            "justify_items": null,
            "left": null,
            "margin": null,
            "max_height": null,
            "max_width": null,
            "min_height": null,
            "min_width": null,
            "object_fit": null,
            "object_position": null,
            "order": null,
            "overflow": null,
            "overflow_x": null,
            "overflow_y": null,
            "padding": null,
            "right": null,
            "top": null,
            "visibility": null,
            "width": null
          }
        },
        "beb096c38786403fbe8f9a04ea731342": {
          "model_module": "@jupyter-widgets/base",
          "model_name": "LayoutModel",
          "model_module_version": "1.2.0",
          "state": {
            "_model_module": "@jupyter-widgets/base",
            "_model_module_version": "1.2.0",
            "_model_name": "LayoutModel",
            "_view_count": null,
            "_view_module": "@jupyter-widgets/base",
            "_view_module_version": "1.2.0",
            "_view_name": "LayoutView",
            "align_content": null,
            "align_items": null,
            "align_self": null,
            "border": null,
            "bottom": null,
            "display": null,
            "flex": null,
            "flex_flow": null,
            "grid_area": null,
            "grid_auto_columns": null,
            "grid_auto_flow": null,
            "grid_auto_rows": null,
            "grid_column": null,
            "grid_gap": null,
            "grid_row": null,
            "grid_template_areas": null,
            "grid_template_columns": null,
            "grid_template_rows": null,
            "height": null,
            "justify_content": null,
            "justify_items": null,
            "left": null,
            "margin": null,
            "max_height": null,
            "max_width": null,
            "min_height": null,
            "min_width": null,
            "object_fit": null,
            "object_position": null,
            "order": null,
            "overflow": null,
            "overflow_x": null,
            "overflow_y": null,
            "padding": null,
            "right": null,
            "top": null,
            "visibility": null,
            "width": null
          }
        },
        "60dc2a2bd75b467b83b207696ca5866b": {
          "model_module": "@jupyter-widgets/controls",
          "model_name": "DescriptionStyleModel",
          "model_module_version": "1.5.0",
          "state": {
            "_model_module": "@jupyter-widgets/controls",
            "_model_module_version": "1.5.0",
            "_model_name": "DescriptionStyleModel",
            "_view_count": null,
            "_view_module": "@jupyter-widgets/base",
            "_view_module_version": "1.2.0",
            "_view_name": "StyleView",
            "description_width": ""
          }
        },
        "f2418d0019e542daa3a97b4e4ac8eb0f": {
          "model_module": "@jupyter-widgets/base",
          "model_name": "LayoutModel",
          "model_module_version": "1.2.0",
          "state": {
            "_model_module": "@jupyter-widgets/base",
            "_model_module_version": "1.2.0",
            "_model_name": "LayoutModel",
            "_view_count": null,
            "_view_module": "@jupyter-widgets/base",
            "_view_module_version": "1.2.0",
            "_view_name": "LayoutView",
            "align_content": null,
            "align_items": null,
            "align_self": null,
            "border": null,
            "bottom": null,
            "display": null,
            "flex": null,
            "flex_flow": null,
            "grid_area": null,
            "grid_auto_columns": null,
            "grid_auto_flow": null,
            "grid_auto_rows": null,
            "grid_column": null,
            "grid_gap": null,
            "grid_row": null,
            "grid_template_areas": null,
            "grid_template_columns": null,
            "grid_template_rows": null,
            "height": null,
            "justify_content": null,
            "justify_items": null,
            "left": null,
            "margin": null,
            "max_height": null,
            "max_width": null,
            "min_height": null,
            "min_width": null,
            "object_fit": null,
            "object_position": null,
            "order": null,
            "overflow": null,
            "overflow_x": null,
            "overflow_y": null,
            "padding": null,
            "right": null,
            "top": null,
            "visibility": null,
            "width": null
          }
        },
        "5121913304e44d15b32a1c67e956e801": {
          "model_module": "@jupyter-widgets/controls",
          "model_name": "ProgressStyleModel",
          "model_module_version": "1.5.0",
          "state": {
            "_model_module": "@jupyter-widgets/controls",
            "_model_module_version": "1.5.0",
            "_model_name": "ProgressStyleModel",
            "_view_count": null,
            "_view_module": "@jupyter-widgets/base",
            "_view_module_version": "1.2.0",
            "_view_name": "StyleView",
            "bar_color": null,
            "description_width": ""
          }
        },
        "44f96603ca2e4910932b9f69c047210b": {
          "model_module": "@jupyter-widgets/base",
          "model_name": "LayoutModel",
          "model_module_version": "1.2.0",
          "state": {
            "_model_module": "@jupyter-widgets/base",
            "_model_module_version": "1.2.0",
            "_model_name": "LayoutModel",
            "_view_count": null,
            "_view_module": "@jupyter-widgets/base",
            "_view_module_version": "1.2.0",
            "_view_name": "LayoutView",
            "align_content": null,
            "align_items": null,
            "align_self": null,
            "border": null,
            "bottom": null,
            "display": null,
            "flex": null,
            "flex_flow": null,
            "grid_area": null,
            "grid_auto_columns": null,
            "grid_auto_flow": null,
            "grid_auto_rows": null,
            "grid_column": null,
            "grid_gap": null,
            "grid_row": null,
            "grid_template_areas": null,
            "grid_template_columns": null,
            "grid_template_rows": null,
            "height": null,
            "justify_content": null,
            "justify_items": null,
            "left": null,
            "margin": null,
            "max_height": null,
            "max_width": null,
            "min_height": null,
            "min_width": null,
            "object_fit": null,
            "object_position": null,
            "order": null,
            "overflow": null,
            "overflow_x": null,
            "overflow_y": null,
            "padding": null,
            "right": null,
            "top": null,
            "visibility": null,
            "width": null
          }
        },
        "978685f9f1ad4b7cafb3370662a0dedd": {
          "model_module": "@jupyter-widgets/controls",
          "model_name": "DescriptionStyleModel",
          "model_module_version": "1.5.0",
          "state": {
            "_model_module": "@jupyter-widgets/controls",
            "_model_module_version": "1.5.0",
            "_model_name": "DescriptionStyleModel",
            "_view_count": null,
            "_view_module": "@jupyter-widgets/base",
            "_view_module_version": "1.2.0",
            "_view_name": "StyleView",
            "description_width": ""
          }
        },
        "8adb66ff2ac64c7ba3deb8298540f076": {
          "model_module": "@jupyter-widgets/controls",
          "model_name": "HBoxModel",
          "model_module_version": "1.5.0",
          "state": {
            "_dom_classes": [],
            "_model_module": "@jupyter-widgets/controls",
            "_model_module_version": "1.5.0",
            "_model_name": "HBoxModel",
            "_view_count": null,
            "_view_module": "@jupyter-widgets/controls",
            "_view_module_version": "1.5.0",
            "_view_name": "HBoxView",
            "box_style": "",
            "children": [
              "IPY_MODEL_fe4322c6773b4ef896f3785152dd07e9",
              "IPY_MODEL_412888d053e040be83ee6daf0b99defa",
              "IPY_MODEL_4ac33cfb5e3344efa7f0113ef6bce0bd"
            ],
            "layout": "IPY_MODEL_2e4b9061fd184ad6bef3381e37399191"
          }
        },
        "fe4322c6773b4ef896f3785152dd07e9": {
          "model_module": "@jupyter-widgets/controls",
          "model_name": "HTMLModel",
          "model_module_version": "1.5.0",
          "state": {
            "_dom_classes": [],
            "_model_module": "@jupyter-widgets/controls",
            "_model_module_version": "1.5.0",
            "_model_name": "HTMLModel",
            "_view_count": null,
            "_view_module": "@jupyter-widgets/controls",
            "_view_module_version": "1.5.0",
            "_view_name": "HTMLView",
            "description": "",
            "description_tooltip": null,
            "layout": "IPY_MODEL_cc065de5c24e49899ff83af937d6ab84",
            "placeholder": "​",
            "style": "IPY_MODEL_89061df118564a438e42b4de5a7efb5b",
            "value": "unsupervised-00000-of-00001.parquet: 100%"
          }
        },
        "412888d053e040be83ee6daf0b99defa": {
          "model_module": "@jupyter-widgets/controls",
          "model_name": "FloatProgressModel",
          "model_module_version": "1.5.0",
          "state": {
            "_dom_classes": [],
            "_model_module": "@jupyter-widgets/controls",
            "_model_module_version": "1.5.0",
            "_model_name": "FloatProgressModel",
            "_view_count": null,
            "_view_module": "@jupyter-widgets/controls",
            "_view_module_version": "1.5.0",
            "_view_name": "ProgressView",
            "bar_style": "success",
            "description": "",
            "description_tooltip": null,
            "layout": "IPY_MODEL_98318a0cbd66477892addadb7ab47ab8",
            "max": 41996509,
            "min": 0,
            "orientation": "horizontal",
            "style": "IPY_MODEL_8d5ffe726b0243b8a3172a7c02ba2483",
            "value": 41996509
          }
        },
        "4ac33cfb5e3344efa7f0113ef6bce0bd": {
          "model_module": "@jupyter-widgets/controls",
          "model_name": "HTMLModel",
          "model_module_version": "1.5.0",
          "state": {
            "_dom_classes": [],
            "_model_module": "@jupyter-widgets/controls",
            "_model_module_version": "1.5.0",
            "_model_name": "HTMLModel",
            "_view_count": null,
            "_view_module": "@jupyter-widgets/controls",
            "_view_module_version": "1.5.0",
            "_view_name": "HTMLView",
            "description": "",
            "description_tooltip": null,
            "layout": "IPY_MODEL_b196053a9d7443a89d830170011742b9",
            "placeholder": "​",
            "style": "IPY_MODEL_8fcd8543c1d441b18c383e392e0502fa",
            "value": " 42.0M/42.0M [00:00&lt;00:00, 134MB/s]"
          }
        },
        "2e4b9061fd184ad6bef3381e37399191": {
          "model_module": "@jupyter-widgets/base",
          "model_name": "LayoutModel",
          "model_module_version": "1.2.0",
          "state": {
            "_model_module": "@jupyter-widgets/base",
            "_model_module_version": "1.2.0",
            "_model_name": "LayoutModel",
            "_view_count": null,
            "_view_module": "@jupyter-widgets/base",
            "_view_module_version": "1.2.0",
            "_view_name": "LayoutView",
            "align_content": null,
            "align_items": null,
            "align_self": null,
            "border": null,
            "bottom": null,
            "display": null,
            "flex": null,
            "flex_flow": null,
            "grid_area": null,
            "grid_auto_columns": null,
            "grid_auto_flow": null,
            "grid_auto_rows": null,
            "grid_column": null,
            "grid_gap": null,
            "grid_row": null,
            "grid_template_areas": null,
            "grid_template_columns": null,
            "grid_template_rows": null,
            "height": null,
            "justify_content": null,
            "justify_items": null,
            "left": null,
            "margin": null,
            "max_height": null,
            "max_width": null,
            "min_height": null,
            "min_width": null,
            "object_fit": null,
            "object_position": null,
            "order": null,
            "overflow": null,
            "overflow_x": null,
            "overflow_y": null,
            "padding": null,
            "right": null,
            "top": null,
            "visibility": null,
            "width": null
          }
        },
        "cc065de5c24e49899ff83af937d6ab84": {
          "model_module": "@jupyter-widgets/base",
          "model_name": "LayoutModel",
          "model_module_version": "1.2.0",
          "state": {
            "_model_module": "@jupyter-widgets/base",
            "_model_module_version": "1.2.0",
            "_model_name": "LayoutModel",
            "_view_count": null,
            "_view_module": "@jupyter-widgets/base",
            "_view_module_version": "1.2.0",
            "_view_name": "LayoutView",
            "align_content": null,
            "align_items": null,
            "align_self": null,
            "border": null,
            "bottom": null,
            "display": null,
            "flex": null,
            "flex_flow": null,
            "grid_area": null,
            "grid_auto_columns": null,
            "grid_auto_flow": null,
            "grid_auto_rows": null,
            "grid_column": null,
            "grid_gap": null,
            "grid_row": null,
            "grid_template_areas": null,
            "grid_template_columns": null,
            "grid_template_rows": null,
            "height": null,
            "justify_content": null,
            "justify_items": null,
            "left": null,
            "margin": null,
            "max_height": null,
            "max_width": null,
            "min_height": null,
            "min_width": null,
            "object_fit": null,
            "object_position": null,
            "order": null,
            "overflow": null,
            "overflow_x": null,
            "overflow_y": null,
            "padding": null,
            "right": null,
            "top": null,
            "visibility": null,
            "width": null
          }
        },
        "89061df118564a438e42b4de5a7efb5b": {
          "model_module": "@jupyter-widgets/controls",
          "model_name": "DescriptionStyleModel",
          "model_module_version": "1.5.0",
          "state": {
            "_model_module": "@jupyter-widgets/controls",
            "_model_module_version": "1.5.0",
            "_model_name": "DescriptionStyleModel",
            "_view_count": null,
            "_view_module": "@jupyter-widgets/base",
            "_view_module_version": "1.2.0",
            "_view_name": "StyleView",
            "description_width": ""
          }
        },
        "98318a0cbd66477892addadb7ab47ab8": {
          "model_module": "@jupyter-widgets/base",
          "model_name": "LayoutModel",
          "model_module_version": "1.2.0",
          "state": {
            "_model_module": "@jupyter-widgets/base",
            "_model_module_version": "1.2.0",
            "_model_name": "LayoutModel",
            "_view_count": null,
            "_view_module": "@jupyter-widgets/base",
            "_view_module_version": "1.2.0",
            "_view_name": "LayoutView",
            "align_content": null,
            "align_items": null,
            "align_self": null,
            "border": null,
            "bottom": null,
            "display": null,
            "flex": null,
            "flex_flow": null,
            "grid_area": null,
            "grid_auto_columns": null,
            "grid_auto_flow": null,
            "grid_auto_rows": null,
            "grid_column": null,
            "grid_gap": null,
            "grid_row": null,
            "grid_template_areas": null,
            "grid_template_columns": null,
            "grid_template_rows": null,
            "height": null,
            "justify_content": null,
            "justify_items": null,
            "left": null,
            "margin": null,
            "max_height": null,
            "max_width": null,
            "min_height": null,
            "min_width": null,
            "object_fit": null,
            "object_position": null,
            "order": null,
            "overflow": null,
            "overflow_x": null,
            "overflow_y": null,
            "padding": null,
            "right": null,
            "top": null,
            "visibility": null,
            "width": null
          }
        },
        "8d5ffe726b0243b8a3172a7c02ba2483": {
          "model_module": "@jupyter-widgets/controls",
          "model_name": "ProgressStyleModel",
          "model_module_version": "1.5.0",
          "state": {
            "_model_module": "@jupyter-widgets/controls",
            "_model_module_version": "1.5.0",
            "_model_name": "ProgressStyleModel",
            "_view_count": null,
            "_view_module": "@jupyter-widgets/base",
            "_view_module_version": "1.2.0",
            "_view_name": "StyleView",
            "bar_color": null,
            "description_width": ""
          }
        },
        "b196053a9d7443a89d830170011742b9": {
          "model_module": "@jupyter-widgets/base",
          "model_name": "LayoutModel",
          "model_module_version": "1.2.0",
          "state": {
            "_model_module": "@jupyter-widgets/base",
            "_model_module_version": "1.2.0",
            "_model_name": "LayoutModel",
            "_view_count": null,
            "_view_module": "@jupyter-widgets/base",
            "_view_module_version": "1.2.0",
            "_view_name": "LayoutView",
            "align_content": null,
            "align_items": null,
            "align_self": null,
            "border": null,
            "bottom": null,
            "display": null,
            "flex": null,
            "flex_flow": null,
            "grid_area": null,
            "grid_auto_columns": null,
            "grid_auto_flow": null,
            "grid_auto_rows": null,
            "grid_column": null,
            "grid_gap": null,
            "grid_row": null,
            "grid_template_areas": null,
            "grid_template_columns": null,
            "grid_template_rows": null,
            "height": null,
            "justify_content": null,
            "justify_items": null,
            "left": null,
            "margin": null,
            "max_height": null,
            "max_width": null,
            "min_height": null,
            "min_width": null,
            "object_fit": null,
            "object_position": null,
            "order": null,
            "overflow": null,
            "overflow_x": null,
            "overflow_y": null,
            "padding": null,
            "right": null,
            "top": null,
            "visibility": null,
            "width": null
          }
        },
        "8fcd8543c1d441b18c383e392e0502fa": {
          "model_module": "@jupyter-widgets/controls",
          "model_name": "DescriptionStyleModel",
          "model_module_version": "1.5.0",
          "state": {
            "_model_module": "@jupyter-widgets/controls",
            "_model_module_version": "1.5.0",
            "_model_name": "DescriptionStyleModel",
            "_view_count": null,
            "_view_module": "@jupyter-widgets/base",
            "_view_module_version": "1.2.0",
            "_view_name": "StyleView",
            "description_width": ""
          }
        },
        "06e815dab9ad4590bad79c60246a1119": {
          "model_module": "@jupyter-widgets/controls",
          "model_name": "HBoxModel",
          "model_module_version": "1.5.0",
          "state": {
            "_dom_classes": [],
            "_model_module": "@jupyter-widgets/controls",
            "_model_module_version": "1.5.0",
            "_model_name": "HBoxModel",
            "_view_count": null,
            "_view_module": "@jupyter-widgets/controls",
            "_view_module_version": "1.5.0",
            "_view_name": "HBoxView",
            "box_style": "",
            "children": [
              "IPY_MODEL_1998ecc716a74bdeb614b5e770038063",
              "IPY_MODEL_33cdd06585984738818149d313468f92",
              "IPY_MODEL_5552e3f996d448bd866cdb0fca60de1b"
            ],
            "layout": "IPY_MODEL_8ece46dafca545f599ee01322f7de580"
          }
        },
        "1998ecc716a74bdeb614b5e770038063": {
          "model_module": "@jupyter-widgets/controls",
          "model_name": "HTMLModel",
          "model_module_version": "1.5.0",
          "state": {
            "_dom_classes": [],
            "_model_module": "@jupyter-widgets/controls",
            "_model_module_version": "1.5.0",
            "_model_name": "HTMLModel",
            "_view_count": null,
            "_view_module": "@jupyter-widgets/controls",
            "_view_module_version": "1.5.0",
            "_view_name": "HTMLView",
            "description": "",
            "description_tooltip": null,
            "layout": "IPY_MODEL_5e604a440b74415fb8f790d61826f259",
            "placeholder": "​",
            "style": "IPY_MODEL_e346a17d1c1b4593b5780374efd20df2",
            "value": "Generating train split: 100%"
          }
        },
        "33cdd06585984738818149d313468f92": {
          "model_module": "@jupyter-widgets/controls",
          "model_name": "FloatProgressModel",
          "model_module_version": "1.5.0",
          "state": {
            "_dom_classes": [],
            "_model_module": "@jupyter-widgets/controls",
            "_model_module_version": "1.5.0",
            "_model_name": "FloatProgressModel",
            "_view_count": null,
            "_view_module": "@jupyter-widgets/controls",
            "_view_module_version": "1.5.0",
            "_view_name": "ProgressView",
            "bar_style": "success",
            "description": "",
            "description_tooltip": null,
            "layout": "IPY_MODEL_6242884b7dac4e1581e99cc813c9c5ff",
            "max": 25000,
            "min": 0,
            "orientation": "horizontal",
            "style": "IPY_MODEL_b86c4df3209e460fa1471ec88e39d9c3",
            "value": 25000
          }
        },
        "5552e3f996d448bd866cdb0fca60de1b": {
          "model_module": "@jupyter-widgets/controls",
          "model_name": "HTMLModel",
          "model_module_version": "1.5.0",
          "state": {
            "_dom_classes": [],
            "_model_module": "@jupyter-widgets/controls",
            "_model_module_version": "1.5.0",
            "_model_name": "HTMLModel",
            "_view_count": null,
            "_view_module": "@jupyter-widgets/controls",
            "_view_module_version": "1.5.0",
            "_view_name": "HTMLView",
            "description": "",
            "description_tooltip": null,
            "layout": "IPY_MODEL_944302f5df4d472bbf0f2129f42e0c76",
            "placeholder": "​",
            "style": "IPY_MODEL_6a0c79d2b129455aa66fc3c9ccc1fc54",
            "value": " 25000/25000 [00:00&lt;00:00, 73233.11 examples/s]"
          }
        },
        "8ece46dafca545f599ee01322f7de580": {
          "model_module": "@jupyter-widgets/base",
          "model_name": "LayoutModel",
          "model_module_version": "1.2.0",
          "state": {
            "_model_module": "@jupyter-widgets/base",
            "_model_module_version": "1.2.0",
            "_model_name": "LayoutModel",
            "_view_count": null,
            "_view_module": "@jupyter-widgets/base",
            "_view_module_version": "1.2.0",
            "_view_name": "LayoutView",
            "align_content": null,
            "align_items": null,
            "align_self": null,
            "border": null,
            "bottom": null,
            "display": null,
            "flex": null,
            "flex_flow": null,
            "grid_area": null,
            "grid_auto_columns": null,
            "grid_auto_flow": null,
            "grid_auto_rows": null,
            "grid_column": null,
            "grid_gap": null,
            "grid_row": null,
            "grid_template_areas": null,
            "grid_template_columns": null,
            "grid_template_rows": null,
            "height": null,
            "justify_content": null,
            "justify_items": null,
            "left": null,
            "margin": null,
            "max_height": null,
            "max_width": null,
            "min_height": null,
            "min_width": null,
            "object_fit": null,
            "object_position": null,
            "order": null,
            "overflow": null,
            "overflow_x": null,
            "overflow_y": null,
            "padding": null,
            "right": null,
            "top": null,
            "visibility": null,
            "width": null
          }
        },
        "5e604a440b74415fb8f790d61826f259": {
          "model_module": "@jupyter-widgets/base",
          "model_name": "LayoutModel",
          "model_module_version": "1.2.0",
          "state": {
            "_model_module": "@jupyter-widgets/base",
            "_model_module_version": "1.2.0",
            "_model_name": "LayoutModel",
            "_view_count": null,
            "_view_module": "@jupyter-widgets/base",
            "_view_module_version": "1.2.0",
            "_view_name": "LayoutView",
            "align_content": null,
            "align_items": null,
            "align_self": null,
            "border": null,
            "bottom": null,
            "display": null,
            "flex": null,
            "flex_flow": null,
            "grid_area": null,
            "grid_auto_columns": null,
            "grid_auto_flow": null,
            "grid_auto_rows": null,
            "grid_column": null,
            "grid_gap": null,
            "grid_row": null,
            "grid_template_areas": null,
            "grid_template_columns": null,
            "grid_template_rows": null,
            "height": null,
            "justify_content": null,
            "justify_items": null,
            "left": null,
            "margin": null,
            "max_height": null,
            "max_width": null,
            "min_height": null,
            "min_width": null,
            "object_fit": null,
            "object_position": null,
            "order": null,
            "overflow": null,
            "overflow_x": null,
            "overflow_y": null,
            "padding": null,
            "right": null,
            "top": null,
            "visibility": null,
            "width": null
          }
        },
        "e346a17d1c1b4593b5780374efd20df2": {
          "model_module": "@jupyter-widgets/controls",
          "model_name": "DescriptionStyleModel",
          "model_module_version": "1.5.0",
          "state": {
            "_model_module": "@jupyter-widgets/controls",
            "_model_module_version": "1.5.0",
            "_model_name": "DescriptionStyleModel",
            "_view_count": null,
            "_view_module": "@jupyter-widgets/base",
            "_view_module_version": "1.2.0",
            "_view_name": "StyleView",
            "description_width": ""
          }
        },
        "6242884b7dac4e1581e99cc813c9c5ff": {
          "model_module": "@jupyter-widgets/base",
          "model_name": "LayoutModel",
          "model_module_version": "1.2.0",
          "state": {
            "_model_module": "@jupyter-widgets/base",
            "_model_module_version": "1.2.0",
            "_model_name": "LayoutModel",
            "_view_count": null,
            "_view_module": "@jupyter-widgets/base",
            "_view_module_version": "1.2.0",
            "_view_name": "LayoutView",
            "align_content": null,
            "align_items": null,
            "align_self": null,
            "border": null,
            "bottom": null,
            "display": null,
            "flex": null,
            "flex_flow": null,
            "grid_area": null,
            "grid_auto_columns": null,
            "grid_auto_flow": null,
            "grid_auto_rows": null,
            "grid_column": null,
            "grid_gap": null,
            "grid_row": null,
            "grid_template_areas": null,
            "grid_template_columns": null,
            "grid_template_rows": null,
            "height": null,
            "justify_content": null,
            "justify_items": null,
            "left": null,
            "margin": null,
            "max_height": null,
            "max_width": null,
            "min_height": null,
            "min_width": null,
            "object_fit": null,
            "object_position": null,
            "order": null,
            "overflow": null,
            "overflow_x": null,
            "overflow_y": null,
            "padding": null,
            "right": null,
            "top": null,
            "visibility": null,
            "width": null
          }
        },
        "b86c4df3209e460fa1471ec88e39d9c3": {
          "model_module": "@jupyter-widgets/controls",
          "model_name": "ProgressStyleModel",
          "model_module_version": "1.5.0",
          "state": {
            "_model_module": "@jupyter-widgets/controls",
            "_model_module_version": "1.5.0",
            "_model_name": "ProgressStyleModel",
            "_view_count": null,
            "_view_module": "@jupyter-widgets/base",
            "_view_module_version": "1.2.0",
            "_view_name": "StyleView",
            "bar_color": null,
            "description_width": ""
          }
        },
        "944302f5df4d472bbf0f2129f42e0c76": {
          "model_module": "@jupyter-widgets/base",
          "model_name": "LayoutModel",
          "model_module_version": "1.2.0",
          "state": {
            "_model_module": "@jupyter-widgets/base",
            "_model_module_version": "1.2.0",
            "_model_name": "LayoutModel",
            "_view_count": null,
            "_view_module": "@jupyter-widgets/base",
            "_view_module_version": "1.2.0",
            "_view_name": "LayoutView",
            "align_content": null,
            "align_items": null,
            "align_self": null,
            "border": null,
            "bottom": null,
            "display": null,
            "flex": null,
            "flex_flow": null,
            "grid_area": null,
            "grid_auto_columns": null,
            "grid_auto_flow": null,
            "grid_auto_rows": null,
            "grid_column": null,
            "grid_gap": null,
            "grid_row": null,
            "grid_template_areas": null,
            "grid_template_columns": null,
            "grid_template_rows": null,
            "height": null,
            "justify_content": null,
            "justify_items": null,
            "left": null,
            "margin": null,
            "max_height": null,
            "max_width": null,
            "min_height": null,
            "min_width": null,
            "object_fit": null,
            "object_position": null,
            "order": null,
            "overflow": null,
            "overflow_x": null,
            "overflow_y": null,
            "padding": null,
            "right": null,
            "top": null,
            "visibility": null,
            "width": null
          }
        },
        "6a0c79d2b129455aa66fc3c9ccc1fc54": {
          "model_module": "@jupyter-widgets/controls",
          "model_name": "DescriptionStyleModel",
          "model_module_version": "1.5.0",
          "state": {
            "_model_module": "@jupyter-widgets/controls",
            "_model_module_version": "1.5.0",
            "_model_name": "DescriptionStyleModel",
            "_view_count": null,
            "_view_module": "@jupyter-widgets/base",
            "_view_module_version": "1.2.0",
            "_view_name": "StyleView",
            "description_width": ""
          }
        },
        "df50e9977fca42d0a7b400562508f5dd": {
          "model_module": "@jupyter-widgets/controls",
          "model_name": "HBoxModel",
          "model_module_version": "1.5.0",
          "state": {
            "_dom_classes": [],
            "_model_module": "@jupyter-widgets/controls",
            "_model_module_version": "1.5.0",
            "_model_name": "HBoxModel",
            "_view_count": null,
            "_view_module": "@jupyter-widgets/controls",
            "_view_module_version": "1.5.0",
            "_view_name": "HBoxView",
            "box_style": "",
            "children": [
              "IPY_MODEL_46021b565fa4408aad868ed67eb8820a",
              "IPY_MODEL_311aa419325244699cb1274864ac2856",
              "IPY_MODEL_281cf2ea530247bc9614a177126d5e71"
            ],
            "layout": "IPY_MODEL_49727d8f9ace40d99e68627c1c89347b"
          }
        },
        "46021b565fa4408aad868ed67eb8820a": {
          "model_module": "@jupyter-widgets/controls",
          "model_name": "HTMLModel",
          "model_module_version": "1.5.0",
          "state": {
            "_dom_classes": [],
            "_model_module": "@jupyter-widgets/controls",
            "_model_module_version": "1.5.0",
            "_model_name": "HTMLModel",
            "_view_count": null,
            "_view_module": "@jupyter-widgets/controls",
            "_view_module_version": "1.5.0",
            "_view_name": "HTMLView",
            "description": "",
            "description_tooltip": null,
            "layout": "IPY_MODEL_cdbb053e38fd43fda3db90670dd62df5",
            "placeholder": "​",
            "style": "IPY_MODEL_ed79c300da8d4ef581a7ee5718926218",
            "value": "Generating test split: 100%"
          }
        },
        "311aa419325244699cb1274864ac2856": {
          "model_module": "@jupyter-widgets/controls",
          "model_name": "FloatProgressModel",
          "model_module_version": "1.5.0",
          "state": {
            "_dom_classes": [],
            "_model_module": "@jupyter-widgets/controls",
            "_model_module_version": "1.5.0",
            "_model_name": "FloatProgressModel",
            "_view_count": null,
            "_view_module": "@jupyter-widgets/controls",
            "_view_module_version": "1.5.0",
            "_view_name": "ProgressView",
            "bar_style": "success",
            "description": "",
            "description_tooltip": null,
            "layout": "IPY_MODEL_63a2f0c33e5e49baa7f0bfa8a3785d3f",
            "max": 25000,
            "min": 0,
            "orientation": "horizontal",
            "style": "IPY_MODEL_b5fd4914431b4f73a9b049e4ae4e85f1",
            "value": 25000
          }
        },
        "281cf2ea530247bc9614a177126d5e71": {
          "model_module": "@jupyter-widgets/controls",
          "model_name": "HTMLModel",
          "model_module_version": "1.5.0",
          "state": {
            "_dom_classes": [],
            "_model_module": "@jupyter-widgets/controls",
            "_model_module_version": "1.5.0",
            "_model_name": "HTMLModel",
            "_view_count": null,
            "_view_module": "@jupyter-widgets/controls",
            "_view_module_version": "1.5.0",
            "_view_name": "HTMLView",
            "description": "",
            "description_tooltip": null,
            "layout": "IPY_MODEL_c5d79b86dd7744c0a0433008ba1e21b8",
            "placeholder": "​",
            "style": "IPY_MODEL_b8293d0377d540658e973cd57a3036da",
            "value": " 25000/25000 [00:00&lt;00:00, 89054.39 examples/s]"
          }
        },
        "49727d8f9ace40d99e68627c1c89347b": {
          "model_module": "@jupyter-widgets/base",
          "model_name": "LayoutModel",
          "model_module_version": "1.2.0",
          "state": {
            "_model_module": "@jupyter-widgets/base",
            "_model_module_version": "1.2.0",
            "_model_name": "LayoutModel",
            "_view_count": null,
            "_view_module": "@jupyter-widgets/base",
            "_view_module_version": "1.2.0",
            "_view_name": "LayoutView",
            "align_content": null,
            "align_items": null,
            "align_self": null,
            "border": null,
            "bottom": null,
            "display": null,
            "flex": null,
            "flex_flow": null,
            "grid_area": null,
            "grid_auto_columns": null,
            "grid_auto_flow": null,
            "grid_auto_rows": null,
            "grid_column": null,
            "grid_gap": null,
            "grid_row": null,
            "grid_template_areas": null,
            "grid_template_columns": null,
            "grid_template_rows": null,
            "height": null,
            "justify_content": null,
            "justify_items": null,
            "left": null,
            "margin": null,
            "max_height": null,
            "max_width": null,
            "min_height": null,
            "min_width": null,
            "object_fit": null,
            "object_position": null,
            "order": null,
            "overflow": null,
            "overflow_x": null,
            "overflow_y": null,
            "padding": null,
            "right": null,
            "top": null,
            "visibility": null,
            "width": null
          }
        },
        "cdbb053e38fd43fda3db90670dd62df5": {
          "model_module": "@jupyter-widgets/base",
          "model_name": "LayoutModel",
          "model_module_version": "1.2.0",
          "state": {
            "_model_module": "@jupyter-widgets/base",
            "_model_module_version": "1.2.0",
            "_model_name": "LayoutModel",
            "_view_count": null,
            "_view_module": "@jupyter-widgets/base",
            "_view_module_version": "1.2.0",
            "_view_name": "LayoutView",
            "align_content": null,
            "align_items": null,
            "align_self": null,
            "border": null,
            "bottom": null,
            "display": null,
            "flex": null,
            "flex_flow": null,
            "grid_area": null,
            "grid_auto_columns": null,
            "grid_auto_flow": null,
            "grid_auto_rows": null,
            "grid_column": null,
            "grid_gap": null,
            "grid_row": null,
            "grid_template_areas": null,
            "grid_template_columns": null,
            "grid_template_rows": null,
            "height": null,
            "justify_content": null,
            "justify_items": null,
            "left": null,
            "margin": null,
            "max_height": null,
            "max_width": null,
            "min_height": null,
            "min_width": null,
            "object_fit": null,
            "object_position": null,
            "order": null,
            "overflow": null,
            "overflow_x": null,
            "overflow_y": null,
            "padding": null,
            "right": null,
            "top": null,
            "visibility": null,
            "width": null
          }
        },
        "ed79c300da8d4ef581a7ee5718926218": {
          "model_module": "@jupyter-widgets/controls",
          "model_name": "DescriptionStyleModel",
          "model_module_version": "1.5.0",
          "state": {
            "_model_module": "@jupyter-widgets/controls",
            "_model_module_version": "1.5.0",
            "_model_name": "DescriptionStyleModel",
            "_view_count": null,
            "_view_module": "@jupyter-widgets/base",
            "_view_module_version": "1.2.0",
            "_view_name": "StyleView",
            "description_width": ""
          }
        },
        "63a2f0c33e5e49baa7f0bfa8a3785d3f": {
          "model_module": "@jupyter-widgets/base",
          "model_name": "LayoutModel",
          "model_module_version": "1.2.0",
          "state": {
            "_model_module": "@jupyter-widgets/base",
            "_model_module_version": "1.2.0",
            "_model_name": "LayoutModel",
            "_view_count": null,
            "_view_module": "@jupyter-widgets/base",
            "_view_module_version": "1.2.0",
            "_view_name": "LayoutView",
            "align_content": null,
            "align_items": null,
            "align_self": null,
            "border": null,
            "bottom": null,
            "display": null,
            "flex": null,
            "flex_flow": null,
            "grid_area": null,
            "grid_auto_columns": null,
            "grid_auto_flow": null,
            "grid_auto_rows": null,
            "grid_column": null,
            "grid_gap": null,
            "grid_row": null,
            "grid_template_areas": null,
            "grid_template_columns": null,
            "grid_template_rows": null,
            "height": null,
            "justify_content": null,
            "justify_items": null,
            "left": null,
            "margin": null,
            "max_height": null,
            "max_width": null,
            "min_height": null,
            "min_width": null,
            "object_fit": null,
            "object_position": null,
            "order": null,
            "overflow": null,
            "overflow_x": null,
            "overflow_y": null,
            "padding": null,
            "right": null,
            "top": null,
            "visibility": null,
            "width": null
          }
        },
        "b5fd4914431b4f73a9b049e4ae4e85f1": {
          "model_module": "@jupyter-widgets/controls",
          "model_name": "ProgressStyleModel",
          "model_module_version": "1.5.0",
          "state": {
            "_model_module": "@jupyter-widgets/controls",
            "_model_module_version": "1.5.0",
            "_model_name": "ProgressStyleModel",
            "_view_count": null,
            "_view_module": "@jupyter-widgets/base",
            "_view_module_version": "1.2.0",
            "_view_name": "StyleView",
            "bar_color": null,
            "description_width": ""
          }
        },
        "c5d79b86dd7744c0a0433008ba1e21b8": {
          "model_module": "@jupyter-widgets/base",
          "model_name": "LayoutModel",
          "model_module_version": "1.2.0",
          "state": {
            "_model_module": "@jupyter-widgets/base",
            "_model_module_version": "1.2.0",
            "_model_name": "LayoutModel",
            "_view_count": null,
            "_view_module": "@jupyter-widgets/base",
            "_view_module_version": "1.2.0",
            "_view_name": "LayoutView",
            "align_content": null,
            "align_items": null,
            "align_self": null,
            "border": null,
            "bottom": null,
            "display": null,
            "flex": null,
            "flex_flow": null,
            "grid_area": null,
            "grid_auto_columns": null,
            "grid_auto_flow": null,
            "grid_auto_rows": null,
            "grid_column": null,
            "grid_gap": null,
            "grid_row": null,
            "grid_template_areas": null,
            "grid_template_columns": null,
            "grid_template_rows": null,
            "height": null,
            "justify_content": null,
            "justify_items": null,
            "left": null,
            "margin": null,
            "max_height": null,
            "max_width": null,
            "min_height": null,
            "min_width": null,
            "object_fit": null,
            "object_position": null,
            "order": null,
            "overflow": null,
            "overflow_x": null,
            "overflow_y": null,
            "padding": null,
            "right": null,
            "top": null,
            "visibility": null,
            "width": null
          }
        },
        "b8293d0377d540658e973cd57a3036da": {
          "model_module": "@jupyter-widgets/controls",
          "model_name": "DescriptionStyleModel",
          "model_module_version": "1.5.0",
          "state": {
            "_model_module": "@jupyter-widgets/controls",
            "_model_module_version": "1.5.0",
            "_model_name": "DescriptionStyleModel",
            "_view_count": null,
            "_view_module": "@jupyter-widgets/base",
            "_view_module_version": "1.2.0",
            "_view_name": "StyleView",
            "description_width": ""
          }
        },
        "5c2e1120543d4b95b0ad07a1b6d0256d": {
          "model_module": "@jupyter-widgets/controls",
          "model_name": "HBoxModel",
          "model_module_version": "1.5.0",
          "state": {
            "_dom_classes": [],
            "_model_module": "@jupyter-widgets/controls",
            "_model_module_version": "1.5.0",
            "_model_name": "HBoxModel",
            "_view_count": null,
            "_view_module": "@jupyter-widgets/controls",
            "_view_module_version": "1.5.0",
            "_view_name": "HBoxView",
            "box_style": "",
            "children": [
              "IPY_MODEL_cae65b7d78d748efa962161c9e8bae23",
              "IPY_MODEL_643a43a909fa455a854efa7d1f1cde00",
              "IPY_MODEL_a0b7702d4af4462caba0c352fd48c3b3"
            ],
            "layout": "IPY_MODEL_3cebc8c5bae74ee58ea62272d2f804ba"
          }
        },
        "cae65b7d78d748efa962161c9e8bae23": {
          "model_module": "@jupyter-widgets/controls",
          "model_name": "HTMLModel",
          "model_module_version": "1.5.0",
          "state": {
            "_dom_classes": [],
            "_model_module": "@jupyter-widgets/controls",
            "_model_module_version": "1.5.0",
            "_model_name": "HTMLModel",
            "_view_count": null,
            "_view_module": "@jupyter-widgets/controls",
            "_view_module_version": "1.5.0",
            "_view_name": "HTMLView",
            "description": "",
            "description_tooltip": null,
            "layout": "IPY_MODEL_aee910ed283e4458a13706e8452d0b6e",
            "placeholder": "​",
            "style": "IPY_MODEL_4d94d56c2ccf4c14a490de2f7b5a94c6",
            "value": "Generating unsupervised split: 100%"
          }
        },
        "643a43a909fa455a854efa7d1f1cde00": {
          "model_module": "@jupyter-widgets/controls",
          "model_name": "FloatProgressModel",
          "model_module_version": "1.5.0",
          "state": {
            "_dom_classes": [],
            "_model_module": "@jupyter-widgets/controls",
            "_model_module_version": "1.5.0",
            "_model_name": "FloatProgressModel",
            "_view_count": null,
            "_view_module": "@jupyter-widgets/controls",
            "_view_module_version": "1.5.0",
            "_view_name": "ProgressView",
            "bar_style": "success",
            "description": "",
            "description_tooltip": null,
            "layout": "IPY_MODEL_e7159f7db8394ce8a73908df42e3fe9e",
            "max": 50000,
            "min": 0,
            "orientation": "horizontal",
            "style": "IPY_MODEL_1cb029889ac34351834349fa5ba30724",
            "value": 50000
          }
        },
        "a0b7702d4af4462caba0c352fd48c3b3": {
          "model_module": "@jupyter-widgets/controls",
          "model_name": "HTMLModel",
          "model_module_version": "1.5.0",
          "state": {
            "_dom_classes": [],
            "_model_module": "@jupyter-widgets/controls",
            "_model_module_version": "1.5.0",
            "_model_name": "HTMLModel",
            "_view_count": null,
            "_view_module": "@jupyter-widgets/controls",
            "_view_module_version": "1.5.0",
            "_view_name": "HTMLView",
            "description": "",
            "description_tooltip": null,
            "layout": "IPY_MODEL_80065124ddea4bb0a9c674702056507d",
            "placeholder": "​",
            "style": "IPY_MODEL_8523081938d8443c817f78b3bfa3a24a",
            "value": " 50000/50000 [00:00&lt;00:00, 142822.38 examples/s]"
          }
        },
        "3cebc8c5bae74ee58ea62272d2f804ba": {
          "model_module": "@jupyter-widgets/base",
          "model_name": "LayoutModel",
          "model_module_version": "1.2.0",
          "state": {
            "_model_module": "@jupyter-widgets/base",
            "_model_module_version": "1.2.0",
            "_model_name": "LayoutModel",
            "_view_count": null,
            "_view_module": "@jupyter-widgets/base",
            "_view_module_version": "1.2.0",
            "_view_name": "LayoutView",
            "align_content": null,
            "align_items": null,
            "align_self": null,
            "border": null,
            "bottom": null,
            "display": null,
            "flex": null,
            "flex_flow": null,
            "grid_area": null,
            "grid_auto_columns": null,
            "grid_auto_flow": null,
            "grid_auto_rows": null,
            "grid_column": null,
            "grid_gap": null,
            "grid_row": null,
            "grid_template_areas": null,
            "grid_template_columns": null,
            "grid_template_rows": null,
            "height": null,
            "justify_content": null,
            "justify_items": null,
            "left": null,
            "margin": null,
            "max_height": null,
            "max_width": null,
            "min_height": null,
            "min_width": null,
            "object_fit": null,
            "object_position": null,
            "order": null,
            "overflow": null,
            "overflow_x": null,
            "overflow_y": null,
            "padding": null,
            "right": null,
            "top": null,
            "visibility": null,
            "width": null
          }
        },
        "aee910ed283e4458a13706e8452d0b6e": {
          "model_module": "@jupyter-widgets/base",
          "model_name": "LayoutModel",
          "model_module_version": "1.2.0",
          "state": {
            "_model_module": "@jupyter-widgets/base",
            "_model_module_version": "1.2.0",
            "_model_name": "LayoutModel",
            "_view_count": null,
            "_view_module": "@jupyter-widgets/base",
            "_view_module_version": "1.2.0",
            "_view_name": "LayoutView",
            "align_content": null,
            "align_items": null,
            "align_self": null,
            "border": null,
            "bottom": null,
            "display": null,
            "flex": null,
            "flex_flow": null,
            "grid_area": null,
            "grid_auto_columns": null,
            "grid_auto_flow": null,
            "grid_auto_rows": null,
            "grid_column": null,
            "grid_gap": null,
            "grid_row": null,
            "grid_template_areas": null,
            "grid_template_columns": null,
            "grid_template_rows": null,
            "height": null,
            "justify_content": null,
            "justify_items": null,
            "left": null,
            "margin": null,
            "max_height": null,
            "max_width": null,
            "min_height": null,
            "min_width": null,
            "object_fit": null,
            "object_position": null,
            "order": null,
            "overflow": null,
            "overflow_x": null,
            "overflow_y": null,
            "padding": null,
            "right": null,
            "top": null,
            "visibility": null,
            "width": null
          }
        },
        "4d94d56c2ccf4c14a490de2f7b5a94c6": {
          "model_module": "@jupyter-widgets/controls",
          "model_name": "DescriptionStyleModel",
          "model_module_version": "1.5.0",
          "state": {
            "_model_module": "@jupyter-widgets/controls",
            "_model_module_version": "1.5.0",
            "_model_name": "DescriptionStyleModel",
            "_view_count": null,
            "_view_module": "@jupyter-widgets/base",
            "_view_module_version": "1.2.0",
            "_view_name": "StyleView",
            "description_width": ""
          }
        },
        "e7159f7db8394ce8a73908df42e3fe9e": {
          "model_module": "@jupyter-widgets/base",
          "model_name": "LayoutModel",
          "model_module_version": "1.2.0",
          "state": {
            "_model_module": "@jupyter-widgets/base",
            "_model_module_version": "1.2.0",
            "_model_name": "LayoutModel",
            "_view_count": null,
            "_view_module": "@jupyter-widgets/base",
            "_view_module_version": "1.2.0",
            "_view_name": "LayoutView",
            "align_content": null,
            "align_items": null,
            "align_self": null,
            "border": null,
            "bottom": null,
            "display": null,
            "flex": null,
            "flex_flow": null,
            "grid_area": null,
            "grid_auto_columns": null,
            "grid_auto_flow": null,
            "grid_auto_rows": null,
            "grid_column": null,
            "grid_gap": null,
            "grid_row": null,
            "grid_template_areas": null,
            "grid_template_columns": null,
            "grid_template_rows": null,
            "height": null,
            "justify_content": null,
            "justify_items": null,
            "left": null,
            "margin": null,
            "max_height": null,
            "max_width": null,
            "min_height": null,
            "min_width": null,
            "object_fit": null,
            "object_position": null,
            "order": null,
            "overflow": null,
            "overflow_x": null,
            "overflow_y": null,
            "padding": null,
            "right": null,
            "top": null,
            "visibility": null,
            "width": null
          }
        },
        "1cb029889ac34351834349fa5ba30724": {
          "model_module": "@jupyter-widgets/controls",
          "model_name": "ProgressStyleModel",
          "model_module_version": "1.5.0",
          "state": {
            "_model_module": "@jupyter-widgets/controls",
            "_model_module_version": "1.5.0",
            "_model_name": "ProgressStyleModel",
            "_view_count": null,
            "_view_module": "@jupyter-widgets/base",
            "_view_module_version": "1.2.0",
            "_view_name": "StyleView",
            "bar_color": null,
            "description_width": ""
          }
        },
        "80065124ddea4bb0a9c674702056507d": {
          "model_module": "@jupyter-widgets/base",
          "model_name": "LayoutModel",
          "model_module_version": "1.2.0",
          "state": {
            "_model_module": "@jupyter-widgets/base",
            "_model_module_version": "1.2.0",
            "_model_name": "LayoutModel",
            "_view_count": null,
            "_view_module": "@jupyter-widgets/base",
            "_view_module_version": "1.2.0",
            "_view_name": "LayoutView",
            "align_content": null,
            "align_items": null,
            "align_self": null,
            "border": null,
            "bottom": null,
            "display": null,
            "flex": null,
            "flex_flow": null,
            "grid_area": null,
            "grid_auto_columns": null,
            "grid_auto_flow": null,
            "grid_auto_rows": null,
            "grid_column": null,
            "grid_gap": null,
            "grid_row": null,
            "grid_template_areas": null,
            "grid_template_columns": null,
            "grid_template_rows": null,
            "height": null,
            "justify_content": null,
            "justify_items": null,
            "left": null,
            "margin": null,
            "max_height": null,
            "max_width": null,
            "min_height": null,
            "min_width": null,
            "object_fit": null,
            "object_position": null,
            "order": null,
            "overflow": null,
            "overflow_x": null,
            "overflow_y": null,
            "padding": null,
            "right": null,
            "top": null,
            "visibility": null,
            "width": null
          }
        },
        "8523081938d8443c817f78b3bfa3a24a": {
          "model_module": "@jupyter-widgets/controls",
          "model_name": "DescriptionStyleModel",
          "model_module_version": "1.5.0",
          "state": {
            "_model_module": "@jupyter-widgets/controls",
            "_model_module_version": "1.5.0",
            "_model_name": "DescriptionStyleModel",
            "_view_count": null,
            "_view_module": "@jupyter-widgets/base",
            "_view_module_version": "1.2.0",
            "_view_name": "StyleView",
            "description_width": ""
          }
        },
        "d5555736da8e4ad0b6fcaebfdf25230a": {
          "model_module": "@jupyter-widgets/controls",
          "model_name": "HBoxModel",
          "model_module_version": "1.5.0",
          "state": {
            "_dom_classes": [],
            "_model_module": "@jupyter-widgets/controls",
            "_model_module_version": "1.5.0",
            "_model_name": "HBoxModel",
            "_view_count": null,
            "_view_module": "@jupyter-widgets/controls",
            "_view_module_version": "1.5.0",
            "_view_name": "HBoxView",
            "box_style": "",
            "children": [
              "IPY_MODEL_907e80fc96324beb9286298916e482f0",
              "IPY_MODEL_6c7b5d0028c342aab92714c09dfd6561",
              "IPY_MODEL_0d4a3d60e6d742dcb071eb261d9a82a8"
            ],
            "layout": "IPY_MODEL_644412110f8a448fac64c8d02dfbf2b5"
          }
        },
        "907e80fc96324beb9286298916e482f0": {
          "model_module": "@jupyter-widgets/controls",
          "model_name": "HTMLModel",
          "model_module_version": "1.5.0",
          "state": {
            "_dom_classes": [],
            "_model_module": "@jupyter-widgets/controls",
            "_model_module_version": "1.5.0",
            "_model_name": "HTMLModel",
            "_view_count": null,
            "_view_module": "@jupyter-widgets/controls",
            "_view_module_version": "1.5.0",
            "_view_name": "HTMLView",
            "description": "",
            "description_tooltip": null,
            "layout": "IPY_MODEL_397d9ab2442d4aab9e2bdf9981d3d23e",
            "placeholder": "​",
            "style": "IPY_MODEL_0dc221229ef34c0fb9ec2ddaa686a655",
            "value": "Map: 100%"
          }
        },
        "6c7b5d0028c342aab92714c09dfd6561": {
          "model_module": "@jupyter-widgets/controls",
          "model_name": "FloatProgressModel",
          "model_module_version": "1.5.0",
          "state": {
            "_dom_classes": [],
            "_model_module": "@jupyter-widgets/controls",
            "_model_module_version": "1.5.0",
            "_model_name": "FloatProgressModel",
            "_view_count": null,
            "_view_module": "@jupyter-widgets/controls",
            "_view_module_version": "1.5.0",
            "_view_name": "ProgressView",
            "bar_style": "success",
            "description": "",
            "description_tooltip": null,
            "layout": "IPY_MODEL_a6ea87724cd647b09de1195eb2065bc4",
            "max": 25000,
            "min": 0,
            "orientation": "horizontal",
            "style": "IPY_MODEL_ade119b3a863486db44ecf3016a14974",
            "value": 25000
          }
        },
        "0d4a3d60e6d742dcb071eb261d9a82a8": {
          "model_module": "@jupyter-widgets/controls",
          "model_name": "HTMLModel",
          "model_module_version": "1.5.0",
          "state": {
            "_dom_classes": [],
            "_model_module": "@jupyter-widgets/controls",
            "_model_module_version": "1.5.0",
            "_model_name": "HTMLModel",
            "_view_count": null,
            "_view_module": "@jupyter-widgets/controls",
            "_view_module_version": "1.5.0",
            "_view_name": "HTMLView",
            "description": "",
            "description_tooltip": null,
            "layout": "IPY_MODEL_368f87b37c9849aa915fc1089c7eb460",
            "placeholder": "​",
            "style": "IPY_MODEL_c1756099cdde4e81b8e32b941e500d01",
            "value": " 25000/25000 [00:07&lt;00:00, 2736.77 examples/s]"
          }
        },
        "644412110f8a448fac64c8d02dfbf2b5": {
          "model_module": "@jupyter-widgets/base",
          "model_name": "LayoutModel",
          "model_module_version": "1.2.0",
          "state": {
            "_model_module": "@jupyter-widgets/base",
            "_model_module_version": "1.2.0",
            "_model_name": "LayoutModel",
            "_view_count": null,
            "_view_module": "@jupyter-widgets/base",
            "_view_module_version": "1.2.0",
            "_view_name": "LayoutView",
            "align_content": null,
            "align_items": null,
            "align_self": null,
            "border": null,
            "bottom": null,
            "display": null,
            "flex": null,
            "flex_flow": null,
            "grid_area": null,
            "grid_auto_columns": null,
            "grid_auto_flow": null,
            "grid_auto_rows": null,
            "grid_column": null,
            "grid_gap": null,
            "grid_row": null,
            "grid_template_areas": null,
            "grid_template_columns": null,
            "grid_template_rows": null,
            "height": null,
            "justify_content": null,
            "justify_items": null,
            "left": null,
            "margin": null,
            "max_height": null,
            "max_width": null,
            "min_height": null,
            "min_width": null,
            "object_fit": null,
            "object_position": null,
            "order": null,
            "overflow": null,
            "overflow_x": null,
            "overflow_y": null,
            "padding": null,
            "right": null,
            "top": null,
            "visibility": null,
            "width": null
          }
        },
        "397d9ab2442d4aab9e2bdf9981d3d23e": {
          "model_module": "@jupyter-widgets/base",
          "model_name": "LayoutModel",
          "model_module_version": "1.2.0",
          "state": {
            "_model_module": "@jupyter-widgets/base",
            "_model_module_version": "1.2.0",
            "_model_name": "LayoutModel",
            "_view_count": null,
            "_view_module": "@jupyter-widgets/base",
            "_view_module_version": "1.2.0",
            "_view_name": "LayoutView",
            "align_content": null,
            "align_items": null,
            "align_self": null,
            "border": null,
            "bottom": null,
            "display": null,
            "flex": null,
            "flex_flow": null,
            "grid_area": null,
            "grid_auto_columns": null,
            "grid_auto_flow": null,
            "grid_auto_rows": null,
            "grid_column": null,
            "grid_gap": null,
            "grid_row": null,
            "grid_template_areas": null,
            "grid_template_columns": null,
            "grid_template_rows": null,
            "height": null,
            "justify_content": null,
            "justify_items": null,
            "left": null,
            "margin": null,
            "max_height": null,
            "max_width": null,
            "min_height": null,
            "min_width": null,
            "object_fit": null,
            "object_position": null,
            "order": null,
            "overflow": null,
            "overflow_x": null,
            "overflow_y": null,
            "padding": null,
            "right": null,
            "top": null,
            "visibility": null,
            "width": null
          }
        },
        "0dc221229ef34c0fb9ec2ddaa686a655": {
          "model_module": "@jupyter-widgets/controls",
          "model_name": "DescriptionStyleModel",
          "model_module_version": "1.5.0",
          "state": {
            "_model_module": "@jupyter-widgets/controls",
            "_model_module_version": "1.5.0",
            "_model_name": "DescriptionStyleModel",
            "_view_count": null,
            "_view_module": "@jupyter-widgets/base",
            "_view_module_version": "1.2.0",
            "_view_name": "StyleView",
            "description_width": ""
          }
        },
        "a6ea87724cd647b09de1195eb2065bc4": {
          "model_module": "@jupyter-widgets/base",
          "model_name": "LayoutModel",
          "model_module_version": "1.2.0",
          "state": {
            "_model_module": "@jupyter-widgets/base",
            "_model_module_version": "1.2.0",
            "_model_name": "LayoutModel",
            "_view_count": null,
            "_view_module": "@jupyter-widgets/base",
            "_view_module_version": "1.2.0",
            "_view_name": "LayoutView",
            "align_content": null,
            "align_items": null,
            "align_self": null,
            "border": null,
            "bottom": null,
            "display": null,
            "flex": null,
            "flex_flow": null,
            "grid_area": null,
            "grid_auto_columns": null,
            "grid_auto_flow": null,
            "grid_auto_rows": null,
            "grid_column": null,
            "grid_gap": null,
            "grid_row": null,
            "grid_template_areas": null,
            "grid_template_columns": null,
            "grid_template_rows": null,
            "height": null,
            "justify_content": null,
            "justify_items": null,
            "left": null,
            "margin": null,
            "max_height": null,
            "max_width": null,
            "min_height": null,
            "min_width": null,
            "object_fit": null,
            "object_position": null,
            "order": null,
            "overflow": null,
            "overflow_x": null,
            "overflow_y": null,
            "padding": null,
            "right": null,
            "top": null,
            "visibility": null,
            "width": null
          }
        },
        "ade119b3a863486db44ecf3016a14974": {
          "model_module": "@jupyter-widgets/controls",
          "model_name": "ProgressStyleModel",
          "model_module_version": "1.5.0",
          "state": {
            "_model_module": "@jupyter-widgets/controls",
            "_model_module_version": "1.5.0",
            "_model_name": "ProgressStyleModel",
            "_view_count": null,
            "_view_module": "@jupyter-widgets/base",
            "_view_module_version": "1.2.0",
            "_view_name": "StyleView",
            "bar_color": null,
            "description_width": ""
          }
        },
        "368f87b37c9849aa915fc1089c7eb460": {
          "model_module": "@jupyter-widgets/base",
          "model_name": "LayoutModel",
          "model_module_version": "1.2.0",
          "state": {
            "_model_module": "@jupyter-widgets/base",
            "_model_module_version": "1.2.0",
            "_model_name": "LayoutModel",
            "_view_count": null,
            "_view_module": "@jupyter-widgets/base",
            "_view_module_version": "1.2.0",
            "_view_name": "LayoutView",
            "align_content": null,
            "align_items": null,
            "align_self": null,
            "border": null,
            "bottom": null,
            "display": null,
            "flex": null,
            "flex_flow": null,
            "grid_area": null,
            "grid_auto_columns": null,
            "grid_auto_flow": null,
            "grid_auto_rows": null,
            "grid_column": null,
            "grid_gap": null,
            "grid_row": null,
            "grid_template_areas": null,
            "grid_template_columns": null,
            "grid_template_rows": null,
            "height": null,
            "justify_content": null,
            "justify_items": null,
            "left": null,
            "margin": null,
            "max_height": null,
            "max_width": null,
            "min_height": null,
            "min_width": null,
            "object_fit": null,
            "object_position": null,
            "order": null,
            "overflow": null,
            "overflow_x": null,
            "overflow_y": null,
            "padding": null,
            "right": null,
            "top": null,
            "visibility": null,
            "width": null
          }
        },
        "c1756099cdde4e81b8e32b941e500d01": {
          "model_module": "@jupyter-widgets/controls",
          "model_name": "DescriptionStyleModel",
          "model_module_version": "1.5.0",
          "state": {
            "_model_module": "@jupyter-widgets/controls",
            "_model_module_version": "1.5.0",
            "_model_name": "DescriptionStyleModel",
            "_view_count": null,
            "_view_module": "@jupyter-widgets/base",
            "_view_module_version": "1.2.0",
            "_view_name": "StyleView",
            "description_width": ""
          }
        },
        "583e0792a8d34150937c2bcaf9e54fba": {
          "model_module": "@jupyter-widgets/controls",
          "model_name": "HBoxModel",
          "model_module_version": "1.5.0",
          "state": {
            "_dom_classes": [],
            "_model_module": "@jupyter-widgets/controls",
            "_model_module_version": "1.5.0",
            "_model_name": "HBoxModel",
            "_view_count": null,
            "_view_module": "@jupyter-widgets/controls",
            "_view_module_version": "1.5.0",
            "_view_name": "HBoxView",
            "box_style": "",
            "children": [
              "IPY_MODEL_59e4360b9a37470daa9dc0dc16409a08",
              "IPY_MODEL_74cabc5b606a47a0837e83e567af9bb1",
              "IPY_MODEL_2626c151786c47a6ab4fa2ade4acd3ce"
            ],
            "layout": "IPY_MODEL_660c0d62a1084ec18fde1338c30654a6"
          }
        },
        "59e4360b9a37470daa9dc0dc16409a08": {
          "model_module": "@jupyter-widgets/controls",
          "model_name": "HTMLModel",
          "model_module_version": "1.5.0",
          "state": {
            "_dom_classes": [],
            "_model_module": "@jupyter-widgets/controls",
            "_model_module_version": "1.5.0",
            "_model_name": "HTMLModel",
            "_view_count": null,
            "_view_module": "@jupyter-widgets/controls",
            "_view_module_version": "1.5.0",
            "_view_name": "HTMLView",
            "description": "",
            "description_tooltip": null,
            "layout": "IPY_MODEL_e51c06aad1a44abcbea288c663b403e7",
            "placeholder": "​",
            "style": "IPY_MODEL_db0207dd14754e6c898378158931a917",
            "value": "Map: 100%"
          }
        },
        "74cabc5b606a47a0837e83e567af9bb1": {
          "model_module": "@jupyter-widgets/controls",
          "model_name": "FloatProgressModel",
          "model_module_version": "1.5.0",
          "state": {
            "_dom_classes": [],
            "_model_module": "@jupyter-widgets/controls",
            "_model_module_version": "1.5.0",
            "_model_name": "FloatProgressModel",
            "_view_count": null,
            "_view_module": "@jupyter-widgets/controls",
            "_view_module_version": "1.5.0",
            "_view_name": "ProgressView",
            "bar_style": "success",
            "description": "",
            "description_tooltip": null,
            "layout": "IPY_MODEL_a0e5cddbab414bd5b378a3bd8c5e61ec",
            "max": 25000,
            "min": 0,
            "orientation": "horizontal",
            "style": "IPY_MODEL_d7f41f89bb5045ea8ceb19f734073dd6",
            "value": 25000
          }
        },
        "2626c151786c47a6ab4fa2ade4acd3ce": {
          "model_module": "@jupyter-widgets/controls",
          "model_name": "HTMLModel",
          "model_module_version": "1.5.0",
          "state": {
            "_dom_classes": [],
            "_model_module": "@jupyter-widgets/controls",
            "_model_module_version": "1.5.0",
            "_model_name": "HTMLModel",
            "_view_count": null,
            "_view_module": "@jupyter-widgets/controls",
            "_view_module_version": "1.5.0",
            "_view_name": "HTMLView",
            "description": "",
            "description_tooltip": null,
            "layout": "IPY_MODEL_e2fecca3cf754741901fc6e751c521d9",
            "placeholder": "​",
            "style": "IPY_MODEL_58b416021c8d4cc888e85f37576952d2",
            "value": " 25000/25000 [00:07&lt;00:00, 4712.17 examples/s]"
          }
        },
        "660c0d62a1084ec18fde1338c30654a6": {
          "model_module": "@jupyter-widgets/base",
          "model_name": "LayoutModel",
          "model_module_version": "1.2.0",
          "state": {
            "_model_module": "@jupyter-widgets/base",
            "_model_module_version": "1.2.0",
            "_model_name": "LayoutModel",
            "_view_count": null,
            "_view_module": "@jupyter-widgets/base",
            "_view_module_version": "1.2.0",
            "_view_name": "LayoutView",
            "align_content": null,
            "align_items": null,
            "align_self": null,
            "border": null,
            "bottom": null,
            "display": null,
            "flex": null,
            "flex_flow": null,
            "grid_area": null,
            "grid_auto_columns": null,
            "grid_auto_flow": null,
            "grid_auto_rows": null,
            "grid_column": null,
            "grid_gap": null,
            "grid_row": null,
            "grid_template_areas": null,
            "grid_template_columns": null,
            "grid_template_rows": null,
            "height": null,
            "justify_content": null,
            "justify_items": null,
            "left": null,
            "margin": null,
            "max_height": null,
            "max_width": null,
            "min_height": null,
            "min_width": null,
            "object_fit": null,
            "object_position": null,
            "order": null,
            "overflow": null,
            "overflow_x": null,
            "overflow_y": null,
            "padding": null,
            "right": null,
            "top": null,
            "visibility": null,
            "width": null
          }
        },
        "e51c06aad1a44abcbea288c663b403e7": {
          "model_module": "@jupyter-widgets/base",
          "model_name": "LayoutModel",
          "model_module_version": "1.2.0",
          "state": {
            "_model_module": "@jupyter-widgets/base",
            "_model_module_version": "1.2.0",
            "_model_name": "LayoutModel",
            "_view_count": null,
            "_view_module": "@jupyter-widgets/base",
            "_view_module_version": "1.2.0",
            "_view_name": "LayoutView",
            "align_content": null,
            "align_items": null,
            "align_self": null,
            "border": null,
            "bottom": null,
            "display": null,
            "flex": null,
            "flex_flow": null,
            "grid_area": null,
            "grid_auto_columns": null,
            "grid_auto_flow": null,
            "grid_auto_rows": null,
            "grid_column": null,
            "grid_gap": null,
            "grid_row": null,
            "grid_template_areas": null,
            "grid_template_columns": null,
            "grid_template_rows": null,
            "height": null,
            "justify_content": null,
            "justify_items": null,
            "left": null,
            "margin": null,
            "max_height": null,
            "max_width": null,
            "min_height": null,
            "min_width": null,
            "object_fit": null,
            "object_position": null,
            "order": null,
            "overflow": null,
            "overflow_x": null,
            "overflow_y": null,
            "padding": null,
            "right": null,
            "top": null,
            "visibility": null,
            "width": null
          }
        },
        "db0207dd14754e6c898378158931a917": {
          "model_module": "@jupyter-widgets/controls",
          "model_name": "DescriptionStyleModel",
          "model_module_version": "1.5.0",
          "state": {
            "_model_module": "@jupyter-widgets/controls",
            "_model_module_version": "1.5.0",
            "_model_name": "DescriptionStyleModel",
            "_view_count": null,
            "_view_module": "@jupyter-widgets/base",
            "_view_module_version": "1.2.0",
            "_view_name": "StyleView",
            "description_width": ""
          }
        },
        "a0e5cddbab414bd5b378a3bd8c5e61ec": {
          "model_module": "@jupyter-widgets/base",
          "model_name": "LayoutModel",
          "model_module_version": "1.2.0",
          "state": {
            "_model_module": "@jupyter-widgets/base",
            "_model_module_version": "1.2.0",
            "_model_name": "LayoutModel",
            "_view_count": null,
            "_view_module": "@jupyter-widgets/base",
            "_view_module_version": "1.2.0",
            "_view_name": "LayoutView",
            "align_content": null,
            "align_items": null,
            "align_self": null,
            "border": null,
            "bottom": null,
            "display": null,
            "flex": null,
            "flex_flow": null,
            "grid_area": null,
            "grid_auto_columns": null,
            "grid_auto_flow": null,
            "grid_auto_rows": null,
            "grid_column": null,
            "grid_gap": null,
            "grid_row": null,
            "grid_template_areas": null,
            "grid_template_columns": null,
            "grid_template_rows": null,
            "height": null,
            "justify_content": null,
            "justify_items": null,
            "left": null,
            "margin": null,
            "max_height": null,
            "max_width": null,
            "min_height": null,
            "min_width": null,
            "object_fit": null,
            "object_position": null,
            "order": null,
            "overflow": null,
            "overflow_x": null,
            "overflow_y": null,
            "padding": null,
            "right": null,
            "top": null,
            "visibility": null,
            "width": null
          }
        },
        "d7f41f89bb5045ea8ceb19f734073dd6": {
          "model_module": "@jupyter-widgets/controls",
          "model_name": "ProgressStyleModel",
          "model_module_version": "1.5.0",
          "state": {
            "_model_module": "@jupyter-widgets/controls",
            "_model_module_version": "1.5.0",
            "_model_name": "ProgressStyleModel",
            "_view_count": null,
            "_view_module": "@jupyter-widgets/base",
            "_view_module_version": "1.2.0",
            "_view_name": "StyleView",
            "bar_color": null,
            "description_width": ""
          }
        },
        "e2fecca3cf754741901fc6e751c521d9": {
          "model_module": "@jupyter-widgets/base",
          "model_name": "LayoutModel",
          "model_module_version": "1.2.0",
          "state": {
            "_model_module": "@jupyter-widgets/base",
            "_model_module_version": "1.2.0",
            "_model_name": "LayoutModel",
            "_view_count": null,
            "_view_module": "@jupyter-widgets/base",
            "_view_module_version": "1.2.0",
            "_view_name": "LayoutView",
            "align_content": null,
            "align_items": null,
            "align_self": null,
            "border": null,
            "bottom": null,
            "display": null,
            "flex": null,
            "flex_flow": null,
            "grid_area": null,
            "grid_auto_columns": null,
            "grid_auto_flow": null,
            "grid_auto_rows": null,
            "grid_column": null,
            "grid_gap": null,
            "grid_row": null,
            "grid_template_areas": null,
            "grid_template_columns": null,
            "grid_template_rows": null,
            "height": null,
            "justify_content": null,
            "justify_items": null,
            "left": null,
            "margin": null,
            "max_height": null,
            "max_width": null,
            "min_height": null,
            "min_width": null,
            "object_fit": null,
            "object_position": null,
            "order": null,
            "overflow": null,
            "overflow_x": null,
            "overflow_y": null,
            "padding": null,
            "right": null,
            "top": null,
            "visibility": null,
            "width": null
          }
        },
        "58b416021c8d4cc888e85f37576952d2": {
          "model_module": "@jupyter-widgets/controls",
          "model_name": "DescriptionStyleModel",
          "model_module_version": "1.5.0",
          "state": {
            "_model_module": "@jupyter-widgets/controls",
            "_model_module_version": "1.5.0",
            "_model_name": "DescriptionStyleModel",
            "_view_count": null,
            "_view_module": "@jupyter-widgets/base",
            "_view_module_version": "1.2.0",
            "_view_name": "StyleView",
            "description_width": ""
          }
        },
        "3ef49cb5948d41668ea849582820b2e9": {
          "model_module": "@jupyter-widgets/controls",
          "model_name": "HBoxModel",
          "model_module_version": "1.5.0",
          "state": {
            "_dom_classes": [],
            "_model_module": "@jupyter-widgets/controls",
            "_model_module_version": "1.5.0",
            "_model_name": "HBoxModel",
            "_view_count": null,
            "_view_module": "@jupyter-widgets/controls",
            "_view_module_version": "1.5.0",
            "_view_name": "HBoxView",
            "box_style": "",
            "children": [
              "IPY_MODEL_9cea0d9101af43fab7ece6963e66bf3f",
              "IPY_MODEL_68aec7f5b7c74c16a1850832edee3e5f",
              "IPY_MODEL_643a826723e34deda204b3ea61b25bc6"
            ],
            "layout": "IPY_MODEL_a45be81718574036a24e102b3f5b9cb3"
          }
        },
        "9cea0d9101af43fab7ece6963e66bf3f": {
          "model_module": "@jupyter-widgets/controls",
          "model_name": "HTMLModel",
          "model_module_version": "1.5.0",
          "state": {
            "_dom_classes": [],
            "_model_module": "@jupyter-widgets/controls",
            "_model_module_version": "1.5.0",
            "_model_name": "HTMLModel",
            "_view_count": null,
            "_view_module": "@jupyter-widgets/controls",
            "_view_module_version": "1.5.0",
            "_view_name": "HTMLView",
            "description": "",
            "description_tooltip": null,
            "layout": "IPY_MODEL_b0ac4c4a362f44e1a16c0a2b28f09596",
            "placeholder": "​",
            "style": "IPY_MODEL_33a5a0e4a05e49e99640dd9eaf6679c0",
            "value": "Map: 100%"
          }
        },
        "68aec7f5b7c74c16a1850832edee3e5f": {
          "model_module": "@jupyter-widgets/controls",
          "model_name": "FloatProgressModel",
          "model_module_version": "1.5.0",
          "state": {
            "_dom_classes": [],
            "_model_module": "@jupyter-widgets/controls",
            "_model_module_version": "1.5.0",
            "_model_name": "FloatProgressModel",
            "_view_count": null,
            "_view_module": "@jupyter-widgets/controls",
            "_view_module_version": "1.5.0",
            "_view_name": "ProgressView",
            "bar_style": "success",
            "description": "",
            "description_tooltip": null,
            "layout": "IPY_MODEL_d117417c0e034b81a840579d0cf0e385",
            "max": 14062,
            "min": 0,
            "orientation": "horizontal",
            "style": "IPY_MODEL_43246a7c4ac148e3adb6516cf3fd3dc3",
            "value": 14062
          }
        },
        "643a826723e34deda204b3ea61b25bc6": {
          "model_module": "@jupyter-widgets/controls",
          "model_name": "HTMLModel",
          "model_module_version": "1.5.0",
          "state": {
            "_dom_classes": [],
            "_model_module": "@jupyter-widgets/controls",
            "_model_module_version": "1.5.0",
            "_model_name": "HTMLModel",
            "_view_count": null,
            "_view_module": "@jupyter-widgets/controls",
            "_view_module_version": "1.5.0",
            "_view_name": "HTMLView",
            "description": "",
            "description_tooltip": null,
            "layout": "IPY_MODEL_aeb1c2343ee14d3d81440daaa960c38c",
            "placeholder": "​",
            "style": "IPY_MODEL_9994d880aec24a9cb112860b8663a4fe",
            "value": " 14062/14062 [00:06&lt;00:00, 2692.25 examples/s]"
          }
        },
        "a45be81718574036a24e102b3f5b9cb3": {
          "model_module": "@jupyter-widgets/base",
          "model_name": "LayoutModel",
          "model_module_version": "1.2.0",
          "state": {
            "_model_module": "@jupyter-widgets/base",
            "_model_module_version": "1.2.0",
            "_model_name": "LayoutModel",
            "_view_count": null,
            "_view_module": "@jupyter-widgets/base",
            "_view_module_version": "1.2.0",
            "_view_name": "LayoutView",
            "align_content": null,
            "align_items": null,
            "align_self": null,
            "border": null,
            "bottom": null,
            "display": null,
            "flex": null,
            "flex_flow": null,
            "grid_area": null,
            "grid_auto_columns": null,
            "grid_auto_flow": null,
            "grid_auto_rows": null,
            "grid_column": null,
            "grid_gap": null,
            "grid_row": null,
            "grid_template_areas": null,
            "grid_template_columns": null,
            "grid_template_rows": null,
            "height": null,
            "justify_content": null,
            "justify_items": null,
            "left": null,
            "margin": null,
            "max_height": null,
            "max_width": null,
            "min_height": null,
            "min_width": null,
            "object_fit": null,
            "object_position": null,
            "order": null,
            "overflow": null,
            "overflow_x": null,
            "overflow_y": null,
            "padding": null,
            "right": null,
            "top": null,
            "visibility": null,
            "width": null
          }
        },
        "b0ac4c4a362f44e1a16c0a2b28f09596": {
          "model_module": "@jupyter-widgets/base",
          "model_name": "LayoutModel",
          "model_module_version": "1.2.0",
          "state": {
            "_model_module": "@jupyter-widgets/base",
            "_model_module_version": "1.2.0",
            "_model_name": "LayoutModel",
            "_view_count": null,
            "_view_module": "@jupyter-widgets/base",
            "_view_module_version": "1.2.0",
            "_view_name": "LayoutView",
            "align_content": null,
            "align_items": null,
            "align_self": null,
            "border": null,
            "bottom": null,
            "display": null,
            "flex": null,
            "flex_flow": null,
            "grid_area": null,
            "grid_auto_columns": null,
            "grid_auto_flow": null,
            "grid_auto_rows": null,
            "grid_column": null,
            "grid_gap": null,
            "grid_row": null,
            "grid_template_areas": null,
            "grid_template_columns": null,
            "grid_template_rows": null,
            "height": null,
            "justify_content": null,
            "justify_items": null,
            "left": null,
            "margin": null,
            "max_height": null,
            "max_width": null,
            "min_height": null,
            "min_width": null,
            "object_fit": null,
            "object_position": null,
            "order": null,
            "overflow": null,
            "overflow_x": null,
            "overflow_y": null,
            "padding": null,
            "right": null,
            "top": null,
            "visibility": null,
            "width": null
          }
        },
        "33a5a0e4a05e49e99640dd9eaf6679c0": {
          "model_module": "@jupyter-widgets/controls",
          "model_name": "DescriptionStyleModel",
          "model_module_version": "1.5.0",
          "state": {
            "_model_module": "@jupyter-widgets/controls",
            "_model_module_version": "1.5.0",
            "_model_name": "DescriptionStyleModel",
            "_view_count": null,
            "_view_module": "@jupyter-widgets/base",
            "_view_module_version": "1.2.0",
            "_view_name": "StyleView",
            "description_width": ""
          }
        },
        "d117417c0e034b81a840579d0cf0e385": {
          "model_module": "@jupyter-widgets/base",
          "model_name": "LayoutModel",
          "model_module_version": "1.2.0",
          "state": {
            "_model_module": "@jupyter-widgets/base",
            "_model_module_version": "1.2.0",
            "_model_name": "LayoutModel",
            "_view_count": null,
            "_view_module": "@jupyter-widgets/base",
            "_view_module_version": "1.2.0",
            "_view_name": "LayoutView",
            "align_content": null,
            "align_items": null,
            "align_self": null,
            "border": null,
            "bottom": null,
            "display": null,
            "flex": null,
            "flex_flow": null,
            "grid_area": null,
            "grid_auto_columns": null,
            "grid_auto_flow": null,
            "grid_auto_rows": null,
            "grid_column": null,
            "grid_gap": null,
            "grid_row": null,
            "grid_template_areas": null,
            "grid_template_columns": null,
            "grid_template_rows": null,
            "height": null,
            "justify_content": null,
            "justify_items": null,
            "left": null,
            "margin": null,
            "max_height": null,
            "max_width": null,
            "min_height": null,
            "min_width": null,
            "object_fit": null,
            "object_position": null,
            "order": null,
            "overflow": null,
            "overflow_x": null,
            "overflow_y": null,
            "padding": null,
            "right": null,
            "top": null,
            "visibility": null,
            "width": null
          }
        },
        "43246a7c4ac148e3adb6516cf3fd3dc3": {
          "model_module": "@jupyter-widgets/controls",
          "model_name": "ProgressStyleModel",
          "model_module_version": "1.5.0",
          "state": {
            "_model_module": "@jupyter-widgets/controls",
            "_model_module_version": "1.5.0",
            "_model_name": "ProgressStyleModel",
            "_view_count": null,
            "_view_module": "@jupyter-widgets/base",
            "_view_module_version": "1.2.0",
            "_view_name": "StyleView",
            "bar_color": null,
            "description_width": ""
          }
        },
        "aeb1c2343ee14d3d81440daaa960c38c": {
          "model_module": "@jupyter-widgets/base",
          "model_name": "LayoutModel",
          "model_module_version": "1.2.0",
          "state": {
            "_model_module": "@jupyter-widgets/base",
            "_model_module_version": "1.2.0",
            "_model_name": "LayoutModel",
            "_view_count": null,
            "_view_module": "@jupyter-widgets/base",
            "_view_module_version": "1.2.0",
            "_view_name": "LayoutView",
            "align_content": null,
            "align_items": null,
            "align_self": null,
            "border": null,
            "bottom": null,
            "display": null,
            "flex": null,
            "flex_flow": null,
            "grid_area": null,
            "grid_auto_columns": null,
            "grid_auto_flow": null,
            "grid_auto_rows": null,
            "grid_column": null,
            "grid_gap": null,
            "grid_row": null,
            "grid_template_areas": null,
            "grid_template_columns": null,
            "grid_template_rows": null,
            "height": null,
            "justify_content": null,
            "justify_items": null,
            "left": null,
            "margin": null,
            "max_height": null,
            "max_width": null,
            "min_height": null,
            "min_width": null,
            "object_fit": null,
            "object_position": null,
            "order": null,
            "overflow": null,
            "overflow_x": null,
            "overflow_y": null,
            "padding": null,
            "right": null,
            "top": null,
            "visibility": null,
            "width": null
          }
        },
        "9994d880aec24a9cb112860b8663a4fe": {
          "model_module": "@jupyter-widgets/controls",
          "model_name": "DescriptionStyleModel",
          "model_module_version": "1.5.0",
          "state": {
            "_model_module": "@jupyter-widgets/controls",
            "_model_module_version": "1.5.0",
            "_model_name": "DescriptionStyleModel",
            "_view_count": null,
            "_view_module": "@jupyter-widgets/base",
            "_view_module_version": "1.2.0",
            "_view_name": "StyleView",
            "description_width": ""
          }
        },
        "af0d4eab3c4c49f7870936d13f8c7bb0": {
          "model_module": "@jupyter-widgets/controls",
          "model_name": "HBoxModel",
          "model_module_version": "1.5.0",
          "state": {
            "_dom_classes": [],
            "_model_module": "@jupyter-widgets/controls",
            "_model_module_version": "1.5.0",
            "_model_name": "HBoxModel",
            "_view_count": null,
            "_view_module": "@jupyter-widgets/controls",
            "_view_module_version": "1.5.0",
            "_view_name": "HBoxView",
            "box_style": "",
            "children": [
              "IPY_MODEL_cb3c0afcc5ed458f81570199e9a84062",
              "IPY_MODEL_13dc7d3ea3554c21aea54b5aff5ab344",
              "IPY_MODEL_0357409088c14ba592da089b9bdca287"
            ],
            "layout": "IPY_MODEL_f420b7374855409090f163ba1c95dd0f"
          }
        },
        "cb3c0afcc5ed458f81570199e9a84062": {
          "model_module": "@jupyter-widgets/controls",
          "model_name": "HTMLModel",
          "model_module_version": "1.5.0",
          "state": {
            "_dom_classes": [],
            "_model_module": "@jupyter-widgets/controls",
            "_model_module_version": "1.5.0",
            "_model_name": "HTMLModel",
            "_view_count": null,
            "_view_module": "@jupyter-widgets/controls",
            "_view_module_version": "1.5.0",
            "_view_name": "HTMLView",
            "description": "",
            "description_tooltip": null,
            "layout": "IPY_MODEL_cceb4a7f9d68408eb56906ebba8a39d4",
            "placeholder": "​",
            "style": "IPY_MODEL_c71ce8dfb5c549d58c42a1b5ae0a4338",
            "value": "Map: 100%"
          }
        },
        "13dc7d3ea3554c21aea54b5aff5ab344": {
          "model_module": "@jupyter-widgets/controls",
          "model_name": "FloatProgressModel",
          "model_module_version": "1.5.0",
          "state": {
            "_dom_classes": [],
            "_model_module": "@jupyter-widgets/controls",
            "_model_module_version": "1.5.0",
            "_model_name": "FloatProgressModel",
            "_view_count": null,
            "_view_module": "@jupyter-widgets/controls",
            "_view_module_version": "1.5.0",
            "_view_name": "ProgressView",
            "bar_style": "success",
            "description": "",
            "description_tooltip": null,
            "layout": "IPY_MODEL_4961b7f30a56445c9c6a51042f6fa69e",
            "max": 4688,
            "min": 0,
            "orientation": "horizontal",
            "style": "IPY_MODEL_b180ea98c5ab4aea970a7c7ddb70f709",
            "value": 4688
          }
        },
        "0357409088c14ba592da089b9bdca287": {
          "model_module": "@jupyter-widgets/controls",
          "model_name": "HTMLModel",
          "model_module_version": "1.5.0",
          "state": {
            "_dom_classes": [],
            "_model_module": "@jupyter-widgets/controls",
            "_model_module_version": "1.5.0",
            "_model_name": "HTMLModel",
            "_view_count": null,
            "_view_module": "@jupyter-widgets/controls",
            "_view_module_version": "1.5.0",
            "_view_name": "HTMLView",
            "description": "",
            "description_tooltip": null,
            "layout": "IPY_MODEL_dd7a21a1d04c47fea6f4abf9d8a25082",
            "placeholder": "​",
            "style": "IPY_MODEL_c56270d0b52747d58a182b0721e51ce3",
            "value": " 4688/4688 [00:01&lt;00:00, 2712.62 examples/s]"
          }
        },
        "f420b7374855409090f163ba1c95dd0f": {
          "model_module": "@jupyter-widgets/base",
          "model_name": "LayoutModel",
          "model_module_version": "1.2.0",
          "state": {
            "_model_module": "@jupyter-widgets/base",
            "_model_module_version": "1.2.0",
            "_model_name": "LayoutModel",
            "_view_count": null,
            "_view_module": "@jupyter-widgets/base",
            "_view_module_version": "1.2.0",
            "_view_name": "LayoutView",
            "align_content": null,
            "align_items": null,
            "align_self": null,
            "border": null,
            "bottom": null,
            "display": null,
            "flex": null,
            "flex_flow": null,
            "grid_area": null,
            "grid_auto_columns": null,
            "grid_auto_flow": null,
            "grid_auto_rows": null,
            "grid_column": null,
            "grid_gap": null,
            "grid_row": null,
            "grid_template_areas": null,
            "grid_template_columns": null,
            "grid_template_rows": null,
            "height": null,
            "justify_content": null,
            "justify_items": null,
            "left": null,
            "margin": null,
            "max_height": null,
            "max_width": null,
            "min_height": null,
            "min_width": null,
            "object_fit": null,
            "object_position": null,
            "order": null,
            "overflow": null,
            "overflow_x": null,
            "overflow_y": null,
            "padding": null,
            "right": null,
            "top": null,
            "visibility": null,
            "width": null
          }
        },
        "cceb4a7f9d68408eb56906ebba8a39d4": {
          "model_module": "@jupyter-widgets/base",
          "model_name": "LayoutModel",
          "model_module_version": "1.2.0",
          "state": {
            "_model_module": "@jupyter-widgets/base",
            "_model_module_version": "1.2.0",
            "_model_name": "LayoutModel",
            "_view_count": null,
            "_view_module": "@jupyter-widgets/base",
            "_view_module_version": "1.2.0",
            "_view_name": "LayoutView",
            "align_content": null,
            "align_items": null,
            "align_self": null,
            "border": null,
            "bottom": null,
            "display": null,
            "flex": null,
            "flex_flow": null,
            "grid_area": null,
            "grid_auto_columns": null,
            "grid_auto_flow": null,
            "grid_auto_rows": null,
            "grid_column": null,
            "grid_gap": null,
            "grid_row": null,
            "grid_template_areas": null,
            "grid_template_columns": null,
            "grid_template_rows": null,
            "height": null,
            "justify_content": null,
            "justify_items": null,
            "left": null,
            "margin": null,
            "max_height": null,
            "max_width": null,
            "min_height": null,
            "min_width": null,
            "object_fit": null,
            "object_position": null,
            "order": null,
            "overflow": null,
            "overflow_x": null,
            "overflow_y": null,
            "padding": null,
            "right": null,
            "top": null,
            "visibility": null,
            "width": null
          }
        },
        "c71ce8dfb5c549d58c42a1b5ae0a4338": {
          "model_module": "@jupyter-widgets/controls",
          "model_name": "DescriptionStyleModel",
          "model_module_version": "1.5.0",
          "state": {
            "_model_module": "@jupyter-widgets/controls",
            "_model_module_version": "1.5.0",
            "_model_name": "DescriptionStyleModel",
            "_view_count": null,
            "_view_module": "@jupyter-widgets/base",
            "_view_module_version": "1.2.0",
            "_view_name": "StyleView",
            "description_width": ""
          }
        },
        "4961b7f30a56445c9c6a51042f6fa69e": {
          "model_module": "@jupyter-widgets/base",
          "model_name": "LayoutModel",
          "model_module_version": "1.2.0",
          "state": {
            "_model_module": "@jupyter-widgets/base",
            "_model_module_version": "1.2.0",
            "_model_name": "LayoutModel",
            "_view_count": null,
            "_view_module": "@jupyter-widgets/base",
            "_view_module_version": "1.2.0",
            "_view_name": "LayoutView",
            "align_content": null,
            "align_items": null,
            "align_self": null,
            "border": null,
            "bottom": null,
            "display": null,
            "flex": null,
            "flex_flow": null,
            "grid_area": null,
            "grid_auto_columns": null,
            "grid_auto_flow": null,
            "grid_auto_rows": null,
            "grid_column": null,
            "grid_gap": null,
            "grid_row": null,
            "grid_template_areas": null,
            "grid_template_columns": null,
            "grid_template_rows": null,
            "height": null,
            "justify_content": null,
            "justify_items": null,
            "left": null,
            "margin": null,
            "max_height": null,
            "max_width": null,
            "min_height": null,
            "min_width": null,
            "object_fit": null,
            "object_position": null,
            "order": null,
            "overflow": null,
            "overflow_x": null,
            "overflow_y": null,
            "padding": null,
            "right": null,
            "top": null,
            "visibility": null,
            "width": null
          }
        },
        "b180ea98c5ab4aea970a7c7ddb70f709": {
          "model_module": "@jupyter-widgets/controls",
          "model_name": "ProgressStyleModel",
          "model_module_version": "1.5.0",
          "state": {
            "_model_module": "@jupyter-widgets/controls",
            "_model_module_version": "1.5.0",
            "_model_name": "ProgressStyleModel",
            "_view_count": null,
            "_view_module": "@jupyter-widgets/base",
            "_view_module_version": "1.2.0",
            "_view_name": "StyleView",
            "bar_color": null,
            "description_width": ""
          }
        },
        "dd7a21a1d04c47fea6f4abf9d8a25082": {
          "model_module": "@jupyter-widgets/base",
          "model_name": "LayoutModel",
          "model_module_version": "1.2.0",
          "state": {
            "_model_module": "@jupyter-widgets/base",
            "_model_module_version": "1.2.0",
            "_model_name": "LayoutModel",
            "_view_count": null,
            "_view_module": "@jupyter-widgets/base",
            "_view_module_version": "1.2.0",
            "_view_name": "LayoutView",
            "align_content": null,
            "align_items": null,
            "align_self": null,
            "border": null,
            "bottom": null,
            "display": null,
            "flex": null,
            "flex_flow": null,
            "grid_area": null,
            "grid_auto_columns": null,
            "grid_auto_flow": null,
            "grid_auto_rows": null,
            "grid_column": null,
            "grid_gap": null,
            "grid_row": null,
            "grid_template_areas": null,
            "grid_template_columns": null,
            "grid_template_rows": null,
            "height": null,
            "justify_content": null,
            "justify_items": null,
            "left": null,
            "margin": null,
            "max_height": null,
            "max_width": null,
            "min_height": null,
            "min_width": null,
            "object_fit": null,
            "object_position": null,
            "order": null,
            "overflow": null,
            "overflow_x": null,
            "overflow_y": null,
            "padding": null,
            "right": null,
            "top": null,
            "visibility": null,
            "width": null
          }
        },
        "c56270d0b52747d58a182b0721e51ce3": {
          "model_module": "@jupyter-widgets/controls",
          "model_name": "DescriptionStyleModel",
          "model_module_version": "1.5.0",
          "state": {
            "_model_module": "@jupyter-widgets/controls",
            "_model_module_version": "1.5.0",
            "_model_name": "DescriptionStyleModel",
            "_view_count": null,
            "_view_module": "@jupyter-widgets/base",
            "_view_module_version": "1.2.0",
            "_view_name": "StyleView",
            "description_width": ""
          }
        },
        "9940f89e1bca48fdab2452c43b18864d": {
          "model_module": "@jupyter-widgets/controls",
          "model_name": "HBoxModel",
          "model_module_version": "1.5.0",
          "state": {
            "_dom_classes": [],
            "_model_module": "@jupyter-widgets/controls",
            "_model_module_version": "1.5.0",
            "_model_name": "HBoxModel",
            "_view_count": null,
            "_view_module": "@jupyter-widgets/controls",
            "_view_module_version": "1.5.0",
            "_view_name": "HBoxView",
            "box_style": "",
            "children": [
              "IPY_MODEL_741e1cc035784d8fa4cf9f0efdf49101",
              "IPY_MODEL_574a4f518e554e2b91512bd7499fa409",
              "IPY_MODEL_dceda23f2fa74b5cbfb7700b3f3202ef"
            ],
            "layout": "IPY_MODEL_c7e600a8c7fb42e581bd29f5e59251a7"
          }
        },
        "741e1cc035784d8fa4cf9f0efdf49101": {
          "model_module": "@jupyter-widgets/controls",
          "model_name": "HTMLModel",
          "model_module_version": "1.5.0",
          "state": {
            "_dom_classes": [],
            "_model_module": "@jupyter-widgets/controls",
            "_model_module_version": "1.5.0",
            "_model_name": "HTMLModel",
            "_view_count": null,
            "_view_module": "@jupyter-widgets/controls",
            "_view_module_version": "1.5.0",
            "_view_name": "HTMLView",
            "description": "",
            "description_tooltip": null,
            "layout": "IPY_MODEL_aa4bfc191f554a5180b9662c0161e495",
            "placeholder": "​",
            "style": "IPY_MODEL_d0228c4b071045ea9a961af5d29deff7",
            "value": "Map: 100%"
          }
        },
        "574a4f518e554e2b91512bd7499fa409": {
          "model_module": "@jupyter-widgets/controls",
          "model_name": "FloatProgressModel",
          "model_module_version": "1.5.0",
          "state": {
            "_dom_classes": [],
            "_model_module": "@jupyter-widgets/controls",
            "_model_module_version": "1.5.0",
            "_model_name": "FloatProgressModel",
            "_view_count": null,
            "_view_module": "@jupyter-widgets/controls",
            "_view_module_version": "1.5.0",
            "_view_name": "ProgressView",
            "bar_style": "success",
            "description": "",
            "description_tooltip": null,
            "layout": "IPY_MODEL_7308d9432c91463b8a67da3478383e1c",
            "max": 25000,
            "min": 0,
            "orientation": "horizontal",
            "style": "IPY_MODEL_3a71acb20e584c298d320a833520ef4f",
            "value": 25000
          }
        },
        "dceda23f2fa74b5cbfb7700b3f3202ef": {
          "model_module": "@jupyter-widgets/controls",
          "model_name": "HTMLModel",
          "model_module_version": "1.5.0",
          "state": {
            "_dom_classes": [],
            "_model_module": "@jupyter-widgets/controls",
            "_model_module_version": "1.5.0",
            "_model_name": "HTMLModel",
            "_view_count": null,
            "_view_module": "@jupyter-widgets/controls",
            "_view_module_version": "1.5.0",
            "_view_name": "HTMLView",
            "description": "",
            "description_tooltip": null,
            "layout": "IPY_MODEL_87499c218719483c90439eb701618689",
            "placeholder": "​",
            "style": "IPY_MODEL_69ef9b1e9fc042d2a99f7284daa20465",
            "value": " 25000/25000 [00:10&lt;00:00, 3050.79 examples/s]"
          }
        },
        "c7e600a8c7fb42e581bd29f5e59251a7": {
          "model_module": "@jupyter-widgets/base",
          "model_name": "LayoutModel",
          "model_module_version": "1.2.0",
          "state": {
            "_model_module": "@jupyter-widgets/base",
            "_model_module_version": "1.2.0",
            "_model_name": "LayoutModel",
            "_view_count": null,
            "_view_module": "@jupyter-widgets/base",
            "_view_module_version": "1.2.0",
            "_view_name": "LayoutView",
            "align_content": null,
            "align_items": null,
            "align_self": null,
            "border": null,
            "bottom": null,
            "display": null,
            "flex": null,
            "flex_flow": null,
            "grid_area": null,
            "grid_auto_columns": null,
            "grid_auto_flow": null,
            "grid_auto_rows": null,
            "grid_column": null,
            "grid_gap": null,
            "grid_row": null,
            "grid_template_areas": null,
            "grid_template_columns": null,
            "grid_template_rows": null,
            "height": null,
            "justify_content": null,
            "justify_items": null,
            "left": null,
            "margin": null,
            "max_height": null,
            "max_width": null,
            "min_height": null,
            "min_width": null,
            "object_fit": null,
            "object_position": null,
            "order": null,
            "overflow": null,
            "overflow_x": null,
            "overflow_y": null,
            "padding": null,
            "right": null,
            "top": null,
            "visibility": null,
            "width": null
          }
        },
        "aa4bfc191f554a5180b9662c0161e495": {
          "model_module": "@jupyter-widgets/base",
          "model_name": "LayoutModel",
          "model_module_version": "1.2.0",
          "state": {
            "_model_module": "@jupyter-widgets/base",
            "_model_module_version": "1.2.0",
            "_model_name": "LayoutModel",
            "_view_count": null,
            "_view_module": "@jupyter-widgets/base",
            "_view_module_version": "1.2.0",
            "_view_name": "LayoutView",
            "align_content": null,
            "align_items": null,
            "align_self": null,
            "border": null,
            "bottom": null,
            "display": null,
            "flex": null,
            "flex_flow": null,
            "grid_area": null,
            "grid_auto_columns": null,
            "grid_auto_flow": null,
            "grid_auto_rows": null,
            "grid_column": null,
            "grid_gap": null,
            "grid_row": null,
            "grid_template_areas": null,
            "grid_template_columns": null,
            "grid_template_rows": null,
            "height": null,
            "justify_content": null,
            "justify_items": null,
            "left": null,
            "margin": null,
            "max_height": null,
            "max_width": null,
            "min_height": null,
            "min_width": null,
            "object_fit": null,
            "object_position": null,
            "order": null,
            "overflow": null,
            "overflow_x": null,
            "overflow_y": null,
            "padding": null,
            "right": null,
            "top": null,
            "visibility": null,
            "width": null
          }
        },
        "d0228c4b071045ea9a961af5d29deff7": {
          "model_module": "@jupyter-widgets/controls",
          "model_name": "DescriptionStyleModel",
          "model_module_version": "1.5.0",
          "state": {
            "_model_module": "@jupyter-widgets/controls",
            "_model_module_version": "1.5.0",
            "_model_name": "DescriptionStyleModel",
            "_view_count": null,
            "_view_module": "@jupyter-widgets/base",
            "_view_module_version": "1.2.0",
            "_view_name": "StyleView",
            "description_width": ""
          }
        },
        "7308d9432c91463b8a67da3478383e1c": {
          "model_module": "@jupyter-widgets/base",
          "model_name": "LayoutModel",
          "model_module_version": "1.2.0",
          "state": {
            "_model_module": "@jupyter-widgets/base",
            "_model_module_version": "1.2.0",
            "_model_name": "LayoutModel",
            "_view_count": null,
            "_view_module": "@jupyter-widgets/base",
            "_view_module_version": "1.2.0",
            "_view_name": "LayoutView",
            "align_content": null,
            "align_items": null,
            "align_self": null,
            "border": null,
            "bottom": null,
            "display": null,
            "flex": null,
            "flex_flow": null,
            "grid_area": null,
            "grid_auto_columns": null,
            "grid_auto_flow": null,
            "grid_auto_rows": null,
            "grid_column": null,
            "grid_gap": null,
            "grid_row": null,
            "grid_template_areas": null,
            "grid_template_columns": null,
            "grid_template_rows": null,
            "height": null,
            "justify_content": null,
            "justify_items": null,
            "left": null,
            "margin": null,
            "max_height": null,
            "max_width": null,
            "min_height": null,
            "min_width": null,
            "object_fit": null,
            "object_position": null,
            "order": null,
            "overflow": null,
            "overflow_x": null,
            "overflow_y": null,
            "padding": null,
            "right": null,
            "top": null,
            "visibility": null,
            "width": null
          }
        },
        "3a71acb20e584c298d320a833520ef4f": {
          "model_module": "@jupyter-widgets/controls",
          "model_name": "ProgressStyleModel",
          "model_module_version": "1.5.0",
          "state": {
            "_model_module": "@jupyter-widgets/controls",
            "_model_module_version": "1.5.0",
            "_model_name": "ProgressStyleModel",
            "_view_count": null,
            "_view_module": "@jupyter-widgets/base",
            "_view_module_version": "1.2.0",
            "_view_name": "StyleView",
            "bar_color": null,
            "description_width": ""
          }
        },
        "87499c218719483c90439eb701618689": {
          "model_module": "@jupyter-widgets/base",
          "model_name": "LayoutModel",
          "model_module_version": "1.2.0",
          "state": {
            "_model_module": "@jupyter-widgets/base",
            "_model_module_version": "1.2.0",
            "_model_name": "LayoutModel",
            "_view_count": null,
            "_view_module": "@jupyter-widgets/base",
            "_view_module_version": "1.2.0",
            "_view_name": "LayoutView",
            "align_content": null,
            "align_items": null,
            "align_self": null,
            "border": null,
            "bottom": null,
            "display": null,
            "flex": null,
            "flex_flow": null,
            "grid_area": null,
            "grid_auto_columns": null,
            "grid_auto_flow": null,
            "grid_auto_rows": null,
            "grid_column": null,
            "grid_gap": null,
            "grid_row": null,
            "grid_template_areas": null,
            "grid_template_columns": null,
            "grid_template_rows": null,
            "height": null,
            "justify_content": null,
            "justify_items": null,
            "left": null,
            "margin": null,
            "max_height": null,
            "max_width": null,
            "min_height": null,
            "min_width": null,
            "object_fit": null,
            "object_position": null,
            "order": null,
            "overflow": null,
            "overflow_x": null,
            "overflow_y": null,
            "padding": null,
            "right": null,
            "top": null,
            "visibility": null,
            "width": null
          }
        },
        "69ef9b1e9fc042d2a99f7284daa20465": {
          "model_module": "@jupyter-widgets/controls",
          "model_name": "DescriptionStyleModel",
          "model_module_version": "1.5.0",
          "state": {
            "_model_module": "@jupyter-widgets/controls",
            "_model_module_version": "1.5.0",
            "_model_name": "DescriptionStyleModel",
            "_view_count": null,
            "_view_module": "@jupyter-widgets/base",
            "_view_module_version": "1.2.0",
            "_view_name": "StyleView",
            "description_width": ""
          }
        }
      }
    }
  },
  "nbformat": 4,
  "nbformat_minor": 5
}